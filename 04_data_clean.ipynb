{
 "cells": [
  {
   "cell_type": "markdown",
   "id": "4a522a67-b8e1-424e-9f68-cc6f711d2e33",
   "metadata": {},
   "source": [
    "# Data Cleaning"
   ]
  },
  {
   "cell_type": "markdown",
   "id": "7b39eb43-9237-479e-acc5-502792b8057e",
   "metadata": {},
   "source": [
    "## Import"
   ]
  },
  {
   "cell_type": "code",
   "execution_count": 38,
   "id": "5c7b6a49-2d0f-434f-b623-a7a65e7bbe0d",
   "metadata": {},
   "outputs": [],
   "source": [
    "import os\n",
    "import pathlib\n",
    "import matplotlib\n",
    "\n",
    "import numpy as np\n",
    "import matplotlib.pyplot as plt\n",
    "import mne\n",
    "import mne_bids\n",
    "from mne.preprocessing import (ICA, create_eog_epochs, \n",
    "                               compute_proj_eog, create_ecg_epochs, corrmap)\n",
    "                               \n",
    "matplotlib.use('Qt5Agg')\n",
    "mne.set_log_level('warning') #All mne functions will only spit out output if they have reason to."
   ]
  },
  {
   "cell_type": "markdown",
   "id": "ccfc556f-5bda-48b3-9285-0270adc77f50",
   "metadata": {},
   "source": [
    "## Insert Subject Information"
   ]
  },
  {
   "cell_type": "code",
   "execution_count": 39,
   "id": "a1d1b0c4-d65b-4f71-8a14-55f2fa758c2a",
   "metadata": {},
   "outputs": [
    {
     "data": {
      "text/plain": [
       "'sub-01_ses-03_task-WM1isi1250_cleaned_data.fif'"
      ]
     },
     "execution_count": 39,
     "metadata": {},
     "output_type": "execute_result"
    }
   ],
   "source": [
    "subject = '01'\n",
    "session = '03'\n",
    "task = 'WM1isi1250'\n",
    "intername = 'sub-'+subject+'_ses-'+session+'_task-'+task+'_interpolated_data.fif'\n",
    "oldepochs = 'sub-'+subject+'_ses-'+session+'_task-'+task+'_epochs-epo.fif'\n",
    "filename = 'sub-'+subject+'_ses-'+session+'_task-'+task+'_cleaned_data.fif'\n",
    "filename"
   ]
  },
  {
   "cell_type": "markdown",
   "id": "b457f15f-e5ea-4243-b403-fd6fbe8d72ce",
   "metadata": {},
   "source": [
    "## Input Raw Data"
   ]
  },
  {
   "cell_type": "code",
   "execution_count": 40,
   "id": "c9ddf97c-5fb8-4de6-b132-69f5a5d4b415",
   "metadata": {},
   "outputs": [
    {
     "name": "stderr",
     "output_type": "stream",
     "text": [
      "C:\\Users\\trevo\\AppData\\Local\\Temp\\ipykernel_10624\\3778469506.py:1: RuntimeWarning: This filename (out_data\\02_interpolation_data\\sub-01_ses-03_task-WM1isi1250_interpolated_data.fif) does not conform to MNE naming conventions. All raw files should end with raw.fif, raw_sss.fif, raw_tsss.fif, _meg.fif, _eeg.fif, _ieeg.fif, raw.fif.gz, raw_sss.fif.gz, raw_tsss.fif.gz, _meg.fif.gz, _eeg.fif.gz or _ieeg.fif.gz\n",
      "  raw = mne.io.read_raw(pathlib.Path('out_data') / '02_interpolation_data' /\n"
     ]
    },
    {
     "data": {
      "text/html": [
       "<table class=\"table table-hover table-striped table-sm table-responsive small\">\n",
       "    <tr>\n",
       "        <th>Measurement date</th>\n",
       "        \n",
       "        <td>November 10, 2019  20:36:50 GMT</td>\n",
       "        \n",
       "    </tr>\n",
       "    <tr>\n",
       "        <th>Experimenter</th>\n",
       "        \n",
       "        <td>mne_anonymize</td>\n",
       "        \n",
       "    </tr>\n",
       "        <th>Participant</th>\n",
       "        \n",
       "            \n",
       "            <td>sub-01</td>\n",
       "            \n",
       "        \n",
       "    </tr>\n",
       "    <tr>\n",
       "        <th>Digitized points</th>\n",
       "        \n",
       "        <td>0 points</td>\n",
       "        \n",
       "    </tr>\n",
       "    <tr>\n",
       "        <th>Good channels</th>\n",
       "        <td>127 EEG, 2 EOG</td>\n",
       "    </tr>\n",
       "    <tr>\n",
       "        <th>Bad channels</th>\n",
       "        <td>None</td>\n",
       "    </tr>\n",
       "    <tr>\n",
       "        <th>EOG channels</th>\n",
       "        <td>E8, E25</td>\n",
       "    </tr>\n",
       "    <tr>\n",
       "        <th>ECG channels</th>\n",
       "        <td>Not available</td>\n",
       "    \n",
       "    <tr>\n",
       "        <th>Sampling frequency</th>\n",
       "        <td>1000.00 Hz</td>\n",
       "    </tr>\n",
       "    \n",
       "    \n",
       "    <tr>\n",
       "        <th>Highpass</th>\n",
       "        <td>0.00 Hz</td>\n",
       "    </tr>\n",
       "    \n",
       "    \n",
       "    <tr>\n",
       "        <th>Lowpass</th>\n",
       "        <td>500.00 Hz</td>\n",
       "    </tr>\n",
       "    \n",
       "    \n",
       "    \n",
       "    <tr>\n",
       "        <th>Filenames</th>\n",
       "        <td>sub-01_ses-03_task-WM1isi1250_interpolated_data.fif</td>\n",
       "    </tr>\n",
       "    \n",
       "    <tr>\n",
       "        <th>Duration</th>\n",
       "        <td>00:09:21 (HH:MM:SS)</td>\n",
       "    </tr>\n",
       "</table>"
      ],
      "text/plain": [
       "<Raw | sub-01_ses-03_task-WM1isi1250_interpolated_data.fif, 129 x 561849 (561.8 s), ~553.1 MB, data loaded>"
      ]
     },
     "execution_count": 40,
     "metadata": {},
     "output_type": "execute_result"
    }
   ],
   "source": [
    "raw = mne.io.read_raw(pathlib.Path('out_data') / '02_interpolation_data' / \n",
    "                      intername)\n",
    "events, event_id = mne.events_from_annotations(raw) \n",
    "raw.load_data()"
   ]
  },
  {
   "cell_type": "markdown",
   "id": "33c517a0-bc61-4979-bf0a-8ea95c3bb93a",
   "metadata": {},
   "source": [
    "## ICA Analysis"
   ]
  },
  {
   "cell_type": "markdown",
   "id": "de574797-7c4d-47f8-8014-ee162c6ff47f",
   "metadata": {},
   "source": [
    "### Apply a High Pass Filter"
   ]
  },
  {
   "cell_type": "code",
   "execution_count": 41,
   "id": "85f9e4fd-9dd5-47c8-9026-d1916a27dd2f",
   "metadata": {},
   "outputs": [],
   "source": [
    "high_pass_raw = raw.filter(l_freq=1, h_freq=None) "
   ]
  },
  {
   "cell_type": "markdown",
   "id": "ba641e11-593b-4ba4-ac2d-41adac2c119e",
   "metadata": {},
   "source": [
    "### Run ICA"
   ]
  },
  {
   "cell_type": "code",
   "execution_count": 42,
   "id": "9d203f9e-c472-4735-8cb2-6d71544c8f10",
   "metadata": {},
   "outputs": [
    {
     "data": {
      "text/html": [
       "<table class=\"table table-hover table-striped table-sm table-responsive small\">\n",
       "    <tr>\n",
       "        <th>Method</th>\n",
       "        <td>fastica</td>\n",
       "    </tr>\n",
       "    <tr>\n",
       "        <th>Fit</th>\n",
       "        <td>67 iterations on raw data (561849 samples)</td>\n",
       "    </tr>\n",
       "    \n",
       "    <tr>\n",
       "        <th>ICA components</th>\n",
       "        <td>15</td>\n",
       "    </tr>\n",
       "    <tr>\n",
       "        <th>Explained variance</th>\n",
       "        <td>99.9&nbsp;%</td>\n",
       "    </tr>\n",
       "    <tr>\n",
       "        <th>Available PCA components</th>\n",
       "        <td>127</td>\n",
       "    </tr>\n",
       "    <tr>\n",
       "        <th>Channel types</th>\n",
       "        <td>eeg</td>\n",
       "    </tr>\n",
       "    <tr>\n",
       "        <th>ICA components marked for exclusion</th>\n",
       "        <td>&mdash;</td>\n",
       "    </tr>\n",
       "    \n",
       "</table>"
      ],
      "text/plain": [
       "<ICA | raw data decomposition, method: fastica (fit in 67 iterations on 561849 samples), 15 ICA components explaining 99.9 % of variance (127 PCA components available), channel types: eeg, no sources marked for exclusion>"
      ]
     },
     "execution_count": 42,
     "metadata": {},
     "output_type": "execute_result"
    }
   ],
   "source": [
    "ica = ICA(n_components=15, max_iter='auto', random_state=97)\n",
    "ica.fit(high_pass_raw)\n",
    "ica"
   ]
  },
  {
   "cell_type": "markdown",
   "id": "b6fe05db-18b1-4ee0-962a-0292a4bde6cd",
   "metadata": {},
   "source": [
    "### Evaluate ICA Components"
   ]
  },
  {
   "cell_type": "code",
   "execution_count": 43,
   "id": "74be7b20-d4aa-4340-b5f1-8030771ea194",
   "metadata": {},
   "outputs": [
    {
     "data": {
      "text/plain": [
       "[<MNEFigure size 975x731 with 15 Axes>]"
      ]
     },
     "execution_count": 43,
     "metadata": {},
     "output_type": "execute_result"
    }
   ],
   "source": [
    "ica.plot_components()"
   ]
  },
  {
   "cell_type": "markdown",
   "id": "8006faf3-0a8d-43f4-8ac6-d2773cbbfca9",
   "metadata": {},
   "source": [
    "### Reject Eye Blinks Component"
   ]
  },
  {
   "cell_type": "code",
   "execution_count": 44,
   "id": "90163234-b148-4f76-8e1a-3382cd2526e3",
   "metadata": {},
   "outputs": [],
   "source": [
    "ica.exclude = [6] # Input new component number here!"
   ]
  },
  {
   "cell_type": "markdown",
   "id": "cdef74a1-b172-4d8b-8f30-4dac945f2e4e",
   "metadata": {},
   "source": [
    "### Create New Raw Data"
   ]
  },
  {
   "cell_type": "code",
   "execution_count": 45,
   "id": "9b4f5585-976a-4353-999f-fa67e73d8e5d",
   "metadata": {},
   "outputs": [
    {
     "data": {
      "text/html": [
       "<table class=\"table table-hover table-striped table-sm table-responsive small\">\n",
       "    <tr>\n",
       "        <th>Measurement date</th>\n",
       "        \n",
       "        <td>November 10, 2019  20:36:50 GMT</td>\n",
       "        \n",
       "    </tr>\n",
       "    <tr>\n",
       "        <th>Experimenter</th>\n",
       "        \n",
       "        <td>mne_anonymize</td>\n",
       "        \n",
       "    </tr>\n",
       "        <th>Participant</th>\n",
       "        \n",
       "            \n",
       "            <td>sub-01</td>\n",
       "            \n",
       "        \n",
       "    </tr>\n",
       "    <tr>\n",
       "        <th>Digitized points</th>\n",
       "        \n",
       "        <td>0 points</td>\n",
       "        \n",
       "    </tr>\n",
       "    <tr>\n",
       "        <th>Good channels</th>\n",
       "        <td>127 EEG, 2 EOG</td>\n",
       "    </tr>\n",
       "    <tr>\n",
       "        <th>Bad channels</th>\n",
       "        <td>None</td>\n",
       "    </tr>\n",
       "    <tr>\n",
       "        <th>EOG channels</th>\n",
       "        <td>E8, E25</td>\n",
       "    </tr>\n",
       "    <tr>\n",
       "        <th>ECG channels</th>\n",
       "        <td>Not available</td>\n",
       "    \n",
       "    <tr>\n",
       "        <th>Sampling frequency</th>\n",
       "        <td>1000.00 Hz</td>\n",
       "    </tr>\n",
       "    \n",
       "    \n",
       "    <tr>\n",
       "        <th>Highpass</th>\n",
       "        <td>1.00 Hz</td>\n",
       "    </tr>\n",
       "    \n",
       "    \n",
       "    <tr>\n",
       "        <th>Lowpass</th>\n",
       "        <td>500.00 Hz</td>\n",
       "    </tr>\n",
       "    \n",
       "    \n",
       "    \n",
       "    <tr>\n",
       "        <th>Filenames</th>\n",
       "        <td>sub-01_ses-03_task-WM1isi1250_interpolated_data.fif</td>\n",
       "    </tr>\n",
       "    \n",
       "    <tr>\n",
       "        <th>Duration</th>\n",
       "        <td>00:09:21 (HH:MM:SS)</td>\n",
       "    </tr>\n",
       "</table>"
      ],
      "text/plain": [
       "<Raw | sub-01_ses-03_task-WM1isi1250_interpolated_data.fif, 129 x 561849 (561.8 s), ~553.1 MB, data loaded>"
      ]
     },
     "execution_count": 45,
     "metadata": {},
     "output_type": "execute_result"
    }
   ],
   "source": [
    "reconst_raw = raw.copy()\n",
    "ica.apply(reconst_raw)"
   ]
  },
  {
   "cell_type": "markdown",
   "id": "3c549da9-975d-4373-b23c-71296496ff62",
   "metadata": {},
   "source": [
    "### Evaluate ICA Component Removal"
   ]
  },
  {
   "cell_type": "raw",
   "id": "3967bb7b-7b88-4dd8-bcda-f7e08f8f5443",
   "metadata": {},
   "source": [
    "raw.plot(title = 'Before ICA')\n",
    "reconst_raw.plot(title = 'After ICA')"
   ]
  },
  {
   "cell_type": "markdown",
   "id": "9d6b74ec-8edb-4955-9ce2-f94c449f484f",
   "metadata": {},
   "source": [
    "## Signal Space Projection"
   ]
  },
  {
   "cell_type": "markdown",
   "id": "43622741-8243-4f7e-8ea2-b96280d44397",
   "metadata": {},
   "source": [
    "### Filter Raw Data"
   ]
  },
  {
   "cell_type": "code",
   "execution_count": 46,
   "id": "4660f055-eef6-404c-91bb-31f433616058",
   "metadata": {},
   "outputs": [
    {
     "data": {
      "text/html": [
       "<table class=\"table table-hover table-striped table-sm table-responsive small\">\n",
       "    <tr>\n",
       "        <th>Measurement date</th>\n",
       "        \n",
       "        <td>November 10, 2019  20:36:50 GMT</td>\n",
       "        \n",
       "    </tr>\n",
       "    <tr>\n",
       "        <th>Experimenter</th>\n",
       "        \n",
       "        <td>mne_anonymize</td>\n",
       "        \n",
       "    </tr>\n",
       "        <th>Participant</th>\n",
       "        \n",
       "            \n",
       "            <td>sub-01</td>\n",
       "            \n",
       "        \n",
       "    </tr>\n",
       "    <tr>\n",
       "        <th>Digitized points</th>\n",
       "        \n",
       "        <td>0 points</td>\n",
       "        \n",
       "    </tr>\n",
       "    <tr>\n",
       "        <th>Good channels</th>\n",
       "        <td>127 EEG, 2 EOG</td>\n",
       "    </tr>\n",
       "    <tr>\n",
       "        <th>Bad channels</th>\n",
       "        <td>None</td>\n",
       "    </tr>\n",
       "    <tr>\n",
       "        <th>EOG channels</th>\n",
       "        <td>E8, E25</td>\n",
       "    </tr>\n",
       "    <tr>\n",
       "        <th>ECG channels</th>\n",
       "        <td>Not available</td>\n",
       "    \n",
       "    <tr>\n",
       "        <th>Sampling frequency</th>\n",
       "        <td>1000.00 Hz</td>\n",
       "    </tr>\n",
       "    \n",
       "    \n",
       "    <tr>\n",
       "        <th>Highpass</th>\n",
       "        <td>1.00 Hz</td>\n",
       "    </tr>\n",
       "    \n",
       "    \n",
       "    <tr>\n",
       "        <th>Lowpass</th>\n",
       "        <td>40.00 Hz</td>\n",
       "    </tr>\n",
       "    \n",
       "    \n",
       "    \n",
       "    <tr>\n",
       "        <th>Filenames</th>\n",
       "        <td>sub-01_ses-03_task-WM1isi1250_interpolated_data.fif</td>\n",
       "    </tr>\n",
       "    \n",
       "    <tr>\n",
       "        <th>Duration</th>\n",
       "        <td>00:09:21 (HH:MM:SS)</td>\n",
       "    </tr>\n",
       "</table>"
      ],
      "text/plain": [
       "<Raw | sub-01_ses-03_task-WM1isi1250_interpolated_data.fif, 129 x 561849 (561.8 s), ~553.1 MB, data loaded>"
      ]
     },
     "execution_count": 46,
     "metadata": {},
     "output_type": "execute_result"
    }
   ],
   "source": [
    "filter_raw = reconst_raw.filter(l_freq=0.1, h_freq=40) \n",
    "filter_raw"
   ]
  },
  {
   "cell_type": "markdown",
   "id": "09ffccd3-f041-4acc-9c2f-229d07201990",
   "metadata": {},
   "source": [
    "### Compute EOG Projector "
   ]
  },
  {
   "cell_type": "code",
   "execution_count": 47,
   "id": "f1c293af-c59c-4511-b8b3-f5b6b7bc9c07",
   "metadata": {},
   "outputs": [
    {
     "data": {
      "text/plain": [
       "[<Projection | EOG-eeg--0.200-0.200-PCA-01, active : False, n_channels : 127, exp. var : 99.76%>,\n",
       " <Projection | EOG-eeg--0.200-0.200-PCA-02, active : False, n_channels : 127, exp. var : 0.24%>,\n",
       " <Projection | EOG-eeg--0.200-0.200-PCA-03, active : False, n_channels : 127, exp. var : 0.00%>]"
      ]
     },
     "execution_count": 47,
     "metadata": {},
     "output_type": "execute_result"
    }
   ],
   "source": [
    "eog_projs, _ = compute_proj_eog(filter_raw, n_grad=0, n_mag=0, n_eeg=3, reject=None,\n",
    "                                no_proj=True)\n",
    "eog_projs"
   ]
  },
  {
   "cell_type": "markdown",
   "id": "1ddbdb58-a1fa-4af0-8dcc-c4d96306aabc",
   "metadata": {},
   "source": [
    "### Visualize Scalp Distribution"
   ]
  },
  {
   "cell_type": "code",
   "execution_count": 48,
   "id": "8eea6ca9-043a-483f-b244-154cc2d62c04",
   "metadata": {},
   "outputs": [
    {
     "data": {
      "text/plain": [
       "<MNEFigure size 585x260 with 3 Axes>"
      ]
     },
     "execution_count": 48,
     "metadata": {},
     "output_type": "execute_result"
    }
   ],
   "source": [
    "mne.viz.plot_projs_topomap(eog_projs, info=raw.info)"
   ]
  },
  {
   "cell_type": "markdown",
   "id": "f6933561-e539-4612-94bd-148f04ae574a",
   "metadata": {},
   "source": [
    "### Apply Signal Space Projectors"
   ]
  },
  {
   "cell_type": "code",
   "execution_count": 49,
   "id": "6b1377cc-32c2-4312-8355-92e3de4c2507",
   "metadata": {},
   "outputs": [
    {
     "data": {
      "text/html": [
       "<table class=\"table table-hover table-striped table-sm table-responsive small\">\n",
       "    <tr>\n",
       "        <th>Measurement date</th>\n",
       "        \n",
       "        <td>November 10, 2019  20:36:50 GMT</td>\n",
       "        \n",
       "    </tr>\n",
       "    <tr>\n",
       "        <th>Experimenter</th>\n",
       "        \n",
       "        <td>mne_anonymize</td>\n",
       "        \n",
       "    </tr>\n",
       "        <th>Participant</th>\n",
       "        \n",
       "            \n",
       "            <td>sub-01</td>\n",
       "            \n",
       "        \n",
       "    </tr>\n",
       "    <tr>\n",
       "        <th>Digitized points</th>\n",
       "        \n",
       "        <td>0 points</td>\n",
       "        \n",
       "    </tr>\n",
       "    <tr>\n",
       "        <th>Good channels</th>\n",
       "        <td>127 EEG, 2 EOG</td>\n",
       "    </tr>\n",
       "    <tr>\n",
       "        <th>Bad channels</th>\n",
       "        <td>None</td>\n",
       "    </tr>\n",
       "    <tr>\n",
       "        <th>EOG channels</th>\n",
       "        <td>E8, E25</td>\n",
       "    </tr>\n",
       "    <tr>\n",
       "        <th>ECG channels</th>\n",
       "        <td>Not available</td>\n",
       "    \n",
       "    <tr>\n",
       "        <th>Sampling frequency</th>\n",
       "        <td>1000.00 Hz</td>\n",
       "    </tr>\n",
       "    \n",
       "    \n",
       "    <tr>\n",
       "        <th>Highpass</th>\n",
       "        <td>1.00 Hz</td>\n",
       "    </tr>\n",
       "    \n",
       "    \n",
       "    <tr>\n",
       "        <th>Lowpass</th>\n",
       "        <td>40.00 Hz</td>\n",
       "    </tr>\n",
       "    \n",
       "    \n",
       "    <tr>\n",
       "        <th>Projections</th>\n",
       "        <td>EOG-eeg--0.200-0.200-PCA-01 : on<br/>EOG-eeg--0.200-0.200-PCA-02 : on<br/>EOG-eeg--0.200-0.200-PCA-03 : on</td>\n",
       "    </tr>\n",
       "    \n",
       "    \n",
       "    <tr>\n",
       "        <th>Filenames</th>\n",
       "        <td>sub-01_ses-03_task-WM1isi1250_interpolated_data.fif</td>\n",
       "    </tr>\n",
       "    \n",
       "    <tr>\n",
       "        <th>Duration</th>\n",
       "        <td>00:09:21 (HH:MM:SS)</td>\n",
       "    </tr>\n",
       "</table>"
      ],
      "text/plain": [
       "<Raw | sub-01_ses-03_task-WM1isi1250_interpolated_data.fif, 129 x 561849 (561.8 s), ~553.1 MB, data loaded>"
      ]
     },
     "execution_count": 49,
     "metadata": {},
     "output_type": "execute_result"
    }
   ],
   "source": [
    "reconst_raw.add_proj(eog_projs)\n",
    "reconst_raw.apply_proj()"
   ]
  },
  {
   "cell_type": "markdown",
   "id": "bcd21d73-0dfc-4bf7-8865-63022cc38656",
   "metadata": {},
   "source": [
    "## Epoch Comparison"
   ]
  },
  {
   "cell_type": "markdown",
   "id": "a0c0a044-ea77-4e5d-bc97-3240490c7ccd",
   "metadata": {},
   "source": [
    "### Input Old Epochs"
   ]
  },
  {
   "cell_type": "code",
   "execution_count": 50,
   "id": "c0669850-7d35-43c0-8649-222ca2e6dd97",
   "metadata": {},
   "outputs": [
    {
     "data": {
      "text/html": [
       "<table class=\"table table-hover table-striped table-sm table-responsive small\">\n",
       "    <tr>\n",
       "        <th>Number of events</th>\n",
       "        <td>527</td>\n",
       "    </tr>\n",
       "    <tr>\n",
       "        <th>Events</th>\n",
       "        \n",
       "        <td>TsD-: 131<br/>WMD+: 132<br/>bgin: 132<br/>fix+: 132</td>\n",
       "        \n",
       "    </tr>\n",
       "    <tr>\n",
       "        <th>Time range</th>\n",
       "        <td>-0.250 – 0.800 sec</td>\n",
       "    </tr>\n",
       "    <tr>\n",
       "        <th>Baseline</th>\n",
       "        <td>-0.250 – 0.000 sec</td>\n",
       "    </tr>\n",
       "</table>"
      ],
      "text/plain": [
       "<EpochsFIF |  527 events (all good), -0.25 - 0.8 sec, baseline -0.25 – 0 sec, ~545.3 MB, data loaded,\n",
       " 'TsD-': 131\n",
       " 'WMD+': 132\n",
       " 'bgin': 132\n",
       " 'fix+': 132>"
      ]
     },
     "execution_count": 50,
     "metadata": {},
     "output_type": "execute_result"
    }
   ],
   "source": [
    "old_epochs = mne.read_epochs(pathlib.Path('out_data')\n",
    "            / '03_epochs' / oldepochs)\n",
    "old_epochs"
   ]
  },
  {
   "cell_type": "markdown",
   "id": "8d7b71de-50c9-4b77-a66a-5c775ee82daa",
   "metadata": {},
   "source": [
    "#### Rejection Filter"
   ]
  },
  {
   "cell_type": "code",
   "execution_count": 51,
   "id": "1724ff97-8afd-4f65-a7e3-d4f67ba665dc",
   "metadata": {},
   "outputs": [
    {
     "data": {
      "text/html": [
       "<table class=\"table table-hover table-striped table-sm table-responsive small\">\n",
       "    <tr>\n",
       "        <th>Number of events</th>\n",
       "        <td>329</td>\n",
       "    </tr>\n",
       "    <tr>\n",
       "        <th>Events</th>\n",
       "        \n",
       "        <td>TsD-: 82<br/>WMD+: 92<br/>bgin: 81<br/>fix+: 74</td>\n",
       "        \n",
       "    </tr>\n",
       "    <tr>\n",
       "        <th>Time range</th>\n",
       "        <td>-0.250 – 0.800 sec</td>\n",
       "    </tr>\n",
       "    <tr>\n",
       "        <th>Baseline</th>\n",
       "        <td>-0.250 – 0.000 sec</td>\n",
       "    </tr>\n",
       "</table>"
      ],
      "text/plain": [
       "<EpochsFIF |  329 events (all good), -0.25 - 0.8 sec, baseline -0.25 – 0 sec, ~340.5 MB, data loaded,\n",
       " 'TsD-': 82\n",
       " 'WMD+': 92\n",
       " 'bgin': 81\n",
       " 'fix+': 74>"
      ]
     },
     "execution_count": 51,
     "metadata": {},
     "output_type": "execute_result"
    }
   ],
   "source": [
    "reject_criteria = dict(eeg=100e-6) # 100 µV, what should our rejection criteria be? \n",
    "\n",
    "old_epochs.drop_bad(reject=reject_criteria)"
   ]
  },
  {
   "cell_type": "markdown",
   "id": "755f3e6c-54ce-43bd-80a1-162c4f0c442a",
   "metadata": {},
   "source": [
    "### Run New Epochs"
   ]
  },
  {
   "cell_type": "code",
   "execution_count": 52,
   "id": "330f7dce-49ff-417d-a2a3-c98f4e465e5b",
   "metadata": {},
   "outputs": [
    {
     "data": {
      "text/html": [
       "<table class=\"table table-hover table-striped table-sm table-responsive small\">\n",
       "    <tr>\n",
       "        <th>Number of events</th>\n",
       "        <td>527</td>\n",
       "    </tr>\n",
       "    <tr>\n",
       "        <th>Events</th>\n",
       "        \n",
       "        <td>TsD-: 131<br/>WMD+: 132<br/>bgin: 132<br/>fix+: 132</td>\n",
       "        \n",
       "    </tr>\n",
       "    <tr>\n",
       "        <th>Time range</th>\n",
       "        <td>-0.250 – 0.800 sec</td>\n",
       "    </tr>\n",
       "    <tr>\n",
       "        <th>Baseline</th>\n",
       "        <td>-0.250 – 0.000 sec</td>\n",
       "    </tr>\n",
       "</table>"
      ],
      "text/plain": [
       "<Epochs |  527 events (all good), -0.25 - 0.8 sec, baseline -0.25 – 0 sec, ~545.3 MB, data loaded,\n",
       " 'TsD-': 131\n",
       " 'WMD+': 132\n",
       " 'bgin': 132\n",
       " 'fix+': 132>"
      ]
     },
     "execution_count": 52,
     "metadata": {},
     "output_type": "execute_result"
    }
   ],
   "source": [
    "tmin = -0.25 #300 ms before the event\n",
    "tmax = 0.8 #500 ms after the onset\n",
    "\n",
    "new_epochs = mne.Epochs(reconst_raw,\n",
    "                    events=events,\n",
    "                    event_id=event_id,\n",
    "                    tmin=tmin,\n",
    "                    tmax=tmax,\n",
    "                    preload=True)\n",
    "new_epochs"
   ]
  },
  {
   "cell_type": "code",
   "execution_count": 53,
   "id": "d977ea28-1c68-49ee-9ea0-08aa992d833a",
   "metadata": {},
   "outputs": [
    {
     "data": {
      "text/html": [
       "<table class=\"table table-hover table-striped table-sm table-responsive small\">\n",
       "    <tr>\n",
       "        <th>Number of events</th>\n",
       "        <td>498</td>\n",
       "    </tr>\n",
       "    <tr>\n",
       "        <th>Events</th>\n",
       "        \n",
       "        <td>TsD-: 125<br/>WMD+: 125<br/>bgin: 125<br/>fix+: 123</td>\n",
       "        \n",
       "    </tr>\n",
       "    <tr>\n",
       "        <th>Time range</th>\n",
       "        <td>-0.250 – 0.800 sec</td>\n",
       "    </tr>\n",
       "    <tr>\n",
       "        <th>Baseline</th>\n",
       "        <td>-0.250 – 0.000 sec</td>\n",
       "    </tr>\n",
       "</table>"
      ],
      "text/plain": [
       "<Epochs |  498 events (all good), -0.25 - 0.8 sec, baseline -0.25 – 0 sec, ~515.3 MB, data loaded,\n",
       " 'TsD-': 125\n",
       " 'WMD+': 125\n",
       " 'bgin': 125\n",
       " 'fix+': 123>"
      ]
     },
     "execution_count": 53,
     "metadata": {},
     "output_type": "execute_result"
    }
   ],
   "source": [
    "reject_criteria = dict(eeg=100e-6) # 100 µV, what should our rejection criteria be? \n",
    "\n",
    "new_epochs.drop_bad(reject=reject_criteria)"
   ]
  },
  {
   "cell_type": "markdown",
   "id": "6f72a464-4a60-4633-b24f-84c2af8bafcd",
   "metadata": {},
   "source": [
    "## Result"
   ]
  },
  {
   "cell_type": "code",
   "execution_count": 54,
   "id": "1202be05-c95a-4579-9390-240345ed6e54",
   "metadata": {},
   "outputs": [
    {
     "data": {
      "text/plain": [
       "<mne_qt_browser._pg_figure.MNEQtBrowser at 0x28d1db5a5e0>"
      ]
     },
     "execution_count": 54,
     "metadata": {},
     "output_type": "execute_result"
    }
   ],
   "source": [
    "old_epochs.plot(title = 'Old Epochs')\n",
    "new_epochs.plot(title = 'New Epochs')"
   ]
  },
  {
   "cell_type": "markdown",
   "id": "9b328189-5321-4fd7-9f24-d840b54c8bc9",
   "metadata": {},
   "source": [
    "## Saving Cleaned Epoch Data "
   ]
  },
  {
   "cell_type": "code",
   "execution_count": 55,
   "id": "abf76b5b-8fcc-491b-9128-45b57e06bcb1",
   "metadata": {},
   "outputs": [
    {
     "name": "stderr",
     "output_type": "stream",
     "text": [
      "C:\\Users\\trevo\\AppData\\Local\\Temp\\ipykernel_10624\\1585327162.py:1: RuntimeWarning: This filename (out_data\\05_cleaned_data\\sub-01_ses-03_task-WM1isi1250_cleaned_data.fif) does not conform to MNE naming conventions. All epochs files should end with -epo.fif, -epo.fif.gz, _epo.fif or _epo.fif.gz\n",
      "  new_epochs.save(pathlib.Path('out_data')\n"
     ]
    }
   ],
   "source": [
    "new_epochs.save(pathlib.Path('out_data')\n",
    "            / '05_cleaned_data' / filename)"
   ]
  },
  {
   "cell_type": "code",
   "execution_count": null,
   "id": "0eb9b516-4c99-4c4e-91a4-5caaeb5142ce",
   "metadata": {},
   "outputs": [],
   "source": []
  }
 ],
 "metadata": {
  "kernelspec": {
   "display_name": "Python 3 (ipykernel)",
   "language": "python",
   "name": "python3"
  },
  "language_info": {
   "codemirror_mode": {
    "name": "ipython",
    "version": 3
   },
   "file_extension": ".py",
   "mimetype": "text/x-python",
   "name": "python",
   "nbconvert_exporter": "python",
   "pygments_lexer": "ipython3",
   "version": "3.9.13"
  }
 },
 "nbformat": 4,
 "nbformat_minor": 5
}
