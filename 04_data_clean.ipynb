{
 "cells": [
  {
   "cell_type": "markdown",
   "id": "4a522a67-b8e1-424e-9f68-cc6f711d2e33",
   "metadata": {},
   "source": [
    "# Data Cleaning"
   ]
  },
  {
   "cell_type": "markdown",
   "id": "7b39eb43-9237-479e-acc5-502792b8057e",
   "metadata": {},
   "source": [
    "## Import"
   ]
  },
  {
   "cell_type": "code",
   "execution_count": null,
   "id": "5c7b6a49-2d0f-434f-b623-a7a65e7bbe0d",
   "metadata": {},
   "outputs": [],
   "source": [
    "import os\n",
    "import pathlib\n",
    "import matplotlib\n",
    "\n",
    "import numpy as np\n",
    "import matplotlib.pyplot as plt\n",
    "import mne\n",
    "import mne_bids\n",
    "from mne.preprocessing import (ICA, create_eog_epochs, \n",
    "                               compute_proj_eog, create_ecg_epochs, corrmap)\n",
    "                               \n",
    "matplotlib.use('Qt5Agg')\n",
    "mne.set_log_level('warning') #All mne functions will only spit out output if they have reason to."
   ]
  },
  {
   "cell_type": "markdown",
   "id": "ccfc556f-5bda-48b3-9285-0270adc77f50",
   "metadata": {},
   "source": [
    "## Insert Subject Information"
   ]
  },
  {
   "cell_type": "raw",
   "id": "b6381e16-c9c4-4e47-bcde-3b6ff5699e89",
   "metadata": {},
   "source": [
    "subject = '01'\n",
    "session = '02'\n",
    "task = 'WM1isi250'\n",
    "initals = 'DAT'"
   ]
  },
  {
   "cell_type": "code",
   "execution_count": null,
   "id": "a1d1b0c4-d65b-4f71-8a14-55f2fa758c2a",
   "metadata": {},
   "outputs": [],
   "source": [
    "intername = 'sub-'+subject+'_ses-'+session+'_task-'+task+'_interpolated_data.fif'\n",
    "oldepochs = 'sub-'+subject+'_ses-'+session+'_task-'+task+'_epochs-epo.fif'\n",
    "filename = 'sub-'+subject+'_ses-'+session+'_task-'+task+'_cleaned_data.fif'\n",
    "filename"
   ]
  },
  {
   "cell_type": "markdown",
   "id": "b457f15f-e5ea-4243-b403-fd6fbe8d72ce",
   "metadata": {},
   "source": [
    "## Input Raw Data"
   ]
  },
  {
   "cell_type": "markdown",
   "id": "5c69c930-b662-42d2-8915-84fd8743f965",
   "metadata": {},
   "source": [
    "#### Subject One Template"
   ]
  },
  {
   "cell_type": "code",
   "execution_count": null,
   "id": "065bf29c-7179-417c-9839-bd4c252d87ce",
   "metadata": {},
   "outputs": [],
   "source": [
    "template_raw = mne.io.read_raw(pathlib.Path('out_data') / '02_interpolation_data' / \n",
    "                      'sub-01_ses-01_task-WM1isi0_interpolated_data.fif')\n",
    "#events, event_id = mne.events_from_annotations(template_raw) \n",
    "template_raw.load_data()"
   ]
  },
  {
   "cell_type": "markdown",
   "id": "b8c591bb-fd57-4f14-8f79-c0d963707b0d",
   "metadata": {},
   "source": [
    "#### Actual Data"
   ]
  },
  {
   "cell_type": "code",
   "execution_count": null,
   "id": "6ff9d6de-cefb-4da7-9878-b68ad7b4ffbc",
   "metadata": {},
   "outputs": [],
   "source": [
    "raw = mne.io.read_raw(pathlib.Path('out_data') / '02_interpolation_data' / \n",
    "                      intername)\n",
    "events, event_id = mne.events_from_annotations(raw) \n",
    "raw.load_data()"
   ]
  },
  {
   "cell_type": "markdown",
   "id": "33c517a0-bc61-4979-bf0a-8ea95c3bb93a",
   "metadata": {},
   "source": [
    "## ICA Analysis"
   ]
  },
  {
   "cell_type": "markdown",
   "id": "5b225fbe-8992-42ab-a7eb-74d23e688ab2",
   "metadata": {},
   "source": [
    "#### Template Creation"
   ]
  },
  {
   "cell_type": "code",
   "execution_count": null,
   "id": "fb8eb152-29ef-436d-804f-54a3cadacd18",
   "metadata": {},
   "outputs": [],
   "source": [
    "high_pass_template = template_raw.filter(l_freq=1, h_freq=None) "
   ]
  },
  {
   "cell_type": "code",
   "execution_count": null,
   "id": "71d82222-2b32-4135-be02-948daf2abf4a",
   "metadata": {},
   "outputs": [],
   "source": [
    "template_ica = ICA(n_components=15, max_iter='auto', random_state=97)\n",
    "template_ica.fit(high_pass_template)\n",
    "template_ica"
   ]
  },
  {
   "cell_type": "raw",
   "id": "b25ab033-e7d0-4835-adf8-c65024198121",
   "metadata": {},
   "source": [
    "template_ica.plot_components()"
   ]
  },
  {
   "cell_type": "markdown",
   "id": "de574797-7c4d-47f8-8014-ee162c6ff47f",
   "metadata": {},
   "source": [
    "### Apply a High Pass Filter"
   ]
  },
  {
   "cell_type": "code",
   "execution_count": null,
   "id": "85f9e4fd-9dd5-47c8-9026-d1916a27dd2f",
   "metadata": {},
   "outputs": [],
   "source": [
    "high_pass_raw = raw.filter(l_freq=1, h_freq=None) "
   ]
  },
  {
   "cell_type": "markdown",
   "id": "ba641e11-593b-4ba4-ac2d-41adac2c119e",
   "metadata": {},
   "source": [
    "### Run ICA"
   ]
  },
  {
   "cell_type": "code",
   "execution_count": null,
   "id": "9d203f9e-c472-4735-8cb2-6d71544c8f10",
   "metadata": {},
   "outputs": [],
   "source": [
    "ica = ICA(n_components=15, max_iter='auto', random_state=97)\n",
    "ica.fit(high_pass_raw)\n",
    "ica"
   ]
  },
  {
   "cell_type": "markdown",
   "id": "b6fe05db-18b1-4ee0-962a-0292a4bde6cd",
   "metadata": {},
   "source": [
    "### Evaluate ICA Components"
   ]
  },
  {
   "cell_type": "raw",
   "id": "c4eef33d-a74d-4c2d-a2be-5acec2e4fee7",
   "metadata": {},
   "source": [
    "ica.plot_components()"
   ]
  },
  {
   "cell_type": "markdown",
   "id": "8006faf3-0a8d-43f4-8ac6-d2773cbbfca9",
   "metadata": {},
   "source": [
    "### Reject Eye Blinks Component"
   ]
  },
  {
   "cell_type": "code",
   "execution_count": null,
   "id": "378956d4-e8ee-46d1-85a1-05fdb0b6a39a",
   "metadata": {},
   "outputs": [],
   "source": [
    "icas = list()\n",
    "icas.append(template_ica)\n",
    "icas.append(ica)"
   ]
  },
  {
   "cell_type": "code",
   "execution_count": null,
   "id": "89a9b8e8-cf5e-41ec-b796-0c7220accfd3",
   "metadata": {},
   "outputs": [],
   "source": [
    "#ica = icas[0]\n",
    "eog_inds = ica.find_bads_eog(raw)"
   ]
  },
  {
   "cell_type": "code",
   "execution_count": null,
   "id": "82e81237-4b48-42fa-b294-54d0d748b1fa",
   "metadata": {},
   "outputs": [],
   "source": [
    "corrmap(icas, template=(0, 6), threshold = .9, label = 'eyeblink', plot = False)"
   ]
  },
  {
   "cell_type": "code",
   "execution_count": null,
   "id": "1f04de9d-ad83-4057-989d-59c78a76f101",
   "metadata": {},
   "outputs": [],
   "source": [
    "icas[1].exclude = icas[1].labels_['eyeblink']"
   ]
  },
  {
   "cell_type": "markdown",
   "id": "cdef74a1-b172-4d8b-8f30-4dac945f2e4e",
   "metadata": {},
   "source": [
    "### Create New Raw Data"
   ]
  },
  {
   "cell_type": "code",
   "execution_count": null,
   "id": "9b4f5585-976a-4353-999f-fa67e73d8e5d",
   "metadata": {},
   "outputs": [],
   "source": [
    "reconst_raw = raw.copy()\n",
    "icas[1].apply(reconst_raw)"
   ]
  },
  {
   "cell_type": "markdown",
   "id": "3c549da9-975d-4373-b23c-71296496ff62",
   "metadata": {},
   "source": [
    "### Evaluate ICA Component Removal"
   ]
  },
  {
   "cell_type": "raw",
   "id": "4839e214-a664-4a7b-afd0-ac5d0a5741cc",
   "metadata": {},
   "source": [
    "raw.plot(title = 'Before ICA')\n",
    "reconst_raw.plot(title = 'After ICA')"
   ]
  },
  {
   "cell_type": "markdown",
   "id": "9d6b74ec-8edb-4955-9ce2-f94c449f484f",
   "metadata": {},
   "source": [
    "## Signal Space Projection"
   ]
  },
  {
   "cell_type": "markdown",
   "id": "43622741-8243-4f7e-8ea2-b96280d44397",
   "metadata": {},
   "source": [
    "### Filter Raw Data"
   ]
  },
  {
   "cell_type": "code",
   "execution_count": null,
   "id": "4660f055-eef6-404c-91bb-31f433616058",
   "metadata": {},
   "outputs": [],
   "source": [
    "filter_raw = reconst_raw.filter(l_freq=0.1, h_freq=40) \n",
    "filter_raw"
   ]
  },
  {
   "cell_type": "markdown",
   "id": "09ffccd3-f041-4acc-9c2f-229d07201990",
   "metadata": {},
   "source": [
    "### Compute EOG Projector "
   ]
  },
  {
   "cell_type": "raw",
   "id": "dda026ec-a367-45fe-a11e-b61c170b887b",
   "metadata": {},
   "source": [
    "eog_projs, _ = compute_proj_eog(filter_raw, n_grad=0, n_mag=0, n_eeg=1, reject=None,\n",
    "                                no_proj=True)\n",
    "eog_projs"
   ]
  },
  {
   "cell_type": "markdown",
   "id": "1ddbdb58-a1fa-4af0-8dcc-c4d96306aabc",
   "metadata": {},
   "source": [
    "### Visualize Scalp Distribution"
   ]
  },
  {
   "cell_type": "raw",
   "id": "3fff95f3-b02f-4f0f-b3a2-20b69cea4e62",
   "metadata": {},
   "source": [
    "mne.viz.plot_projs_topomap(eog_projs, info=raw.info)"
   ]
  },
  {
   "cell_type": "markdown",
   "id": "f6933561-e539-4612-94bd-148f04ae574a",
   "metadata": {},
   "source": [
    "### Apply Signal Space Projectors"
   ]
  },
  {
   "cell_type": "raw",
   "id": "3691f875-1fdf-487f-a2c8-9520445a2ce7",
   "metadata": {},
   "source": [
    "reconst_raw.add_proj(eog_projs)\n",
    "reconst_raw.apply_proj()"
   ]
  },
  {
   "cell_type": "markdown",
   "id": "bcd21d73-0dfc-4bf7-8865-63022cc38656",
   "metadata": {},
   "source": [
    "## Epoch Comparison"
   ]
  },
  {
   "cell_type": "markdown",
   "id": "a0c0a044-ea77-4e5d-bc97-3240490c7ccd",
   "metadata": {},
   "source": [
    "### Input Old Epochs"
   ]
  },
  {
   "cell_type": "code",
   "execution_count": null,
   "id": "c0669850-7d35-43c0-8649-222ca2e6dd97",
   "metadata": {},
   "outputs": [],
   "source": [
    "old_epochs = mne.read_epochs(pathlib.Path('out_data')\n",
    "            / '03_epochs' / oldepochs)\n",
    "old_epochs"
   ]
  },
  {
   "cell_type": "markdown",
   "id": "8d7b71de-50c9-4b77-a66a-5c775ee82daa",
   "metadata": {},
   "source": [
    "#### Rejection Filter"
   ]
  },
  {
   "cell_type": "code",
   "execution_count": null,
   "id": "1724ff97-8afd-4f65-a7e3-d4f67ba665dc",
   "metadata": {},
   "outputs": [],
   "source": [
    "reject_criteria = dict(eeg=100e-6) # 100 µV, what should our rejection criteria be? \n",
    "\n",
    "old_epochs.drop_bad(reject=reject_criteria)"
   ]
  },
  {
   "cell_type": "markdown",
   "id": "755f3e6c-54ce-43bd-80a1-162c4f0c442a",
   "metadata": {},
   "source": [
    "### Run New Epochs"
   ]
  },
  {
   "cell_type": "code",
   "execution_count": null,
   "id": "330f7dce-49ff-417d-a2a3-c98f4e465e5b",
   "metadata": {},
   "outputs": [],
   "source": [
    "tmin = -0.25 #300 ms before the event\n",
    "tmax = 0.8 #500 ms after the onset\n",
    "\n",
    "new_epochs = mne.Epochs(reconst_raw,\n",
    "                    events=events,\n",
    "                    event_id=event_id,\n",
    "                    tmin=tmin,\n",
    "                    tmax=tmax,\n",
    "                    preload=True)\n",
    "new_epochs"
   ]
  },
  {
   "cell_type": "code",
   "execution_count": null,
   "id": "d977ea28-1c68-49ee-9ea0-08aa992d833a",
   "metadata": {},
   "outputs": [],
   "source": [
    "reject_criteria = dict(eeg=100e-6) # 100 µV, what should our rejection criteria be? \n",
    "\n",
    "new_epochs.drop_bad(reject=reject_criteria)"
   ]
  },
  {
   "cell_type": "markdown",
   "id": "6f72a464-4a60-4633-b24f-84c2af8bafcd",
   "metadata": {},
   "source": [
    "## Result"
   ]
  },
  {
   "cell_type": "raw",
   "id": "5785589d-aca1-464f-9cab-e281906ab5d3",
   "metadata": {},
   "source": [
    "old_epochs.plot(title = 'Old Epochs')\n",
    "new_epochs.plot(title = 'New Epochs')"
   ]
  },
  {
   "cell_type": "markdown",
   "id": "9b328189-5321-4fd7-9f24-d840b54c8bc9",
   "metadata": {},
   "source": [
    "## Saving Cleaned Epoch Data "
   ]
  },
  {
   "cell_type": "code",
   "execution_count": null,
   "id": "abf76b5b-8fcc-491b-9128-45b57e06bcb1",
   "metadata": {},
   "outputs": [],
   "source": [
    "new_epochs.save(pathlib.Path('out_data')\n",
    "            / '05_cleaned_data' / filename)"
   ]
  },
  {
   "cell_type": "code",
   "execution_count": null,
   "id": "0eb9b516-4c99-4c4e-91a4-5caaeb5142ce",
   "metadata": {},
   "outputs": [],
   "source": []
  }
 ],
 "metadata": {
  "kernelspec": {
   "display_name": "Python 3 (ipykernel)",
   "language": "python",
   "name": "python3"
  },
  "language_info": {
   "codemirror_mode": {
    "name": "ipython",
    "version": 3
   },
   "file_extension": ".py",
   "mimetype": "text/x-python",
   "name": "python",
   "nbconvert_exporter": "python",
   "pygments_lexer": "ipython3",
   "version": "3.9.13"
  }
 },
 "nbformat": 4,
 "nbformat_minor": 5
}
