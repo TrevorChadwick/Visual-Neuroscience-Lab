{
 "cells": [
  {
   "cell_type": "markdown",
   "id": "cb773e32-d65b-4e63-b9e3-7576888dd352",
   "metadata": {
    "tags": []
   },
   "source": [
    "# Preprocessing"
   ]
  },
  {
   "cell_type": "markdown",
   "id": "33b48dcc-bf3a-49f5-9656-9726c5d6ad04",
   "metadata": {},
   "source": [
    "### Import 🤖 ✔️"
   ]
  },
  {
   "cell_type": "code",
   "execution_count": 1,
   "id": "3c52d70f-95b6-4c50-8664-0d7e0c76ec1c",
   "metadata": {},
   "outputs": [],
   "source": [
    "import pathlib\n",
    "import matplotlib\n",
    "\n",
    "import mne\n",
    "import mne_bids\n",
    "import matplotlib.pyplot as plt\n",
    "\n",
    "matplotlib.use('Qt5Agg')"
   ]
  },
  {
   "cell_type": "markdown",
   "id": "b32e60c5-15f0-49d0-9e8b-4b5ce5e6d560",
   "metadata": {
    "tags": []
   },
   "source": [
    "### Specify Input Folder 🤖 ✔️"
   ]
  },
  {
   "cell_type": "code",
   "execution_count": 2,
   "id": "d748985f-18c5-48ad-9c49-fb890d37e425",
   "metadata": {},
   "outputs": [],
   "source": [
    "bids_root = pathlib.Path('out_data/BIDS_Structure') "
   ]
  },
  {
   "cell_type": "markdown",
   "id": "eded7513-d979-4acd-b83d-71e7a0eb9e71",
   "metadata": {
    "tags": []
   },
   "source": [
    "### Input Recording 🧑 ✔️"
   ]
  },
  {
   "cell_type": "code",
   "execution_count": 3,
   "id": "c5b2e2f8-a63a-4402-9f83-6815df6bdcf8",
   "metadata": {},
   "outputs": [
    {
     "name": "stdout",
     "output_type": "stream",
     "text": [
      "Extracting parameters from out_data\\BIDS_Structure\\sub-01\\ses-01\\eeg\\sub-01_ses-01_task-WM1isi0_eeg.vhdr...\n",
      "Setting channel info structure...\n",
      "Reading events from out_data\\BIDS_Structure\\sub-01\\ses-01\\eeg\\sub-01_ses-01_task-WM1isi0_events.tsv.\n",
      "Reading channel info from out_data\\BIDS_Structure\\sub-01\\ses-01\\eeg\\sub-01_ses-01_task-WM1isi0_channels.tsv.\n",
      "Reading electrode coords from out_data\\BIDS_Structure\\sub-01\\ses-01\\eeg\\sub-01_ses-01_space-CapTrak_electrodes.tsv.\n",
      "Reading 0 ... 361489  =      0.000 ...   361.489 secs...\n"
     ]
    },
    {
     "name": "stderr",
     "output_type": "stream",
     "text": [
      "C:\\Users\\trevo\\AppData\\Local\\Temp\\ipykernel_2192\\2004262548.py:7: RuntimeWarning: There are channels without locations (n/a) that are not marked as bad: ['SESS', 'CELL', 'bgin', 'fix+', 'WMD+', 'TsD-', 'TRSP', 'STI 014']\n",
      "  raw = mne_bids.read_raw_bids(bids_path)\n",
      "C:\\Users\\trevo\\AppData\\Local\\Temp\\ipykernel_2192\\2004262548.py:7: RuntimeWarning: Not setting positions of 8 stim channels found in montage:\n",
      "['SESS', 'CELL', 'bgin', 'fix+', 'WMD+', 'TsD-', 'TRSP', 'STI 014']\n",
      "Consider setting the channel types to be of EEG/sEEG/ECoG/DBS/fNIRS using inst.set_channel_types before calling inst.set_montage, or omit these channels when creating your montage.\n",
      "  raw = mne_bids.read_raw_bids(bids_path)\n"
     ]
    },
    {
     "name": "stdout",
     "output_type": "stream",
     "text": [
      "Used Annotations descriptions: ['TsD-', 'WMD+', 'bgin', 'fix+']\n"
     ]
    }
   ],
   "source": [
    "bids_path = mne_bids.BIDSPath(subject='01',\n",
    "                              session='01',\n",
    "                              task='WM1isi0',\n",
    "                              datatype='eeg',\n",
    "                              root=bids_root)\n",
    "\n",
    "raw = mne_bids.read_raw_bids(bids_path) \n",
    "raw.load_data() \n",
    "events, event_id = mne.events_from_annotations(raw) "
   ]
  },
  {
   "cell_type": "code",
   "execution_count": 4,
   "id": "2f4987a6-f561-486b-b855-2a0c3b8db987",
   "metadata": {},
   "outputs": [
    {
     "data": {
      "text/html": [
       "<table class=\"table table-hover table-striped table-sm table-responsive small\">\n",
       "    <tr>\n",
       "        <th>Measurement date</th>\n",
       "        \n",
       "        <td>November 10, 2019  20:00:11 GMT</td>\n",
       "        \n",
       "    </tr>\n",
       "    <tr>\n",
       "        <th>Experimenter</th>\n",
       "        \n",
       "        <td>mne_anonymize</td>\n",
       "        \n",
       "    </tr>\n",
       "        <th>Participant</th>\n",
       "        \n",
       "            \n",
       "            <td>sub-01</td>\n",
       "            \n",
       "        \n",
       "    </tr>\n",
       "    <tr>\n",
       "        <th>Digitized points</th>\n",
       "        \n",
       "        <td>0 points</td>\n",
       "        \n",
       "    </tr>\n",
       "    <tr>\n",
       "        <th>Good channels</th>\n",
       "        <td>128 EEG</td>\n",
       "    </tr>\n",
       "    <tr>\n",
       "        <th>Bad channels</th>\n",
       "        <td>None</td>\n",
       "    </tr>\n",
       "    <tr>\n",
       "        <th>EOG channels</th>\n",
       "        <td>Not available</td>\n",
       "    </tr>\n",
       "    <tr>\n",
       "        <th>ECG channels</th>\n",
       "        <td>Not available</td>\n",
       "    \n",
       "    <tr>\n",
       "        <th>Sampling frequency</th>\n",
       "        <td>1000.00 Hz</td>\n",
       "    </tr>\n",
       "    \n",
       "    \n",
       "    <tr>\n",
       "        <th>Highpass</th>\n",
       "        <td>0.00 Hz</td>\n",
       "    </tr>\n",
       "    \n",
       "    \n",
       "    <tr>\n",
       "        <th>Lowpass</th>\n",
       "        <td>500.00 Hz</td>\n",
       "    </tr>\n",
       "    \n",
       "    \n",
       "    \n",
       "    <tr>\n",
       "        <th>Filenames</th>\n",
       "        <td>sub-01_ses-01_task-WM1isi0_eeg.eeg</td>\n",
       "    </tr>\n",
       "    \n",
       "    <tr>\n",
       "        <th>Duration</th>\n",
       "        <td>00:06:01 (HH:MM:SS)</td>\n",
       "    </tr>\n",
       "</table>"
      ],
      "text/plain": [
       "<RawBrainVision | sub-01_ses-01_task-WM1isi0_eeg.eeg, 128 x 361490 (361.5 s), ~353.2 MB, data loaded>"
      ]
     },
     "execution_count": 4,
     "metadata": {},
     "output_type": "execute_result"
    }
   ],
   "source": [
    "#Raw EEG, excludes E129 (EEG reference)\n",
    "raw_copy = raw.copy().pick_types(meg=False, eeg=True, eog=False, exclude=['E129'])\n",
    "len(raw_copy.ch_names)\n",
    "raw_copy"
   ]
  },
  {
   "cell_type": "markdown",
   "id": "2562ba69-161d-476c-8a40-875ab49c3018",
   "metadata": {
    "tags": []
   },
   "source": [
    "### Bad Channel Rejection 🧑 ✔️"
   ]
  },
  {
   "cell_type": "markdown",
   "id": "e45b4fda-ae39-4cc7-9824-13eae44084d0",
   "metadata": {},
   "source": [
    "Go in and click on any bad channels of data. Any channels that are flat or too agitated."
   ]
  },
  {
   "cell_type": "code",
   "execution_count": 5,
   "id": "bd5e9ab1-cd2e-44c4-a6a6-45682de3537f",
   "metadata": {},
   "outputs": [
    {
     "name": "stdout",
     "output_type": "stream",
     "text": [
      "Using qt as 2D backend.\n",
      "Opening raw-browser...\n"
     ]
    },
    {
     "data": {
      "text/plain": [
       "<mne_qt_browser._pg_figure.MNEQtBrowser at 0x1c2d737bee0>"
      ]
     },
     "execution_count": 5,
     "metadata": {},
     "output_type": "execute_result"
    }
   ],
   "source": [
    "raw_copy.plot()"
   ]
  },
  {
   "cell_type": "markdown",
   "id": "ae003ba0-b8c2-46eb-b704-dea32d22a237",
   "metadata": {
    "tags": []
   },
   "source": [
    "### Interpolation 🤖 ✔️"
   ]
  },
  {
   "cell_type": "code",
   "execution_count": 6,
   "id": "e6e23f75-653e-484c-8deb-be729e3b7026",
   "metadata": {},
   "outputs": [
    {
     "name": "stderr",
     "output_type": "stream",
     "text": [
      "C:\\Users\\trevo\\AppData\\Local\\Temp\\ipykernel_2192\\2371640664.py:1: RuntimeWarning: No bad channels to interpolate. Doing nothing...\n",
      "  raw_copy_interp = raw_copy.copy().interpolate_bads(reset_bads=False)\n"
     ]
    },
    {
     "name": "stdout",
     "output_type": "stream",
     "text": [
      "Closing raw-browser...\n",
      "Channels marked as bad:\n",
      "none\n"
     ]
    }
   ],
   "source": [
    "raw_copy_interp = raw_copy.copy().interpolate_bads(reset_bads=False)"
   ]
  },
  {
   "cell_type": "markdown",
   "id": "3f359ec1-770a-47ab-9cde-cbe189a29f43",
   "metadata": {
    "tags": []
   },
   "source": [
    "### Bad Span Rejection 🧑 ✔️"
   ]
  },
  {
   "cell_type": "markdown",
   "id": "cb078886-03b7-49ed-bd27-e7900e209a70",
   "metadata": {},
   "source": [
    "Go in and annotate any bad spans, select and label all bad spans of data with 'bad'."
   ]
  },
  {
   "cell_type": "code",
   "execution_count": 9,
   "id": "e30c2f79-55fc-474e-bb74-5b5e13f1b115",
   "metadata": {},
   "outputs": [
    {
     "name": "stdout",
     "output_type": "stream",
     "text": [
      "Opening raw-browser...\n"
     ]
    },
    {
     "data": {
      "text/plain": [
       "<mne_qt_browser._pg_figure.MNEQtBrowser at 0x1c282b80a60>"
      ]
     },
     "execution_count": 9,
     "metadata": {},
     "output_type": "execute_result"
    },
    {
     "name": "stdout",
     "output_type": "stream",
     "text": [
      "Closing raw-browser...\n",
      "Channels marked as bad:\n",
      "none\n"
     ]
    }
   ],
   "source": [
    "raw_copy.plot()"
   ]
  },
  {
   "cell_type": "markdown",
   "id": "8a873211-a3bb-4dc4-a5ab-2994b7bff4d7",
   "metadata": {
    "tags": []
   },
   "source": [
    "### Filter the Data 🤖 ❌"
   ]
  },
  {
   "cell_type": "code",
   "execution_count": 10,
   "id": "ef532a3f-6ae2-4990-ab39-3a8495da74c9",
   "metadata": {},
   "outputs": [
    {
     "name": "stdout",
     "output_type": "stream",
     "text": [
      "Filtering raw data in 1 contiguous segment\n",
      "Setting up band-pass filter from 0.1 - 40 Hz\n",
      "\n",
      "FIR filter parameters\n",
      "---------------------\n",
      "Designing a one-pass, zero-phase, non-causal bandpass filter:\n",
      "- Windowed time-domain design (firwin) method\n",
      "- Hamming window with 0.0194 passband ripple and 53 dB stopband attenuation\n",
      "- Lower passband edge: 0.10\n",
      "- Lower transition bandwidth: 0.10 Hz (-6 dB cutoff frequency: 0.05 Hz)\n",
      "- Upper passband edge: 40.00 Hz\n",
      "- Upper transition bandwidth: 10.00 Hz (-6 dB cutoff frequency: 45.00 Hz)\n",
      "- Filter length: 33001 samples (33.001 sec)\n",
      "\n"
     ]
    },
    {
     "data": {
      "text/html": [
       "<table class=\"table table-hover table-striped table-sm table-responsive small\">\n",
       "    <tr>\n",
       "        <th>Measurement date</th>\n",
       "        \n",
       "        <td>November 10, 2019  20:00:11 GMT</td>\n",
       "        \n",
       "    </tr>\n",
       "    <tr>\n",
       "        <th>Experimenter</th>\n",
       "        \n",
       "        <td>mne_anonymize</td>\n",
       "        \n",
       "    </tr>\n",
       "        <th>Participant</th>\n",
       "        \n",
       "            \n",
       "            <td>sub-01</td>\n",
       "            \n",
       "        \n",
       "    </tr>\n",
       "    <tr>\n",
       "        <th>Digitized points</th>\n",
       "        \n",
       "        <td>0 points</td>\n",
       "        \n",
       "    </tr>\n",
       "    <tr>\n",
       "        <th>Good channels</th>\n",
       "        <td>128 EEG</td>\n",
       "    </tr>\n",
       "    <tr>\n",
       "        <th>Bad channels</th>\n",
       "        <td>None</td>\n",
       "    </tr>\n",
       "    <tr>\n",
       "        <th>EOG channels</th>\n",
       "        <td>Not available</td>\n",
       "    </tr>\n",
       "    <tr>\n",
       "        <th>ECG channels</th>\n",
       "        <td>Not available</td>\n",
       "    \n",
       "    <tr>\n",
       "        <th>Sampling frequency</th>\n",
       "        <td>1000.00 Hz</td>\n",
       "    </tr>\n",
       "    \n",
       "    \n",
       "    <tr>\n",
       "        <th>Highpass</th>\n",
       "        <td>0.10 Hz</td>\n",
       "    </tr>\n",
       "    \n",
       "    \n",
       "    <tr>\n",
       "        <th>Lowpass</th>\n",
       "        <td>40.00 Hz</td>\n",
       "    </tr>\n",
       "    \n",
       "    \n",
       "    \n",
       "    <tr>\n",
       "        <th>Filenames</th>\n",
       "        <td>sub-01_ses-01_task-WM1isi0_eeg.eeg</td>\n",
       "    </tr>\n",
       "    \n",
       "    <tr>\n",
       "        <th>Duration</th>\n",
       "        <td>00:06:01 (HH:MM:SS)</td>\n",
       "    </tr>\n",
       "</table>"
      ],
      "text/plain": [
       "<RawBrainVision | sub-01_ses-01_task-WM1isi0_eeg.eeg, 128 x 361490 (361.5 s), ~353.2 MB, data loaded>"
      ]
     },
     "execution_count": 10,
     "metadata": {},
     "output_type": "execute_result"
    }
   ],
   "source": [
    "#Filter, is this the exact low/high frequency we need?\n",
    "raw_copy.load_data()\n",
    "raw_copy_filtered = raw_copy.copy().filter(l_freq=0.1, h_freq=40) \n",
    "raw_copy_filtered"
   ]
  },
  {
   "cell_type": "code",
   "execution_count": 12,
   "id": "9301ef64-bef9-4e04-902a-65006fe808b4",
   "metadata": {},
   "outputs": [
    {
     "name": "stdout",
     "output_type": "stream",
     "text": [
      "Opening raw-browser...\n",
      "Opening raw-browser...\n"
     ]
    },
    {
     "data": {
      "text/plain": [
       "<mne_qt_browser._pg_figure.MNEQtBrowser at 0x1c282a860d0>"
      ]
     },
     "execution_count": 12,
     "metadata": {},
     "output_type": "execute_result"
    },
    {
     "name": "stdout",
     "output_type": "stream",
     "text": [
      "Closing raw-browser...\n",
      "Channels marked as bad:\n",
      "none\n",
      "Closing raw-browser...\n",
      "Channels marked as bad:\n",
      "none\n"
     ]
    }
   ],
   "source": [
    "# Compare\n",
    "raw_copy.plot(event_id=event_id, title='unfiltered')\n",
    "raw_copy_filtered.plot(event_id=event_id, title='filtered')"
   ]
  },
  {
   "cell_type": "raw",
   "id": "bf429d4b-d2de-4727-8588-de307eef9a14",
   "metadata": {},
   "source": [
    "# PSD, check if filter worked\n",
    "fig, ax = plt.subplots(2)\n",
    "\n",
    "raw_copy.plot_psd(ax=ax[0], show=False)\n",
    "raw_copy_filtered.plot_psd(ax=ax[1], show=False)\n",
    "\n",
    "ax[0].set_title('PSD before filtering')\n",
    "ax[1].set_title('PSD after filtering')\n",
    "ax[1].set_xlabel('Frequency (Hz)')\n",
    "fig.set_tight_layout(True)\n",
    "plt.show()"
   ]
  },
  {
   "cell_type": "markdown",
   "id": "ac8c9507-fc29-4094-b8d9-b5c5182c56ad",
   "metadata": {},
   "source": [
    "### Save the Data 🧑 ❌"
   ]
  },
  {
   "cell_type": "markdown",
   "id": "fd6eb68e-99b1-4e4d-b20b-22d98ef22830",
   "metadata": {},
   "source": [
    "Rename file to fit import name."
   ]
  },
  {
   "cell_type": "code",
   "execution_count": null,
   "id": "c7158648-3b54-4d25-b7dd-0d65b90bf7d5",
   "metadata": {},
   "outputs": [],
   "source": [
    "raw_copy_filtered.save(pathlib.Path('out_data')\n",
    "            / 'Filtered_Data' / 'sub-01_ses-01_task-WM1isi0_filtered-data.fif')"
   ]
  }
 ],
 "metadata": {
  "kernelspec": {
   "display_name": "Python 3 (ipykernel)",
   "language": "python",
   "name": "python3"
  },
  "language_info": {
   "codemirror_mode": {
    "name": "ipython",
    "version": 3
   },
   "file_extension": ".py",
   "mimetype": "text/x-python",
   "name": "python",
   "nbconvert_exporter": "python",
   "pygments_lexer": "ipython3",
   "version": "3.9.13"
  }
 },
 "nbformat": 4,
 "nbformat_minor": 5
}
