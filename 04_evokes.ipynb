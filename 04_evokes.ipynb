{
 "cells": [
  {
   "cell_type": "markdown",
   "id": "c59edce0-53d4-4121-9e78-a9efe7410c0c",
   "metadata": {},
   "source": [
    "# Evoked Data"
   ]
  },
  {
   "cell_type": "markdown",
   "id": "ba6d7d18-a9e2-4560-a396-710ec61c8cf5",
   "metadata": {},
   "source": [
    "## Import "
   ]
  },
  {
   "cell_type": "code",
   "execution_count": null,
   "id": "38492bad-95e3-4ca1-8278-dfcad4050004",
   "metadata": {},
   "outputs": [],
   "source": [
    "import pathlib\n",
    "import matplotlib\n",
    "\n",
    "import os\n",
    "import mne\n",
    "import mne_bids\n",
    "import matplotlib.pyplot as plt\n",
    "\n",
    "matplotlib.use('Agg') #Raises no browsers\n",
    "#matplotlib.use('Qt5Agg') #Raises browsers"
   ]
  },
  {
   "cell_type": "raw",
   "id": "d09595fc-de6c-4a00-a988-d765230a588e",
   "metadata": {},
   "source": [
    "#Tester\n",
    "subject = '01'\n",
    "session = 'WM1'\n",
    "task = 'isi0'\n",
    "\n",
    "root_path = os.path.join(\"C:/Users/trevo/OneDrive/Desktop/Lab_Files/VWM_LAB\")\n",
    "bids_root = os.path.join(root_path, 'EGI_BIDS')\n",
    "output_path = os.path.join(root_path, 'EGI_OUTPUTS')"
   ]
  },
  {
   "cell_type": "markdown",
   "id": "7a2948cd-37b4-4c15-8739-a9077e1e5f03",
   "metadata": {},
   "source": [
    "## Directory"
   ]
  },
  {
   "cell_type": "code",
   "execution_count": null,
   "id": "93dc6c16-dcdc-4981-bcdc-d73bcdfe425a",
   "metadata": {},
   "outputs": [],
   "source": [
    "eeg_path = \"eeg\"\n",
    "subname = \"sub-\"+subject\n",
    "sesname = \"ses-\"+session\n",
    "preprocessed_reports = \"03_preprocessed\"\n",
    "evoked_reports = \"04_evokes\""
   ]
  },
  {
   "cell_type": "code",
   "execution_count": null,
   "id": "74586473-bff2-42b9-a73a-648ce994f19e",
   "metadata": {},
   "outputs": [],
   "source": [
    "#Makes EEG_OUTPUTS -> subject -> session -> eeg -> evoked_reports\n",
    "if not os.path.exists(os.path.join(output_path, subname, sesname, \n",
    "                                   eeg_path, evoked_reports)):\n",
    "    os.makedirs(os.path.join(output_path, subname, sesname, \n",
    "                             eeg_path, evoked_reports))"
   ]
  },
  {
   "cell_type": "code",
   "execution_count": null,
   "id": "5f716b08-6278-4c3a-9436-4655774ec715",
   "metadata": {},
   "outputs": [],
   "source": [
    "preprocessed_report_path = os.path.join(root_path, \"EGI_OUTPUTS\\\\\"+subname+\"\\\\\"+sesname+\"\\\\\"+eeg_path+\"\\\\\"+preprocessed_reports)\n",
    "evoked_report_path = os.path.join(root_path, \"EGI_OUTPUTS\\\\\"+subname+\"\\\\\"+sesname+\"\\\\\"+eeg_path+\"\\\\\"+evoked_reports)"
   ]
  },
  {
   "cell_type": "markdown",
   "id": "5d9936fb-ee70-4b5b-a2ad-221a897ae754",
   "metadata": {},
   "source": [
    "## Input Recording "
   ]
  },
  {
   "cell_type": "code",
   "execution_count": null,
   "id": "f5894253-f666-424a-a708-5119e48db591",
   "metadata": {},
   "outputs": [],
   "source": [
    "preprocessed_name = 'sub-'+subject+'_ses-'+session+'_task-'+task+'_preprocessed_epo.fif'\n",
    "preprocessed_file = os.path.join(preprocessed_report_path, preprocessed_name)\n",
    "preprocessed_epochs = mne.read_epochs(preprocessed_file)\n",
    "preprocessed_epochs"
   ]
  },
  {
   "cell_type": "markdown",
   "id": "8d8690fe-7236-4548-8c71-37a33c348f73",
   "metadata": {},
   "source": [
    "## Evoked Data "
   ]
  },
  {
   "cell_type": "code",
   "execution_count": null,
   "id": "f32487a0-f333-4965-8c8b-c3a43b2c2a35",
   "metadata": {},
   "outputs": [],
   "source": [
    "evoked = preprocessed_epochs.average()"
   ]
  },
  {
   "cell_type": "raw",
   "id": "aac88bae-38e6-495c-8136-d380a08cbea5",
   "metadata": {},
   "source": [
    "evoked.plot(spatial_colors=True)\n",
    "evoked.plot_topomap(ch_type='eeg',\n",
    "                             times=[0,0.050,0.100,\n",
    "                             0.150,0.200])\n",
    "evoked.plot_joint(picks='eeg')"
   ]
  },
  {
   "cell_type": "markdown",
   "id": "4058dff3-089a-4068-af7b-04020864d865",
   "metadata": {},
   "source": [
    "## Reporting Evoked Data"
   ]
  },
  {
   "cell_type": "code",
   "execution_count": null,
   "id": "de10bcdf-f87b-4b92-9487-e2bdaea6f6ff",
   "metadata": {},
   "outputs": [],
   "source": [
    "evoked_report_title = 'sub-'+subject+'_ses-'+session+'_task-'+task+'_evoked_report.html'\n",
    "evoked_report = mne.Report(title='Evoked Data')\n",
    "evoked_report.add_evokeds(\n",
    "    evokeds=evoked,\n",
    "    n_time_points=5\n",
    ")\n",
    "full_evoked_report_path = os.path.join(evoked_report_path, evoked_report_title)\n",
    "evoked_report.save(full_evoked_report_path, overwrite=True)"
   ]
  },
  {
   "cell_type": "markdown",
   "id": "e1f663d3-0062-4cc7-8eb8-5189d2b93080",
   "metadata": {},
   "source": [
    "## Saving Evoked Data "
   ]
  },
  {
   "cell_type": "markdown",
   "id": "a038812f-ec7e-431e-aa61-59a0f29c0f4a",
   "metadata": {},
   "source": [
    "Rename each time to match new subject information."
   ]
  },
  {
   "cell_type": "code",
   "execution_count": null,
   "id": "86666725-1c24-472b-9d59-27852f5d82e0",
   "metadata": {},
   "outputs": [],
   "source": [
    "evokedname ='sub-'+subject+'_ses-'+session+'_task-'+task+'_evokeds_ave.fif'\n",
    "evoked_path = os.path.join(evoked_report_path, evokedname)"
   ]
  },
  {
   "cell_type": "code",
   "execution_count": null,
   "id": "493c16b6-1bdc-427c-b548-c1afc69fd1b9",
   "metadata": {},
   "outputs": [],
   "source": [
    "mne.write_evokeds(evoked_path, evoked=evoked)"
   ]
  },
  {
   "cell_type": "code",
   "execution_count": null,
   "id": "0e4ed671-5ba2-43da-bc51-fc05a5877b50",
   "metadata": {},
   "outputs": [],
   "source": []
  }
 ],
 "metadata": {
  "kernelspec": {
   "display_name": "Python 3 (ipykernel)",
   "language": "python",
   "name": "python3"
  },
  "language_info": {
   "codemirror_mode": {
    "name": "ipython",
    "version": 3
   },
   "file_extension": ".py",
   "mimetype": "text/x-python",
   "name": "python",
   "nbconvert_exporter": "python",
   "pygments_lexer": "ipython3",
   "version": "3.10.5"
  }
 },
 "nbformat": 4,
 "nbformat_minor": 5
}
