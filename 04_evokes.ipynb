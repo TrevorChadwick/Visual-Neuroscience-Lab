{
 "cells": [
  {
   "cell_type": "raw",
   "id": "a517bda7-4a0e-4c3d-b14e-11bab32f0da3",
   "metadata": {},
   "source": [
    "subject = '01'\n",
    "session = '02'\n",
    "task = 'WM1isi250'\n",
    "initals = 'DAT'"
   ]
  },
  {
   "cell_type": "markdown",
   "id": "c59edce0-53d4-4121-9e78-a9efe7410c0c",
   "metadata": {},
   "source": [
    "# Creating Epochs and Evoked Data"
   ]
  },
  {
   "cell_type": "markdown",
   "id": "ba6d7d18-a9e2-4560-a396-710ec61c8cf5",
   "metadata": {},
   "source": [
    "## Import "
   ]
  },
  {
   "cell_type": "code",
   "execution_count": 2,
   "id": "38492bad-95e3-4ca1-8278-dfcad4050004",
   "metadata": {},
   "outputs": [],
   "source": [
    "import pathlib\n",
    "import matplotlib\n",
    "\n",
    "import mne\n",
    "import mne_bids\n",
    "import matplotlib.pyplot as plt\n",
    "\n",
    "matplotlib.use('Qt5Agg')"
   ]
  },
  {
   "cell_type": "markdown",
   "id": "5d9936fb-ee70-4b5b-a2ad-221a897ae754",
   "metadata": {},
   "source": [
    "## Input Recording "
   ]
  },
  {
   "cell_type": "code",
   "execution_count": 3,
   "id": "53f0aaad-e821-4d17-aa46-b4ab8ea84282",
   "metadata": {},
   "outputs": [
    {
     "data": {
      "text/plain": [
       "'sub-01_ses-02_task-WM1isi250_cleaned_data.fif'"
      ]
     },
     "execution_count": 3,
     "metadata": {},
     "output_type": "execute_result"
    }
   ],
   "source": [
    "subname = 'sub-'+subject\n",
    "filename = 'sub-'+subject+'_ses-'+session+'_task-'+task+'_cleaned_data.fif'\n",
    "filename"
   ]
  },
  {
   "cell_type": "code",
   "execution_count": 4,
   "id": "e4d10fc4-64cf-4d0a-86e0-de820adea9a6",
   "metadata": {},
   "outputs": [
    {
     "name": "stdout",
     "output_type": "stream",
     "text": [
      "Reading C:\\Users\\trevo\\Desktop\\Lab_Files\\MNE_Files\\E5_Data_Structure\\out_data\\03_preprocessing\\sub-01_ses-02_task-WM1isi250_cleaned_data.fif ...\n"
     ]
    },
    {
     "name": "stderr",
     "output_type": "stream",
     "text": [
      "C:\\Users\\trevo\\AppData\\Local\\Temp\\ipykernel_8132\\1730454941.py:1: RuntimeWarning: This filename (out_data\\03_preprocessing\\sub-01_ses-02_task-WM1isi250_cleaned_data.fif) does not conform to MNE naming conventions. All epochs files should end with -epo.fif, -epo.fif.gz, _epo.fif or _epo.fif.gz\n",
      "  epochs = mne.read_epochs(pathlib.Path('out_data') / '03_preprocessing' /\n"
     ]
    },
    {
     "name": "stdout",
     "output_type": "stream",
     "text": [
      "    Found the data of interest:\n",
      "        t =    -250.00 ...     800.00 ms\n",
      "        0 CTF compensation matrices available\n",
      "0 bad epochs dropped\n",
      "Not setting metadata\n",
      "378 matching events found\n",
      "No baseline correction applied\n",
      "0 projection items activated\n"
     ]
    },
    {
     "data": {
      "text/html": [
       "<table class=\"table table-hover table-striped table-sm table-responsive small\">\n",
       "    <tr>\n",
       "        <th>Number of events</th>\n",
       "        <td>378</td>\n",
       "    </tr>\n",
       "    <tr>\n",
       "        <th>Events</th>\n",
       "        \n",
       "        <td>TsD-: 89<br/>WMD+: 94<br/>bgin: 89<br/>fix+: 106</td>\n",
       "        \n",
       "    </tr>\n",
       "    <tr>\n",
       "        <th>Time range</th>\n",
       "        <td>-0.250 – 0.800 sec</td>\n",
       "    </tr>\n",
       "    <tr>\n",
       "        <th>Baseline</th>\n",
       "        <td>-0.250 – 0.000 sec</td>\n",
       "    </tr>\n",
       "</table>"
      ],
      "text/plain": [
       "<EpochsFIF |  378 events (all good), -0.25 - 0.8 sec, baseline -0.25 – 0 sec, ~391.2 MB, data loaded,\n",
       " 'TsD-': 89\n",
       " 'WMD+': 94\n",
       " 'bgin': 89\n",
       " 'fix+': 106>"
      ]
     },
     "execution_count": 4,
     "metadata": {},
     "output_type": "execute_result"
    }
   ],
   "source": [
    "epochs = mne.read_epochs(pathlib.Path('out_data') / '03_preprocessing' / subname /\n",
    "                      filename)\n",
    "#events, event_id = mne.events_from_annotations(epochs) \n",
    "epochs.load_data() "
   ]
  },
  {
   "cell_type": "markdown",
   "id": "8d8690fe-7236-4548-8c71-37a33c348f73",
   "metadata": {},
   "source": [
    "## Evoked Data "
   ]
  },
  {
   "cell_type": "code",
   "execution_count": 5,
   "id": "f32487a0-f333-4965-8c8b-c3a43b2c2a35",
   "metadata": {},
   "outputs": [],
   "source": [
    "evoked = epochs.average()"
   ]
  },
  {
   "cell_type": "raw",
   "id": "e7ce5540-6594-481b-ade4-39b6a91e9ba7",
   "metadata": {},
   "source": [
    "evoked.plot(spatial_colors=True)\n",
    "evoked.plot_topomap(ch_type='eeg',\n",
    "                             times=[0,0.050,0.100,\n",
    "                             0.150,0.200])\n",
    "evoked.plot_joint(picks='eeg')"
   ]
  },
  {
   "cell_type": "markdown",
   "id": "e1f663d3-0062-4cc7-8eb8-5189d2b93080",
   "metadata": {},
   "source": [
    "## Saving Evoked Data "
   ]
  },
  {
   "cell_type": "markdown",
   "id": "a038812f-ec7e-431e-aa61-59a0f29c0f4a",
   "metadata": {},
   "source": [
    "Rename each time to match new subject information."
   ]
  },
  {
   "cell_type": "code",
   "execution_count": 6,
   "id": "86666725-1c24-472b-9d59-27852f5d82e0",
   "metadata": {},
   "outputs": [],
   "source": [
    "evokedname ='sub-'+subject+'_ses-'+session+'_task-'+task+'_evokeds_ave.fif'"
   ]
  },
  {
   "cell_type": "code",
   "execution_count": 7,
   "id": "493c16b6-1bdc-427c-b548-c1afc69fd1b9",
   "metadata": {},
   "outputs": [],
   "source": [
    "mne.write_evokeds(fname=pathlib.Path('out_data') / '05_evokes' / subname /\n",
    "                  evokedname,\n",
    "                  evoked=evoked)"
   ]
  },
  {
   "cell_type": "code",
   "execution_count": null,
   "id": "c273ce45-fb9e-4835-a873-9a1cee8b744e",
   "metadata": {},
   "outputs": [],
   "source": []
  }
 ],
 "metadata": {
  "kernelspec": {
   "display_name": "Python 3 (ipykernel)",
   "language": "python",
   "name": "python3"
  },
  "language_info": {
   "codemirror_mode": {
    "name": "ipython",
    "version": 3
   },
   "file_extension": ".py",
   "mimetype": "text/x-python",
   "name": "python",
   "nbconvert_exporter": "python",
   "pygments_lexer": "ipython3",
   "version": "3.9.13"
  }
 },
 "nbformat": 4,
 "nbformat_minor": 5
}
