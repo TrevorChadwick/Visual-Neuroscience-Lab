{
 "cells": [
  {
   "cell_type": "markdown",
   "id": "3799fb05-a50e-487b-be7e-2a29e41056d3",
   "metadata": {},
   "source": [
    "# Covariance Matrix"
   ]
  },
  {
   "cell_type": "markdown",
   "id": "384f9926-b0b5-473b-8572-288bbd292df9",
   "metadata": {},
   "source": [
    "## Import"
   ]
  },
  {
   "cell_type": "code",
   "execution_count": null,
   "id": "3335abda-f1ad-4475-9502-44c206fe3453",
   "metadata": {},
   "outputs": [],
   "source": [
    "import os.path as op\n",
    "\n",
    "import mne\n",
    "import os\n",
    "import mne_bids"
   ]
  },
  {
   "cell_type": "raw",
   "id": "d4e9a243-8345-4c17-8e36-3909b7547507",
   "metadata": {},
   "source": [
    "#Tester\n",
    "subject = '01'\n",
    "session = 'WM1'\n",
    "task = 'isi0'\n",
    "\n",
    "root_path = os.path.join(\"C:/Users/trevo/OneDrive/Desktop/Lab_Files/VWM_LAB\")\n",
    "bids_root = os.path.join(root_path, 'EGI_BIDS')\n",
    "output_path = os.path.join(root_path, 'EGI_OUTPUTS')"
   ]
  },
  {
   "cell_type": "markdown",
   "id": "23db4c0d-4fe2-4803-ac18-e299c785e2f9",
   "metadata": {},
   "source": [
    "## Directory"
   ]
  },
  {
   "cell_type": "code",
   "execution_count": null,
   "id": "6abdfdc1-d409-4069-b6a3-48dba3a1d77a",
   "metadata": {},
   "outputs": [],
   "source": [
    "eeg_path = \"eeg\"\n",
    "subname = \"sub-\"+subject\n",
    "sesname = \"ses-\"+session\n",
    "preprocessed_reports = \"03_preprocessed\"\n",
    "covariance_reports = \"05_covariance\""
   ]
  },
  {
   "cell_type": "code",
   "execution_count": null,
   "id": "c6ce32f1-8fb1-43e2-aa4c-fbc0467f62cc",
   "metadata": {},
   "outputs": [],
   "source": [
    "#Makes EEG_OUTPUTS -> subject -> session -> eeg -> covariance_reports\n",
    "if not os.path.exists(os.path.join(output_path, subname, sesname, \n",
    "                                   eeg_path, covariance_reports)):\n",
    "    os.makedirs(os.path.join(output_path, subname, sesname, \n",
    "                             eeg_path, covariance_reports))"
   ]
  },
  {
   "cell_type": "code",
   "execution_count": null,
   "id": "7a80596a-3a6e-4a17-906b-d53ad374d110",
   "metadata": {},
   "outputs": [],
   "source": [
    "preprocessed_report_path = os.path.join(root_path, \"EGI_OUTPUTS\\\\\"+subname+\"\\\\\"+sesname+\"\\\\\"+eeg_path+\"\\\\\"+preprocessed_reports)\n",
    "covariance_path = os.path.join(root_path, \"EGI_OUTPUTS\\\\\"+subname+\"\\\\\"+sesname+\"\\\\\"+eeg_path+\"\\\\\"+covariance_reports)"
   ]
  },
  {
   "cell_type": "markdown",
   "id": "53027158-cc6f-48b9-87bd-de7ed94739f8",
   "metadata": {},
   "source": [
    "## Input Epochs"
   ]
  },
  {
   "cell_type": "code",
   "execution_count": null,
   "id": "6d320716-09de-476b-9edf-50b1d293b022",
   "metadata": {},
   "outputs": [],
   "source": [
    "preprocessed_name = 'sub-'+subject+'_ses-'+session+'_task-'+task+'_preprocessed_epo.fif'\n",
    "preprocessed_file = os.path.join(preprocessed_report_path, preprocessed_name)\n",
    "preprocessed_epochs = mne.read_epochs(preprocessed_file)\n",
    "preprocessed_epochs"
   ]
  },
  {
   "cell_type": "code",
   "execution_count": null,
   "id": "f2c464e2-b234-45a1-8d25-682ab0f82e8d",
   "metadata": {},
   "outputs": [],
   "source": [
    "info = mne.io.read_info(preprocessed_file)"
   ]
  },
  {
   "cell_type": "markdown",
   "id": "2ae775d6-5384-48a3-a5e4-da7525b79bca",
   "metadata": {},
   "source": [
    "## Compute Noise Covariance"
   ]
  },
  {
   "cell_type": "code",
   "execution_count": 1,
   "id": "3479003e-18da-43cd-892b-eea6cfb833e8",
   "metadata": {},
   "outputs": [
    {
     "name": "stdout",
     "output_type": "stream",
     "text": [
      "######################## Computing noise covariance. ########################\n"
     ]
    }
   ],
   "source": [
    "print('######################## Computing noise covariance. ########################')"
   ]
  },
  {
   "cell_type": "code",
   "execution_count": null,
   "id": "385960ff-3ace-45f5-98be-35ff96899634",
   "metadata": {},
   "outputs": [],
   "source": [
    "noise_cov = mne.compute_covariance(preprocessed_epochs, tmax=0., #until timepoint 0\n",
    "                                   method='empirical', rank='info')"
   ]
  },
  {
   "cell_type": "raw",
   "id": "6da70381-192d-4361-b25d-3921788d98d5",
   "metadata": {},
   "source": [
    "mne.viz.plot_cov(noise_cov, info=info)"
   ]
  },
  {
   "cell_type": "raw",
   "id": "33610ad0-40d5-4015-af1b-e7edaa627e2b",
   "metadata": {},
   "source": [
    "preprocessed_epochs.average().plot_white(noise_cov)"
   ]
  },
  {
   "cell_type": "markdown",
   "id": "9bee4e61-5ff7-413d-baf3-afe5eb5628f4",
   "metadata": {},
   "source": [
    "## Covariance Report"
   ]
  },
  {
   "cell_type": "code",
   "execution_count": null,
   "id": "9ae4c6fe-7f2f-442e-8c5f-7797ebaa3a21",
   "metadata": {},
   "outputs": [],
   "source": [
    "covariance_report_title = 'sub-'+subject+'_ses-'+session+'_task-'+task+'_covariance_report.html'\n",
    "covariance_report = mne.Report(title='Covariance Data')\n",
    "covariance_report_path = os.path.join(covariance_path, covariance_report_title)\n",
    "\n",
    "covariance_report.add_covariance(cov=noise_cov, info=info, title='Covariance')\n",
    "covariance_report.save(covariance_report_path, overwrite=True)"
   ]
  },
  {
   "cell_type": "markdown",
   "id": "4a13c358-7185-47a1-928a-ece994c70470",
   "metadata": {},
   "source": [
    "## Saving Covariance Data"
   ]
  },
  {
   "cell_type": "code",
   "execution_count": null,
   "id": "f3ae9ce1-69ff-47d9-b778-2ec8bd712de8",
   "metadata": {},
   "outputs": [],
   "source": [
    "covariance_name ='sub-'+subject+'_ses-'+session+'_task-'+task+'_cov.fif'\n",
    "covariance_file_path = os.path.join(covariance_path, covariance_name)"
   ]
  },
  {
   "cell_type": "code",
   "execution_count": null,
   "id": "1bc84ad0-d5b3-4cca-b8ea-df19bf44d35e",
   "metadata": {},
   "outputs": [],
   "source": [
    "mne.write_cov(covariance_file_path, noise_cov, overwrite=True)"
   ]
  },
  {
   "cell_type": "code",
   "execution_count": null,
   "id": "8c6d4c7a-47b7-4082-a4e6-dcd3e00f4844",
   "metadata": {},
   "outputs": [],
   "source": []
  }
 ],
 "metadata": {
  "kernelspec": {
   "display_name": "Python 3 (ipykernel)",
   "language": "python",
   "name": "python3"
  },
  "language_info": {
   "codemirror_mode": {
    "name": "ipython",
    "version": 3
   },
   "file_extension": ".py",
   "mimetype": "text/x-python",
   "name": "python",
   "nbconvert_exporter": "python",
   "pygments_lexer": "ipython3",
   "version": "3.10.5"
  }
 },
 "nbformat": 4,
 "nbformat_minor": 5
}
