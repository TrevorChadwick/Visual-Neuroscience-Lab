{
 "cells": [
  {
   "cell_type": "markdown",
   "id": "a3683a33",
   "metadata": {},
   "source": [
    "# Pre-Processing"
   ]
  },
  {
   "cell_type": "code",
   "execution_count": null,
   "id": "f056b32b",
   "metadata": {},
   "outputs": [],
   "source": [
    "import os\n",
    "import pathlib\n",
    "import matplotlib\n",
    "\n",
    "import numpy as np\n",
    "import matplotlib.pyplot as plt\n",
    "import mne\n",
    "import mne_bids\n",
    "from mne.preprocessing import (create_eog_epochs,compute_proj_eog)\n",
    "\n",
    "#matplotlib.use('Agg') #Raises no browsers\n",
    "matplotlib.use('Qt5Agg') #Raises browsers"
   ]
  },
  {
   "cell_type": "code",
   "execution_count": null,
   "id": "a660f1e7",
   "metadata": {},
   "outputs": [],
   "source": [
    "subject = '01'\n",
    "session = 'WM1'\n",
    "task = 'isi0'\n",
    "\n",
    "#bad_list = ['E6', 'E63', 'E64', 'E68', 'E126', 'E127']\n",
    "\n",
    "#main bad list\n",
    "bad_list = ['E3', 'E4', 'E5', 'E11', 'E26', 'E27', 'E29', 'E32', 'E33', 'E34', 'E35', 'E39', 'E40', 'E41', 'E45', 'E47', 'E50', 'E54', 'E57', 'E61', 'E68', 'E70', 'E73', 'E76', 'E81', 'E82', 'E89', 'E91', 'E102', 'E103', 'E106', 'E107', 'E109', 'E110', 'E111', 'E116', 'E118', 'E122', 'E123', 'E124', 'E125']\n",
    "\n",
    "\n",
    "root_path = os.path.join(\"C:/Users/jacobj/Desktop/VWM_LAB\")\n",
    "bids_root = os.path.join(root_path, 'EGI_BIDS')\n",
    "output_path = os.path.join(root_path, 'EGI_OUTPUTS')"
   ]
  },
  {
   "cell_type": "markdown",
   "id": "bfab6a72",
   "metadata": {},
   "source": [
    "# Directory"
   ]
  },
  {
   "cell_type": "code",
   "execution_count": null,
   "id": "2638be83",
   "metadata": {},
   "outputs": [],
   "source": [
    "eeg_path = \"eeg\"\n",
    "subname = \"sub-\"+subject\n",
    "sesname = \"ses-\"+session\n",
    "epoch_reports = \"02_epochs\"\n",
    "preprocessed_reports = \"03_preprocessed\""
   ]
  },
  {
   "cell_type": "code",
   "execution_count": null,
   "id": "e1bed6b0",
   "metadata": {},
   "outputs": [],
   "source": [
    "#Makes EEG_OUTPUTS -> subject -> session -> eeg -> preprocessed_reports\n",
    "if not os.path.exists(os.path.join(output_path, subname, sesname, \n",
    "                                   eeg_path, preprocessed_reports)):\n",
    "    os.makedirs(os.path.join(output_path, subname, sesname, \n",
    "                             eeg_path, preprocessed_reports))"
   ]
  },
  {
   "cell_type": "code",
   "execution_count": null,
   "id": "5a7d17da",
   "metadata": {},
   "outputs": [],
   "source": [
    "epoch_report_path = os.path.join(root_path, \"EGI_OUTPUTS\\\\sub-\"+subject+\"\\\\ses-\"+session+\"\\\\eeg\\\\\"+epoch_reports)"
   ]
  },
  {
   "cell_type": "code",
   "execution_count": null,
   "id": "dfceb5b2",
   "metadata": {},
   "outputs": [],
   "source": [
    "preprocessed_report_path = os.path.join(root_path, \"EGI_OUTPUTS\\\\sub-\"+subject+\"\\\\ses-\"+session+\"\\\\eeg\\\\\"+preprocessed_reports)"
   ]
  },
  {
   "cell_type": "markdown",
   "id": "4ed975df",
   "metadata": {},
   "source": [
    "# SSP"
   ]
  },
  {
   "cell_type": "code",
   "execution_count": null,
   "id": "3cfcd469",
   "metadata": {},
   "outputs": [],
   "source": [
    "eog_evoked = create_eog_epochs(raw).average(picks='all')\n",
    "eog_evoked.apply_baseline((None, None))\n",
    "eog_evoked.plot_joint()"
   ]
  },
  {
   "cell_type": "code",
   "execution_count": null,
   "id": "5305eb0f",
   "metadata": {},
   "outputs": [],
   "source": [
    "eog_projs, _ = compute_proj_eog(raw, n_grad=1, n_mag=1, n_eeg=1, reject=None,\n",
    "                                no_proj=True)"
   ]
  },
  {
   "cell_type": "code",
   "execution_count": null,
   "id": "e57f18e4",
   "metadata": {},
   "outputs": [],
   "source": [
    "mne.viz.plot_projs_topomap(eog_projs, info=raw.info)"
   ]
  },
  {
   "cell_type": "code",
   "execution_count": null,
   "id": "78eb0b10",
   "metadata": {},
   "outputs": [],
   "source": [
    "fig = mne.viz.plot_projs_joint(eog_projs, eog_evoked, 'eog')\n",
    "fig.suptitle('EOG projectors')"
   ]
  },
  {
   "cell_type": "code",
   "execution_count": null,
   "id": "5ea611ae",
   "metadata": {},
   "outputs": [],
   "source": [
    "eog_projs_bad, _ = compute_proj_eog(\n",
    "    raw, n_grad=1, n_mag=1, n_eeg=1, reject=None,\n",
    "    no_proj=True)\n",
    "fig = mne.viz.plot_projs_joint(eog_projs_bad, eog_evoked, picks_trace='eog')"
   ]
  },
  {
   "cell_type": "code",
   "execution_count": null,
   "id": "99b5945d",
   "metadata": {},
   "outputs": [],
   "source": [
    "evoked_eeg = epochs.average().pick('eeg')\n",
    "evoked_eeg.del_proj().add_proj(ecg_projs).add_proj(eog_projs)\n",
    "fig, axes = plt.subplots(1, 3, figsize=(8, 3), sharex=True, sharey=True)\n",
    "for pi, proj in enumerate((False, True, 'reconstruct')):\n",
    "    ax = axes[pi]\n",
    "    evoked_eeg.plot(proj=proj, axes=ax, spatial_colors=True)\n",
    "    parts = ax.get_title().split('(')\n",
    "    ylabel = (f'{parts[0]} ({ax.get_ylabel()})\\n{parts[1].replace(\")\", \"\")}'\n",
    "              if pi == 0 else '')\n",
    "    ax.set(ylabel=ylabel, title=f'proj={proj}')\n",
    "    ax.yaxis.set_tick_params(labelbottom=True)\n",
    "    for text in list(ax.texts):\n",
    "        text.remove()\n",
    "mne.viz.tight_layout()"
   ]
  },
  {
   "cell_type": "markdown",
   "id": "4b8f07b2",
   "metadata": {},
   "source": [
    "# Epoch Comparison"
   ]
  },
  {
   "cell_type": "code",
   "execution_count": null,
   "id": "7eda9e2b",
   "metadata": {},
   "outputs": [],
   "source": [
    "oldepoch_name = 'sub-'+subject+'_ses-'+session+'_task-'+task+'_epo.fif'"
   ]
  },
  {
   "cell_type": "code",
   "execution_count": null,
   "id": "d53b367e",
   "metadata": {},
   "outputs": [],
   "source": [
    "oldepoch_file = os.path.join(epoch_report_path, oldepoch_name)\n",
    "old_epochs = mne.read_epochs(oldepoch_file)\n",
    "old_epochs"
   ]
  },
  {
   "cell_type": "code",
   "execution_count": null,
   "id": "a692a308",
   "metadata": {},
   "outputs": [],
   "source": [
    "total_epochs_number = len(old_epochs.events)\n",
    "total_epochs_number"
   ]
  },
  {
   "cell_type": "code",
   "execution_count": null,
   "id": "fb6a51ad",
   "metadata": {},
   "outputs": [],
   "source": [
    "reject_criteria = dict(eeg=100e-6) # 100 µV, what should our rejection criteria be? \n",
    "\n",
    "old_epochs.drop_bad(reject=reject_criteria)"
   ]
  },
  {
   "cell_type": "code",
   "execution_count": null,
   "id": "3e1b740f",
   "metadata": {},
   "outputs": [],
   "source": [
    "reject_criteria = dict(eeg=100e-6)\n",
    "\n",
    "old_epochs.drop_bad(reject=reject_criteria)"
   ]
  },
  {
   "cell_type": "code",
   "execution_count": null,
   "id": "ee84041f",
   "metadata": {},
   "outputs": [],
   "source": [
    "old_epochs_number = len(old_epochs.events)\n",
    "old_epochs_number"
   ]
  },
  {
   "cell_type": "markdown",
   "id": "62f8b701",
   "metadata": {},
   "source": [
    "# Run New Epochs "
   ]
  },
  {
   "cell_type": "code",
   "execution_count": null,
   "id": "acc11c3e",
   "metadata": {},
   "outputs": [],
   "source": [
    "filter_raw = reconst_raw.filter(l_freq=0.1, h_freq=40) #should be updated?\n",
    "filter_raw"
   ]
  },
  {
   "cell_type": "code",
   "execution_count": null,
   "id": "e82c6d6e",
   "metadata": {},
   "outputs": [],
   "source": [
    "if task == 'isi0':\n",
    "    tmax = 1.5 #1500 ms after the onset\n",
    "elif task == 'isi50':\n",
    "    tmax = 1.550 #1550 ms after the onset\n",
    "elif task == 'isi250':\n",
    "    tmax = 1.750 #1500 ms after the onset\n",
    "elif task == 'isi500':\n",
    "    tmax = 2.0 #2000 ms after the onset\n",
    "elif task == 'isi750':\n",
    "    tmax = 2.25 #2250 ms after the onset\n",
    "elif task == 'isi1000':\n",
    "    tmax = 2.5 #2500 ms after the onset\n",
    "elif task == 'isi1250':\n",
    "    tmax = 2.75 #2750 ms after the onset\n",
    "elif task == 'isi1500':\n",
    "    tmax = 3.0 #3000 ms after the onset"
   ]
  },
  {
   "cell_type": "code",
   "execution_count": null,
   "id": "c8f5114d",
   "metadata": {},
   "outputs": [],
   "source": [
    "tmin = -0.25 #250 ms before the event\n",
    "\n",
    "new_epochs = mne.Epochs(reconst_raw,\n",
    "                    events=events,\n",
    "                    event_id=event_id,\n",
    "                    tmin=tmin,\n",
    "                    tmax=tmax,\n",
    "                    preload=True)\n",
    "new_epochs"
   ]
  },
  {
   "cell_type": "code",
   "execution_count": null,
   "id": "8e34667b",
   "metadata": {},
   "outputs": [],
   "source": [
    "reject_criteria = dict(eeg=100e-6) # 100 µV, what should our rejection criteria be? \n",
    "\n",
    "new_epochs.drop_bad(reject=reject_criteria)"
   ]
  },
  {
   "cell_type": "code",
   "execution_count": null,
   "id": "c6c20126",
   "metadata": {},
   "outputs": [],
   "source": [
    "new_epochs_number = len(new_epochs.events)\n",
    "new_epochs_number"
   ]
  },
  {
   "cell_type": "markdown",
   "id": "3f1ea3b2",
   "metadata": {},
   "source": [
    "# Result"
   ]
  },
  {
   "cell_type": "code",
   "execution_count": null,
   "id": "e8363cdd",
   "metadata": {},
   "outputs": [],
   "source": [
    "old_epochs.plot(title = 'Old Epochs')\n",
    "new_epochs.plot(title = 'New Epochs')"
   ]
  },
  {
   "cell_type": "code",
   "execution_count": null,
   "id": "9ae7ac31",
   "metadata": {},
   "outputs": [],
   "source": [
    "epoch_report_title = 'sub-'+subject+'_ses-'+session+'_task-'+task+'_preprocessed_report.html'\n",
    "epoch_report = mne.Report(title='Preprocessed Epochs')\n",
    "epoch_report.add_epochs(epochs=new_epochs, title='Preprocessed Epochs')\n",
    "epoch_report_path = os.path.join(preprocessed_report_path, epoch_report_title)\n",
    "\n",
    "epoch_report.save(epoch_report_path, overwrite=True)"
   ]
  },
  {
   "cell_type": "code",
   "execution_count": null,
   "id": "30d04bc1",
   "metadata": {},
   "outputs": [],
   "source": [
    "preprocessedname = 'sub-'+subject+'_ses-'+session+'_task-'+task+'_preprocessed_epo.fif'"
   ]
  },
  {
   "cell_type": "code",
   "execution_count": null,
   "id": "1866b3be",
   "metadata": {},
   "outputs": [],
   "source": [
    "new_epoch_path = os.path.join(preprocessed_report_path, preprocessedname)\n",
    "new_epochs.save(new_epoch_path, overwrite=True)"
   ]
  }
 ],
 "metadata": {
  "kernelspec": {
   "display_name": "Python 3 (ipykernel)",
   "language": "python",
   "name": "python3"
  },
  "language_info": {
   "codemirror_mode": {
    "name": "ipython",
    "version": 3
   },
   "file_extension": ".py",
   "mimetype": "text/x-python",
   "name": "python",
   "nbconvert_exporter": "python",
   "pygments_lexer": "ipython3",
   "version": "3.10.5"
  }
 },
 "nbformat": 4,
 "nbformat_minor": 5
}
