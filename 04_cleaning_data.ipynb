{
 "cells": [
  {
   "cell_type": "markdown",
   "id": "27fb8d02-dfdb-4edb-a1e9-32359d0d805f",
   "metadata": {},
   "source": [
    "# Cleaning Data"
   ]
  },
  {
   "cell_type": "markdown",
   "id": "bf48f93f-8b64-4aaf-b3ef-797a3e1cc3bc",
   "metadata": {
    "tags": []
   },
   "source": [
    "### Import ✔️"
   ]
  },
  {
   "cell_type": "code",
   "execution_count": 1,
   "id": "ec220ab8-8bd7-4fe6-8a7c-298363b6ea57",
   "metadata": {},
   "outputs": [],
   "source": [
    "import pathlib\n",
    "import matplotlib\n",
    "\n",
    "import os\n",
    "import mne\n",
    "import mne_bids\n",
    "from mne.preprocessing import (ICA, create_eog_epochs, create_ecg_epochs, corrmap)\n",
    "\n",
    "matplotlib.use('Qt5Agg')\n",
    "mne.set_log_level('warning') #All mne functions will only spit out output if they have reason to.\n"
   ]
  },
  {
   "cell_type": "markdown",
   "id": "270788d7-c15f-4406-a31a-62ce9070a995",
   "metadata": {},
   "source": [
    "### Check Epoch Quality"
   ]
  },
  {
   "cell_type": "markdown",
   "id": "a6636ff9-f1ff-4f9d-a0ad-38ea0db39c6a",
   "metadata": {
    "tags": []
   },
   "source": [
    "#### Input Data ✔️"
   ]
  },
  {
   "cell_type": "code",
   "execution_count": 2,
   "id": "b11313cf-dc73-41a2-ad1a-9eba2dd0227c",
   "metadata": {},
   "outputs": [
    {
     "data": {
      "text/html": [
       "<table class=\"table table-hover table-striped table-sm table-responsive small\">\n",
       "    <tr>\n",
       "        <th>Number of events</th>\n",
       "        <td>503</td>\n",
       "    </tr>\n",
       "    <tr>\n",
       "        <th>Events</th>\n",
       "        \n",
       "        <td>TsD-: 124<br/>WMD+: 127<br/>bgin: 124<br/>fix+: 128</td>\n",
       "        \n",
       "    </tr>\n",
       "    <tr>\n",
       "        <th>Time range</th>\n",
       "        <td>-0.250 – 0.800 sec</td>\n",
       "    </tr>\n",
       "    <tr>\n",
       "        <th>Baseline</th>\n",
       "        <td>-0.250 – 0.000 sec</td>\n",
       "    </tr>\n",
       "</table>"
      ],
      "text/plain": [
       "<EpochsFIF |  503 events (all good), -0.25 - 0.8 sec, baseline -0.25 – 0 sec, ~520.5 MB, data loaded,\n",
       " 'TsD-': 124\n",
       " 'WMD+': 127\n",
       " 'bgin': 124\n",
       " 'fix+': 128>"
      ]
     },
     "execution_count": 2,
     "metadata": {},
     "output_type": "execute_result"
    }
   ],
   "source": [
    "epochs = mne.read_epochs(pathlib.Path('out_data')\n",
    "            / 'epochs' / 'sub-01_ses-01_task-WM1isi0_epochs-epo.fif')\n",
    "epochs"
   ]
  },
  {
   "cell_type": "markdown",
   "id": "91380c03-d108-4764-a403-1bd58f1a212b",
   "metadata": {},
   "source": [
    "#### Reject Bad Epochs ❌"
   ]
  },
  {
   "cell_type": "code",
   "execution_count": 3,
   "id": "c65f012c-13ae-4db7-b751-865e690360ed",
   "metadata": {},
   "outputs": [
    {
     "data": {
      "text/html": [
       "<table class=\"table table-hover table-striped table-sm table-responsive small\">\n",
       "    <tr>\n",
       "        <th>Number of events</th>\n",
       "        <td>260</td>\n",
       "    </tr>\n",
       "    <tr>\n",
       "        <th>Events</th>\n",
       "        \n",
       "        <td>TsD-: 55<br/>WMD+: 75<br/>bgin: 57<br/>fix+: 73</td>\n",
       "        \n",
       "    </tr>\n",
       "    <tr>\n",
       "        <th>Time range</th>\n",
       "        <td>-0.250 – 0.800 sec</td>\n",
       "    </tr>\n",
       "    <tr>\n",
       "        <th>Baseline</th>\n",
       "        <td>-0.250 – 0.000 sec</td>\n",
       "    </tr>\n",
       "</table>"
      ],
      "text/plain": [
       "<EpochsFIF |  260 events (all good), -0.25 - 0.8 sec, baseline -0.25 – 0 sec, ~269.1 MB, data loaded,\n",
       " 'TsD-': 55\n",
       " 'WMD+': 75\n",
       " 'bgin': 57\n",
       " 'fix+': 73>"
      ]
     },
     "execution_count": 3,
     "metadata": {},
     "output_type": "execute_result"
    }
   ],
   "source": [
    "reject_criteria = dict(eeg=100e-6) # 100 µV, what should our rejection criteria be? \n",
    "#flat_criteria = dict(eeg=1e-6)           # 1 µV\n",
    "\n",
    "epochs.drop_bad(reject=reject_criteria)\n",
    "#epochs.drop_bad(reject=reject_criteria, flat=flat_criteria)"
   ]
  },
  {
   "cell_type": "raw",
   "id": "48c931d2-a75d-4857-904f-11110701a644",
   "metadata": {},
   "source": [
    "epochs.plot()"
   ]
  },
  {
   "cell_type": "markdown",
   "id": "eced912c-5034-4fbd-9b16-d01643bc3f4e",
   "metadata": {},
   "source": [
    "### ICA Analysis ❌"
   ]
  },
  {
   "cell_type": "markdown",
   "id": "d9629df4-f637-4761-9df4-002e2f437d72",
   "metadata": {},
   "source": [
    "##### Read in new Raw Data"
   ]
  },
  {
   "cell_type": "code",
   "execution_count": 4,
   "id": "0a479e46-a4b9-47e3-8526-beb99ffd7054",
   "metadata": {},
   "outputs": [
    {
     "name": "stderr",
     "output_type": "stream",
     "text": [
      "C:\\Users\\trevo\\AppData\\Local\\Temp\\ipykernel_8792\\4141691380.py:9: RuntimeWarning: There are channels without locations (n/a) that are not marked as bad: ['SESS', 'CELL', 'bgin', 'fix+', 'WMD+', 'TsD-', 'TRSP', 'STI 014']\n",
      "  raw = mne_bids.read_raw_bids(bids_path)\n",
      "C:\\Users\\trevo\\AppData\\Local\\Temp\\ipykernel_8792\\4141691380.py:9: RuntimeWarning: Not setting positions of 8 stim channels found in montage:\n",
      "['SESS', 'CELL', 'bgin', 'fix+', 'WMD+', 'TsD-', 'TRSP', 'STI 014']\n",
      "Consider setting the channel types to be of EEG/sEEG/ECoG/DBS/fNIRS using inst.set_channel_types before calling inst.set_montage, or omit these channels when creating your montage.\n",
      "  raw = mne_bids.read_raw_bids(bids_path)\n"
     ]
    },
    {
     "data": {
      "text/html": [
       "<table class=\"table table-hover table-striped table-sm table-responsive small\">\n",
       "    <tr>\n",
       "        <th>Measurement date</th>\n",
       "        \n",
       "        <td>November 10, 2019  20:00:11 GMT</td>\n",
       "        \n",
       "    </tr>\n",
       "    <tr>\n",
       "        <th>Experimenter</th>\n",
       "        \n",
       "        <td>mne_anonymize</td>\n",
       "        \n",
       "    </tr>\n",
       "        <th>Participant</th>\n",
       "        \n",
       "            \n",
       "            <td>sub-01</td>\n",
       "            \n",
       "        \n",
       "    </tr>\n",
       "    <tr>\n",
       "        <th>Digitized points</th>\n",
       "        \n",
       "        <td>0 points</td>\n",
       "        \n",
       "    </tr>\n",
       "    <tr>\n",
       "        <th>Good channels</th>\n",
       "        <td>129 EEG, 8 Stimulus</td>\n",
       "    </tr>\n",
       "    <tr>\n",
       "        <th>Bad channels</th>\n",
       "        <td>None</td>\n",
       "    </tr>\n",
       "    <tr>\n",
       "        <th>EOG channels</th>\n",
       "        <td>Not available</td>\n",
       "    </tr>\n",
       "    <tr>\n",
       "        <th>ECG channels</th>\n",
       "        <td>Not available</td>\n",
       "    \n",
       "    <tr>\n",
       "        <th>Sampling frequency</th>\n",
       "        <td>1000.00 Hz</td>\n",
       "    </tr>\n",
       "    \n",
       "    \n",
       "    <tr>\n",
       "        <th>Highpass</th>\n",
       "        <td>0.00 Hz</td>\n",
       "    </tr>\n",
       "    \n",
       "    \n",
       "    <tr>\n",
       "        <th>Lowpass</th>\n",
       "        <td>500.00 Hz</td>\n",
       "    </tr>\n",
       "    \n",
       "    \n",
       "    \n",
       "    <tr>\n",
       "        <th>Filenames</th>\n",
       "        <td>sub-01_ses-01_task-WM1isi0_eeg.eeg</td>\n",
       "    </tr>\n",
       "    \n",
       "    <tr>\n",
       "        <th>Duration</th>\n",
       "        <td>00:06:01 (HH:MM:SS)</td>\n",
       "    </tr>\n",
       "</table>"
      ],
      "text/plain": [
       "<RawBrainVision | sub-01_ses-01_task-WM1isi0_eeg.eeg, 137 x 361490 (361.5 s), ~378.0 MB, data loaded>"
      ]
     },
     "execution_count": 4,
     "metadata": {},
     "output_type": "execute_result"
    }
   ],
   "source": [
    "bids_root = pathlib.Path('out_data/bids_structure')\n",
    "\n",
    "bids_path = mne_bids.BIDSPath(subject='01',\n",
    "                              session='01',\n",
    "                              task='WM1isi0',\n",
    "                              datatype='eeg',\n",
    "                              root=bids_root)\n",
    "\n",
    "raw = mne_bids.read_raw_bids(bids_path) \n",
    "raw.load_data()"
   ]
  },
  {
   "cell_type": "markdown",
   "id": "f5297a6f-d016-46c2-804d-f4929f34afee",
   "metadata": {},
   "source": [
    "##### Specify EEG Data and EEG reference"
   ]
  },
  {
   "cell_type": "code",
   "execution_count": 5,
   "id": "f60a7c17-d4ae-436a-ad8c-856be43cea32",
   "metadata": {},
   "outputs": [
    {
     "data": {
      "text/html": [
       "<table class=\"table table-hover table-striped table-sm table-responsive small\">\n",
       "    <tr>\n",
       "        <th>Measurement date</th>\n",
       "        \n",
       "        <td>November 10, 2019  20:00:11 GMT</td>\n",
       "        \n",
       "    </tr>\n",
       "    <tr>\n",
       "        <th>Experimenter</th>\n",
       "        \n",
       "        <td>mne_anonymize</td>\n",
       "        \n",
       "    </tr>\n",
       "        <th>Participant</th>\n",
       "        \n",
       "            \n",
       "            <td>sub-01</td>\n",
       "            \n",
       "        \n",
       "    </tr>\n",
       "    <tr>\n",
       "        <th>Digitized points</th>\n",
       "        \n",
       "        <td>0 points</td>\n",
       "        \n",
       "    </tr>\n",
       "    <tr>\n",
       "        <th>Good channels</th>\n",
       "        <td>127 EEG, 2 EOG</td>\n",
       "    </tr>\n",
       "    <tr>\n",
       "        <th>Bad channels</th>\n",
       "        <td>None</td>\n",
       "    </tr>\n",
       "    <tr>\n",
       "        <th>EOG channels</th>\n",
       "        <td>E8, E25</td>\n",
       "    </tr>\n",
       "    <tr>\n",
       "        <th>ECG channels</th>\n",
       "        <td>Not available</td>\n",
       "    \n",
       "    <tr>\n",
       "        <th>Sampling frequency</th>\n",
       "        <td>1000.00 Hz</td>\n",
       "    </tr>\n",
       "    \n",
       "    \n",
       "    <tr>\n",
       "        <th>Highpass</th>\n",
       "        <td>0.00 Hz</td>\n",
       "    </tr>\n",
       "    \n",
       "    \n",
       "    <tr>\n",
       "        <th>Lowpass</th>\n",
       "        <td>500.00 Hz</td>\n",
       "    </tr>\n",
       "    \n",
       "    \n",
       "    \n",
       "    <tr>\n",
       "        <th>Filenames</th>\n",
       "        <td>sub-01_ses-01_task-WM1isi0_eeg.eeg</td>\n",
       "    </tr>\n",
       "    \n",
       "    <tr>\n",
       "        <th>Duration</th>\n",
       "        <td>00:06:01 (HH:MM:SS)</td>\n",
       "    </tr>\n",
       "</table>"
      ],
      "text/plain": [
       "<RawBrainVision | sub-01_ses-01_task-WM1isi0_eeg.eeg, 129 x 361490 (361.5 s), ~356.0 MB, data loaded>"
      ]
     },
     "execution_count": 5,
     "metadata": {},
     "output_type": "execute_result"
    }
   ],
   "source": [
    "raw_copy = raw.copy().pick_types(meg=False, eeg=True, eog=True)\n",
    "raw_copy.set_eeg_reference(ref_channels=['E129'])\n",
    "raw_copy.set_channel_types({'E8': 'eog'})\n",
    "raw_copy.set_channel_types({'E25': 'eog'})\n",
    "len(raw_copy.ch_names)\n",
    "raw_copy"
   ]
  },
  {
   "cell_type": "markdown",
   "id": "37e43a05-bdcc-4eed-82f7-d62285700dd2",
   "metadata": {},
   "source": [
    "##### Apply a new filter"
   ]
  },
  {
   "cell_type": "code",
   "execution_count": 6,
   "id": "ec97f66d-36cd-4e83-867b-7cf223c8c507",
   "metadata": {},
   "outputs": [
    {
     "data": {
      "text/html": [
       "<table class=\"table table-hover table-striped table-sm table-responsive small\">\n",
       "    <tr>\n",
       "        <th>Measurement date</th>\n",
       "        \n",
       "        <td>November 10, 2019  20:00:11 GMT</td>\n",
       "        \n",
       "    </tr>\n",
       "    <tr>\n",
       "        <th>Experimenter</th>\n",
       "        \n",
       "        <td>mne_anonymize</td>\n",
       "        \n",
       "    </tr>\n",
       "        <th>Participant</th>\n",
       "        \n",
       "            \n",
       "            <td>sub-01</td>\n",
       "            \n",
       "        \n",
       "    </tr>\n",
       "    <tr>\n",
       "        <th>Digitized points</th>\n",
       "        \n",
       "        <td>0 points</td>\n",
       "        \n",
       "    </tr>\n",
       "    <tr>\n",
       "        <th>Good channels</th>\n",
       "        <td>127 EEG, 2 EOG</td>\n",
       "    </tr>\n",
       "    <tr>\n",
       "        <th>Bad channels</th>\n",
       "        <td>None</td>\n",
       "    </tr>\n",
       "    <tr>\n",
       "        <th>EOG channels</th>\n",
       "        <td>E8, E25</td>\n",
       "    </tr>\n",
       "    <tr>\n",
       "        <th>ECG channels</th>\n",
       "        <td>Not available</td>\n",
       "    \n",
       "    <tr>\n",
       "        <th>Sampling frequency</th>\n",
       "        <td>1000.00 Hz</td>\n",
       "    </tr>\n",
       "    \n",
       "    \n",
       "    <tr>\n",
       "        <th>Highpass</th>\n",
       "        <td>1.00 Hz</td>\n",
       "    </tr>\n",
       "    \n",
       "    \n",
       "    <tr>\n",
       "        <th>Lowpass</th>\n",
       "        <td>500.00 Hz</td>\n",
       "    </tr>\n",
       "    \n",
       "    \n",
       "    \n",
       "    <tr>\n",
       "        <th>Filenames</th>\n",
       "        <td>sub-01_ses-01_task-WM1isi0_eeg.eeg</td>\n",
       "    </tr>\n",
       "    \n",
       "    <tr>\n",
       "        <th>Duration</th>\n",
       "        <td>00:06:01 (HH:MM:SS)</td>\n",
       "    </tr>\n",
       "</table>"
      ],
      "text/plain": [
       "<RawBrainVision | sub-01_ses-01_task-WM1isi0_eeg.eeg, 129 x 361490 (361.5 s), ~356.0 MB, data loaded>"
      ]
     },
     "execution_count": 6,
     "metadata": {},
     "output_type": "execute_result"
    }
   ],
   "source": [
    "raw_copy.filter(l_freq=1, h_freq=None) \n",
    "#Change lowpass filter (high freq) later? Should be 40?"
   ]
  },
  {
   "cell_type": "markdown",
   "id": "fd4a9072-04b6-4079-aa24-7ab6ecdbffb9",
   "metadata": {},
   "source": [
    "##### Template Matching"
   ]
  },
  {
   "cell_type": "code",
   "execution_count": 7,
   "id": "88f394c3-7e77-43d6-8008-901872b04160",
   "metadata": {},
   "outputs": [],
   "source": [
    "raws = list()\n",
    "icas = list()"
   ]
  },
  {
   "cell_type": "code",
   "execution_count": 8,
   "id": "7974caa3-b1e9-4190-9d40-e72e33523e0e",
   "metadata": {},
   "outputs": [
    {
     "data": {
      "text/html": [
       "<table class=\"table table-hover table-striped table-sm table-responsive small\">\n",
       "    <tr>\n",
       "        <th>Method</th>\n",
       "        <td>fastica</td>\n",
       "    </tr>\n",
       "    <tr>\n",
       "        <th>Fit</th>\n",
       "        <td>28 iterations on raw data (361490 samples)</td>\n",
       "    </tr>\n",
       "    \n",
       "    <tr>\n",
       "        <th>ICA components</th>\n",
       "        <td>15</td>\n",
       "    </tr>\n",
       "    <tr>\n",
       "        <th>Explained variance</th>\n",
       "        <td>100.0&nbsp;%</td>\n",
       "    </tr>\n",
       "    <tr>\n",
       "        <th>Available PCA components</th>\n",
       "        <td>127</td>\n",
       "    </tr>\n",
       "    <tr>\n",
       "        <th>Channel types</th>\n",
       "        <td>eeg</td>\n",
       "    </tr>\n",
       "    <tr>\n",
       "        <th>ICA components marked for exclusion</th>\n",
       "        <td>&mdash;</td>\n",
       "    </tr>\n",
       "    \n",
       "</table>"
      ],
      "text/plain": [
       "<ICA | raw data decomposition, method: fastica (fit in 28 iterations on 361490 samples), 15 ICA components explaining 100.0 % of variance (127 PCA components available), channel types: eeg, no sources marked for exclusion>"
      ]
     },
     "execution_count": 8,
     "metadata": {},
     "output_type": "execute_result"
    }
   ],
   "source": [
    "ica = ICA(n_components=15, max_iter='auto', random_state=97)\n",
    "ica.fit(raw_copy)\n",
    "ica"
   ]
  },
  {
   "cell_type": "code",
   "execution_count": 9,
   "id": "4c406ae3-71aa-4b1e-a8a6-6535966e5afd",
   "metadata": {},
   "outputs": [],
   "source": [
    "raws.append(raw_copy)\n",
    "icas.append(ica)"
   ]
  },
  {
   "cell_type": "code",
   "execution_count": 10,
   "id": "217fc3ab-b32d-4198-8a70-7f4a7c8bcd13",
   "metadata": {},
   "outputs": [],
   "source": [
    "# use the first subject as template; use Fpz as proxy for EOG\n",
    "raw = raws[0]\n",
    "ica = icas[0]\n",
    "eog_inds = ica.find_bads_eog(raw_copy, ch_name=['E8', 'E25'])\n",
    "#eog_inds, eog_scores = ica.find_bads_eog(raw_copy, ch_name=['E8', 'E25'])"
   ]
  },
  {
   "cell_type": "code",
   "execution_count": 12,
   "id": "f0b6332b-d9a6-48da-89cf-b017171b207f",
   "metadata": {},
   "outputs": [
    {
     "ename": "ValueError",
     "evalue": "No appropriate channels found for the given picks ([])",
     "output_type": "error",
     "traceback": [
      "\u001b[1;31m---------------------------------------------------------------------------\u001b[0m",
      "\u001b[1;31mValueError\u001b[0m                                Traceback (most recent call last)",
      "Input \u001b[1;32mIn [12]\u001b[0m, in \u001b[0;36m<cell line: 1>\u001b[1;34m()\u001b[0m\n\u001b[1;32m----> 1\u001b[0m \u001b[43mmne\u001b[49m\u001b[38;5;241;43m.\u001b[39;49m\u001b[43mpreprocessing\u001b[49m\u001b[38;5;241;43m.\u001b[39;49m\u001b[43mcorrmap\u001b[49m\u001b[43m(\u001b[49m\u001b[43micas\u001b[49m\u001b[43m,\u001b[49m\u001b[43m \u001b[49m\u001b[43mtemplate\u001b[49m\u001b[38;5;241;43m=\u001b[39;49m\u001b[43m(\u001b[49m\u001b[38;5;241;43m0\u001b[39;49m\u001b[43m,\u001b[49m\u001b[43m \u001b[49m\u001b[43meog_inds\u001b[49m\u001b[43m[\u001b[49m\u001b[38;5;241;43m0\u001b[39;49m\u001b[43m]\u001b[49m\u001b[43m)\u001b[49m\u001b[43m)\u001b[49m\n",
      "File \u001b[1;32m<decorator-gen-428>:12\u001b[0m, in \u001b[0;36mcorrmap\u001b[1;34m(icas, template, threshold, label, ch_type, plot, show, outlines, sensors, contours, cmap, sphere, verbose)\u001b[0m\n",
      "File \u001b[1;32m~\\anaconda3\\envs\\mne\\lib\\site-packages\\mne\\preprocessing\\ica.py:2615\u001b[0m, in \u001b[0;36mcorrmap\u001b[1;34m(icas, template, threshold, label, ch_type, plot, show, outlines, sensors, contours, cmap, sphere, verbose)\u001b[0m\n\u001b[0;32m   2613\u001b[0m \u001b[38;5;28;01mif\u001b[39;00m is_subject:  \u001b[38;5;66;03m# plotting from an ICA object\u001b[39;00m\n\u001b[0;32m   2614\u001b[0m     ttl \u001b[38;5;241m=\u001b[39m \u001b[38;5;124m'\u001b[39m\u001b[38;5;124mTemplate from subj. \u001b[39m\u001b[38;5;132;01m{}\u001b[39;00m\u001b[38;5;124m'\u001b[39m\u001b[38;5;241m.\u001b[39mformat(\u001b[38;5;28mstr\u001b[39m(template[\u001b[38;5;241m0\u001b[39m]))\n\u001b[1;32m-> 2615\u001b[0m     template_fig \u001b[38;5;241m=\u001b[39m \u001b[43micas\u001b[49m\u001b[43m[\u001b[49m\u001b[43mtemplate\u001b[49m\u001b[43m[\u001b[49m\u001b[38;5;241;43m0\u001b[39;49m\u001b[43m]\u001b[49m\u001b[43m]\u001b[49m\u001b[38;5;241;43m.\u001b[39;49m\u001b[43mplot_components\u001b[49m\u001b[43m(\u001b[49m\n\u001b[0;32m   2616\u001b[0m \u001b[43m        \u001b[49m\u001b[43mpicks\u001b[49m\u001b[38;5;241;43m=\u001b[39;49m\u001b[43mtemplate\u001b[49m\u001b[43m[\u001b[49m\u001b[38;5;241;43m1\u001b[39;49m\u001b[43m]\u001b[49m\u001b[43m,\u001b[49m\u001b[43m \u001b[49m\u001b[43mch_type\u001b[49m\u001b[38;5;241;43m=\u001b[39;49m\u001b[43mch_type\u001b[49m\u001b[43m,\u001b[49m\u001b[43m \u001b[49m\u001b[43mtitle\u001b[49m\u001b[38;5;241;43m=\u001b[39;49m\u001b[43mttl\u001b[49m\u001b[43m,\u001b[49m\n\u001b[0;32m   2617\u001b[0m \u001b[43m        \u001b[49m\u001b[43moutlines\u001b[49m\u001b[38;5;241;43m=\u001b[39;49m\u001b[43moutlines\u001b[49m\u001b[43m,\u001b[49m\u001b[43m \u001b[49m\u001b[43mcmap\u001b[49m\u001b[38;5;241;43m=\u001b[39;49m\u001b[43mcmap\u001b[49m\u001b[43m,\u001b[49m\u001b[43m \u001b[49m\u001b[43mcontours\u001b[49m\u001b[38;5;241;43m=\u001b[39;49m\u001b[43mcontours\u001b[49m\u001b[43m,\u001b[49m\n\u001b[0;32m   2618\u001b[0m \u001b[43m        \u001b[49m\u001b[43mshow\u001b[49m\u001b[38;5;241;43m=\u001b[39;49m\u001b[43mshow\u001b[49m\u001b[43m,\u001b[49m\u001b[43m \u001b[49m\u001b[43mtopomap_args\u001b[49m\u001b[38;5;241;43m=\u001b[39;49m\u001b[38;5;28;43mdict\u001b[39;49m\u001b[43m(\u001b[49m\u001b[43msphere\u001b[49m\u001b[38;5;241;43m=\u001b[39;49m\u001b[43msphere\u001b[49m\u001b[43m)\u001b[49m\u001b[43m)\u001b[49m\n\u001b[0;32m   2619\u001b[0m \u001b[38;5;28;01melse\u001b[39;00m:  \u001b[38;5;66;03m# plotting an array\u001b[39;00m\n\u001b[0;32m   2620\u001b[0m     template_fig \u001b[38;5;241m=\u001b[39m _plot_corrmap([template], [\u001b[38;5;241m0\u001b[39m], [\u001b[38;5;241m0\u001b[39m], ch_type,\n\u001b[0;32m   2621\u001b[0m                                  icas[\u001b[38;5;241m0\u001b[39m]\u001b[38;5;241m.\u001b[39mcopy(), \u001b[38;5;124m\"\u001b[39m\u001b[38;5;124mTemplate\u001b[39m\u001b[38;5;124m\"\u001b[39m,\n\u001b[0;32m   2622\u001b[0m                                  outlines\u001b[38;5;241m=\u001b[39moutlines, cmap\u001b[38;5;241m=\u001b[39mcmap,\n\u001b[0;32m   2623\u001b[0m                                  contours\u001b[38;5;241m=\u001b[39mcontours,\n\u001b[0;32m   2624\u001b[0m                                  show\u001b[38;5;241m=\u001b[39mshow, template\u001b[38;5;241m=\u001b[39m\u001b[38;5;28;01mTrue\u001b[39;00m,\n\u001b[0;32m   2625\u001b[0m                                  sphere\u001b[38;5;241m=\u001b[39msphere)\n",
      "File \u001b[1;32m~\\anaconda3\\envs\\mne\\lib\\site-packages\\mne\\preprocessing\\ica.py:1935\u001b[0m, in \u001b[0;36mICA.plot_components\u001b[1;34m(self, picks, ch_type, res, vmin, vmax, cmap, sensors, colorbar, title, show, outlines, contours, image_interp, inst, plot_std, topomap_args, image_args, psd_args, reject, sphere, verbose)\u001b[0m\n\u001b[0;32m   1927\u001b[0m \u001b[38;5;129m@copy_function_doc_to_method_doc\u001b[39m(plot_ica_components)\n\u001b[0;32m   1928\u001b[0m \u001b[38;5;28;01mdef\u001b[39;00m \u001b[38;5;21mplot_components\u001b[39m(\u001b[38;5;28mself\u001b[39m, picks\u001b[38;5;241m=\u001b[39m\u001b[38;5;28;01mNone\u001b[39;00m, ch_type\u001b[38;5;241m=\u001b[39m\u001b[38;5;28;01mNone\u001b[39;00m, res\u001b[38;5;241m=\u001b[39m\u001b[38;5;241m64\u001b[39m,\n\u001b[0;32m   1929\u001b[0m                     vmin\u001b[38;5;241m=\u001b[39m\u001b[38;5;28;01mNone\u001b[39;00m, vmax\u001b[38;5;241m=\u001b[39m\u001b[38;5;28;01mNone\u001b[39;00m, cmap\u001b[38;5;241m=\u001b[39m\u001b[38;5;124m'\u001b[39m\u001b[38;5;124mRdBu_r\u001b[39m\u001b[38;5;124m'\u001b[39m, sensors\u001b[38;5;241m=\u001b[39m\u001b[38;5;28;01mTrue\u001b[39;00m,\n\u001b[1;32m   (...)\u001b[0m\n\u001b[0;32m   1933\u001b[0m                     image_args\u001b[38;5;241m=\u001b[39m\u001b[38;5;28;01mNone\u001b[39;00m, psd_args\u001b[38;5;241m=\u001b[39m\u001b[38;5;28;01mNone\u001b[39;00m, reject\u001b[38;5;241m=\u001b[39m\u001b[38;5;124m'\u001b[39m\u001b[38;5;124mauto\u001b[39m\u001b[38;5;124m'\u001b[39m,\n\u001b[0;32m   1934\u001b[0m                     sphere\u001b[38;5;241m=\u001b[39m\u001b[38;5;28;01mNone\u001b[39;00m, verbose\u001b[38;5;241m=\u001b[39m\u001b[38;5;28;01mNone\u001b[39;00m):\n\u001b[1;32m-> 1935\u001b[0m     \u001b[38;5;28;01mreturn\u001b[39;00m \u001b[43mplot_ica_components\u001b[49m\u001b[43m(\u001b[49m\u001b[38;5;28;43mself\u001b[39;49m\u001b[43m,\u001b[49m\u001b[43m \u001b[49m\u001b[43mpicks\u001b[49m\u001b[38;5;241;43m=\u001b[39;49m\u001b[43mpicks\u001b[49m\u001b[43m,\u001b[49m\u001b[43m \u001b[49m\u001b[43mch_type\u001b[49m\u001b[38;5;241;43m=\u001b[39;49m\u001b[43mch_type\u001b[49m\u001b[43m,\u001b[49m\n\u001b[0;32m   1936\u001b[0m \u001b[43m                               \u001b[49m\u001b[43mres\u001b[49m\u001b[38;5;241;43m=\u001b[39;49m\u001b[43mres\u001b[49m\u001b[43m,\u001b[49m\u001b[43m \u001b[49m\u001b[43mvmin\u001b[49m\u001b[38;5;241;43m=\u001b[39;49m\u001b[43mvmin\u001b[49m\u001b[43m,\u001b[49m\n\u001b[0;32m   1937\u001b[0m \u001b[43m                               \u001b[49m\u001b[43mvmax\u001b[49m\u001b[38;5;241;43m=\u001b[39;49m\u001b[43mvmax\u001b[49m\u001b[43m,\u001b[49m\u001b[43m \u001b[49m\u001b[43mcmap\u001b[49m\u001b[38;5;241;43m=\u001b[39;49m\u001b[43mcmap\u001b[49m\u001b[43m,\u001b[49m\u001b[43m \u001b[49m\u001b[43msensors\u001b[49m\u001b[38;5;241;43m=\u001b[39;49m\u001b[43msensors\u001b[49m\u001b[43m,\u001b[49m\n\u001b[0;32m   1938\u001b[0m \u001b[43m                               \u001b[49m\u001b[43mcolorbar\u001b[49m\u001b[38;5;241;43m=\u001b[39;49m\u001b[43mcolorbar\u001b[49m\u001b[43m,\u001b[49m\u001b[43m \u001b[49m\u001b[43mtitle\u001b[49m\u001b[38;5;241;43m=\u001b[39;49m\u001b[43mtitle\u001b[49m\u001b[43m,\u001b[49m\u001b[43m \u001b[49m\u001b[43mshow\u001b[49m\u001b[38;5;241;43m=\u001b[39;49m\u001b[43mshow\u001b[49m\u001b[43m,\u001b[49m\n\u001b[0;32m   1939\u001b[0m \u001b[43m                               \u001b[49m\u001b[43moutlines\u001b[49m\u001b[38;5;241;43m=\u001b[39;49m\u001b[43moutlines\u001b[49m\u001b[43m,\u001b[49m\u001b[43m \u001b[49m\u001b[43mcontours\u001b[49m\u001b[38;5;241;43m=\u001b[39;49m\u001b[43mcontours\u001b[49m\u001b[43m,\u001b[49m\n\u001b[0;32m   1940\u001b[0m \u001b[43m                               \u001b[49m\u001b[43mimage_interp\u001b[49m\u001b[38;5;241;43m=\u001b[39;49m\u001b[43mimage_interp\u001b[49m\u001b[43m,\u001b[49m\n\u001b[0;32m   1941\u001b[0m \u001b[43m                               \u001b[49m\u001b[43minst\u001b[49m\u001b[38;5;241;43m=\u001b[39;49m\u001b[43minst\u001b[49m\u001b[43m,\u001b[49m\u001b[43m \u001b[49m\u001b[43mplot_std\u001b[49m\u001b[38;5;241;43m=\u001b[39;49m\u001b[43mplot_std\u001b[49m\u001b[43m,\u001b[49m\n\u001b[0;32m   1942\u001b[0m \u001b[43m                               \u001b[49m\u001b[43mtopomap_args\u001b[49m\u001b[38;5;241;43m=\u001b[39;49m\u001b[43mtopomap_args\u001b[49m\u001b[43m,\u001b[49m\n\u001b[0;32m   1943\u001b[0m \u001b[43m                               \u001b[49m\u001b[43mimage_args\u001b[49m\u001b[38;5;241;43m=\u001b[39;49m\u001b[43mimage_args\u001b[49m\u001b[43m,\u001b[49m\u001b[43m \u001b[49m\u001b[43mpsd_args\u001b[49m\u001b[38;5;241;43m=\u001b[39;49m\u001b[43mpsd_args\u001b[49m\u001b[43m,\u001b[49m\n\u001b[0;32m   1944\u001b[0m \u001b[43m                               \u001b[49m\u001b[43mreject\u001b[49m\u001b[38;5;241;43m=\u001b[39;49m\u001b[43mreject\u001b[49m\u001b[43m,\u001b[49m\u001b[43m \u001b[49m\u001b[43msphere\u001b[49m\u001b[38;5;241;43m=\u001b[39;49m\u001b[43msphere\u001b[49m\u001b[43m,\u001b[49m\n\u001b[0;32m   1945\u001b[0m \u001b[43m                               \u001b[49m\u001b[43mverbose\u001b[49m\u001b[38;5;241;43m=\u001b[39;49m\u001b[43mverbose\u001b[49m\u001b[43m)\u001b[49m\n",
      "File \u001b[1;32m<decorator-gen-167>:12\u001b[0m, in \u001b[0;36mplot_ica_components\u001b[1;34m(ica, picks, ch_type, res, vmin, vmax, cmap, sensors, colorbar, title, show, outlines, contours, image_interp, inst, plot_std, topomap_args, image_args, psd_args, reject, sphere, verbose)\u001b[0m\n",
      "File \u001b[1;32m~\\anaconda3\\envs\\mne\\lib\\site-packages\\mne\\viz\\topomap.py:1207\u001b[0m, in \u001b[0;36mplot_ica_components\u001b[1;34m(ica, picks, ch_type, res, vmin, vmax, cmap, sensors, colorbar, title, show, outlines, contours, image_interp, inst, plot_std, topomap_args, image_args, psd_args, reject, sphere, verbose)\u001b[0m\n\u001b[0;32m   1205\u001b[0m     \u001b[38;5;28;01mreturn\u001b[39;00m figs\n\u001b[0;32m   1206\u001b[0m \u001b[38;5;28;01melse\u001b[39;00m:\n\u001b[1;32m-> 1207\u001b[0m     picks \u001b[38;5;241m=\u001b[39m \u001b[43m_picks_to_idx\u001b[49m\u001b[43m(\u001b[49m\u001b[43mica\u001b[49m\u001b[38;5;241;43m.\u001b[39;49m\u001b[43minfo\u001b[49m\u001b[43m,\u001b[49m\u001b[43m \u001b[49m\u001b[43mpicks\u001b[49m\u001b[43m)\u001b[49m\n\u001b[0;32m   1208\u001b[0m ch_type \u001b[38;5;241m=\u001b[39m _get_ch_type(ica, ch_type)\n\u001b[0;32m   1210\u001b[0m cmap \u001b[38;5;241m=\u001b[39m _setup_cmap(cmap, n_axes\u001b[38;5;241m=\u001b[39m\u001b[38;5;28mlen\u001b[39m(picks))\n",
      "File \u001b[1;32m~\\anaconda3\\envs\\mne\\lib\\site-packages\\mne\\io\\pick.py:1063\u001b[0m, in \u001b[0;36m_picks_to_idx\u001b[1;34m(info, picks, none, exclude, allow_empty, with_ref_meg, return_kind)\u001b[0m\n\u001b[0;32m   1059\u001b[0m \u001b[38;5;66;03m#\u001b[39;00m\n\u001b[0;32m   1060\u001b[0m \u001b[38;5;66;03m# ensure we have (optionally non-empty) ndarray of valid int\u001b[39;00m\n\u001b[0;32m   1061\u001b[0m \u001b[38;5;66;03m#\u001b[39;00m\n\u001b[0;32m   1062\u001b[0m \u001b[38;5;28;01mif\u001b[39;00m \u001b[38;5;28mlen\u001b[39m(picks) \u001b[38;5;241m==\u001b[39m \u001b[38;5;241m0\u001b[39m \u001b[38;5;129;01mand\u001b[39;00m \u001b[38;5;129;01mnot\u001b[39;00m allow_empty:\n\u001b[1;32m-> 1063\u001b[0m     \u001b[38;5;28;01mraise\u001b[39;00m \u001b[38;5;167;01mValueError\u001b[39;00m(\u001b[38;5;124m'\u001b[39m\u001b[38;5;124mNo appropriate channels found for the given picks \u001b[39m\u001b[38;5;124m'\u001b[39m\n\u001b[0;32m   1064\u001b[0m                      \u001b[38;5;124m'\u001b[39m\u001b[38;5;124m(\u001b[39m\u001b[38;5;132;01m%r\u001b[39;00m\u001b[38;5;124m)\u001b[39m\u001b[38;5;124m'\u001b[39m \u001b[38;5;241m%\u001b[39m (orig_picks,))\n\u001b[0;32m   1065\u001b[0m \u001b[38;5;28;01mif\u001b[39;00m (picks \u001b[38;5;241m<\u001b[39m \u001b[38;5;241m-\u001b[39mn_chan)\u001b[38;5;241m.\u001b[39many():\n\u001b[0;32m   1066\u001b[0m     \u001b[38;5;28;01mraise\u001b[39;00m \u001b[38;5;167;01mValueError\u001b[39;00m(\u001b[38;5;124m'\u001b[39m\u001b[38;5;124mAll picks must be >= \u001b[39m\u001b[38;5;132;01m%d\u001b[39;00m\u001b[38;5;124m, got \u001b[39m\u001b[38;5;132;01m%r\u001b[39;00m\u001b[38;5;124m'\u001b[39m\n\u001b[0;32m   1067\u001b[0m                      \u001b[38;5;241m%\u001b[39m (\u001b[38;5;241m-\u001b[39mn_chan, orig_picks))\n",
      "\u001b[1;31mValueError\u001b[0m: No appropriate channels found for the given picks ([])"
     ]
    }
   ],
   "source": [
    "mne.preprocessing.corrmap(icas, template=(0, eog_inds[0]))"
   ]
  },
  {
   "cell_type": "markdown",
   "id": "2da09ad7-1c95-4410-bbed-ab52941716a9",
   "metadata": {},
   "source": [
    "##### Draft "
   ]
  },
  {
   "cell_type": "markdown",
   "id": "3f88e71e-6e8e-4930-8201-71ef1fbe5610",
   "metadata": {},
   "source": [
    "##### Identify EOG Channels from EEG electrodes"
   ]
  },
  {
   "cell_type": "raw",
   "id": "c4ba7e32-bc41-4bcd-afac-3aaaa925c3a6",
   "metadata": {},
   "source": [
    "ica.exclude = []\n",
    "\n",
    "\n",
    "# find which ICs match the EOG pattern\n",
    "eog_inds, eog_scores = ica.find_bads_eog(raw_copy, ch_name = ['E8', 'E25'])\n",
    "ica.exclude = eog_inds"
   ]
  },
  {
   "cell_type": "raw",
   "id": "7544b5d6-1328-4aa7-b85f-51f70cac4be8",
   "metadata": {},
   "source": [
    "ica = ICA(n_components=15, max_iter='auto', random_state=97)\n",
    "ica.fit(raw_copy)\n",
    "ica"
   ]
  },
  {
   "cell_type": "raw",
   "id": "ddea2996-c92a-4baa-ae9f-bcb3f4547b0f",
   "metadata": {},
   "source": [
    "raw_copy.load_data()\n",
    "ica.plot_sources(raw_copy, show_scrollbars=False)"
   ]
  },
  {
   "cell_type": "raw",
   "id": "c6b43b4d-bec2-49a3-a96c-3c1e66d473b5",
   "metadata": {},
   "source": [
    "ica.plot_components()"
   ]
  },
  {
   "cell_type": "raw",
   "id": "b2090082-66b8-48fc-994e-dd5f6f4f4db2",
   "metadata": {},
   "source": [
    "# blinks\n",
    "ica.plot_overlay(raw_copy, exclude=[5], picks='eeg')"
   ]
  },
  {
   "cell_type": "raw",
   "id": "49bafca2-8d97-4555-8762-34c8545f2be1",
   "metadata": {},
   "source": [
    "ica.plot_properties(raw_copy, picks=[5])"
   ]
  },
  {
   "cell_type": "raw",
   "id": "847ecd55-3844-4620-bcfc-671604ba7283",
   "metadata": {},
   "source": [
    "ica.exclude = [5]  # indices chosen based on various plots above"
   ]
  },
  {
   "cell_type": "raw",
   "id": "6cc8789d-f3a7-420d-b9e6-d3ae8a59d9c1",
   "metadata": {},
   "source": [
    "# ica.apply() changes the Raw object in-place, so let's make a copy first:\n",
    "reconst_raw = raw_copy.copy()\n",
    "ica.apply(reconst_raw)\n",
    "\n",
    "raw_copy.plot(title = \"Raw Data\", show_scrollbars=False)\n",
    "reconst_raw.plot(title = \"Reconstructed Data\", show_scrollbars=False)\n",
    "del reconst_raw"
   ]
  },
  {
   "cell_type": "markdown",
   "id": "23e07116-3528-4a24-aa9f-2a1dbe627606",
   "metadata": {},
   "source": [
    "#### EOG Artifact Detector"
   ]
  },
  {
   "cell_type": "code",
   "execution_count": null,
   "id": "b80b71e4-9aa0-471a-b36e-e5932b85f3c0",
   "metadata": {},
   "outputs": [],
   "source": []
  },
  {
   "cell_type": "markdown",
   "id": "58b04950-721c-41f2-b58b-e6018585130c",
   "metadata": {},
   "source": [
    "#### Bring Epochs data back in"
   ]
  },
  {
   "cell_type": "code",
   "execution_count": null,
   "id": "be7bb06e-98e2-40b6-8206-9adc776eaab6",
   "metadata": {},
   "outputs": [],
   "source": [
    "epochs = mne.read_epochs(pathlib.Path('out_data') / 'epochs' / \n",
    "                         'sub-01_ses-01_task-WM1isi0_epochs-epo.fif')\n",
    "#epochs.selection is an array of all epochs that were not thrown out.\n",
    "epochs_selection = epochs.selection\n",
    "epochs_selection"
   ]
  },
  {
   "cell_type": "code",
   "execution_count": null,
   "id": "981b0709-b312-4012-86e3-705ba063aba5",
   "metadata": {},
   "outputs": [],
   "source": [
    "events, event_id = mne.events_from_annotations(raw)\n",
    "events = events[epochs_selection]"
   ]
  },
  {
   "cell_type": "code",
   "execution_count": null,
   "id": "b13fe513-7a5e-4042-a173-8657e6bb38d7",
   "metadata": {},
   "outputs": [],
   "source": [
    "#Filtering to remove slow drifts\n",
    "filt_raw = raw.copy().filter(l_freq=1., h_freq=None)\n",
    "filt_raw"
   ]
  },
  {
   "cell_type": "code",
   "execution_count": null,
   "id": "4d773a88-e8a8-41aa-8f82-22a1a0c382e1",
   "metadata": {},
   "outputs": [],
   "source": [
    "tmin = epochs.tmin #-.250\n",
    "tmax = epochs.tmax #.800\n",
    "\n",
    "#Fit the epochs election into this epoch constructor\n",
    "epochs_ica = mne.Epochs(raw,\n",
    "                        events=events,\n",
    "                        event_id=event_id,\n",
    "                        tmin=tmin,\n",
    "                        tmax=tmax,\n",
    "                        preload=True)"
   ]
  },
  {
   "cell_type": "code",
   "execution_count": null,
   "id": "069b585c-bad4-4468-a444-be19da3e2ed0",
   "metadata": {},
   "outputs": [],
   "source": [
    "epochs_ica.info"
   ]
  },
  {
   "cell_type": "code",
   "execution_count": null,
   "id": "e1d271f7-81af-43d1-b430-69c02e1d716c",
   "metadata": {},
   "outputs": [],
   "source": [
    "n_components = 0.999  \n",
    "\n",
    "method = 'picard' \n",
    "max_iter = 1000  \n",
    "fit_params = dict(fastica_it=5)\n",
    "random_state = 42 \n",
    "\n",
    "#Actually runs the ICA\n",
    "ica = mne.preprocessing.ICA(n_components=n_components,\n",
    "                            #max_pca_components=300,\n",
    "                            method=method,\n",
    "                            max_iter=max_iter,\n",
    "                            fit_params=fit_params,\n",
    "                            random_state=random_state)\n",
    "ica.fit(epochs_ica)"
   ]
  },
  {
   "cell_type": "code",
   "execution_count": null,
   "id": "2eba1a24-686b-437d-81d5-eb3349619308",
   "metadata": {},
   "outputs": [],
   "source": [
    "ica.plot_components(inst=epochs)"
   ]
  },
  {
   "cell_type": "code",
   "execution_count": null,
   "id": "273ac947-671f-4ac3-9b94-dcae9f8f7286",
   "metadata": {},
   "outputs": [],
   "source": [
    "epochs_cleaned = ica.apply(epochs.copy()) "
   ]
  },
  {
   "cell_type": "code",
   "execution_count": null,
   "id": "8481c75a-6ecf-45a4-bf39-5587fcc2c353",
   "metadata": {},
   "outputs": [],
   "source": [
    "#Ploting both after and before plots of epoched data\n",
    "epochs_cleaned.plot(title='After ICA')\n",
    "epochs.plot(title='Before ICA')"
   ]
  },
  {
   "cell_type": "code",
   "execution_count": null,
   "id": "8afd167c-56e8-41d6-b166-c827aa7db45a",
   "metadata": {},
   "outputs": [],
   "source": []
  }
 ],
 "metadata": {
  "kernelspec": {
   "display_name": "Python 3 (ipykernel)",
   "language": "python",
   "name": "python3"
  },
  "language_info": {
   "codemirror_mode": {
    "name": "ipython",
    "version": 3
   },
   "file_extension": ".py",
   "mimetype": "text/x-python",
   "name": "python",
   "nbconvert_exporter": "python",
   "pygments_lexer": "ipython3",
   "version": "3.9.13"
  }
 },
 "nbformat": 4,
 "nbformat_minor": 5
}
