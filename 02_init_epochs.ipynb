{
 "cells": [
  {
   "cell_type": "markdown",
   "id": "c59edce0-53d4-4121-9e78-a9efe7410c0c",
   "metadata": {},
   "source": [
    "# Initial Epochs"
   ]
  },
  {
   "cell_type": "markdown",
   "id": "ba6d7d18-a9e2-4560-a396-710ec61c8cf5",
   "metadata": {},
   "source": [
    "## Import "
   ]
  },
  {
   "cell_type": "code",
   "execution_count": null,
   "id": "38492bad-95e3-4ca1-8278-dfcad4050004",
   "metadata": {},
   "outputs": [],
   "source": [
    "import pathlib\n",
    "import matplotlib\n",
    "\n",
    "import mne\n",
    "import os\n",
    "import mne_bids\n",
    "import matplotlib.pyplot as plt\n",
    "\n",
    "from autoreject import Ransac  \n",
    "from autoreject.utils import (interpolate_bads, set_matplotlib_defaults) \n",
    "\n",
    "matplotlib.use('Agg') #Raises no browsers\n",
    "#matplotlib.use('Qt5Agg') #Raises browsers"
   ]
  },
  {
   "cell_type": "raw",
   "id": "9108052f-3476-4f5d-90ee-c93e2feb3fa0",
   "metadata": {},
   "source": [
    "#Tester\n",
    "subject = '01'\n",
    "session = 'WM1'\n",
    "task = 'isi0'\n",
    "\n",
    "root_path = os.path.join(\"C:/Users/trevo/OneDrive/Desktop/Lab_Files/VWM_LAB\")\n",
    "bids_root = os.path.join(root_path, 'EGI_BIDS')\n",
    "output_path = os.path.join(root_path, 'EGI_OUTPUTS')"
   ]
  },
  {
   "cell_type": "markdown",
   "id": "5d9936fb-ee70-4b5b-a2ad-221a897ae754",
   "metadata": {},
   "source": [
    "## Input Recording "
   ]
  },
  {
   "cell_type": "code",
   "execution_count": null,
   "id": "6e502557-eb74-470b-b0df-1d34645d6543",
   "metadata": {},
   "outputs": [],
   "source": [
    "bids_path = mne_bids.BIDSPath(subject=subject,\n",
    "                              session=session,\n",
    "                              task=task,\n",
    "                              datatype='eeg',\n",
    "                              root=bids_root)\n",
    "\n",
    "raw = mne_bids.read_raw_bids(bids_path) \n",
    "raw.load_data() \n",
    "events, event_id = mne.events_from_annotations(raw) "
   ]
  },
  {
   "cell_type": "markdown",
   "id": "20095bd3-0015-4830-93a5-d9dc73ad5b45",
   "metadata": {},
   "source": [
    "## Reset Channel Types"
   ]
  },
  {
   "cell_type": "code",
   "execution_count": null,
   "id": "c93831e3-c0ba-4605-a469-bc6f9de094ea",
   "metadata": {},
   "outputs": [],
   "source": [
    "raw = raw.copy().pick_types(meg=False, eeg=True, eog=True)\n",
    "raw.set_channel_types({'E8': 'eog'})\n",
    "raw.set_channel_types({'E25': 'eog'})\n",
    "len(raw.ch_names)\n",
    "raw"
   ]
  },
  {
   "cell_type": "code",
   "execution_count": null,
   "id": "91184861-f254-4234-9bc5-2153f778503b",
   "metadata": {},
   "outputs": [],
   "source": [
    "raw.set_eeg_reference('average',ch_type='eeg',projection=True)  # needed for inverse modeling"
   ]
  },
  {
   "cell_type": "markdown",
   "id": "fb210527-ef4a-4038-97d9-85241d32d0c2",
   "metadata": {},
   "source": [
    "## Filter Data"
   ]
  },
  {
   "cell_type": "code",
   "execution_count": null,
   "id": "b7248180-3bd9-4014-83d7-c04b14a0dc57",
   "metadata": {},
   "outputs": [],
   "source": [
    "filter_raw = raw.filter(l_freq=0.1, h_freq=40) \n",
    "filter_raw"
   ]
  },
  {
   "cell_type": "markdown",
   "id": "fd7792bf-618e-4bfa-830f-0eba7edda971",
   "metadata": {},
   "source": [
    "## Epoching Data "
   ]
  },
  {
   "cell_type": "code",
   "execution_count": null,
   "id": "d35aaa73-43c9-4771-a991-5969e14e7e80",
   "metadata": {},
   "outputs": [],
   "source": [
    "tmin = -0.25 #300 ms before the event\n",
    "tmax = 0.8 #500 ms after the onset\n",
    "\n",
    "epochs = mne.Epochs(filter_raw,\n",
    "                    events=events,\n",
    "                    event_id=event_id,\n",
    "                    tmin=tmin,\n",
    "                    tmax=tmax,\n",
    "                    preload=True)\n",
    "epochs"
   ]
  },
  {
   "cell_type": "markdown",
   "id": "9c5e9cf8-1b4d-4478-bef4-1386f36bf439",
   "metadata": {},
   "source": [
    "## Autoreject Bad Channels"
   ]
  },
  {
   "cell_type": "code",
   "execution_count": null,
   "id": "c882fbb9-8a8c-4e28-b453-8647caba03fb",
   "metadata": {},
   "outputs": [],
   "source": [
    "raw.info['bads'] = []"
   ]
  },
  {
   "cell_type": "code",
   "execution_count": null,
   "id": "c33912fa-6dff-400e-abc6-fa1dc90067d2",
   "metadata": {},
   "outputs": [],
   "source": [
    "picks = mne.pick_types(epochs.info, eeg=True,\n",
    "                       stim=False, eog=False,\n",
    "                       include=[], exclude=[])"
   ]
  },
  {
   "cell_type": "code",
   "execution_count": null,
   "id": "bcd87b8d-8df1-4d6d-94b5-2b55108f0f73",
   "metadata": {},
   "outputs": [],
   "source": [
    "print('######################## Computing autoreject. ########################')"
   ]
  },
  {
   "cell_type": "code",
   "execution_count": null,
   "id": "e7325137-3787-4b9b-8404-ea01d9a2353f",
   "metadata": {},
   "outputs": [],
   "source": [
    "ransac = Ransac(verbose=True, picks=picks, n_jobs=1)\n",
    "epochs_clean = ransac.fit_transform(epochs)"
   ]
  },
  {
   "cell_type": "markdown",
   "id": "adb4c41c-5675-48da-9152-e27d46e21d31",
   "metadata": {},
   "source": [
    "### Channels List Report"
   ]
  },
  {
   "cell_type": "code",
   "execution_count": null,
   "id": "2d5431b7-c6e4-4fee-961b-fb5411035b92",
   "metadata": {},
   "outputs": [],
   "source": [
    "eeg_path = \"eeg\"\n",
    "subname = \"sub-\"+subject\n",
    "sesname = \"ses-\"+session\n",
    "epoch_reports = \"02_epochs\""
   ]
  },
  {
   "cell_type": "code",
   "execution_count": null,
   "id": "9879719c-0b2b-4b6f-924b-fb967b716e25",
   "metadata": {},
   "outputs": [],
   "source": [
    "#Makes EEG_OUTPUTS -> subject -> session -> eeg -> rawreports -> epoch_reports\n",
    "if not os.path.exists(os.path.join(output_path, subname, sesname, \n",
    "                                   eeg_path, epoch_reports)):\n",
    "    os.makedirs(os.path.join(output_path, subname, sesname, \n",
    "                             eeg_path, epoch_reports))"
   ]
  },
  {
   "cell_type": "code",
   "execution_count": null,
   "id": "ce6c473e-fb1f-4256-af5c-59f290ce6fc7",
   "metadata": {},
   "outputs": [],
   "source": [
    "epoch_report_path = os.path.join(root_path, \"EGI_OUTPUTS\\\\\"+subname+\"\\\\\"+sesname+\"\\\\\"+eeg_path+\"\\\\\"+epoch_reports)"
   ]
  },
  {
   "cell_type": "code",
   "execution_count": null,
   "id": "148eb899-141d-40c6-9038-7e8c9bccce7c",
   "metadata": {},
   "outputs": [],
   "source": [
    "bad_channel_title =  subname+\"_\"+sesname+\"_task-\"+task+'_bad_channel_report.html'\n",
    "bad_channel_report = mne.Report(title='Bad Channel Report')\n",
    "bad_channel_report.add_html(html=(ransac.bad_chs_), title='bad_channel_report.html')\n",
    "bad_channel_path = os.path.join(epoch_report_path, bad_channel_title)\n",
    "\n",
    "bad_channel_report.save(bad_channel_path, overwrite=True)"
   ]
  },
  {
   "cell_type": "markdown",
   "id": "2181e6ce-d870-4ee0-8ea0-c445d044cd16",
   "metadata": {},
   "source": [
    "### Ransac Plot Report"
   ]
  },
  {
   "cell_type": "code",
   "execution_count": null,
   "id": "71e372fd-8c85-4e98-928f-ae0bb804641f",
   "metadata": {},
   "outputs": [],
   "source": [
    "evoked = epochs.average()\n",
    "evoked_clean = epochs_clean.average()"
   ]
  },
  {
   "cell_type": "code",
   "execution_count": null,
   "id": "a522dd2f-bf4e-4434-bdba-ca45178fd393",
   "metadata": {},
   "outputs": [],
   "source": [
    "evoked.info['bads'] = (ransac.bad_chs_)"
   ]
  },
  {
   "cell_type": "code",
   "execution_count": null,
   "id": "95b5cb30-641b-417f-b45b-d959df49b3ee",
   "metadata": {},
   "outputs": [],
   "source": [
    "set_matplotlib_defaults(plt)\n",
    "\n",
    "fig, axes = plt.subplots(2, 1, figsize=(6, 6))\n",
    "\n",
    "for ax in axes:\n",
    "    ax.tick_params(axis='x', which='both', bottom='off', top='off')\n",
    "    ax.tick_params(axis='y', which='both', left='off', right='off')\n",
    "\n",
    "ylim = dict(eeg=(-40, 50))\n",
    "evoked.pick_types(eeg=True, exclude=[])\n",
    "evoked.plot(exclude=[], axes=axes[0], ylim=ylim, show=False)\n",
    "axes[0].set_title('Before RANSAC', fontsize=12)\n",
    "evoked_clean.pick_types(eeg=True, exclude=[])\n",
    "evoked_clean.plot(exclude=[], axes=axes[1], ylim=ylim)\n",
    "axes[1].set_title('After RANSAC', fontsize=12)\n",
    "fig.tight_layout()"
   ]
  },
  {
   "cell_type": "code",
   "execution_count": null,
   "id": "1ee225ec-bc48-4b83-b6f7-91c37c13db84",
   "metadata": {},
   "outputs": [],
   "source": [
    "ransac_title =  subname+\"_\"+sesname+\"_task-\"+task+'_ransac_report.html'\n",
    "ransac_report = mne.Report(title='Ransac Report')\n",
    "ransac_report.add_figure(fig=fig, title='ransac_report.html')\n",
    "ransac_path = os.path.join(epoch_report_path, ransac_title)\n",
    "\n",
    "ransac_report.save(ransac_path, overwrite=True)"
   ]
  },
  {
   "cell_type": "markdown",
   "id": "a81a7a6f-f7a3-4535-bdf8-f67e1a6fa0f6",
   "metadata": {},
   "source": [
    "### Heatmap Report"
   ]
  },
  {
   "cell_type": "raw",
   "id": "b0eee796-1557-435c-8939-6ae201a76b00",
   "metadata": {},
   "source": [
    "ch_names = [epochs.ch_names[ii] for ii in ransac.picks][7::10]\n",
    "fig, ax = plt.subplots(1, 1, figsize=(12, 6))\n",
    "ax.imshow(ransac.bad_log, cmap='Reds',\n",
    "          interpolation='nearest')\n",
    "ax.grid(False)\n",
    "ax.set_xlabel('Sensors')\n",
    "ax.set_ylabel('Trials')\n",
    "plt.setp(ax, xticks=range(7, len(ransac.picks), 10),\n",
    "         xticklabels=ch_names)\n",
    "plt.setp(ax.get_yticklabels(), rotation=0)\n",
    "plt.setp(ax.get_xticklabels(), rotation=90)\n",
    "ax.tick_params(axis=u'both', which=u'both', length=0)\n",
    "fig.tight_layout(rect=[None, None, None, 1.1])\n",
    "plt.show()"
   ]
  },
  {
   "cell_type": "raw",
   "id": "9f85e32d-c0a9-4636-8d53-bae377969427",
   "metadata": {},
   "source": [
    "heatmap_title =  subname+\"_\"+sesname+\"_\"+task+'_heatmap_report.html'\n",
    "heatmap_report = mne.Report(title='Heatmap Report')\n",
    "heatmap_report.add_html(html=fig, title='heatmap_report.html')\n",
    "heatmap_path = os.path.join(report_path, heatmap_title)\n",
    "\n",
    "heatmap_report.save(heatmap_path, overwrite=True)"
   ]
  },
  {
   "cell_type": "markdown",
   "id": "732cdfba-0da4-4855-a227-890976ac28a8",
   "metadata": {},
   "source": [
    "## Bad Channels List"
   ]
  },
  {
   "cell_type": "code",
   "execution_count": null,
   "id": "3c1a61fb-92a8-45f3-9380-1276cd4232d1",
   "metadata": {},
   "outputs": [],
   "source": [
    "bad_list = (ransac.bad_chs_)\n",
    "bad_list"
   ]
  },
  {
   "cell_type": "markdown",
   "id": "70c22274-ccfb-48f7-8f49-a03077c6ad4d",
   "metadata": {},
   "source": [
    "## Save Epochs "
   ]
  },
  {
   "cell_type": "markdown",
   "id": "7a97030e-25d9-4a53-ae0d-54b0bf21ce4e",
   "metadata": {},
   "source": [
    "Rename each time to match new subject information."
   ]
  },
  {
   "cell_type": "code",
   "execution_count": null,
   "id": "255d1543-697b-4034-806d-03547d18a1ab",
   "metadata": {},
   "outputs": [],
   "source": [
    "epochname = 'sub-'+subject+'_ses-'+session+'_task-'+task+'_epo.fif'\n",
    "epochname"
   ]
  },
  {
   "cell_type": "code",
   "execution_count": null,
   "id": "0fceca03-0fbf-438f-af61-a54fcc272ad1",
   "metadata": {},
   "outputs": [],
   "source": [
    "epoch_path = os.path.join(epoch_report_path, epochname)"
   ]
  },
  {
   "cell_type": "code",
   "execution_count": null,
   "id": "d6d3c66b-09eb-4193-a435-281bfed2287d",
   "metadata": {},
   "outputs": [],
   "source": [
    "epochs.save(epoch_path, overwrite=True)"
   ]
  }
 ],
 "metadata": {
  "kernelspec": {
   "display_name": "Python 3 (ipykernel)",
   "language": "python",
   "name": "python3"
  },
  "language_info": {
   "codemirror_mode": {
    "name": "ipython",
    "version": 3
   },
   "file_extension": ".py",
   "mimetype": "text/x-python",
   "name": "python",
   "nbconvert_exporter": "python",
   "pygments_lexer": "ipython3",
   "version": "3.10.5"
  }
 },
 "nbformat": 4,
 "nbformat_minor": 5
}
