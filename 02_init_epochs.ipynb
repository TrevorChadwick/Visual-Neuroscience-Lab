{
 "cells": [
  {
   "cell_type": "raw",
   "id": "44664d6b-e2fa-4ebe-8f63-b8ea3dd75a9e",
   "metadata": {},
   "source": [
    "subject = '01'\n",
    "session = '01'\n",
    "task = 'WM1isi0'\n",
    "initals = 'DAT'"
   ]
  },
  {
   "cell_type": "markdown",
   "id": "c59edce0-53d4-4121-9e78-a9efe7410c0c",
   "metadata": {},
   "source": [
    "# Creating Epochs and Evoked Data"
   ]
  },
  {
   "cell_type": "markdown",
   "id": "ba6d7d18-a9e2-4560-a396-710ec61c8cf5",
   "metadata": {},
   "source": [
    "## Import "
   ]
  },
  {
   "cell_type": "code",
   "execution_count": null,
   "id": "38492bad-95e3-4ca1-8278-dfcad4050004",
   "metadata": {},
   "outputs": [],
   "source": [
    "import pathlib\n",
    "import matplotlib\n",
    "\n",
    "import mne\n",
    "import mne_bids\n",
    "import matplotlib.pyplot as plt\n",
    "\n",
    "matplotlib.use('Qt5Agg')"
   ]
  },
  {
   "cell_type": "markdown",
   "id": "5d9936fb-ee70-4b5b-a2ad-221a897ae754",
   "metadata": {},
   "source": [
    "## Input Recording "
   ]
  },
  {
   "cell_type": "code",
   "execution_count": null,
   "id": "12692106-15b1-494e-94a0-aa6ad4492d29",
   "metadata": {},
   "outputs": [],
   "source": [
    "subname = 'sub-'+subject\n",
    "filename = 'sub-'+subject+'_ses-'+session+'_task-'+task+'_interpolated_data.fif'\n",
    "filename"
   ]
  },
  {
   "cell_type": "code",
   "execution_count": null,
   "id": "ffb3f04c-96f2-41fe-83bc-4bf264f17b27",
   "metadata": {},
   "outputs": [],
   "source": [
    "raw = mne.io.read_raw(pathlib.Path('out_data') / '02_interpolation_data' / subname / \n",
    "                      filename)\n",
    "events, event_id = mne.events_from_annotations(raw) \n",
    "raw.load_data() "
   ]
  },
  {
   "cell_type": "markdown",
   "id": "fb210527-ef4a-4038-97d9-85241d32d0c2",
   "metadata": {},
   "source": [
    "## Filter Data"
   ]
  },
  {
   "cell_type": "code",
   "execution_count": null,
   "id": "b7248180-3bd9-4014-83d7-c04b14a0dc57",
   "metadata": {},
   "outputs": [],
   "source": [
    "filter_raw = raw.filter(l_freq=0.1, h_freq=40) \n",
    "filter_raw"
   ]
  },
  {
   "cell_type": "markdown",
   "id": "fd7792bf-618e-4bfa-830f-0eba7edda971",
   "metadata": {},
   "source": [
    "## Epoching Data "
   ]
  },
  {
   "cell_type": "code",
   "execution_count": null,
   "id": "d35aaa73-43c9-4771-a991-5969e14e7e80",
   "metadata": {},
   "outputs": [],
   "source": [
    "tmin = -0.25 #300 ms before the event\n",
    "tmax = 0.8 #500 ms after the onset\n",
    "\n",
    "epochs = mne.Epochs(filter_raw,\n",
    "                    events=events,\n",
    "                    event_id=event_id,\n",
    "                    tmin=tmin,\n",
    "                    tmax=tmax,\n",
    "                    preload=True)\n",
    "epochs"
   ]
  },
  {
   "cell_type": "markdown",
   "id": "70c22274-ccfb-48f7-8f49-a03077c6ad4d",
   "metadata": {},
   "source": [
    "## Save Epochs "
   ]
  },
  {
   "cell_type": "markdown",
   "id": "7a97030e-25d9-4a53-ae0d-54b0bf21ce4e",
   "metadata": {},
   "source": [
    "Rename each time to match new subject information."
   ]
  },
  {
   "cell_type": "code",
   "execution_count": null,
   "id": "255d1543-697b-4034-806d-03547d18a1ab",
   "metadata": {},
   "outputs": [],
   "source": [
    "epochname = 'sub-'+subject+'_ses-'+session+'_task-'+task+'_epochs-epo.fif'\n",
    "epochname"
   ]
  },
  {
   "cell_type": "code",
   "execution_count": null,
   "id": "d6d3c66b-09eb-4193-a435-281bfed2287d",
   "metadata": {},
   "outputs": [],
   "source": [
    "epochs.save(pathlib.Path('out_data')\n",
    "            / '02_init_epochs' / subname / epochname)"
   ]
  },
  {
   "cell_type": "code",
   "execution_count": null,
   "id": "788bee4b-57a4-4c38-9196-de2ff4d9e0fd",
   "metadata": {},
   "outputs": [],
   "source": []
  }
 ],
 "metadata": {
  "kernelspec": {
   "display_name": "Python 3 (ipykernel)",
   "language": "python",
   "name": "python3"
  },
  "language_info": {
   "codemirror_mode": {
    "name": "ipython",
    "version": 3
   },
   "file_extension": ".py",
   "mimetype": "text/x-python",
   "name": "python",
   "nbconvert_exporter": "python",
   "pygments_lexer": "ipython3",
   "version": "3.9.13"
  }
 },
 "nbformat": 4,
 "nbformat_minor": 5
}
