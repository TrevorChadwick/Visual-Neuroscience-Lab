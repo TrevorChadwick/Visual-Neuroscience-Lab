{
 "cells": [
  {
   "cell_type": "markdown",
   "id": "f69823d1-6ba9-41a0-beb2-94ed681df1b1",
   "metadata": {},
   "source": [
    "# Forward Operator"
   ]
  },
  {
   "cell_type": "markdown",
   "id": "dc884879-102d-4bf5-8907-eab21ee2b3d2",
   "metadata": {},
   "source": [
    "## Import"
   ]
  },
  {
   "cell_type": "code",
   "execution_count": null,
   "id": "c9bc4889-dc81-434e-ba46-a2037b657756",
   "metadata": {},
   "outputs": [],
   "source": [
    "import os.path as op\n",
    "import numpy as np\n",
    "\n",
    "import os\n",
    "import mne\n",
    "from mne.datasets import fetch_fsaverage\n",
    "import mne_bids\n",
    "import vtk\n",
    "\n",
    "# Download fsaverage files\n",
    "fs_dir = fetch_fsaverage(verbose=True)\n",
    "subjects_dir = op.dirname(fs_dir)\n",
    "\n",
    "# The files live in:\n",
    "fsaverage = 'fsaverage'\n",
    "trans = 'fsaverage'  # MNE has a built-in fsaverage transformation\n",
    "src = op.join(fs_dir, 'bem', 'fsaverage-ico-5-src.fif')\n",
    "bem = op.join(fs_dir, 'bem', 'fsaverage-5120-5120-5120-bem-sol.fif')"
   ]
  },
  {
   "cell_type": "raw",
   "id": "d1f77563-c2d3-48e4-a3f1-1bd222c9f1ef",
   "metadata": {},
   "source": [
    "#Tester\n",
    "subject = '01'\n",
    "session = 'WM1'\n",
    "task = 'isi0'\n",
    "\n",
    "bad_list = ['E4', 'E5', 'E11', 'E26', 'E27', 'E29', 'E33', 'E34', 'E35', 'E39', 'E40', 'E41', 'E50', 'E54', 'E61', 'E68', 'E73', 'E91', 'E106', 'E107', 'E110', 'E111', 'E116', 'E118', 'E123']\n",
    "\n",
    "root_path = os.path.join(\"C:/Users/trevo/OneDrive/Desktop/Lab_Files/VWM_LAB\")\n",
    "bids_root = os.path.join(root_path, 'EGI_BIDS')\n",
    "output_path = os.path.join(root_path, 'EGI_OUTPUTS')"
   ]
  },
  {
   "cell_type": "markdown",
   "id": "e3bf9ff0-7a8f-4f4d-8917-dff2bec17b59",
   "metadata": {},
   "source": [
    "## Input Raw BIDS"
   ]
  },
  {
   "cell_type": "code",
   "execution_count": null,
   "id": "e8126461-07b7-4376-a9ae-928f67bda312",
   "metadata": {},
   "outputs": [],
   "source": [
    "bids_path = mne_bids.BIDSPath(subject=subject,\n",
    "                              session=session,\n",
    "                              task=task,\n",
    "                              datatype='eeg',\n",
    "                              root=bids_root)\n",
    "\n",
    "raw = mne_bids.read_raw_bids(bids_path) \n",
    "raw.load_data() \n",
    "events, event_id = mne.events_from_annotations(raw) \n",
    "raw = raw.copy().pick_types(meg=False, eeg=True, eog=True)"
   ]
  },
  {
   "cell_type": "markdown",
   "id": "2bf4d58f-9e75-4e6f-b59f-9595fcdcf43b",
   "metadata": {},
   "source": [
    "### Interpolate Bads"
   ]
  },
  {
   "cell_type": "code",
   "execution_count": null,
   "id": "5fdc3578-8887-4cf7-8beb-df2f15fcfaf5",
   "metadata": {},
   "outputs": [],
   "source": [
    "raw.info['bads'] = bad_list\n",
    "raw = raw.copy().interpolate_bads(reset_bads=True)"
   ]
  },
  {
   "cell_type": "markdown",
   "id": "3a2fb775-5e0a-446d-ae50-72c485359c65",
   "metadata": {},
   "source": [
    "## Set Montage"
   ]
  },
  {
   "cell_type": "raw",
   "id": "0a45d7b4-cc4c-4a6f-ba36-98fb779eae8c",
   "metadata": {},
   "source": [
    "# Use this to test headset, does it fit this montage?\n",
    "montage = mne.channels.make_standard_montage('GSN-HydroCel-129')\n",
    "fig = montage.plot(kind='3d')\n",
    "fig.gca().view_init(azim=70, elev=15)  # set view angle\n",
    "montage.plot(kind='topomap', show_names=True)"
   ]
  },
  {
   "cell_type": "code",
   "execution_count": null,
   "id": "85288354-08ec-4c18-a068-df92dd32ffaa",
   "metadata": {},
   "outputs": [],
   "source": [
    "print('######################## Setting montage. ########################')"
   ]
  },
  {
   "cell_type": "code",
   "execution_count": null,
   "id": "c34f41c0-a39f-459d-915b-505aab9577e4",
   "metadata": {},
   "outputs": [],
   "source": [
    "# Read and set the EEG electrode locations, which are already in fsaverage's\n",
    "# space (MNI space) for standard_1020:\n",
    "raw.rename_channels(mapping={'VREF' : 'Cz'}) \n",
    "montage = mne.channels.make_standard_montage('GSN-HydroCel-129')\n",
    "#montage = mne.channels.make_dig_montage()\n",
    "raw.set_montage(montage)\n",
    "# It is strongly recommended to use average-reference-as-projection approach\n",
    "#raw.set_eeg_reference(ref_channels=['E129'])  # needed for inverse modeling\n",
    "raw.set_eeg_reference('average',projection=True)  # needed for inverse modeling"
   ]
  },
  {
   "cell_type": "markdown",
   "id": "14d88f57-eed7-4d9d-859a-ad11889f4c5c",
   "metadata": {},
   "source": [
    "#### Plot the Montage"
   ]
  },
  {
   "cell_type": "raw",
   "id": "99045766-c35d-4010-b23d-ed348775ad1c",
   "metadata": {},
   "source": [
    "# Check that the locations of EEG electrodes is correct with respect to MRI\n",
    "mne.viz.plot_alignment(\n",
    "    raw.info, src=src, eeg=['original', 'projected'], trans=trans,\n",
    "    show_axes=True, mri_fiducials=True, dig='fiducials')"
   ]
  },
  {
   "cell_type": "markdown",
   "id": "e89025a1-8392-405f-ab65-e47160141d6f",
   "metadata": {},
   "source": [
    "## Setup Source Space and Compute Forward Solution"
   ]
  },
  {
   "cell_type": "code",
   "execution_count": null,
   "id": "f160c899-8729-4cef-91a6-3a05cf64531e",
   "metadata": {},
   "outputs": [],
   "source": [
    "print('######################## Computing forward solution. ########################')"
   ]
  },
  {
   "cell_type": "code",
   "execution_count": null,
   "id": "29c721f0-90a7-4562-b9c9-6347c4cbf962",
   "metadata": {},
   "outputs": [],
   "source": [
    "fwd = mne.make_forward_solution(raw.info, trans=trans, src=src,\n",
    "                                bem=bem, eeg=True, mindist=5.0, n_jobs=1)\n",
    "print(fwd)"
   ]
  },
  {
   "cell_type": "markdown",
   "id": "3bb37f09-9b24-4b9d-beed-cec4aae5d24f",
   "metadata": {},
   "source": [
    "##### From here, standard forward and inverse operators can be computed"
   ]
  },
  {
   "cell_type": "markdown",
   "id": "0a7a3127-6a4f-4db4-a6e0-1ea12820f0b4",
   "metadata": {},
   "source": [
    "#### Plot the Forward Solution"
   ]
  },
  {
   "cell_type": "raw",
   "id": "fa152d77-c3c3-4a80-b808-812fda4328ee",
   "metadata": {},
   "source": [
    "fig = mne.viz.plot_alignment(\n",
    "    raw.info, subject=\"fsaverage\", subjects_dir=subjects_dir, trans=trans,\n",
    "    src=src, bem=bem, coord_frame='mri', mri_fiducials=True, show_axes=True,\n",
    "    surfaces=('white', 'outer_skin', 'inner_skull', 'outer_skull'))\n",
    "mne.viz.set_3d_view(fig, 25, 70, focalpoint=[0, -0.005, 0.01])"
   ]
  },
  {
   "cell_type": "markdown",
   "id": "049a1041-6d16-4b12-a302-637c0889a315",
   "metadata": {},
   "source": [
    "# Write Forward Solution"
   ]
  },
  {
   "cell_type": "code",
   "execution_count": null,
   "id": "92a1c752-50c8-4341-b873-bb4f43edafa7",
   "metadata": {},
   "outputs": [],
   "source": [
    "eeg_path = \"eeg\"\n",
    "subname = \"sub-\"+subject\n",
    "sesname = \"ses-\"+session\n",
    "forward_solution = \"05_fwd\""
   ]
  },
  {
   "cell_type": "code",
   "execution_count": null,
   "id": "1a84c567-660a-47a2-97dd-1e23420b7f88",
   "metadata": {},
   "outputs": [],
   "source": [
    "#Makes EEG_OUTPUTS -> subject -> session -> eeg -> rawreports -> epoch_reports\n",
    "if not os.path.exists(os.path.join(output_path, subname, sesname, \n",
    "                                   eeg_path, forward_solution)):\n",
    "    os.makedirs(os.path.join(output_path, subname, sesname, \n",
    "                             eeg_path, forward_solution))"
   ]
  },
  {
   "cell_type": "code",
   "execution_count": null,
   "id": "e2a80ff7-b1af-48c4-af72-a54b8c6f8b19",
   "metadata": {},
   "outputs": [],
   "source": [
    "forward_path = os.path.join(root_path, \"EGI_OUTPUTS\\\\\"+subname+\"\\\\\"+sesname+\"\\\\\"+eeg_path+\"\\\\\"+forward_solution)\n",
    "forward_title =  'sub-'+subject+'_ses-'+session+'_task-'+task+'_fwd.fif'\n",
    "subject_forward_path = os.path.join(forward_path, forward_title)"
   ]
  },
  {
   "cell_type": "code",
   "execution_count": null,
   "id": "323773ab-8cef-4242-8bb5-3eaedcb5ff83",
   "metadata": {},
   "outputs": [],
   "source": [
    "mne.write_forward_solution(subject_forward_path, fwd, overwrite=True)"
   ]
  },
  {
   "cell_type": "code",
   "execution_count": null,
   "id": "65532a8a-160b-4864-b38a-2e21169946b3",
   "metadata": {},
   "outputs": [],
   "source": []
  }
 ],
 "metadata": {
  "kernelspec": {
   "display_name": "Python 3 (ipykernel)",
   "language": "python",
   "name": "python3"
  },
  "language_info": {
   "codemirror_mode": {
    "name": "ipython",
    "version": 3
   },
   "file_extension": ".py",
   "mimetype": "text/x-python",
   "name": "python",
   "nbconvert_exporter": "python",
   "pygments_lexer": "ipython3",
   "version": "3.10.5"
  }
 },
 "nbformat": 4,
 "nbformat_minor": 5
}
