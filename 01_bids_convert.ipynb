{
 "cells": [
  {
   "cell_type": "raw",
   "id": "98814f20-3e0c-401c-baf7-4a4f0f40d569",
   "metadata": {},
   "source": [
    "WMfolder = 'WM1'\n",
    "subfolder = 's8'\n",
    "mffname = 'WM1_isi500_s8_20200729_114544.mff'\n",
    "\n",
    "subject = '08'\n",
    "session = '02'\n",
    "task = 'WM1isi500'\n",
    "initals = 'DHL'"
   ]
  },
  {
   "cell_type": "markdown",
   "id": "9e016986-14b8-4b0d-97e3-15c39bb48da0",
   "metadata": {},
   "source": [
    "# Brain Imaging Data Structure Converter "
   ]
  },
  {
   "cell_type": "markdown",
   "id": "f2548144-8ff2-433f-909a-93ab414d9138",
   "metadata": {},
   "source": [
    "Converts the Net Station data into a single session of a single subject. Iterate to create a BIDS compliant data structure, Check with the BIDS validator to see if this data structure is valid."
   ]
  },
  {
   "cell_type": "markdown",
   "id": "965bfe57-3119-4f3f-9ec1-825ea7e3f012",
   "metadata": {
    "tags": []
   },
   "source": [
    "## Import "
   ]
  },
  {
   "cell_type": "code",
   "execution_count": 18,
   "id": "502b8c38-f84d-4c25-8ccb-580f15532a40",
   "metadata": {},
   "outputs": [],
   "source": [
    "import matplotlib\n",
    "import pathlib\n",
    "\n",
    "import mne\n",
    "import mne_bids\n",
    "\n",
    "matplotlib.use('Qt5Agg')"
   ]
  },
  {
   "cell_type": "markdown",
   "id": "138b3c2c-051c-45be-806e-6142cb6b0400",
   "metadata": {},
   "source": [
    "## Create a Directory "
   ]
  },
  {
   "cell_type": "markdown",
   "id": "ad82e476-27fb-4b62-96fd-878fc29d81c4",
   "metadata": {},
   "source": [
    "Rewrite this subject directory object to connect to local PCs raw lab data location."
   ]
  },
  {
   "cell_type": "code",
   "execution_count": 19,
   "id": "91e4a852-1cb3-45b2-8aab-14b1ebb483d7",
   "metadata": {},
   "outputs": [],
   "source": [
    "subject_dir = \"C:/Users/trevo/Desktop/Lab_Files/WM_eegData/\"\n",
    "subject_dir = pathlib.Path(subject_dir)"
   ]
  },
  {
   "cell_type": "markdown",
   "id": "07a0290c-f02e-4bc4-bca6-cdb12e0d9a0c",
   "metadata": {},
   "source": [
    "Rewrite this below code each time as new data is read in."
   ]
  },
  {
   "cell_type": "code",
   "execution_count": 20,
   "id": "fbd75c1e-ee27-445e-a847-3a01846f1ded",
   "metadata": {},
   "outputs": [
    {
     "name": "stdout",
     "output_type": "stream",
     "text": [
      "Reading EGI MFF Header from C:\\Users\\trevo\\Desktop\\Lab_Files\\WM_eegData\\WM1\\s8\\WM1_isi500_s8_20200729_114544.mff...\n",
      "    Reading events ...\n",
      "    Assembling measurement info ...\n",
      "    Synthesizing trigger channel \"STI 014\" ...\n",
      "    Excluding events {SESS} ...\n",
      "Reading 0 ... 486747  =      0.000 ...   486.747 secs...\n"
     ]
    },
    {
     "data": {
      "text/html": [
       "<table class=\"table table-hover table-striped table-sm table-responsive small\">\n",
       "    <tr>\n",
       "        <th>Measurement date</th>\n",
       "        \n",
       "        <td>July 29, 2020  16:45:44 GMT</td>\n",
       "        \n",
       "    </tr>\n",
       "    <tr>\n",
       "        <th>Experimenter</th>\n",
       "        \n",
       "        <td>Unknown</td>\n",
       "        \n",
       "    </tr>\n",
       "        <th>Participant</th>\n",
       "        \n",
       "        <td>Unknown</td>\n",
       "        \n",
       "    </tr>\n",
       "    <tr>\n",
       "        <th>Digitized points</th>\n",
       "        \n",
       "        <td>0 points</td>\n",
       "        \n",
       "    </tr>\n",
       "    <tr>\n",
       "        <th>Good channels</th>\n",
       "        <td>129 EEG, 8 Stimulus</td>\n",
       "    </tr>\n",
       "    <tr>\n",
       "        <th>Bad channels</th>\n",
       "        <td>None</td>\n",
       "    </tr>\n",
       "    <tr>\n",
       "        <th>EOG channels</th>\n",
       "        <td>Not available</td>\n",
       "    </tr>\n",
       "    <tr>\n",
       "        <th>ECG channels</th>\n",
       "        <td>Not available</td>\n",
       "    \n",
       "    <tr>\n",
       "        <th>Sampling frequency</th>\n",
       "        <td>1000.00 Hz</td>\n",
       "    </tr>\n",
       "    \n",
       "    \n",
       "    <tr>\n",
       "        <th>Highpass</th>\n",
       "        <td>0.00 Hz</td>\n",
       "    </tr>\n",
       "    \n",
       "    \n",
       "    <tr>\n",
       "        <th>Lowpass</th>\n",
       "        <td>500.00 Hz</td>\n",
       "    </tr>\n",
       "    \n",
       "    \n",
       "    \n",
       "    <tr>\n",
       "        <th>Filenames</th>\n",
       "        <td>signal1.bin</td>\n",
       "    </tr>\n",
       "    \n",
       "    <tr>\n",
       "        <th>Duration</th>\n",
       "        <td>00:08:06 (HH:MM:SS)</td>\n",
       "    </tr>\n",
       "</table>"
      ],
      "text/plain": [
       "<RawMff | signal1.bin, 137 x 486748 (486.7 s), ~508.9 MB, data loaded>"
      ]
     },
     "execution_count": 20,
     "metadata": {},
     "output_type": "execute_result"
    }
   ],
   "source": [
    "raw_path = subject_dir / WMfolder / subfolder / mffname\n",
    "raw = mne.io.read_raw_egi(raw_path)\n",
    "raw.load_data() "
   ]
  },
  {
   "cell_type": "markdown",
   "id": "03590f35-5218-4fc8-8720-98258369b77b",
   "metadata": {
    "tags": []
   },
   "source": [
    "## Find and Declare Event Names "
   ]
  },
  {
   "cell_type": "markdown",
   "id": "93aef248-951b-4371-9cfd-c5370221bb83",
   "metadata": {},
   "source": [
    "This will label all trial_type information with these event names, found in sub-01_ses-01_task-WM1 isi0_events.tsv within the session data."
   ]
  },
  {
   "cell_type": "code",
   "execution_count": null,
   "id": "9eb56d7c-185d-45e2-99b1-305b6fe12771",
   "metadata": {},
   "outputs": [],
   "source": [
    "pre_events = mne.find_events(raw, 'STI 014')\n",
    "events = mne.pick_events(pre_events, exclude=[1, 3])\n",
    "event_id = {\n",
    "    'CELL': 1,\n",
    "    'bgin': 2,\n",
    "    'TRSP': 3,\n",
    "    'fix+': 4,\n",
    "    'WMD+': 5,\n",
    "    'TsD-': 6\n",
    "}\n",
    "\n",
    "events #Figure out these events!"
   ]
  },
  {
   "cell_type": "markdown",
   "id": "b4e2e000-0577-40c6-8396-c2fda6a9d95d",
   "metadata": {
    "tags": []
   },
   "source": [
    "## Specify the Power Line Frequency "
   ]
  },
  {
   "cell_type": "code",
   "execution_count": null,
   "id": "42b5b98e-bf4e-4faa-bff7-be04357a866d",
   "metadata": {},
   "outputs": [],
   "source": [
    "raw.info['line_freq'] = 60 #The hertz of the powerlines fed into the lab "
   ]
  },
  {
   "cell_type": "markdown",
   "id": "ff78e84e-c236-4363-93c0-fc538a684a9c",
   "metadata": {},
   "source": [
    "## Set EEG Reference and EOG Fields"
   ]
  },
  {
   "cell_type": "code",
   "execution_count": null,
   "id": "5f05296d-6584-4f35-ae5a-3f5aa773fb62",
   "metadata": {},
   "outputs": [],
   "source": [
    "raw = raw.copy().pick_types(meg=False, eeg=True, eog=True)\n",
    "raw.set_eeg_reference(ref_channels=['E129'])\n",
    "raw.set_channel_types({'E8': 'eog'})\n",
    "raw.set_channel_types({'E25': 'eog'})\n",
    "len(raw.ch_names)\n",
    "raw"
   ]
  },
  {
   "cell_type": "markdown",
   "id": "c652ec32-78e9-4f42-89d5-7390636fdc97",
   "metadata": {
    "tags": []
   },
   "source": [
    "## Specify Subject Information "
   ]
  },
  {
   "cell_type": "markdown",
   "id": "2fef53d0-dc20-46fb-99e4-a0e38eda4a96",
   "metadata": {},
   "source": [
    "You will need to edit this as each new raw data input is made, look for way to streamline/automate this? Figure out a way to put initial information to participants.tsv file"
   ]
  },
  {
   "cell_type": "code",
   "execution_count": null,
   "id": "b44d8833-6067-4323-bb57-85aad6d10eae",
   "metadata": {},
   "outputs": [],
   "source": [
    "subject_info = {\n",
    "    'initials' : initals\n",
    "    #'birthday': (1970,10,1),\n",
    "    #'sex': 2,\n",
    "    #'hand': 2\n",
    "}\n",
    "\n",
    "raw.info['subject_info'] = subject_info\n",
    "raw.info"
   ]
  },
  {
   "cell_type": "markdown",
   "id": "1a10b80e-ee14-4942-8772-450079e8148f",
   "metadata": {},
   "source": [
    "## Write in the Data"
   ]
  },
  {
   "cell_type": "markdown",
   "id": "14093856-6bc4-4919-bdda-e3925a7404c4",
   "metadata": {},
   "source": [
    "Will list this data in participants.json and participants.tsv, as well as use it to establish the direction of the data structure."
   ]
  },
  {
   "cell_type": "markdown",
   "id": "43609cd3-8cbc-43f2-b235-bbbcf1bfb0cf",
   "metadata": {},
   "source": [
    "You will need to specify the subject number, session, and task on each iteration."
   ]
  },
  {
   "cell_type": "code",
   "execution_count": null,
   "id": "3d4a9bcd-318f-4844-8ea4-7ae76f5470fb",
   "metadata": {},
   "outputs": [],
   "source": [
    "out_path = pathlib.Path('out_data/01_bids_structure') #Into which directory the data should go\n",
    "\n",
    "bids_path = mne_bids.BIDSPath(subject=subject,\n",
    "                              session=session,\n",
    "                              task=task,\n",
    "                              root=out_path) #An object that specifies the location of BIDS files\n",
    "\n",
    "mne_bids.write_raw_bids(raw, bids_path=bids_path, events_data=events, format=\"BrainVision\", allow_preload=True,\n",
    "                        event_id=event_id) #Writes the data"
   ]
  }
 ],
 "metadata": {
  "kernelspec": {
   "display_name": "Python 3 (ipykernel)",
   "language": "python",
   "name": "python3"
  },
  "language_info": {
   "codemirror_mode": {
    "name": "ipython",
    "version": 3
   },
   "file_extension": ".py",
   "mimetype": "text/x-python",
   "name": "python",
   "nbconvert_exporter": "python",
   "pygments_lexer": "ipython3",
   "version": "3.9.13"
  }
 },
 "nbformat": 4,
 "nbformat_minor": 5
}
