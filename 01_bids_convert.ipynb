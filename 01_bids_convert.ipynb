{
 "cells": [
  {
   "cell_type": "markdown",
   "id": "398a316e-e897-4f78-9494-fbe19f1e3f28",
   "metadata": {},
   "source": [
    "# BIDS Converter "
   ]
  },
  {
   "cell_type": "markdown",
   "id": "1c489391-513f-4004-9018-dc479bc9adb5",
   "metadata": {},
   "source": [
    "## Import"
   ]
  },
  {
   "cell_type": "code",
   "execution_count": null,
   "id": "90924432-dc91-4c48-82b6-9b987f2dae68",
   "metadata": {},
   "outputs": [],
   "source": [
    "import matplotlib\n",
    "import pathlib\n",
    "\n",
    "import os\n",
    "import mne\n",
    "import mne_bids\n",
    "\n",
    "from mne_bids import (write_raw_bids, BIDSPath,\n",
    "                      make_report, print_dir_tree)\n",
    "from mne_bids.stats import count_events\n",
    "from pathlib import Path\n",
    "\n",
    "matplotlib.use('Agg') #Raises no browsers\n",
    "#matplotlib.use('Qt5Agg') #Raises browsers"
   ]
  },
  {
   "cell_type": "raw",
   "id": "5ef0fe9b-ed9c-4608-8120-9908a4aade8a",
   "metadata": {},
   "source": [
    "#Tester\n",
    "subject = '07'\n",
    "session = 'WM1'\n",
    "task = 'isi750'\n",
    "\n",
    "root_path = os.path.join(\"C:/Users/trevo/OneDrive/Desktop/Lab_Files/VWM_LAB\")\n",
    "bids_root = os.path.join(root_path, 'EGI_BIDS')\n",
    "output_path = os.path.join(root_path, 'EGI_OUTPUTS')"
   ]
  },
  {
   "cell_type": "markdown",
   "id": "3860a94d-c1a7-43e6-91dc-ef65b66a90dc",
   "metadata": {},
   "source": [
    "## Print Name"
   ]
  },
  {
   "cell_type": "code",
   "execution_count": null,
   "id": "fe56e852-376e-4a51-ad54-97f24ed71e13",
   "metadata": {},
   "outputs": [],
   "source": [
    "printname = 'sub-'+subject+'_ses-'+session+'_task-'+task"
   ]
  },
  {
   "cell_type": "code",
   "execution_count": null,
   "id": "9b4e5013-3e28-4c42-9bae-a544fc7e3415",
   "metadata": {},
   "outputs": [],
   "source": [
    "print('######################## Input: ['+printname+'] ########################')"
   ]
  },
  {
   "cell_type": "markdown",
   "id": "d767dfeb-2853-417f-b542-69f65ddf4da4",
   "metadata": {
    "tags": []
   },
   "source": [
    "## Set Path"
   ]
  },
  {
   "cell_type": "code",
   "execution_count": null,
   "id": "6340ec67-da8e-4968-b8b1-fe3ea18fb053",
   "metadata": {},
   "outputs": [],
   "source": [
    "mffname = task+'.mff'"
   ]
  },
  {
   "cell_type": "code",
   "execution_count": null,
   "id": "b3f013fb-6730-48bd-a10d-a2ace89e2746",
   "metadata": {},
   "outputs": [],
   "source": [
    "raw_path = os.path.join(root_path, \"EGI_RAW/\"+subject+\"/\"+session+\"/\"+mffname)"
   ]
  },
  {
   "cell_type": "markdown",
   "id": "b2be7cf5-5014-49c7-8c69-e540a7d714eb",
   "metadata": {},
   "source": [
    "## Read Raw"
   ]
  },
  {
   "cell_type": "markdown",
   "id": "710dd954-f233-4d1c-b45e-f5737e6280ae",
   "metadata": {},
   "source": [
    "Modifying data in-place\n",
    "https://mne.tools/stable/auto_tutorials/intro/15_inplace.html\n"
   ]
  },
  {
   "cell_type": "code",
   "execution_count": null,
   "id": "2deda919-3b5a-47fb-a9b6-6f0b1c7084a2",
   "metadata": {},
   "outputs": [],
   "source": [
    "raw = mne.io.read_raw_egi(raw_path)\n",
    "raw.load_data() "
   ]
  },
  {
   "cell_type": "markdown",
   "id": "862cfc88-120c-45cc-8872-990c785bbd9c",
   "metadata": {},
   "source": [
    "## Label Events"
   ]
  },
  {
   "cell_type": "markdown",
   "id": "2bf6e847-b307-43ad-9a61-5fb63f331113",
   "metadata": {},
   "source": [
    "Parsing events from raw data\n",
    "https://mne.tools/stable/auto_tutorials/intro/20_events_from_raw.html"
   ]
  },
  {
   "cell_type": "markdown",
   "id": "72eb9f88-1736-401f-9853-762afabe33ea",
   "metadata": {},
   "source": [
    "Working with events\n",
    "https://mne.tools/stable/auto_tutorials/raw/20_event_arrays.html"
   ]
  },
  {
   "cell_type": "code",
   "execution_count": null,
   "id": "b3721356-9702-4506-92e3-07f81c5a95e6",
   "metadata": {},
   "outputs": [],
   "source": [
    "pre_events = mne.find_events(raw, 'STI 014')\n",
    "events = mne.pick_events(pre_events)#, exclude=[1, 2, 3, 4, 6])\n",
    "event_id = {\n",
    "    'CELL': 1,\n",
    "    'bgin': 2, #when each trial starts\n",
    "    'TRSP': 3, \n",
    "    'fix+': 4, #when the fixation cross appears\n",
    "    'WMD+': 5, #onset of the working memory display \n",
    "    'TsD-': 6 #onset of the test display\n",
    "}\n",
    "\n",
    "events "
   ]
  },
  {
   "cell_type": "markdown",
   "id": "efa420e0-3ed9-431e-91d4-babd849078bf",
   "metadata": {},
   "source": [
    "## Power Frequency in Lab"
   ]
  },
  {
   "cell_type": "code",
   "execution_count": null,
   "id": "723c6770-e23b-4f17-adbf-22931cb22079",
   "metadata": {},
   "outputs": [],
   "source": [
    "raw.info['line_freq'] = 60 #The hertz of the powerlines fed into the lab "
   ]
  },
  {
   "cell_type": "markdown",
   "id": "a3ebf8c8-9c44-4ab5-b9cc-3895e5e23510",
   "metadata": {},
   "source": [
    "## View Raw Data"
   ]
  },
  {
   "cell_type": "markdown",
   "id": "3a3ef2a9-d727-4f7c-a64d-b8b7062c5672",
   "metadata": {},
   "source": [
    "Built-in plotting methods for Raw objects\n",
    "https://mne.tools/stable/auto_tutorials/raw/40_visualize_raw.html"
   ]
  },
  {
   "cell_type": "raw",
   "id": "5b407119-2120-4009-a871-dcbc34df328b",
   "metadata": {},
   "source": [
    "raw.plot()"
   ]
  },
  {
   "cell_type": "markdown",
   "id": "3cc3e528-f617-4713-b21c-bad1ce01a634",
   "metadata": {},
   "source": [
    "## Create BIDS Path"
   ]
  },
  {
   "cell_type": "markdown",
   "id": "17d08385-9d60-4a02-917b-ac62b300e170",
   "metadata": {},
   "source": [
    "Importing data from EEG devices\n",
    "https://mne.tools/stable/auto_tutorials/io/20_reading_eeg_data.html"
   ]
  },
  {
   "cell_type": "code",
   "execution_count": null,
   "id": "eb20da82-119a-4c94-91c6-24d3e9c7c062",
   "metadata": {},
   "outputs": [],
   "source": [
    "print('######################## Computing BIDS path. ########################')"
   ]
  },
  {
   "cell_type": "code",
   "execution_count": null,
   "id": "7af79347-3fba-4b31-add2-6b5d2d14bfdd",
   "metadata": {},
   "outputs": [],
   "source": [
    "bids_path = mne_bids.BIDSPath(subject=subject,\n",
    "                              session=session,\n",
    "                              task=task,\n",
    "                              root=bids_root) #An object that specifies the location of BIDS files\n",
    "\n",
    "mne_bids.write_raw_bids(raw, bids_path=bids_path, events_data=events, format=\"BrainVision\", allow_preload=True,\n",
    "                        event_id=event_id, overwrite=True) #Writes the data"
   ]
  },
  {
   "cell_type": "markdown",
   "id": "e4d70138-81a4-4856-b6a4-11c6bb6ea000",
   "metadata": {},
   "source": [
    "## Reports"
   ]
  },
  {
   "cell_type": "raw",
   "id": "998591b8-c308-4e51-bd74-50ccd6df8794",
   "metadata": {},
   "source": [
    "counts = count_events(bids_root)\n",
    "counts"
   ]
  },
  {
   "cell_type": "markdown",
   "id": "3755089f-ddfc-468d-8e90-5ba90db22f89",
   "metadata": {},
   "source": [
    "### Raw Report"
   ]
  },
  {
   "cell_type": "markdown",
   "id": "7bd314c4-0266-4d3b-a740-57079e45dd64",
   "metadata": {},
   "source": [
    "#### Set Path"
   ]
  },
  {
   "cell_type": "code",
   "execution_count": null,
   "id": "84a97f27-137e-4220-9d57-ce55f1fe340c",
   "metadata": {},
   "outputs": [],
   "source": [
    "eeg_path = \"eeg\"\n",
    "subname = \"sub-\"+subject\n",
    "sesname = \"ses-\"+session\n",
    "rawreports = \"01_raw\""
   ]
  },
  {
   "cell_type": "code",
   "execution_count": null,
   "id": "c913e664-74ad-4e80-adbe-5213adf3dd07",
   "metadata": {},
   "outputs": [],
   "source": [
    "#Makes EEG_OUTPUTS -> subject -> session -> eeg -> rawreports -> task\n",
    "if not os.path.exists(os.path.join(output_path, subname, sesname, \n",
    "                                   eeg_path, rawreports)):\n",
    "    os.makedirs(os.path.join(output_path, subname, sesname, \n",
    "                             eeg_path, rawreports))"
   ]
  },
  {
   "cell_type": "code",
   "execution_count": null,
   "id": "94d7947c-db88-4c9d-9402-73257bc963f2",
   "metadata": {},
   "outputs": [],
   "source": [
    "report_path = os.path.join(root_path, \"EGI_OUTPUTS\\\\sub-\"+subject+\"\\\\ses-\"+session+\"\\\\eeg\\\\\"+rawreports)"
   ]
  },
  {
   "cell_type": "markdown",
   "id": "5a4d0554-422f-4f78-8bd1-bb4df5de0791",
   "metadata": {},
   "source": [
    "#### Save Raw Report"
   ]
  },
  {
   "cell_type": "code",
   "execution_count": null,
   "id": "6855b46e-02ec-431f-be50-6e8217b045ba",
   "metadata": {},
   "outputs": [],
   "source": [
    "rawreport = subname+\"_\"+sesname+\"_\"+task+'_report_raw.html'"
   ]
  },
  {
   "cell_type": "code",
   "execution_count": null,
   "id": "463c5b98-7254-49a2-bca4-0991c4525613",
   "metadata": {},
   "outputs": [],
   "source": [
    "report = mne.Report(title='Raw Report')\n",
    "report.add_raw(raw=raw, title='Raw', psd=False, scalings=dict(eeg=100e-6))  # omit PSD plot\n",
    "raw_report_path = os.path.join(report_path, rawreport)\n",
    "report.save(raw_report_path, overwrite=True)"
   ]
  },
  {
   "cell_type": "markdown",
   "id": "2a553140-75d8-44e5-9aea-2d407322867a",
   "metadata": {},
   "source": [
    "### Events Report"
   ]
  },
  {
   "cell_type": "code",
   "execution_count": null,
   "id": "99959c72-a92c-4edc-945e-f421cddaa59d",
   "metadata": {},
   "outputs": [],
   "source": [
    "sfreq = raw.info['sfreq']\n",
    "eventreport = subname+\"_\"+sesname+\"_\"+task+'_report_events.html'\n",
    "\n",
    "report = mne.Report(title='Events example')\n",
    "report.add_events(events=events, title='Events from \"events\"', sfreq=sfreq)\n",
    "event_path = os.path.join(report_path, eventreport)\n",
    "\n",
    "report.save(event_path, overwrite=True)"
   ]
  },
  {
   "cell_type": "markdown",
   "id": "fcccd15c-1348-4e99-9b19-140fc2c001f4",
   "metadata": {},
   "source": [
    "### Full Report"
   ]
  },
  {
   "cell_type": "code",
   "execution_count": null,
   "id": "415ee2f3-86ca-45f8-be09-ab26889719db",
   "metadata": {},
   "outputs": [],
   "source": [
    "dataset_report = make_report(root=bids_root)\n",
    "full_report = mne.Report(title='Full Report')\n",
    "full_report.add_html(html=dataset_report, title='full_report.html')\n",
    "report_path = os.path.join(output_path, 'full_report.html')\n",
    "\n",
    "full_report.save(report_path, overwrite=True)"
   ]
  },
  {
   "cell_type": "code",
   "execution_count": null,
   "id": "b06aec69-cd04-464f-84de-219ea153d1b7",
   "metadata": {},
   "outputs": [],
   "source": []
  }
 ],
 "metadata": {
  "kernelspec": {
   "display_name": "Python 3 (ipykernel)",
   "language": "python",
   "name": "python3"
  },
  "language_info": {
   "codemirror_mode": {
    "name": "ipython",
    "version": 3
   },
   "file_extension": ".py",
   "mimetype": "text/x-python",
   "name": "python",
   "nbconvert_exporter": "python",
   "pygments_lexer": "ipython3",
   "version": "3.10.5"
  }
 },
 "nbformat": 4,
 "nbformat_minor": 5
}
