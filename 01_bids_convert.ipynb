{
 "cells": [
  {
   "cell_type": "markdown",
   "id": "9e016986-14b8-4b0d-97e3-15c39bb48da0",
   "metadata": {},
   "source": [
    "# Brain Imaging Data Structure Converter "
   ]
  },
  {
   "cell_type": "markdown",
   "id": "f2548144-8ff2-433f-909a-93ab414d9138",
   "metadata": {},
   "source": [
    "Converts the Net Station data into a single session of a single subject. Iterate to create a BIDS compliant data structure, Check with the BIDS validator to see if this data structure is valid."
   ]
  },
  {
   "cell_type": "markdown",
   "id": "965bfe57-3119-4f3f-9ec1-825ea7e3f012",
   "metadata": {},
   "source": [
    "### Import ✔️"
   ]
  },
  {
   "cell_type": "code",
   "execution_count": 1,
   "id": "502b8c38-f84d-4c25-8ccb-580f15532a40",
   "metadata": {},
   "outputs": [],
   "source": [
    "import matplotlib\n",
    "import pathlib\n",
    "\n",
    "import mne\n",
    "import mne_bids\n",
    "\n",
    "matplotlib.use('Qt5Agg')"
   ]
  },
  {
   "cell_type": "markdown",
   "id": "138b3c2c-051c-45be-806e-6142cb6b0400",
   "metadata": {},
   "source": [
    "### Create a Directory ✔️"
   ]
  },
  {
   "cell_type": "markdown",
   "id": "ad82e476-27fb-4b62-96fd-878fc29d81c4",
   "metadata": {},
   "source": [
    "Rewrite this subject directory object to connect to local PCs raw lab data location."
   ]
  },
  {
   "cell_type": "code",
   "execution_count": 2,
   "id": "91e4a852-1cb3-45b2-8aab-14b1ebb483d7",
   "metadata": {},
   "outputs": [],
   "source": [
    "subject_dir = \"C:/Users/trevo/Desktop/Lab_Files/WM_eegData/\"\n",
    "subject_dir = pathlib.Path(subject_dir)"
   ]
  },
  {
   "cell_type": "markdown",
   "id": "07a0290c-f02e-4bc4-bca6-cdb12e0d9a0c",
   "metadata": {},
   "source": [
    "Rewrite this below code each time as new data is read in."
   ]
  },
  {
   "cell_type": "code",
   "execution_count": 3,
   "id": "fbd75c1e-ee27-445e-a847-3a01846f1ded",
   "metadata": {},
   "outputs": [
    {
     "name": "stdout",
     "output_type": "stream",
     "text": [
      "Reading EGI MFF Header from C:\\Users\\trevo\\Desktop\\Lab_Files\\WM_eegData\\WM1\\S1\\WM_1_isi0_s1c_20191110_020011.mff...\n",
      "    Reading events ...\n",
      "    Assembling measurement info ...\n",
      "    Synthesizing trigger channel \"STI 014\" ...\n",
      "    Excluding events {SESS} ...\n"
     ]
    }
   ],
   "source": [
    "raw_path = subject_dir / 'WM1' / 'S1' / 'WM_1_isi0_s1c_20191110_020011.mff'\n",
    "raw = mne.io.read_raw_egi(raw_path)"
   ]
  },
  {
   "cell_type": "markdown",
   "id": "03590f35-5218-4fc8-8720-98258369b77b",
   "metadata": {},
   "source": [
    "### Find and Declare Event Names ✔️"
   ]
  },
  {
   "cell_type": "markdown",
   "id": "93aef248-951b-4371-9cfd-c5370221bb83",
   "metadata": {},
   "source": [
    "This will label all trial_type information with these event names, found in sub-01_ses-01_task-WM1 isi0_events.tsv within the session data."
   ]
  },
  {
   "cell_type": "code",
   "execution_count": 4,
   "id": "9eb56d7c-185d-45e2-99b1-305b6fe12771",
   "metadata": {},
   "outputs": [
    {
     "name": "stdout",
     "output_type": "stream",
     "text": [
      "533 events found\n",
      "Event IDs: [1 2 3 4 5 6]\n"
     ]
    },
    {
     "data": {
      "text/plain": [
       "array([[  4104,      0,      2],\n",
       "       [  5637,      0,      4],\n",
       "       [  6137,      0,      5],\n",
       "       ...,\n",
       "       [359901,      0,      4],\n",
       "       [360401,      0,      5],\n",
       "       [360869,      0,      6]], dtype=int64)"
      ]
     },
     "execution_count": 4,
     "metadata": {},
     "output_type": "execute_result"
    }
   ],
   "source": [
    "pre_events = mne.find_events(raw, 'STI 014')\n",
    "events = mne.pick_events(pre_events, exclude=[1, 3])\n",
    "event_id = {\n",
    "    'CELL': 1,\n",
    "    'bgin': 2,\n",
    "    'TRSP': 3,\n",
    "    'fix+': 4,\n",
    "    'WMD+': 5,\n",
    "    'TsD-': 6\n",
    "}\n",
    "\n",
    "events #Figure out these events!"
   ]
  },
  {
   "cell_type": "markdown",
   "id": "b4e2e000-0577-40c6-8396-c2fda6a9d95d",
   "metadata": {},
   "source": [
    "### Specify the Power Line Frequency ✔️"
   ]
  },
  {
   "cell_type": "code",
   "execution_count": 5,
   "id": "42b5b98e-bf4e-4faa-bff7-be04357a866d",
   "metadata": {},
   "outputs": [],
   "source": [
    "raw.info['line_freq'] = 60 #The hertz of the powerlines fed into the lab "
   ]
  },
  {
   "cell_type": "markdown",
   "id": "c652ec32-78e9-4f42-89d5-7390636fdc97",
   "metadata": {},
   "source": [
    "### Specify Subject Information ✔️"
   ]
  },
  {
   "cell_type": "markdown",
   "id": "2fef53d0-dc20-46fb-99e4-a0e38eda4a96",
   "metadata": {},
   "source": [
    "You will need to edit this as each new raw data input is made, look for way to streamline/automate this? Figure out a way to put initial information to participants.tsv file"
   ]
  },
  {
   "cell_type": "code",
   "execution_count": 6,
   "id": "b44d8833-6067-4323-bb57-85aad6d10eae",
   "metadata": {},
   "outputs": [
    {
     "data": {
      "text/html": [
       "<table class=\"table table-hover table-striped table-sm table-responsive small\">\n",
       "    <tr>\n",
       "        <th>Measurement date</th>\n",
       "        \n",
       "        <td>November 10, 2019  20:00:11 GMT</td>\n",
       "        \n",
       "    </tr>\n",
       "    <tr>\n",
       "        <th>Experimenter</th>\n",
       "        \n",
       "        <td>Unknown</td>\n",
       "        \n",
       "    </tr>\n",
       "        <th>Participant</th>\n",
       "        \n",
       "            \n",
       "        \n",
       "    </tr>\n",
       "    <tr>\n",
       "        <th>Digitized points</th>\n",
       "        \n",
       "        <td>0 points</td>\n",
       "        \n",
       "    </tr>\n",
       "    <tr>\n",
       "        <th>Good channels</th>\n",
       "        <td>129 EEG, 8 Stimulus</td>\n",
       "    </tr>\n",
       "    <tr>\n",
       "        <th>Bad channels</th>\n",
       "        <td>None</td>\n",
       "    </tr>\n",
       "    <tr>\n",
       "        <th>EOG channels</th>\n",
       "        <td>Not available</td>\n",
       "    </tr>\n",
       "    <tr>\n",
       "        <th>ECG channels</th>\n",
       "        <td>Not available</td>\n",
       "    \n",
       "    <tr>\n",
       "        <th>Sampling frequency</th>\n",
       "        <td>1000.00 Hz</td>\n",
       "    </tr>\n",
       "    \n",
       "    \n",
       "    <tr>\n",
       "        <th>Highpass</th>\n",
       "        <td>0.00 Hz</td>\n",
       "    </tr>\n",
       "    \n",
       "    \n",
       "    <tr>\n",
       "        <th>Lowpass</th>\n",
       "        <td>500.00 Hz</td>\n",
       "    </tr>\n",
       "    \n",
       "    \n",
       "</table>"
      ],
      "text/plain": [
       "<Info | 12 non-empty values\n",
       " bads: []\n",
       " ch_names: E1, E2, E3, E4, E5, E6, E7, E8, E9, E10, E11, E12, E13, E14, ...\n",
       " chs: 129 EEG, 8 Stimulus\n",
       " custom_ref_applied: False\n",
       " device_info: 1 item (dict)\n",
       " dig: 133 items (3 Cardinal, 130 EEG)\n",
       " highpass: 0.0 Hz\n",
       " line_freq: 60.0\n",
       " lowpass: 500.0 Hz\n",
       " meas_date: 2019-11-10 20:00:11 UTC\n",
       " nchan: 137\n",
       " projs: []\n",
       " sfreq: 1000.0 Hz\n",
       " subject_info: 1 item (dict)\n",
       " utc_offset: -0600\n",
       ">"
      ]
     },
     "execution_count": 6,
     "metadata": {},
     "output_type": "execute_result"
    }
   ],
   "source": [
    "subject_info = {\n",
    "    'initials' : 'DAT'\n",
    "    #'birthday': (1970,10,1),\n",
    "    #'sex': 2,\n",
    "    #'hand': 2\n",
    "}\n",
    "\n",
    "raw.info['subject_info'] = subject_info\n",
    "raw.info"
   ]
  },
  {
   "cell_type": "markdown",
   "id": "1a10b80e-ee14-4942-8772-450079e8148f",
   "metadata": {},
   "source": [
    "### Write in the Data ❌"
   ]
  },
  {
   "cell_type": "markdown",
   "id": "14093856-6bc4-4919-bdda-e3925a7404c4",
   "metadata": {},
   "source": [
    "Will list this data in participants.json and participants.tsv, as well as use it to establish the direction of the data structure."
   ]
  },
  {
   "cell_type": "markdown",
   "id": "43609cd3-8cbc-43f2-b235-bbbcf1bfb0cf",
   "metadata": {},
   "source": [
    "You will need to specify the subject number, session, and task on each iteration."
   ]
  },
  {
   "cell_type": "code",
   "execution_count": 7,
   "id": "3d4a9bcd-318f-4844-8ea4-7ae76f5470fb",
   "metadata": {},
   "outputs": [
    {
     "name": "stdout",
     "output_type": "stream",
     "text": [
      "Reading EGI MFF Header from C:\\Users\\trevo\\Desktop\\Lab_Files\\WM_eegData\\WM1\\S1\\WM_1_isi0_s1c_20191110_020011.mff...\n",
      "    Reading events ...\n",
      "    Assembling measurement info ...\n",
      "    Synthesizing trigger channel \"STI 014\" ...\n",
      "    Excluding events {SESS} ...\n",
      "Writing 'out_data\\BIDS_Structure\\participants.tsv'...\n",
      "Writing 'out_data\\BIDS_Structure\\participants.json'...\n",
      "Writing 'out_data/BIDS_Structure/sub-01/ses-01/eeg/sub-01_ses-01_space-CapTrak_electrodes.tsv'...\n",
      "Writing 'out_data/BIDS_Structure/sub-01/ses-01/eeg/sub-01_ses-01_space-CapTrak_coordsystem.json'...\n",
      "Used Annotations descriptions: ['TsD-', 'WMD+', 'bgin', 'fix+']\n",
      "Writing 'out_data\\BIDS_Structure\\sub-01\\ses-01\\eeg\\sub-01_ses-01_task-WM1isi0_events.tsv'...\n",
      "Writing 'out_data\\BIDS_Structure\\dataset_description.json'...\n",
      "Writing 'out_data\\BIDS_Structure\\sub-01\\ses-01\\eeg\\sub-01_ses-01_task-WM1isi0_eeg.json'...\n",
      "Writing 'out_data\\BIDS_Structure\\sub-01\\ses-01\\eeg\\sub-01_ses-01_task-WM1isi0_channels.tsv'...\n",
      "Copying data files to sub-01_ses-01_task-WM1isi0_eeg.bin\n"
     ]
    },
    {
     "name": "stderr",
     "output_type": "stream",
     "text": [
      "C:\\Users\\trevo\\AppData\\Local\\Temp\\ipykernel_14892\\1018502517.py:8: RuntimeWarning: Converting data files to BrainVision format\n",
      "  mne_bids.write_raw_bids(raw, bids_path=bids_path, events_data=events, format=\"BrainVision\",\n",
      "C:\\Users\\trevo\\AppData\\Local\\Temp\\ipykernel_14892\\1018502517.py:8: RuntimeWarning: Encountered data in \"float\" format. Converting to float32.\n",
      "  mne_bids.write_raw_bids(raw, bids_path=bids_path, events_data=events, format=\"BrainVision\",\n",
      "C:\\Users\\trevo\\anaconda3\\envs\\mne\\lib\\site-packages\\pybv\\io.py:603: UserWarning: Encountered unsupported non-voltage units: n/a\n",
      "Note that the BrainVision format specification supports only µV.\n",
      "  warn(msg)\n"
     ]
    },
    {
     "name": "stdout",
     "output_type": "stream",
     "text": [
      "Writing 'out_data\\BIDS_Structure\\sub-01\\ses-01\\sub-01_ses-01_scans.tsv'...\n",
      "Wrote out_data\\BIDS_Structure\\sub-01\\ses-01\\sub-01_ses-01_scans.tsv entry with eeg\\sub-01_ses-01_task-WM1isi0_eeg.vhdr.\n"
     ]
    },
    {
     "data": {
      "text/plain": [
       "BIDSPath(\n",
       "root: out_data/BIDS_Structure\n",
       "datatype: eeg\n",
       "basename: sub-01_ses-01_task-WM1isi0_eeg.vhdr)"
      ]
     },
     "execution_count": 7,
     "metadata": {},
     "output_type": "execute_result"
    }
   ],
   "source": [
    "out_path = pathlib.Path('out_data/bids_structure') #Into which directory the data should go\n",
    "\n",
    "bids_path = mne_bids.BIDSPath(subject='01',\n",
    "                              session='01',\n",
    "                              task='WM1isi0',\n",
    "                              root=out_path) #An object that specifies the location of BIDS files\n",
    "\n",
    "mne_bids.write_raw_bids(raw, bids_path=bids_path, events_data=events, format=\"BrainVision\",\n",
    "                        event_id=event_id) #Writes the data"
   ]
  }
 ],
 "metadata": {
  "kernelspec": {
   "display_name": "Python 3 (ipykernel)",
   "language": "python",
   "name": "python3"
  },
  "language_info": {
   "codemirror_mode": {
    "name": "ipython",
    "version": 3
   },
   "file_extension": ".py",
   "mimetype": "text/x-python",
   "name": "python",
   "nbconvert_exporter": "python",
   "pygments_lexer": "ipython3",
   "version": "3.9.13"
  }
 },
 "nbformat": 4,
 "nbformat_minor": 5
}
