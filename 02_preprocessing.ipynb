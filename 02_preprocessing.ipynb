{
 "cells": [
  {
   "cell_type": "markdown",
   "id": "cb773e32-d65b-4e63-b9e3-7576888dd352",
   "metadata": {
    "tags": []
   },
   "source": [
    "# Preprocessing"
   ]
  },
  {
   "cell_type": "markdown",
   "id": "33b48dcc-bf3a-49f5-9656-9726c5d6ad04",
   "metadata": {
    "jp-MarkdownHeadingCollapsed": true,
    "tags": []
   },
   "source": [
    "### Import ✔️"
   ]
  },
  {
   "cell_type": "code",
   "execution_count": 1,
   "id": "3c52d70f-95b6-4c50-8664-0d7e0c76ec1c",
   "metadata": {},
   "outputs": [],
   "source": [
    "import pathlib\n",
    "import matplotlib\n",
    "\n",
    "import mne\n",
    "import mne_bids\n",
    "import matplotlib.pyplot as plt\n",
    "\n",
    "matplotlib.use('Qt5Agg')"
   ]
  },
  {
   "cell_type": "markdown",
   "id": "b32e60c5-15f0-49d0-9e8b-4b5ce5e6d560",
   "metadata": {
    "jp-MarkdownHeadingCollapsed": true,
    "tags": []
   },
   "source": [
    "### Specify Input Folder ✔️"
   ]
  },
  {
   "cell_type": "code",
   "execution_count": 2,
   "id": "d748985f-18c5-48ad-9c49-fb890d37e425",
   "metadata": {},
   "outputs": [],
   "source": [
    "bids_root = pathlib.Path('out_data/bids_structure') "
   ]
  },
  {
   "cell_type": "markdown",
   "id": "eded7513-d979-4acd-b83d-71e7a0eb9e71",
   "metadata": {
    "tags": []
   },
   "source": [
    "### Input Recording ✔️"
   ]
  },
  {
   "cell_type": "code",
   "execution_count": 3,
   "id": "c5b2e2f8-a63a-4402-9f83-6815df6bdcf8",
   "metadata": {},
   "outputs": [
    {
     "name": "stdout",
     "output_type": "stream",
     "text": [
      "Extracting parameters from out_data\\bids_structure\\sub-01\\ses-04\\eeg\\sub-01_ses-04_task-WM1isi500_eeg.vhdr...\n",
      "Setting channel info structure...\n",
      "Reading events from out_data\\bids_structure\\sub-01\\ses-04\\eeg\\sub-01_ses-04_task-WM1isi500_events.tsv.\n",
      "Reading channel info from out_data\\bids_structure\\sub-01\\ses-04\\eeg\\sub-01_ses-04_task-WM1isi500_channels.tsv.\n",
      "Reading electrode coords from out_data\\bids_structure\\sub-01\\ses-04\\eeg\\sub-01_ses-04_space-CapTrak_electrodes.tsv.\n",
      "Reading 0 ... 427887  =      0.000 ...   427.887 secs...\n"
     ]
    },
    {
     "name": "stderr",
     "output_type": "stream",
     "text": [
      "C:\\Users\\trevo\\AppData\\Local\\Temp\\ipykernel_11428\\1955064697.py:7: RuntimeWarning: There are channels without locations (n/a) that are not marked as bad: ['SESS', 'CELL', 'bgin', 'fix+', 'WMD+', 'TsD-', 'TRSP', 'STI 014']\n",
      "  raw = mne_bids.read_raw_bids(bids_path)\n",
      "C:\\Users\\trevo\\AppData\\Local\\Temp\\ipykernel_11428\\1955064697.py:7: RuntimeWarning: Not setting positions of 8 stim channels found in montage:\n",
      "['SESS', 'CELL', 'bgin', 'fix+', 'WMD+', 'TsD-', 'TRSP', 'STI 014']\n",
      "Consider setting the channel types to be of EEG/sEEG/ECoG/DBS/fNIRS using inst.set_channel_types before calling inst.set_montage, or omit these channels when creating your montage.\n",
      "  raw = mne_bids.read_raw_bids(bids_path)\n"
     ]
    },
    {
     "name": "stdout",
     "output_type": "stream",
     "text": [
      "Used Annotations descriptions: ['TsD-', 'WMD+', 'bgin', 'fix+']\n"
     ]
    }
   ],
   "source": [
    "bids_path = mne_bids.BIDSPath(subject='01',\n",
    "                              session='04',\n",
    "                              task='WM1isi500',\n",
    "                              datatype='eeg',\n",
    "                              root=bids_root)\n",
    "\n",
    "raw = mne_bids.read_raw_bids(bids_path) \n",
    "raw.load_data() \n",
    "events, event_id = mne.events_from_annotations(raw) "
   ]
  },
  {
   "cell_type": "code",
   "execution_count": 4,
   "id": "2f4987a6-f561-486b-b855-2a0c3b8db987",
   "metadata": {},
   "outputs": [
    {
     "name": "stdout",
     "output_type": "stream",
     "text": [
      "EEG channel type selected for re-referencing\n",
      "Applying a custom ('EEG',) reference.\n"
     ]
    },
    {
     "data": {
      "text/html": [
       "<table class=\"table table-hover table-striped table-sm table-responsive small\">\n",
       "    <tr>\n",
       "        <th>Measurement date</th>\n",
       "        \n",
       "        <td>November 14, 2019  16:40:39 GMT</td>\n",
       "        \n",
       "    </tr>\n",
       "    <tr>\n",
       "        <th>Experimenter</th>\n",
       "        \n",
       "        <td>mne_anonymize</td>\n",
       "        \n",
       "    </tr>\n",
       "        <th>Participant</th>\n",
       "        \n",
       "            \n",
       "            <td>sub-01</td>\n",
       "            \n",
       "        \n",
       "    </tr>\n",
       "    <tr>\n",
       "        <th>Digitized points</th>\n",
       "        \n",
       "        <td>0 points</td>\n",
       "        \n",
       "    </tr>\n",
       "    <tr>\n",
       "        <th>Good channels</th>\n",
       "        <td>129 EEG</td>\n",
       "    </tr>\n",
       "    <tr>\n",
       "        <th>Bad channels</th>\n",
       "        <td>None</td>\n",
       "    </tr>\n",
       "    <tr>\n",
       "        <th>EOG channels</th>\n",
       "        <td>Not available</td>\n",
       "    </tr>\n",
       "    <tr>\n",
       "        <th>ECG channels</th>\n",
       "        <td>Not available</td>\n",
       "    \n",
       "    <tr>\n",
       "        <th>Sampling frequency</th>\n",
       "        <td>1000.00 Hz</td>\n",
       "    </tr>\n",
       "    \n",
       "    \n",
       "    <tr>\n",
       "        <th>Highpass</th>\n",
       "        <td>0.00 Hz</td>\n",
       "    </tr>\n",
       "    \n",
       "    \n",
       "    <tr>\n",
       "        <th>Lowpass</th>\n",
       "        <td>500.00 Hz</td>\n",
       "    </tr>\n",
       "    \n",
       "    \n",
       "    \n",
       "    <tr>\n",
       "        <th>Filenames</th>\n",
       "        <td>sub-01_ses-04_task-WM1isi500_eeg.eeg</td>\n",
       "    </tr>\n",
       "    \n",
       "    <tr>\n",
       "        <th>Duration</th>\n",
       "        <td>00:07:07 (HH:MM:SS)</td>\n",
       "    </tr>\n",
       "</table>"
      ],
      "text/plain": [
       "<RawBrainVision | sub-01_ses-04_task-WM1isi500_eeg.eeg, 129 x 427888 (427.9 s), ~421.3 MB, data loaded>"
      ]
     },
     "execution_count": 4,
     "metadata": {},
     "output_type": "execute_result"
    }
   ],
   "source": [
    "#Raw EEG, specify E129 (EEG reference)\n",
    "raw_copy = raw.copy().pick_types(meg=False, eeg=True, eog=False)\n",
    "raw_copy.set_eeg_reference(ref_channels=['E129'])\n",
    "len(raw_copy.ch_names)\n",
    "raw_copy"
   ]
  },
  {
   "cell_type": "markdown",
   "id": "2562ba69-161d-476c-8a40-875ab49c3018",
   "metadata": {
    "jp-MarkdownHeadingCollapsed": true,
    "tags": []
   },
   "source": [
    "### Bad Channel Rejection ✔️"
   ]
  },
  {
   "cell_type": "markdown",
   "id": "e45b4fda-ae39-4cc7-9824-13eae44084d0",
   "metadata": {},
   "source": [
    "Go in and click on any bad channels of data. Any channels that are flat or too agitated."
   ]
  },
  {
   "cell_type": "raw",
   "id": "44b00f9c-5b99-4ff0-8ce6-b5a3638b5c65",
   "metadata": {},
   "source": [
    "raw_copy.plot()"
   ]
  },
  {
   "cell_type": "markdown",
   "id": "ae003ba0-b8c2-46eb-b704-dea32d22a237",
   "metadata": {
    "jp-MarkdownHeadingCollapsed": true,
    "tags": []
   },
   "source": [
    "### Interpolation ✔️"
   ]
  },
  {
   "cell_type": "code",
   "execution_count": 5,
   "id": "e6e23f75-653e-484c-8deb-be729e3b7026",
   "metadata": {},
   "outputs": [
    {
     "name": "stderr",
     "output_type": "stream",
     "text": [
      "C:\\Users\\trevo\\AppData\\Local\\Temp\\ipykernel_11428\\2371640664.py:1: RuntimeWarning: No bad channels to interpolate. Doing nothing...\n",
      "  raw_copy_interp = raw_copy.copy().interpolate_bads(reset_bads=False)\n"
     ]
    }
   ],
   "source": [
    "raw_copy_interp = raw_copy.copy().interpolate_bads(reset_bads=False)"
   ]
  },
  {
   "cell_type": "markdown",
   "id": "3f359ec1-770a-47ab-9cde-cbe189a29f43",
   "metadata": {
    "jp-MarkdownHeadingCollapsed": true,
    "tags": []
   },
   "source": [
    "### Bad Span Rejection ✔️"
   ]
  },
  {
   "cell_type": "markdown",
   "id": "cb078886-03b7-49ed-bd27-e7900e209a70",
   "metadata": {},
   "source": [
    "Go in and annotate any bad spans, select and label all bad spans of data with 'bad'."
   ]
  },
  {
   "cell_type": "raw",
   "id": "34284893-a291-4504-85c0-42a863e36fb2",
   "metadata": {},
   "source": [
    "raw_copy.plot()"
   ]
  },
  {
   "cell_type": "markdown",
   "id": "8a873211-a3bb-4dc4-a5ab-2994b7bff4d7",
   "metadata": {
    "jp-MarkdownHeadingCollapsed": true,
    "tags": []
   },
   "source": [
    "### Filter the Data ❌"
   ]
  },
  {
   "cell_type": "code",
   "execution_count": 6,
   "id": "ef532a3f-6ae2-4990-ab39-3a8495da74c9",
   "metadata": {},
   "outputs": [
    {
     "name": "stdout",
     "output_type": "stream",
     "text": [
      "Filtering raw data in 1 contiguous segment\n",
      "Setting up band-pass filter from 0.1 - 40 Hz\n",
      "\n",
      "FIR filter parameters\n",
      "---------------------\n",
      "Designing a one-pass, zero-phase, non-causal bandpass filter:\n",
      "- Windowed time-domain design (firwin) method\n",
      "- Hamming window with 0.0194 passband ripple and 53 dB stopband attenuation\n",
      "- Lower passband edge: 0.10\n",
      "- Lower transition bandwidth: 0.10 Hz (-6 dB cutoff frequency: 0.05 Hz)\n",
      "- Upper passband edge: 40.00 Hz\n",
      "- Upper transition bandwidth: 10.00 Hz (-6 dB cutoff frequency: 45.00 Hz)\n",
      "- Filter length: 33001 samples (33.001 sec)\n",
      "\n"
     ]
    },
    {
     "data": {
      "text/html": [
       "<table class=\"table table-hover table-striped table-sm table-responsive small\">\n",
       "    <tr>\n",
       "        <th>Measurement date</th>\n",
       "        \n",
       "        <td>November 14, 2019  16:40:39 GMT</td>\n",
       "        \n",
       "    </tr>\n",
       "    <tr>\n",
       "        <th>Experimenter</th>\n",
       "        \n",
       "        <td>mne_anonymize</td>\n",
       "        \n",
       "    </tr>\n",
       "        <th>Participant</th>\n",
       "        \n",
       "            \n",
       "            <td>sub-01</td>\n",
       "            \n",
       "        \n",
       "    </tr>\n",
       "    <tr>\n",
       "        <th>Digitized points</th>\n",
       "        \n",
       "        <td>0 points</td>\n",
       "        \n",
       "    </tr>\n",
       "    <tr>\n",
       "        <th>Good channels</th>\n",
       "        <td>129 EEG</td>\n",
       "    </tr>\n",
       "    <tr>\n",
       "        <th>Bad channels</th>\n",
       "        <td>None</td>\n",
       "    </tr>\n",
       "    <tr>\n",
       "        <th>EOG channels</th>\n",
       "        <td>Not available</td>\n",
       "    </tr>\n",
       "    <tr>\n",
       "        <th>ECG channels</th>\n",
       "        <td>Not available</td>\n",
       "    \n",
       "    <tr>\n",
       "        <th>Sampling frequency</th>\n",
       "        <td>1000.00 Hz</td>\n",
       "    </tr>\n",
       "    \n",
       "    \n",
       "    <tr>\n",
       "        <th>Highpass</th>\n",
       "        <td>0.10 Hz</td>\n",
       "    </tr>\n",
       "    \n",
       "    \n",
       "    <tr>\n",
       "        <th>Lowpass</th>\n",
       "        <td>40.00 Hz</td>\n",
       "    </tr>\n",
       "    \n",
       "    \n",
       "    \n",
       "    <tr>\n",
       "        <th>Filenames</th>\n",
       "        <td>sub-01_ses-04_task-WM1isi500_eeg.eeg</td>\n",
       "    </tr>\n",
       "    \n",
       "    <tr>\n",
       "        <th>Duration</th>\n",
       "        <td>00:07:07 (HH:MM:SS)</td>\n",
       "    </tr>\n",
       "</table>"
      ],
      "text/plain": [
       "<RawBrainVision | sub-01_ses-04_task-WM1isi500_eeg.eeg, 129 x 427888 (427.9 s), ~421.3 MB, data loaded>"
      ]
     },
     "execution_count": 6,
     "metadata": {},
     "output_type": "execute_result"
    }
   ],
   "source": [
    "#Filter, is this the exact low/high frequency we need?\n",
    "raw_copy.load_data()\n",
    "raw_copy_filtered = raw_copy.copy().filter(l_freq=0.1, h_freq=40) \n",
    "raw_copy_filtered"
   ]
  },
  {
   "cell_type": "raw",
   "id": "2a4208ce-5834-4b58-8d27-e4ddd2255a77",
   "metadata": {},
   "source": [
    "# Compare\n",
    "raw_copy.plot(event_id=event_id, title='unfiltered')\n",
    "raw_copy_filtered.plot(event_id=event_id, title='filtered')"
   ]
  },
  {
   "cell_type": "markdown",
   "id": "ac8c9507-fc29-4094-b8d9-b5c5182c56ad",
   "metadata": {},
   "source": [
    "### Save the Data ❌"
   ]
  },
  {
   "cell_type": "markdown",
   "id": "fd6eb68e-99b1-4e4d-b20b-22d98ef22830",
   "metadata": {},
   "source": [
    "Rename file to fit import name."
   ]
  },
  {
   "cell_type": "code",
   "execution_count": 7,
   "id": "c7158648-3b54-4d25-b7dd-0d65b90bf7d5",
   "metadata": {},
   "outputs": [
    {
     "name": "stdout",
     "output_type": "stream",
     "text": [
      "Writing C:\\Users\\trevo\\Desktop\\Lab_Files\\MNE_Files\\E5_Data_Structure\\out_data\\filtered_data\\sub-01_ses-04_task-WM1isi500_filtered-data.fif\n"
     ]
    },
    {
     "name": "stderr",
     "output_type": "stream",
     "text": [
      "C:\\Users\\trevo\\AppData\\Local\\Temp\\ipykernel_11428\\1720732917.py:1: RuntimeWarning: This filename (C:\\Users\\trevo\\Desktop\\Lab_Files\\MNE_Files\\E5_Data_Structure\\out_data\\filtered_data\\sub-01_ses-04_task-WM1isi500_filtered-data.fif) does not conform to MNE naming conventions. All raw files should end with raw.fif, raw_sss.fif, raw_tsss.fif, _meg.fif, _eeg.fif, _ieeg.fif, raw.fif.gz, raw_sss.fif.gz, raw_tsss.fif.gz, _meg.fif.gz, _eeg.fif.gz or _ieeg.fif.gz\n",
      "  raw_copy_filtered.save(pathlib.Path('out_data')\n"
     ]
    },
    {
     "name": "stdout",
     "output_type": "stream",
     "text": [
      "Closing C:\\Users\\trevo\\Desktop\\Lab_Files\\MNE_Files\\E5_Data_Structure\\out_data\\filtered_data\\sub-01_ses-04_task-WM1isi500_filtered-data.fif\n",
      "[done]\n"
     ]
    }
   ],
   "source": [
    "raw_copy_filtered.save(pathlib.Path('out_data')\n",
    "            / 'filtered_data' / 'sub-01_ses-04_task-WM1isi500_filtered-data.fif')"
   ]
  },
  {
   "cell_type": "code",
   "execution_count": null,
   "id": "f8a5f637-1e38-42f7-9283-706603ed29e6",
   "metadata": {},
   "outputs": [],
   "source": []
  }
 ],
 "metadata": {
  "kernelspec": {
   "display_name": "Python 3 (ipykernel)",
   "language": "python",
   "name": "python3"
  },
  "language_info": {
   "codemirror_mode": {
    "name": "ipython",
    "version": 3
   },
   "file_extension": ".py",
   "mimetype": "text/x-python",
   "name": "python",
   "nbconvert_exporter": "python",
   "pygments_lexer": "ipython3",
   "version": "3.9.13"
  }
 },
 "nbformat": 4,
 "nbformat_minor": 5
}
