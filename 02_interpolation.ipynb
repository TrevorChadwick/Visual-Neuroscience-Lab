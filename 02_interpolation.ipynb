{
 "cells": [
  {
   "cell_type": "markdown",
   "id": "cb773e32-d65b-4e63-b9e3-7576888dd352",
   "metadata": {
    "tags": []
   },
   "source": [
    "# Interpolation"
   ]
  },
  {
   "cell_type": "markdown",
   "id": "33b48dcc-bf3a-49f5-9656-9726c5d6ad04",
   "metadata": {
    "tags": []
   },
   "source": [
    "## Import ✔️"
   ]
  },
  {
   "cell_type": "code",
   "execution_count": 1,
   "id": "3c52d70f-95b6-4c50-8664-0d7e0c76ec1c",
   "metadata": {},
   "outputs": [],
   "source": [
    "import pathlib\n",
    "import matplotlib\n",
    "\n",
    "import mne\n",
    "import mne_bids\n",
    "import matplotlib.pyplot as plt\n",
    "\n",
    "matplotlib.use('Qt5Agg')"
   ]
  },
  {
   "cell_type": "markdown",
   "id": "e245b771-fad1-42e1-ac3c-c73c6ff0c92a",
   "metadata": {},
   "source": [
    "## Insert Subject Information"
   ]
  },
  {
   "cell_type": "code",
   "execution_count": 2,
   "id": "a1fc79d1-4645-4648-a4ca-bf0fe9d64475",
   "metadata": {},
   "outputs": [
    {
     "data": {
      "text/plain": [
       "'sub-01_ses-08_task-WM1isi50_interpolated_data.fif'"
      ]
     },
     "execution_count": 2,
     "metadata": {},
     "output_type": "execute_result"
    }
   ],
   "source": [
    "subject = '01'\n",
    "session = '08'\n",
    "task = 'WM1isi50'\n",
    "savename = 'sub-'+subject+'_ses-'+session+'_task-'+task+'_interpolated_data.fif'\n",
    "savename"
   ]
  },
  {
   "cell_type": "markdown",
   "id": "b32e60c5-15f0-49d0-9e8b-4b5ce5e6d560",
   "metadata": {
    "tags": []
   },
   "source": [
    "## Specify Input Folder ✔️"
   ]
  },
  {
   "cell_type": "code",
   "execution_count": 3,
   "id": "d748985f-18c5-48ad-9c49-fb890d37e425",
   "metadata": {},
   "outputs": [],
   "source": [
    "bids_root = pathlib.Path('out_data/bids_structure') "
   ]
  },
  {
   "cell_type": "markdown",
   "id": "eded7513-d979-4acd-b83d-71e7a0eb9e71",
   "metadata": {
    "tags": []
   },
   "source": [
    "## Input Recording ✔️"
   ]
  },
  {
   "cell_type": "code",
   "execution_count": 4,
   "id": "c5b2e2f8-a63a-4402-9f83-6815df6bdcf8",
   "metadata": {},
   "outputs": [
    {
     "name": "stdout",
     "output_type": "stream",
     "text": [
      "Extracting parameters from out_data\\bids_structure\\sub-01\\ses-08\\eeg\\sub-01_ses-08_task-WM1isi50_eeg.vhdr...\n",
      "Setting channel info structure...\n",
      "Reading events from out_data\\bids_structure\\sub-01\\ses-08\\eeg\\sub-01_ses-08_task-WM1isi50_events.tsv.\n",
      "Reading channel info from out_data\\bids_structure\\sub-01\\ses-08\\eeg\\sub-01_ses-08_task-WM1isi50_channels.tsv.\n",
      "Reading electrode coords from out_data\\bids_structure\\sub-01\\ses-08\\eeg\\sub-01_ses-08_space-CapTrak_electrodes.tsv.\n",
      "Reading 0 ... 384579  =      0.000 ...   384.579 secs...\n"
     ]
    },
    {
     "name": "stderr",
     "output_type": "stream",
     "text": [
      "C:\\Users\\trevo\\AppData\\Local\\Temp\\ipykernel_7312\\466673200.py:7: RuntimeWarning: There are channels without locations (n/a) that are not marked as bad: ['SESS', 'CELL', 'bgin', 'fix+', 'WMD+', 'TsD-', 'TRSP', 'STI 014']\n",
      "  raw = mne_bids.read_raw_bids(bids_path)\n",
      "C:\\Users\\trevo\\AppData\\Local\\Temp\\ipykernel_7312\\466673200.py:7: RuntimeWarning: Not setting positions of 8 stim channels found in montage:\n",
      "['SESS', 'CELL', 'bgin', 'fix+', 'WMD+', 'TsD-', 'TRSP', 'STI 014']\n",
      "Consider setting the channel types to be of EEG/sEEG/ECoG/DBS/fNIRS using inst.set_channel_types before calling inst.set_montage, or omit these channels when creating your montage.\n",
      "  raw = mne_bids.read_raw_bids(bids_path)\n"
     ]
    },
    {
     "name": "stdout",
     "output_type": "stream",
     "text": [
      "Used Annotations descriptions: ['TsD-', 'WMD+', 'bgin', 'fix+']\n"
     ]
    }
   ],
   "source": [
    "bids_path = mne_bids.BIDSPath(subject=subject,\n",
    "                              session=session,\n",
    "                              task=task,\n",
    "                              datatype='eeg',\n",
    "                              root=bids_root)\n",
    "\n",
    "raw = mne_bids.read_raw_bids(bids_path) \n",
    "raw.load_data() \n",
    "events, event_id = mne.events_from_annotations(raw) "
   ]
  },
  {
   "cell_type": "markdown",
   "id": "f7acb6d1-3f79-41d9-8ce4-7ec71ab2e434",
   "metadata": {},
   "source": [
    "### Set EEG Reference and EOG Fields"
   ]
  },
  {
   "cell_type": "code",
   "execution_count": 5,
   "id": "2f4987a6-f561-486b-b855-2a0c3b8db987",
   "metadata": {},
   "outputs": [
    {
     "name": "stdout",
     "output_type": "stream",
     "text": [
      "EEG channel type selected for re-referencing\n",
      "Applying a custom ('EEG',) reference.\n"
     ]
    },
    {
     "data": {
      "text/html": [
       "<table class=\"table table-hover table-striped table-sm table-responsive small\">\n",
       "    <tr>\n",
       "        <th>Measurement date</th>\n",
       "        \n",
       "        <td>November 10, 2019  19:51:12 GMT</td>\n",
       "        \n",
       "    </tr>\n",
       "    <tr>\n",
       "        <th>Experimenter</th>\n",
       "        \n",
       "        <td>mne_anonymize</td>\n",
       "        \n",
       "    </tr>\n",
       "        <th>Participant</th>\n",
       "        \n",
       "            \n",
       "            <td>sub-01</td>\n",
       "            \n",
       "        \n",
       "    </tr>\n",
       "    <tr>\n",
       "        <th>Digitized points</th>\n",
       "        \n",
       "        <td>0 points</td>\n",
       "        \n",
       "    </tr>\n",
       "    <tr>\n",
       "        <th>Good channels</th>\n",
       "        <td>127 EEG, 2 EOG</td>\n",
       "    </tr>\n",
       "    <tr>\n",
       "        <th>Bad channels</th>\n",
       "        <td>None</td>\n",
       "    </tr>\n",
       "    <tr>\n",
       "        <th>EOG channels</th>\n",
       "        <td>E8, E25</td>\n",
       "    </tr>\n",
       "    <tr>\n",
       "        <th>ECG channels</th>\n",
       "        <td>Not available</td>\n",
       "    \n",
       "    <tr>\n",
       "        <th>Sampling frequency</th>\n",
       "        <td>1000.00 Hz</td>\n",
       "    </tr>\n",
       "    \n",
       "    \n",
       "    <tr>\n",
       "        <th>Highpass</th>\n",
       "        <td>0.00 Hz</td>\n",
       "    </tr>\n",
       "    \n",
       "    \n",
       "    <tr>\n",
       "        <th>Lowpass</th>\n",
       "        <td>500.00 Hz</td>\n",
       "    </tr>\n",
       "    \n",
       "    \n",
       "    \n",
       "    <tr>\n",
       "        <th>Filenames</th>\n",
       "        <td>sub-01_ses-08_task-WM1isi50_eeg.eeg</td>\n",
       "    </tr>\n",
       "    \n",
       "    <tr>\n",
       "        <th>Duration</th>\n",
       "        <td>00:06:24 (HH:MM:SS)</td>\n",
       "    </tr>\n",
       "</table>"
      ],
      "text/plain": [
       "<RawBrainVision | sub-01_ses-08_task-WM1isi50_eeg.eeg, 129 x 384580 (384.6 s), ~378.7 MB, data loaded>"
      ]
     },
     "execution_count": 5,
     "metadata": {},
     "output_type": "execute_result"
    }
   ],
   "source": [
    "raw = raw.copy().pick_types(meg=False, eeg=True, eog=True)\n",
    "raw.set_eeg_reference(ref_channels=['E129'])\n",
    "raw.set_channel_types({'E8': 'eog'})\n",
    "raw.set_channel_types({'E25': 'eog'})\n",
    "len(raw.ch_names)\n",
    "raw"
   ]
  },
  {
   "cell_type": "markdown",
   "id": "2562ba69-161d-476c-8a40-875ab49c3018",
   "metadata": {
    "tags": []
   },
   "source": [
    "### Bad Channel Rejection ✔️"
   ]
  },
  {
   "cell_type": "markdown",
   "id": "e45b4fda-ae39-4cc7-9824-13eae44084d0",
   "metadata": {},
   "source": [
    "Go in and click on any bad channels of data. Any channels that are flat or too agitated."
   ]
  },
  {
   "cell_type": "raw",
   "id": "44b00f9c-5b99-4ff0-8ce6-b5a3638b5c65",
   "metadata": {},
   "source": [
    "raw.plot()"
   ]
  },
  {
   "cell_type": "markdown",
   "id": "ae003ba0-b8c2-46eb-b704-dea32d22a237",
   "metadata": {
    "tags": []
   },
   "source": [
    "### Interpolation ✔️"
   ]
  },
  {
   "cell_type": "code",
   "execution_count": 6,
   "id": "e6e23f75-653e-484c-8deb-be729e3b7026",
   "metadata": {},
   "outputs": [
    {
     "name": "stderr",
     "output_type": "stream",
     "text": [
      "C:\\Users\\trevo\\AppData\\Local\\Temp\\ipykernel_7312\\1195969053.py:1: RuntimeWarning: No bad channels to interpolate. Doing nothing...\n",
      "  raw_inter = raw.copy().interpolate_bads(reset_bads=False)\n"
     ]
    }
   ],
   "source": [
    "raw_inter = raw.copy().interpolate_bads(reset_bads=False)"
   ]
  },
  {
   "cell_type": "markdown",
   "id": "3f359ec1-770a-47ab-9cde-cbe189a29f43",
   "metadata": {
    "tags": []
   },
   "source": [
    "### Bad Span Rejection ✔️"
   ]
  },
  {
   "cell_type": "markdown",
   "id": "cb078886-03b7-49ed-bd27-e7900e209a70",
   "metadata": {},
   "source": [
    "Go in and annotate any bad spans, select and label all bad spans of data with 'bad'."
   ]
  },
  {
   "cell_type": "raw",
   "id": "34284893-a291-4504-85c0-42a863e36fb2",
   "metadata": {},
   "source": [
    "raw_inter.plot()"
   ]
  },
  {
   "cell_type": "markdown",
   "id": "ac8c9507-fc29-4094-b8d9-b5c5182c56ad",
   "metadata": {},
   "source": [
    "### Save the Data ✔️"
   ]
  },
  {
   "cell_type": "markdown",
   "id": "fd6eb68e-99b1-4e4d-b20b-22d98ef22830",
   "metadata": {},
   "source": [
    "Rename file to fit import name."
   ]
  },
  {
   "cell_type": "code",
   "execution_count": 7,
   "id": "c7158648-3b54-4d25-b7dd-0d65b90bf7d5",
   "metadata": {},
   "outputs": [
    {
     "name": "stdout",
     "output_type": "stream",
     "text": [
      "Writing C:\\Users\\trevo\\Desktop\\Lab_Files\\MNE_Files\\E5_Data_Structure\\out_data\\interpolation_data\\sub-01_ses-08_task-WM1isi50_interpolated_data.fif\n"
     ]
    },
    {
     "name": "stderr",
     "output_type": "stream",
     "text": [
      "C:\\Users\\trevo\\AppData\\Local\\Temp\\ipykernel_7312\\2952628493.py:1: RuntimeWarning: This filename (C:\\Users\\trevo\\Desktop\\Lab_Files\\MNE_Files\\E5_Data_Structure\\out_data\\interpolation_data\\sub-01_ses-08_task-WM1isi50_interpolated_data.fif) does not conform to MNE naming conventions. All raw files should end with raw.fif, raw_sss.fif, raw_tsss.fif, _meg.fif, _eeg.fif, _ieeg.fif, raw.fif.gz, raw_sss.fif.gz, raw_tsss.fif.gz, _meg.fif.gz, _eeg.fif.gz or _ieeg.fif.gz\n",
      "  raw_inter.save(pathlib.Path('out_data')\n"
     ]
    },
    {
     "name": "stdout",
     "output_type": "stream",
     "text": [
      "Closing C:\\Users\\trevo\\Desktop\\Lab_Files\\MNE_Files\\E5_Data_Structure\\out_data\\interpolation_data\\sub-01_ses-08_task-WM1isi50_interpolated_data.fif\n",
      "[done]\n"
     ]
    }
   ],
   "source": [
    "raw_inter.save(pathlib.Path('out_data')\n",
    "            / '02_interpolation_data' / savename)"
   ]
  },
  {
   "cell_type": "code",
   "execution_count": null,
   "id": "f8a5f637-1e38-42f7-9283-706603ed29e6",
   "metadata": {},
   "outputs": [],
   "source": []
  }
 ],
 "metadata": {
  "kernelspec": {
   "display_name": "Python 3 (ipykernel)",
   "language": "python",
   "name": "python3"
  },
  "language_info": {
   "codemirror_mode": {
    "name": "ipython",
    "version": 3
   },
   "file_extension": ".py",
   "mimetype": "text/x-python",
   "name": "python",
   "nbconvert_exporter": "python",
   "pygments_lexer": "ipython3",
   "version": "3.9.13"
  }
 },
 "nbformat": 4,
 "nbformat_minor": 5
}
