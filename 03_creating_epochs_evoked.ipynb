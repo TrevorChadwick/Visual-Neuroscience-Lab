{
 "cells": [
  {
   "cell_type": "markdown",
   "id": "c59edce0-53d4-4121-9e78-a9efe7410c0c",
   "metadata": {},
   "source": [
    "# Creating Epochs and Evoked Data"
   ]
  },
  {
   "cell_type": "markdown",
   "id": "ba6d7d18-a9e2-4560-a396-710ec61c8cf5",
   "metadata": {},
   "source": [
    "### Import ✔️"
   ]
  },
  {
   "cell_type": "code",
   "execution_count": 3,
   "id": "38492bad-95e3-4ca1-8278-dfcad4050004",
   "metadata": {},
   "outputs": [],
   "source": [
    "import pathlib\n",
    "import matplotlib\n",
    "\n",
    "import mne\n",
    "import mne_bids\n",
    "import matplotlib.pyplot as plt\n",
    "\n",
    "matplotlib.use('Qt5Agg')"
   ]
  },
  {
   "cell_type": "markdown",
   "id": "5d9936fb-ee70-4b5b-a2ad-221a897ae754",
   "metadata": {},
   "source": [
    "### Input Recording ✔️"
   ]
  },
  {
   "cell_type": "code",
   "execution_count": 4,
   "id": "e4d10fc4-64cf-4d0a-86e0-de820adea9a6",
   "metadata": {},
   "outputs": [
    {
     "name": "stdout",
     "output_type": "stream",
     "text": [
      "Opening raw data file out_data\\Filtered_Data\\sub-01_ses-01_task-WM1isi0_filtered-data.fif...\n",
      "    Range : 0 ... 361489 =      0.000 ...   361.489 secs\n",
      "Ready.\n"
     ]
    },
    {
     "name": "stderr",
     "output_type": "stream",
     "text": [
      "C:\\Users\\trevo\\AppData\\Local\\Temp\\ipykernel_3704\\3123148963.py:1: RuntimeWarning: This filename (out_data\\Filtered_Data\\sub-01_ses-01_task-WM1isi0_filtered-data.fif) does not conform to MNE naming conventions. All raw files should end with raw.fif, raw_sss.fif, raw_tsss.fif, _meg.fif, _eeg.fif, _ieeg.fif, raw.fif.gz, raw_sss.fif.gz, raw_tsss.fif.gz, _meg.fif.gz, _eeg.fif.gz or _ieeg.fif.gz\n",
      "  raw = mne.io.read_raw(pathlib.Path('out_data') / 'Filtered_Data' /\n"
     ]
    },
    {
     "name": "stdout",
     "output_type": "stream",
     "text": [
      "Used Annotations descriptions: ['TsD-', 'WMD+', 'bgin', 'fix+']\n"
     ]
    }
   ],
   "source": [
    "raw = mne.io.read_raw(pathlib.Path('out_data') / 'Filtered_Data' / \n",
    "                      'sub-01_ses-01_task-WM1isi0_filtered-data.fif')\n",
    "events, event_id = mne.events_from_annotations(raw) "
   ]
  },
  {
   "cell_type": "markdown",
   "id": "fd7792bf-618e-4bfa-830f-0eba7edda971",
   "metadata": {},
   "source": [
    "### Epoching Data ❌"
   ]
  },
  {
   "cell_type": "code",
   "execution_count": 5,
   "id": "d35aaa73-43c9-4771-a991-5969e14e7e80",
   "metadata": {},
   "outputs": [
    {
     "name": "stdout",
     "output_type": "stream",
     "text": [
      "Not setting metadata\n",
      "528 matching events found\n",
      "Setting baseline interval to [-0.25, 0.0] sec\n",
      "Applying baseline correction (mode: mean)\n",
      "0 projection items activated\n",
      "Loading data for 528 events and 1051 original time points ...\n",
      "25 bad epochs dropped\n"
     ]
    },
    {
     "data": {
      "text/html": [
       "<table class=\"table table-hover table-striped table-sm table-responsive small\">\n",
       "    <tr>\n",
       "        <th>Number of events</th>\n",
       "        <td>503</td>\n",
       "    </tr>\n",
       "    <tr>\n",
       "        <th>Events</th>\n",
       "        \n",
       "        <td>TsD-: 124<br/>WMD+: 127<br/>bgin: 124<br/>fix+: 128</td>\n",
       "        \n",
       "    </tr>\n",
       "    <tr>\n",
       "        <th>Time range</th>\n",
       "        <td>-0.250 – 0.800 sec</td>\n",
       "    </tr>\n",
       "    <tr>\n",
       "        <th>Baseline</th>\n",
       "        <td>-0.250 – 0.000 sec</td>\n",
       "    </tr>\n",
       "</table>"
      ],
      "text/plain": [
       "<Epochs |  503 events (all good), -0.25 - 0.8 sec, baseline -0.25 – 0 sec, ~520.5 MB, data loaded,\n",
       " 'TsD-': 124\n",
       " 'WMD+': 127\n",
       " 'bgin': 124\n",
       " 'fix+': 128>"
      ]
     },
     "execution_count": 5,
     "metadata": {},
     "output_type": "execute_result"
    }
   ],
   "source": [
    "tmin = -0.25 #300 ms before the event\n",
    "tmax = 0.8 #500 ms after the onset\n",
    "\n",
    "epochs = mne.Epochs(raw,\n",
    "                    events=events,\n",
    "                    event_id=event_id,\n",
    "                    tmin=tmin,\n",
    "                    tmax=tmax,\n",
    "                    preload=True)\n",
    "epochs"
   ]
  },
  {
   "cell_type": "markdown",
   "id": "70c22274-ccfb-48f7-8f49-a03077c6ad4d",
   "metadata": {},
   "source": [
    "### Save Epochs ❌"
   ]
  },
  {
   "cell_type": "code",
   "execution_count": 8,
   "id": "d6d3c66b-09eb-4193-a435-281bfed2287d",
   "metadata": {},
   "outputs": [],
   "source": [
    "epochs.save(pathlib.Path('out_data')\n",
    "            / 'Epochs' / 'sub-01_ses-01_task-WM1isi0_epochs-epo.fif')"
   ]
  },
  {
   "cell_type": "markdown",
   "id": "8d8690fe-7236-4548-8c71-37a33c348f73",
   "metadata": {},
   "source": [
    "### Evoked Data ✔️"
   ]
  },
  {
   "cell_type": "code",
   "execution_count": 9,
   "id": "f32487a0-f333-4965-8c8b-c3a43b2c2a35",
   "metadata": {},
   "outputs": [],
   "source": [
    "evoked = epochs.average()"
   ]
  },
  {
   "cell_type": "code",
   "execution_count": 12,
   "id": "889815e3-4667-4514-8e7b-c1a253356588",
   "metadata": {},
   "outputs": [
    {
     "name": "stdout",
     "output_type": "stream",
     "text": [
      "No projector specified for this dataset. Please consider the method self.add_proj.\n"
     ]
    },
    {
     "data": {
      "text/plain": [
       "<Figure size 800x420 with 6 Axes>"
      ]
     },
     "execution_count": 12,
     "metadata": {},
     "output_type": "execute_result"
    }
   ],
   "source": [
    "evoked.plot(spatial_colors=True)\n",
    "evoked.plot_topomap(ch_type='eeg',\n",
    "                             times=[0,0.050,0.100,\n",
    "                             0.150,0.200])\n",
    "evoked.plot_joint(picks='eeg')"
   ]
  },
  {
   "cell_type": "markdown",
   "id": "e1f663d3-0062-4cc7-8eb8-5189d2b93080",
   "metadata": {},
   "source": [
    "### Saving Evoked Data ❌"
   ]
  },
  {
   "cell_type": "code",
   "execution_count": 14,
   "id": "493c16b6-1bdc-427c-b548-c1afc69fd1b9",
   "metadata": {},
   "outputs": [],
   "source": [
    "mne.write_evokeds(fname=pathlib.Path('out_data') / 'Evokeds' / \n",
    "                  'sub-01_ses-01_task-WM1isi0_evokeds_ave.fif',\n",
    "                  evoked=evoked)"
   ]
  },
  {
   "cell_type": "code",
   "execution_count": null,
   "id": "c273ce45-fb9e-4835-a873-9a1cee8b744e",
   "metadata": {},
   "outputs": [],
   "source": []
  }
 ],
 "metadata": {
  "kernelspec": {
   "display_name": "Python 3 (ipykernel)",
   "language": "python",
   "name": "python3"
  },
  "language_info": {
   "codemirror_mode": {
    "name": "ipython",
    "version": 3
   },
   "file_extension": ".py",
   "mimetype": "text/x-python",
   "name": "python",
   "nbconvert_exporter": "python",
   "pygments_lexer": "ipython3",
   "version": "3.9.13"
  }
 },
 "nbformat": 4,
 "nbformat_minor": 5
}
