{
 "cells": [
  {
   "cell_type": "markdown",
   "id": "c59edce0-53d4-4121-9e78-a9efe7410c0c",
   "metadata": {},
   "source": [
    "# Creating Epochs and Evoked Data"
   ]
  },
  {
   "cell_type": "markdown",
   "id": "ba6d7d18-a9e2-4560-a396-710ec61c8cf5",
   "metadata": {},
   "source": [
    "### Import ✔️"
   ]
  },
  {
   "cell_type": "code",
   "execution_count": 1,
   "id": "38492bad-95e3-4ca1-8278-dfcad4050004",
   "metadata": {},
   "outputs": [],
   "source": [
    "import pathlib\n",
    "import matplotlib\n",
    "\n",
    "import mne\n",
    "import mne_bids\n",
    "import matplotlib.pyplot as plt\n",
    "\n",
    "matplotlib.use('Qt5Agg')"
   ]
  },
  {
   "cell_type": "markdown",
   "id": "5d9936fb-ee70-4b5b-a2ad-221a897ae754",
   "metadata": {},
   "source": [
    "### Input Recording ✔️"
   ]
  },
  {
   "cell_type": "code",
   "execution_count": 2,
   "id": "e4d10fc4-64cf-4d0a-86e0-de820adea9a6",
   "metadata": {},
   "outputs": [
    {
     "name": "stdout",
     "output_type": "stream",
     "text": [
      "Opening raw data file out_data\\filtered_data\\sub-01_ses-04_task-WM1isi500_filtered-data.fif...\n"
     ]
    },
    {
     "name": "stderr",
     "output_type": "stream",
     "text": [
      "C:\\Users\\trevo\\AppData\\Local\\Temp\\ipykernel_7652\\2133163301.py:1: RuntimeWarning: This filename (out_data\\filtered_data\\sub-01_ses-04_task-WM1isi500_filtered-data.fif) does not conform to MNE naming conventions. All raw files should end with raw.fif, raw_sss.fif, raw_tsss.fif, _meg.fif, _eeg.fif, _ieeg.fif, raw.fif.gz, raw_sss.fif.gz, raw_tsss.fif.gz, _meg.fif.gz, _eeg.fif.gz or _ieeg.fif.gz\n",
      "  raw = mne.io.read_raw(pathlib.Path('out_data') / 'filtered_data' /\n"
     ]
    },
    {
     "name": "stdout",
     "output_type": "stream",
     "text": [
      "    Range : 0 ... 427887 =      0.000 ...   427.887 secs\n",
      "Ready.\n",
      "Used Annotations descriptions: ['TsD-', 'WMD+', 'bgin', 'fix+']\n"
     ]
    }
   ],
   "source": [
    "raw = mne.io.read_raw(pathlib.Path('out_data') / 'filtered_data' / \n",
    "                      'sub-01_ses-04_task-WM1isi500_filtered-data.fif')\n",
    "events, event_id = mne.events_from_annotations(raw) "
   ]
  },
  {
   "cell_type": "markdown",
   "id": "fd7792bf-618e-4bfa-830f-0eba7edda971",
   "metadata": {},
   "source": [
    "### Epoching Data ❌"
   ]
  },
  {
   "cell_type": "code",
   "execution_count": 3,
   "id": "d35aaa73-43c9-4771-a991-5969e14e7e80",
   "metadata": {},
   "outputs": [
    {
     "name": "stdout",
     "output_type": "stream",
     "text": [
      "Not setting metadata\n",
      "528 matching events found\n",
      "Setting baseline interval to [-0.25, 0.0] sec\n",
      "Applying baseline correction (mode: mean)\n",
      "0 projection items activated\n",
      "Loading data for 528 events and 1051 original time points ...\n",
      "1 bad epochs dropped\n"
     ]
    },
    {
     "data": {
      "text/html": [
       "<table class=\"table table-hover table-striped table-sm table-responsive small\">\n",
       "    <tr>\n",
       "        <th>Number of events</th>\n",
       "        <td>527</td>\n",
       "    </tr>\n",
       "    <tr>\n",
       "        <th>Events</th>\n",
       "        \n",
       "        <td>TsD-: 131<br/>WMD+: 132<br/>bgin: 132<br/>fix+: 132</td>\n",
       "        \n",
       "    </tr>\n",
       "    <tr>\n",
       "        <th>Time range</th>\n",
       "        <td>-0.250 – 0.800 sec</td>\n",
       "    </tr>\n",
       "    <tr>\n",
       "        <th>Baseline</th>\n",
       "        <td>-0.250 – 0.000 sec</td>\n",
       "    </tr>\n",
       "</table>"
      ],
      "text/plain": [
       "<Epochs |  527 events (all good), -0.25 - 0.8 sec, baseline -0.25 – 0 sec, ~545.3 MB, data loaded,\n",
       " 'TsD-': 131\n",
       " 'WMD+': 132\n",
       " 'bgin': 132\n",
       " 'fix+': 132>"
      ]
     },
     "execution_count": 3,
     "metadata": {},
     "output_type": "execute_result"
    }
   ],
   "source": [
    "tmin = -0.25 #300 ms before the event\n",
    "tmax = 0.8 #500 ms after the onset\n",
    "\n",
    "epochs = mne.Epochs(raw,\n",
    "                    events=events,\n",
    "                    event_id=event_id,\n",
    "                    tmin=tmin,\n",
    "                    tmax=tmax,\n",
    "                    preload=True)\n",
    "epochs"
   ]
  },
  {
   "cell_type": "markdown",
   "id": "70c22274-ccfb-48f7-8f49-a03077c6ad4d",
   "metadata": {},
   "source": [
    "### Save Epochs ❌"
   ]
  },
  {
   "cell_type": "markdown",
   "id": "7a97030e-25d9-4a53-ae0d-54b0bf21ce4e",
   "metadata": {},
   "source": [
    "Rename each time to match new subject information."
   ]
  },
  {
   "cell_type": "code",
   "execution_count": 4,
   "id": "d6d3c66b-09eb-4193-a435-281bfed2287d",
   "metadata": {},
   "outputs": [],
   "source": [
    "epochs.save(pathlib.Path('out_data')\n",
    "            / 'epochs' / 'sub-01_ses-04_task-WM1isi500_epochs-epo.fif')"
   ]
  },
  {
   "cell_type": "markdown",
   "id": "8d8690fe-7236-4548-8c71-37a33c348f73",
   "metadata": {},
   "source": [
    "### Evoked Data ✔️"
   ]
  },
  {
   "cell_type": "code",
   "execution_count": 5,
   "id": "f32487a0-f333-4965-8c8b-c3a43b2c2a35",
   "metadata": {},
   "outputs": [],
   "source": [
    "evoked = epochs.average()"
   ]
  },
  {
   "cell_type": "raw",
   "id": "e7ce5540-6594-481b-ade4-39b6a91e9ba7",
   "metadata": {},
   "source": [
    "evoked.plot(spatial_colors=True)\n",
    "evoked.plot_topomap(ch_type='eeg',\n",
    "                             times=[0,0.050,0.100,\n",
    "                             0.150,0.200])\n",
    "evoked.plot_joint(picks='eeg')"
   ]
  },
  {
   "cell_type": "markdown",
   "id": "e1f663d3-0062-4cc7-8eb8-5189d2b93080",
   "metadata": {},
   "source": [
    "### Saving Evoked Data ❌"
   ]
  },
  {
   "cell_type": "markdown",
   "id": "a038812f-ec7e-431e-aa61-59a0f29c0f4a",
   "metadata": {},
   "source": [
    "Rename each time to match new subject information."
   ]
  },
  {
   "cell_type": "code",
   "execution_count": 6,
   "id": "493c16b6-1bdc-427c-b548-c1afc69fd1b9",
   "metadata": {},
   "outputs": [],
   "source": [
    "mne.write_evokeds(fname=pathlib.Path('out_data') / 'evokeds' / \n",
    "                  'sub-01_ses-04_task-WM1isi500_evokeds_ave.fif',\n",
    "                  evoked=evoked)"
   ]
  },
  {
   "cell_type": "code",
   "execution_count": null,
   "id": "c273ce45-fb9e-4835-a873-9a1cee8b744e",
   "metadata": {},
   "outputs": [],
   "source": []
  }
 ],
 "metadata": {
  "kernelspec": {
   "display_name": "Python 3 (ipykernel)",
   "language": "python",
   "name": "python3"
  },
  "language_info": {
   "codemirror_mode": {
    "name": "ipython",
    "version": 3
   },
   "file_extension": ".py",
   "mimetype": "text/x-python",
   "name": "python",
   "nbconvert_exporter": "python",
   "pygments_lexer": "ipython3",
   "version": "3.9.13"
  }
 },
 "nbformat": 4,
 "nbformat_minor": 5
}
