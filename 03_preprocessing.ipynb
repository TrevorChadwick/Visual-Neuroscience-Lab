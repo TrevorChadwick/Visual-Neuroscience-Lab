{
 "cells": [
  {
   "cell_type": "markdown",
   "id": "4a522a67-b8e1-424e-9f68-cc6f711d2e33",
   "metadata": {},
   "source": [
    "# Preprocessing"
   ]
  },
  {
   "cell_type": "markdown",
   "id": "32984d7b-0041-48c9-9fda-aac3e89f9999",
   "metadata": {},
   "source": [
    "Overview of artifact detection\n",
    "https://mne.tools/stable/auto_tutorials/preprocessing/10_preprocessing_overview.html"
   ]
  },
  {
   "cell_type": "markdown",
   "id": "7b39eb43-9237-479e-acc5-502792b8057e",
   "metadata": {},
   "source": [
    "## Import"
   ]
  },
  {
   "cell_type": "code",
   "execution_count": null,
   "id": "5c7b6a49-2d0f-434f-b623-a7a65e7bbe0d",
   "metadata": {},
   "outputs": [],
   "source": [
    "import os\n",
    "import pathlib\n",
    "import matplotlib\n",
    "\n",
    "import numpy as np\n",
    "import matplotlib.pyplot as plt\n",
    "import mne\n",
    "import mne_bids\n",
    "from mne.preprocessing import (ICA, create_eog_epochs, \n",
    "                               compute_proj_eog, create_ecg_epochs, corrmap) \n",
    "\n",
    "matplotlib.use('Agg') #Raises no browsers\n",
    "#matplotlib.use('Qt5Agg') #Raises browsers\n",
    "mne.set_log_level('warning') #All mne functions will only spit out output if they have reason to."
   ]
  },
  {
   "cell_type": "raw",
   "id": "3404a073-781e-4e96-8746-1d8816511efc",
   "metadata": {},
   "source": [
    "#Tester\n",
    "subject = '01'\n",
    "session = 'WM1'\n",
    "task = 'isi0'\n",
    "\n",
    "#bad_list = ['E41', 'E45', 'E121', 'E125', 'E126', 'E127']\n",
    "\n",
    "#main bad list\n",
    "bad_list = ['E4', 'E5', 'E11', 'E26', 'E27', 'E29', 'E33', 'E34', 'E35', 'E39', 'E40', 'E41', 'E50', 'E54', 'E61', 'E68', 'E73', 'E91', 'E106', 'E107', 'E110', 'E111', 'E116', 'E118', 'E123']\n",
    "\n",
    "root_path = os.path.join(\"C:/Users/trevo/OneDrive/Desktop/Lab_Files/VWM_LAB\")\n",
    "bids_root = os.path.join(root_path, 'EGI_BIDS')\n",
    "output_path = os.path.join(root_path, 'EGI_OUTPUTS')"
   ]
  },
  {
   "cell_type": "markdown",
   "id": "4bf86f4f-06a7-4cd6-8bb2-27bdc611853d",
   "metadata": {},
   "source": [
    "## Directory"
   ]
  },
  {
   "cell_type": "code",
   "execution_count": null,
   "id": "b57993e3-02db-49ce-a970-2335023add9b",
   "metadata": {},
   "outputs": [],
   "source": [
    "eeg_path = \"eeg\"\n",
    "subname = \"sub-\"+subject\n",
    "sesname = \"ses-\"+session\n",
    "epoch_reports = \"02_epochs\"\n",
    "preprocessed_reports = \"03_preprocessed\""
   ]
  },
  {
   "cell_type": "code",
   "execution_count": null,
   "id": "aeab9fbf-f38f-4ac2-af33-3ba01331b131",
   "metadata": {},
   "outputs": [],
   "source": [
    "#Makes EEG_OUTPUTS -> subject -> session -> eeg -> preprocessed_reports\n",
    "if not os.path.exists(os.path.join(output_path, subname, sesname, \n",
    "                                   eeg_path, preprocessed_reports)):\n",
    "    os.makedirs(os.path.join(output_path, subname, sesname, \n",
    "                             eeg_path, preprocessed_reports))"
   ]
  },
  {
   "cell_type": "code",
   "execution_count": null,
   "id": "17a7625c-01a8-4c00-aafd-f0f68ca29e4b",
   "metadata": {},
   "outputs": [],
   "source": [
    "epoch_report_path = os.path.join(root_path, \"EGI_OUTPUTS\\\\sub-\"+subject+\"\\\\ses-\"+session+\"\\\\eeg\\\\\"+epoch_reports)"
   ]
  },
  {
   "cell_type": "code",
   "execution_count": null,
   "id": "3f3f9a22-3aeb-448b-9074-59d1165032dc",
   "metadata": {},
   "outputs": [],
   "source": [
    "preprocessed_report_path = os.path.join(root_path, \"EGI_OUTPUTS\\\\sub-\"+subject+\"\\\\ses-\"+session+\"\\\\eeg\\\\\"+preprocessed_reports)"
   ]
  },
  {
   "cell_type": "markdown",
   "id": "33c517a0-bc61-4979-bf0a-8ea95c3bb93a",
   "metadata": {},
   "source": [
    "## ICA Analysis"
   ]
  },
  {
   "cell_type": "markdown",
   "id": "1392ea3f-bc79-42dc-ae76-8793f4ad218c",
   "metadata": {},
   "source": [
    "Repairing artifacts with ICA\n",
    "https://mne.tools/stable/auto_tutorials/preprocessing/40_artifact_correction_ica.html"
   ]
  },
  {
   "cell_type": "code",
   "execution_count": null,
   "id": "695dc718-9285-4328-bfc3-6eed4f8ff9fa",
   "metadata": {},
   "outputs": [],
   "source": [
    "print('######################## Computing ICA analysis. ########################')"
   ]
  },
  {
   "cell_type": "markdown",
   "id": "5b225fbe-8992-42ab-a7eb-74d23e688ab2",
   "metadata": {},
   "source": [
    "### Template"
   ]
  },
  {
   "cell_type": "markdown",
   "id": "4c81bba7-8a3a-4325-bff2-7b8980022ed9",
   "metadata": {},
   "source": [
    "#### Input Template"
   ]
  },
  {
   "cell_type": "code",
   "execution_count": null,
   "id": "2c8935ba-1f50-4393-9f08-3dd58b25eca5",
   "metadata": {},
   "outputs": [],
   "source": [
    "template_path = mne_bids.BIDSPath(subject='01',\n",
    "                              session='WM1',\n",
    "                              task='isi0',\n",
    "                              datatype='eeg',\n",
    "                              root=bids_root)\n",
    "\n",
    "template_raw = mne_bids.read_raw_bids(template_path) \n",
    "template_raw.load_data() "
   ]
  },
  {
   "cell_type": "markdown",
   "id": "336a4241-d7e7-4dbe-86b9-0f0894058a77",
   "metadata": {},
   "source": [
    "#### Interpolate Bads"
   ]
  },
  {
   "cell_type": "code",
   "execution_count": null,
   "id": "e77c09d9-2197-4bdd-8511-702831240a0e",
   "metadata": {},
   "outputs": [],
   "source": [
    "template_raw.info['bads'] = ['E4', 'E5', 'E11', 'E26', 'E27', 'E29', 'E33', 'E34', 'E35', 'E39', 'E40', 'E41', 'E50', 'E54', 'E61', 'E68', 'E73', 'E91', 'E106', 'E107', 'E110', 'E111', 'E116', 'E118', 'E123']\n"
   ]
  },
  {
   "cell_type": "code",
   "execution_count": null,
   "id": "c81ffbd3-ccb0-4a0b-a148-9f0d2ec15d79",
   "metadata": {},
   "outputs": [],
   "source": [
    "template_raw = template_raw.copy().interpolate_bads(reset_bads=True)"
   ]
  },
  {
   "cell_type": "markdown",
   "id": "50bfc6ee-a425-41e2-8608-c68c7ba060c2",
   "metadata": {},
   "source": [
    "#### Reset Channel Types: Template"
   ]
  },
  {
   "cell_type": "code",
   "execution_count": null,
   "id": "0e124bd2-0fa1-40e3-8532-eb78af64fae0",
   "metadata": {},
   "outputs": [],
   "source": [
    "template_raw = template_raw.copy().pick_types(meg=False, eeg=True, eog=True)\n",
    "template_raw.set_channel_types({'E8': 'eog'})\n",
    "template_raw.set_channel_types({'E25': 'eog'})\n",
    "len(template_raw.ch_names)\n",
    "template_raw"
   ]
  },
  {
   "cell_type": "code",
   "execution_count": null,
   "id": "de8194a4-25ea-4537-9c73-03ca97cdc014",
   "metadata": {},
   "outputs": [],
   "source": [
    "template_raw.set_eeg_reference('average',ch_type='eeg',projection=True)  # needed for inverse modeling"
   ]
  },
  {
   "cell_type": "markdown",
   "id": "5a11f340-135c-43ef-97d8-1363ec483599",
   "metadata": {},
   "source": [
    "#### Pass Template Filter"
   ]
  },
  {
   "cell_type": "code",
   "execution_count": null,
   "id": "fb8eb152-29ef-436d-804f-54a3cadacd18",
   "metadata": {},
   "outputs": [],
   "source": [
    "high_pass_template = template_raw.filter(l_freq=1, h_freq=None) "
   ]
  },
  {
   "cell_type": "markdown",
   "id": "9f26aee4-3278-43b8-8353-3c67f652838d",
   "metadata": {},
   "source": [
    "#### Template ICA Analysis"
   ]
  },
  {
   "cell_type": "code",
   "execution_count": null,
   "id": "71d82222-2b32-4135-be02-948daf2abf4a",
   "metadata": {},
   "outputs": [],
   "source": [
    "template_ica = ICA(n_components=15, max_iter='auto', random_state=97)\n",
    "template_ica.fit(high_pass_template)\n",
    "template_ica"
   ]
  },
  {
   "cell_type": "raw",
   "id": "76a05b8a-b266-43bb-8635-ff5675ba0f3b",
   "metadata": {},
   "source": [
    "template_ica.plot_components()"
   ]
  },
  {
   "cell_type": "markdown",
   "id": "3a26c604-d6c0-448a-8037-a79626af66e2",
   "metadata": {},
   "source": [
    "### Data "
   ]
  },
  {
   "cell_type": "markdown",
   "id": "014dd686-2072-4da5-b88d-33906cde6027",
   "metadata": {},
   "source": [
    "#### Input Data"
   ]
  },
  {
   "cell_type": "code",
   "execution_count": null,
   "id": "fb071c3c-8818-406e-9003-2449a8aee3aa",
   "metadata": {},
   "outputs": [],
   "source": [
    "bids_path = mne_bids.BIDSPath(subject=subject,\n",
    "                              session=session,\n",
    "                              task=task,\n",
    "                              datatype='eeg',\n",
    "                              root=bids_root)\n",
    "\n",
    "raw = mne_bids.read_raw_bids(bids_path) \n",
    "events, event_id = mne.events_from_annotations(raw) \n",
    "raw.load_data() "
   ]
  },
  {
   "cell_type": "markdown",
   "id": "c35fa15e-f1b6-4cd2-ac16-bcfa5f704268",
   "metadata": {},
   "source": [
    "#### Interpolate Bads"
   ]
  },
  {
   "cell_type": "code",
   "execution_count": null,
   "id": "1b759abd-ae6f-42f0-ab23-a84808b244b9",
   "metadata": {},
   "outputs": [],
   "source": [
    "raw.info['bads'] = bad_list"
   ]
  },
  {
   "cell_type": "code",
   "execution_count": null,
   "id": "856a9b5e-654b-4d6f-8742-c2eb32ece0a3",
   "metadata": {},
   "outputs": [],
   "source": [
    "raw = raw.copy().interpolate_bads(reset_bads=True)"
   ]
  },
  {
   "cell_type": "markdown",
   "id": "274e15d8-a5b6-46b5-a95d-2354af5041db",
   "metadata": {},
   "source": [
    "#### Reset Channel Types: Input"
   ]
  },
  {
   "cell_type": "code",
   "execution_count": null,
   "id": "cd8d0d0d-9e95-4dd9-a539-a51ff6384eec",
   "metadata": {},
   "outputs": [],
   "source": [
    "raw = raw.copy().pick_types(meg=False, eeg=True, eog=True)\n",
    "raw.set_channel_types({'E8': 'eog'})\n",
    "raw.set_channel_types({'E25': 'eog'})\n",
    "len(raw.ch_names)\n",
    "raw"
   ]
  },
  {
   "cell_type": "code",
   "execution_count": null,
   "id": "95067105-931d-4a21-847b-25406f19853a",
   "metadata": {},
   "outputs": [],
   "source": [
    "raw.set_eeg_reference('average',ch_type='eeg',projection=True)  # needed for inverse modeling"
   ]
  },
  {
   "cell_type": "markdown",
   "id": "baef5b15-7385-41c7-a44f-0f80abe3ac96",
   "metadata": {},
   "source": [
    "#### Pass Data Filter"
   ]
  },
  {
   "cell_type": "code",
   "execution_count": null,
   "id": "85f9e4fd-9dd5-47c8-9026-d1916a27dd2f",
   "metadata": {},
   "outputs": [],
   "source": [
    "high_pass_raw = raw.filter(l_freq=1, h_freq=None) "
   ]
  },
  {
   "cell_type": "markdown",
   "id": "4ae11ea3-bda9-44bc-b5dc-a2ecd58e325b",
   "metadata": {},
   "source": [
    "#### Data ICA Analysis"
   ]
  },
  {
   "cell_type": "code",
   "execution_count": null,
   "id": "9d203f9e-c472-4735-8cb2-6d71544c8f10",
   "metadata": {},
   "outputs": [],
   "source": [
    "ica = ICA(n_components=15, max_iter='auto', random_state=97)\n",
    "ica.fit(high_pass_raw)\n",
    "ica"
   ]
  },
  {
   "cell_type": "code",
   "execution_count": null,
   "id": "b0c3db74-cb5b-4674-b818-ec69b50a8501",
   "metadata": {},
   "outputs": [],
   "source": [
    "ica.plot_components()"
   ]
  },
  {
   "cell_type": "markdown",
   "id": "c6a30e1e-31d2-4547-96ff-f10acf9fb952",
   "metadata": {},
   "source": [
    "## Eye Blinks Rejection"
   ]
  },
  {
   "cell_type": "markdown",
   "id": "8006faf3-0a8d-43f4-8ac6-d2773cbbfca9",
   "metadata": {},
   "source": [
    "### Reject Eye Blinks Component"
   ]
  },
  {
   "cell_type": "code",
   "execution_count": null,
   "id": "378956d4-e8ee-46d1-85a1-05fdb0b6a39a",
   "metadata": {},
   "outputs": [],
   "source": [
    "icas = list()\n",
    "icas.append(template_ica)\n",
    "icas.append(ica)\n",
    "icas"
   ]
  },
  {
   "cell_type": "code",
   "execution_count": null,
   "id": "2d592ec9-caf9-45c2-8897-4043a2573db9",
   "metadata": {},
   "outputs": [],
   "source": [
    "print('Initializing Corrmap; 60% template match.')"
   ]
  },
  {
   "cell_type": "code",
   "execution_count": null,
   "id": "5dcbf8db-0a34-4ecd-9be7-7b9f767b1fc7",
   "metadata": {},
   "outputs": [],
   "source": [
    "threshold = .60"
   ]
  },
  {
   "cell_type": "code",
   "execution_count": null,
   "id": "82e81237-4b48-42fa-b294-54d0d748b1fa",
   "metadata": {},
   "outputs": [],
   "source": [
    "corrmap(icas=icas, template=(0, 5), threshold = threshold, label = 'eyeblink', plot = True)"
   ]
  },
  {
   "cell_type": "code",
   "execution_count": null,
   "id": "160fb046-2cae-48c2-b7ac-870eb568938a",
   "metadata": {},
   "outputs": [],
   "source": [
    "def run_corrmap():\n",
    "    global threshold\n",
    "    threshold += .01\n",
    "    thresh_name = str(threshold)\n",
    "    icas[1].labels_['eyeblink'] = []\n",
    "    print('Initial Corrmap failed, too many ICA components raised. Initializing new Corrmap; '+thresh_name+'% template match.')\n",
    "    corrmap(icas=icas, template=(0, 5), threshold = threshold, label = 'eyeblink', plot = True)"
   ]
  },
  {
   "cell_type": "code",
   "execution_count": null,
   "id": "dbd8d11d-1665-4747-9887-e37100c43948",
   "metadata": {},
   "outputs": [],
   "source": [
    "while len(icas[1].labels_['eyeblink']) > 1:\n",
    "    run_corrmap()"
   ]
  },
  {
   "cell_type": "code",
   "execution_count": null,
   "id": "c02bd2cd-e988-46c0-bcfa-0d6ace057b90",
   "metadata": {},
   "outputs": [],
   "source": [
    "if len(icas[1].labels_['eyeblink']) == 0:\n",
    "    raise Exception(\"No eyeblink components found, raising error.\")"
   ]
  },
  {
   "cell_type": "markdown",
   "id": "b1487b71-337b-4632-aa74-5f6f85430f47",
   "metadata": {},
   "source": [
    "#### ICA Report"
   ]
  },
  {
   "cell_type": "code",
   "execution_count": null,
   "id": "465b704a-0376-47d3-8a7a-04844c91d487",
   "metadata": {},
   "outputs": [],
   "source": [
    "ica_copy = ica.copy()"
   ]
  },
  {
   "cell_type": "code",
   "execution_count": null,
   "id": "a0243c3e-3f11-41f2-ac9e-5040e28bfdaa",
   "metadata": {},
   "outputs": [],
   "source": [
    "eog_epochs = mne.preprocessing.create_eog_epochs(raw=raw)\n",
    "eog_components, eog_scores = ica_copy.find_bads_eog(\n",
    "    inst=eog_epochs,\n",
    "    ch_name=['E8','E25'],  # a channel close to the eye\n",
    "    threshold=1  # lower than the default threshold\n",
    ")\n",
    "ica_copy.exclude = eog_components"
   ]
  },
  {
   "cell_type": "code",
   "execution_count": null,
   "id": "e0d91de3-87db-49fe-b058-99161fd0fbc6",
   "metadata": {},
   "outputs": [],
   "source": [
    "ica_report_title = 'sub-'+subject+'_ses-'+session+'_task-'+task+'_ica_report.html'\n",
    "ica_report = mne.Report(title='ICA Filter')\n",
    "ica_report.add_ica(\n",
    "    ica=ica_copy,\n",
    "    title='ICA cleaning',\n",
    "    picks=icas[1].labels_['eyeblink'],  \n",
    "    inst=raw,\n",
    "    eog_evoked=eog_epochs.average(),\n",
    "    eog_scores=eog_scores,\n",
    "    n_jobs=1  # could be increased!\n",
    ")\n",
    "ica_report_path = os.path.join(preprocessed_report_path, ica_report_title)\n",
    "ica_report.save(ica_report_path, overwrite=True)"
   ]
  },
  {
   "cell_type": "markdown",
   "id": "cdef74a1-b172-4d8b-8f30-4dac945f2e4e",
   "metadata": {},
   "source": [
    "### Create New Raw Data"
   ]
  },
  {
   "cell_type": "code",
   "execution_count": null,
   "id": "520f442f-18f3-4338-b6cf-72fe5e93990e",
   "metadata": {},
   "outputs": [],
   "source": [
    "icas[1].exclude = icas[1].labels_['eyeblink']"
   ]
  },
  {
   "cell_type": "code",
   "execution_count": null,
   "id": "43b7b4d0-cf92-4c3c-8020-20ec8d3348eb",
   "metadata": {},
   "outputs": [],
   "source": [
    "reconst_raw = raw.copy()\n",
    "icas[1].apply(reconst_raw)"
   ]
  },
  {
   "cell_type": "raw",
   "id": "d58c633e-a290-4e48-8f69-4a400fd31f4e",
   "metadata": {},
   "source": [
    "reconst_raw.plot()"
   ]
  },
  {
   "cell_type": "markdown",
   "id": "bcd21d73-0dfc-4bf7-8865-63022cc38656",
   "metadata": {},
   "source": [
    "## Epoch Comparison"
   ]
  },
  {
   "cell_type": "markdown",
   "id": "a0c0a044-ea77-4e5d-bc97-3240490c7ccd",
   "metadata": {},
   "source": [
    "### Input Old Epochs"
   ]
  },
  {
   "cell_type": "code",
   "execution_count": null,
   "id": "7c431a63-dd24-4c38-9cb4-46cea048c386",
   "metadata": {},
   "outputs": [],
   "source": [
    "oldepoch_name = 'sub-'+subject+'_ses-'+session+'_task-'+task+'_epo.fif'"
   ]
  },
  {
   "cell_type": "code",
   "execution_count": null,
   "id": "fca8a3ad-7083-4ee6-b9d8-0a374a28ff64",
   "metadata": {},
   "outputs": [],
   "source": [
    "oldepoch_file = os.path.join(epoch_report_path, oldepoch_name)\n",
    "old_epochs = mne.read_epochs(oldepoch_file)\n",
    "old_epochs"
   ]
  },
  {
   "cell_type": "code",
   "execution_count": null,
   "id": "dd2eef54-dfbc-43d8-9a4c-e79a979d2b34",
   "metadata": {},
   "outputs": [],
   "source": [
    "total_epochs_number = len(old_epochs.events)\n",
    "total_epochs_number"
   ]
  },
  {
   "cell_type": "markdown",
   "id": "8d7b71de-50c9-4b77-a66a-5c775ee82daa",
   "metadata": {},
   "source": [
    "#### Old Epoch Rejection Filter"
   ]
  },
  {
   "cell_type": "code",
   "execution_count": null,
   "id": "1724ff97-8afd-4f65-a7e3-d4f67ba665dc",
   "metadata": {},
   "outputs": [],
   "source": [
    "reject_criteria = dict(eeg=100e-6) # 100 µV, what should our rejection criteria be? \n",
    "\n",
    "old_epochs.drop_bad(reject=reject_criteria)"
   ]
  },
  {
   "cell_type": "code",
   "execution_count": null,
   "id": "931886af-5cbd-408a-b9c3-b4dc10ded05d",
   "metadata": {},
   "outputs": [],
   "source": [
    "old_epochs_number = len(old_epochs.events)\n",
    "old_epochs_number"
   ]
  },
  {
   "cell_type": "markdown",
   "id": "755f3e6c-54ce-43bd-80a1-162c4f0c442a",
   "metadata": {},
   "source": [
    "### Run New Epochs"
   ]
  },
  {
   "cell_type": "markdown",
   "id": "43622741-8243-4f7e-8ea2-b96280d44397",
   "metadata": {
    "tags": []
   },
   "source": [
    "#### Filter Raw Data"
   ]
  },
  {
   "cell_type": "code",
   "execution_count": null,
   "id": "4660f055-eef6-404c-91bb-31f433616058",
   "metadata": {},
   "outputs": [],
   "source": [
    "filter_raw = reconst_raw.filter(l_freq=0.1, h_freq=40) #should be updated?\n",
    "filter_raw"
   ]
  },
  {
   "cell_type": "markdown",
   "id": "94cc1bdd-d3e4-47e7-a088-30389056b9f5",
   "metadata": {},
   "source": [
    "#### Start New Epochs"
   ]
  },
  {
   "cell_type": "code",
   "execution_count": null,
   "id": "330f7dce-49ff-417d-a2a3-c98f4e465e5b",
   "metadata": {},
   "outputs": [],
   "source": [
    "tmin = -0.25 #250 ms before the event\n",
    "tmax = 0.8 #800 ms after the onset\n",
    "\n",
    "new_epochs = mne.Epochs(reconst_raw,\n",
    "                    events=events,\n",
    "                    event_id=event_id,\n",
    "                    tmin=tmin,\n",
    "                    tmax=tmax,\n",
    "                    preload=True)\n",
    "new_epochs"
   ]
  },
  {
   "cell_type": "markdown",
   "id": "e7d2bd22-e638-4b33-b573-8a700340a9c3",
   "metadata": {},
   "source": [
    "#### New Epoch Rejection Filter"
   ]
  },
  {
   "cell_type": "code",
   "execution_count": null,
   "id": "d977ea28-1c68-49ee-9ea0-08aa992d833a",
   "metadata": {},
   "outputs": [],
   "source": [
    "reject_criteria = dict(eeg=100e-6) # 100 µV, what should our rejection criteria be? \n",
    "\n",
    "new_epochs.drop_bad(reject=reject_criteria)"
   ]
  },
  {
   "cell_type": "code",
   "execution_count": null,
   "id": "7ed38787-934d-4edb-9038-42439b8e9db7",
   "metadata": {},
   "outputs": [],
   "source": [
    "new_epochs_number = len(new_epochs.events)\n",
    "new_epochs_number"
   ]
  },
  {
   "cell_type": "markdown",
   "id": "6f72a464-4a60-4633-b24f-84c2af8bafcd",
   "metadata": {},
   "source": [
    "## Result"
   ]
  },
  {
   "cell_type": "raw",
   "id": "2c97aba7-0fc8-46d5-856c-c2f55432925f",
   "metadata": {},
   "source": [
    "old_epochs.plot(title = 'Old Epochs')\n",
    "new_epochs.plot(title = 'New Epochs')"
   ]
  },
  {
   "cell_type": "markdown",
   "id": "9b328189-5321-4fd7-9f24-d840b54c8bc9",
   "metadata": {},
   "source": [
    "## Save and Report New Epochs"
   ]
  },
  {
   "cell_type": "code",
   "execution_count": null,
   "id": "557bc328-3736-4e06-8129-1d3fd9c53545",
   "metadata": {},
   "outputs": [],
   "source": [
    "epoch_report_title = 'sub-'+subject+'_ses-'+session+'_task-'+task+'_preprocessed_report.html'\n",
    "epoch_report = mne.Report(title='Preprocessed Epochs')\n",
    "epoch_report.add_epochs(epochs=new_epochs, title='Preprocessed Epochs')\n",
    "epoch_report_path = os.path.join(preprocessed_report_path, epoch_report_title)\n",
    "\n",
    "epoch_report.save(epoch_report_path, overwrite=True)"
   ]
  },
  {
   "cell_type": "code",
   "execution_count": null,
   "id": "aeaa2636-3134-4181-9ab4-347f897773c7",
   "metadata": {},
   "outputs": [],
   "source": [
    "preprocessedname = 'sub-'+subject+'_ses-'+session+'_task-'+task+'_preprocessed_epo.fif'"
   ]
  },
  {
   "cell_type": "code",
   "execution_count": null,
   "id": "9c436be2-569c-4a13-8f08-2f0aca082a01",
   "metadata": {},
   "outputs": [],
   "source": [
    "new_epoch_path = os.path.join(preprocessed_report_path, preprocessedname)\n",
    "new_epochs.save(new_epoch_path, overwrite=True)"
   ]
  },
  {
   "cell_type": "code",
   "execution_count": null,
   "id": "7ad6e8fa-c8bb-4c4d-a7d8-20102a357de9",
   "metadata": {},
   "outputs": [],
   "source": []
  }
 ],
 "metadata": {
  "kernelspec": {
   "display_name": "Python 3 (ipykernel)",
   "language": "python",
   "name": "python3"
  },
  "language_info": {
   "codemirror_mode": {
    "name": "ipython",
    "version": 3
   },
   "file_extension": ".py",
   "mimetype": "text/x-python",
   "name": "python",
   "nbconvert_exporter": "python",
   "pygments_lexer": "ipython3",
   "version": "3.10.5"
  }
 },
 "nbformat": 4,
 "nbformat_minor": 5
}
