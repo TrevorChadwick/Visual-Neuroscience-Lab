{
 "cells": [
  {
   "cell_type": "raw",
   "id": "c2e12411-daad-4942-ab5c-1ac17a8b4830",
   "metadata": {},
   "source": [
    "subject = '08'\n",
    "session = '02'\n",
    "task = 'WM1isi500'\n",
    "initals = 'DAT'"
   ]
  },
  {
   "cell_type": "markdown",
   "id": "4a522a67-b8e1-424e-9f68-cc6f711d2e33",
   "metadata": {},
   "source": [
    "# Preprocessing"
   ]
  },
  {
   "cell_type": "markdown",
   "id": "7b39eb43-9237-479e-acc5-502792b8057e",
   "metadata": {},
   "source": [
    "## Import"
   ]
  },
  {
   "cell_type": "code",
   "execution_count": 23,
   "id": "5c7b6a49-2d0f-434f-b623-a7a65e7bbe0d",
   "metadata": {},
   "outputs": [],
   "source": [
    "import os\n",
    "import pathlib\n",
    "import matplotlib\n",
    "\n",
    "import numpy as np\n",
    "import matplotlib.pyplot as plt\n",
    "import mne\n",
    "import mne_bids\n",
    "from mne.preprocessing import (ICA, create_eog_epochs, \n",
    "                               compute_proj_eog, create_ecg_epochs, corrmap)\n",
    "                               \n",
    "matplotlib.use('Qt5Agg')\n",
    "mne.set_log_level('warning') #All mne functions will only spit out output if they have reason to."
   ]
  },
  {
   "cell_type": "markdown",
   "id": "33c517a0-bc61-4979-bf0a-8ea95c3bb93a",
   "metadata": {},
   "source": [
    "## ICA Analysis"
   ]
  },
  {
   "cell_type": "markdown",
   "id": "5b225fbe-8992-42ab-a7eb-74d23e688ab2",
   "metadata": {},
   "source": [
    "### Template"
   ]
  },
  {
   "cell_type": "markdown",
   "id": "4c81bba7-8a3a-4325-bff2-7b8980022ed9",
   "metadata": {},
   "source": [
    "#### Input Template"
   ]
  },
  {
   "cell_type": "code",
   "execution_count": null,
   "id": "dccc0030-cdca-4bc7-bf87-6acb5f79d341",
   "metadata": {},
   "outputs": [],
   "source": [
    "template_raw = mne.io.read_raw(pathlib.Path('out_data') / '02_interpolation_data' / 'sub-01' / \n",
    "                      'sub-01_ses-01_task-WM1isi0_interpolated_data.fif')\n",
    "template_raw.load_data()"
   ]
  },
  {
   "cell_type": "markdown",
   "id": "5a11f340-135c-43ef-97d8-1363ec483599",
   "metadata": {},
   "source": [
    "#### Pass Template Filter"
   ]
  },
  {
   "cell_type": "code",
   "execution_count": 25,
   "id": "fb8eb152-29ef-436d-804f-54a3cadacd18",
   "metadata": {},
   "outputs": [],
   "source": [
    "high_pass_template = template_raw.filter(l_freq=1, h_freq=None) "
   ]
  },
  {
   "cell_type": "markdown",
   "id": "9f26aee4-3278-43b8-8353-3c67f652838d",
   "metadata": {},
   "source": [
    "#### Template ICA Analysis"
   ]
  },
  {
   "cell_type": "code",
   "execution_count": 26,
   "id": "71d82222-2b32-4135-be02-948daf2abf4a",
   "metadata": {},
   "outputs": [
    {
     "data": {
      "text/html": [
       "<table class=\"table table-hover table-striped table-sm table-responsive small\">\n",
       "    <tr>\n",
       "        <th>Method</th>\n",
       "        <td>fastica</td>\n",
       "    </tr>\n",
       "    <tr>\n",
       "        <th>Fit</th>\n",
       "        <td>28 iterations on raw data (361490 samples)</td>\n",
       "    </tr>\n",
       "    \n",
       "    <tr>\n",
       "        <th>ICA components</th>\n",
       "        <td>15</td>\n",
       "    </tr>\n",
       "    <tr>\n",
       "        <th>Explained variance</th>\n",
       "        <td>100.0&nbsp;%</td>\n",
       "    </tr>\n",
       "    <tr>\n",
       "        <th>Available PCA components</th>\n",
       "        <td>127</td>\n",
       "    </tr>\n",
       "    <tr>\n",
       "        <th>Channel types</th>\n",
       "        <td>eeg</td>\n",
       "    </tr>\n",
       "    <tr>\n",
       "        <th>ICA components marked for exclusion</th>\n",
       "        <td>&mdash;</td>\n",
       "    </tr>\n",
       "    \n",
       "</table>"
      ],
      "text/plain": [
       "<ICA | raw data decomposition, method: fastica (fit in 28 iterations on 361490 samples), 15 ICA components explaining 100.0 % of variance (127 PCA components available), channel types: eeg, no sources marked for exclusion>"
      ]
     },
     "execution_count": 26,
     "metadata": {},
     "output_type": "execute_result"
    }
   ],
   "source": [
    "template_ica = ICA(n_components=15, max_iter='auto', random_state=97)\n",
    "template_ica.fit(high_pass_template)\n",
    "template_ica"
   ]
  },
  {
   "cell_type": "raw",
   "id": "b25ab033-e7d0-4835-adf8-c65024198121",
   "metadata": {},
   "source": [
    "template_ica.plot_components()"
   ]
  },
  {
   "cell_type": "markdown",
   "id": "3a26c604-d6c0-448a-8037-a79626af66e2",
   "metadata": {},
   "source": [
    "### Data "
   ]
  },
  {
   "cell_type": "markdown",
   "id": "014dd686-2072-4da5-b88d-33906cde6027",
   "metadata": {},
   "source": [
    "#### Input Data"
   ]
  },
  {
   "cell_type": "code",
   "execution_count": null,
   "id": "7c431a63-dd24-4c38-9cb4-46cea048c386",
   "metadata": {},
   "outputs": [],
   "source": [
    "subname = 'sub-'+subject\n",
    "filename = 'sub-'+subject+'_ses-'+session+'_task-'+task+'_interpolated_data.fif'\n",
    "filename"
   ]
  },
  {
   "cell_type": "code",
   "execution_count": null,
   "id": "fb071c3c-8818-406e-9003-2449a8aee3aa",
   "metadata": {},
   "outputs": [],
   "source": [
    "raw = mne.io.read_raw(pathlib.Path('out_data') / '02_interpolation_data' / subname / \n",
    "                      filename)\n",
    "events, event_id = mne.events_from_annotations(raw) \n",
    "raw.load_data() "
   ]
  },
  {
   "cell_type": "markdown",
   "id": "baef5b15-7385-41c7-a44f-0f80abe3ac96",
   "metadata": {},
   "source": [
    "#### Pass Data Filter"
   ]
  },
  {
   "cell_type": "code",
   "execution_count": 28,
   "id": "85f9e4fd-9dd5-47c8-9026-d1916a27dd2f",
   "metadata": {},
   "outputs": [],
   "source": [
    "high_pass_raw = raw.filter(l_freq=1, h_freq=None) "
   ]
  },
  {
   "cell_type": "markdown",
   "id": "4ae11ea3-bda9-44bc-b5dc-a2ecd58e325b",
   "metadata": {},
   "source": [
    "#### Data ICA Analysis"
   ]
  },
  {
   "cell_type": "code",
   "execution_count": 29,
   "id": "9d203f9e-c472-4735-8cb2-6d71544c8f10",
   "metadata": {},
   "outputs": [
    {
     "data": {
      "text/html": [
       "<table class=\"table table-hover table-striped table-sm table-responsive small\">\n",
       "    <tr>\n",
       "        <th>Method</th>\n",
       "        <td>fastica</td>\n",
       "    </tr>\n",
       "    <tr>\n",
       "        <th>Fit</th>\n",
       "        <td>32 iterations on raw data (486748 samples)</td>\n",
       "    </tr>\n",
       "    \n",
       "    <tr>\n",
       "        <th>ICA components</th>\n",
       "        <td>15</td>\n",
       "    </tr>\n",
       "    <tr>\n",
       "        <th>Explained variance</th>\n",
       "        <td>100.0&nbsp;%</td>\n",
       "    </tr>\n",
       "    <tr>\n",
       "        <th>Available PCA components</th>\n",
       "        <td>127</td>\n",
       "    </tr>\n",
       "    <tr>\n",
       "        <th>Channel types</th>\n",
       "        <td>eeg</td>\n",
       "    </tr>\n",
       "    <tr>\n",
       "        <th>ICA components marked for exclusion</th>\n",
       "        <td>&mdash;</td>\n",
       "    </tr>\n",
       "    \n",
       "</table>"
      ],
      "text/plain": [
       "<ICA | raw data decomposition, method: fastica (fit in 32 iterations on 486748 samples), 15 ICA components explaining 100.0 % of variance (127 PCA components available), channel types: eeg, no sources marked for exclusion>"
      ]
     },
     "execution_count": 29,
     "metadata": {},
     "output_type": "execute_result"
    }
   ],
   "source": [
    "ica = ICA(n_components=15, max_iter='auto', random_state=97)\n",
    "ica.fit(high_pass_raw)\n",
    "ica"
   ]
  },
  {
   "cell_type": "markdown",
   "id": "c6a30e1e-31d2-4547-96ff-f10acf9fb952",
   "metadata": {},
   "source": [
    "## Eye Blinks Rejection"
   ]
  },
  {
   "cell_type": "markdown",
   "id": "8006faf3-0a8d-43f4-8ac6-d2773cbbfca9",
   "metadata": {},
   "source": [
    "### Reject Eye Blinks Component"
   ]
  },
  {
   "cell_type": "code",
   "execution_count": 31,
   "id": "378956d4-e8ee-46d1-85a1-05fdb0b6a39a",
   "metadata": {},
   "outputs": [],
   "source": [
    "icas = list()\n",
    "icas.append(template_ica)\n",
    "icas.append(ica)"
   ]
  },
  {
   "cell_type": "code",
   "execution_count": 32,
   "id": "82e81237-4b48-42fa-b294-54d0d748b1fa",
   "metadata": {},
   "outputs": [
    {
     "data": {
      "text/plain": [
       "(<MNEFigure size 195x260 with 1 Axes>, <MNEFigure size 390x260 with 2 Axes>)"
      ]
     },
     "execution_count": 32,
     "metadata": {},
     "output_type": "execute_result"
    }
   ],
   "source": [
    "corrmap(icas, template=(0, 6), threshold = .9, label = 'eyeblink', plot = True)"
   ]
  },
  {
   "cell_type": "code",
   "execution_count": 33,
   "id": "1f04de9d-ad83-4057-989d-59c78a76f101",
   "metadata": {},
   "outputs": [],
   "source": [
    "icas[1].exclude = icas[1].labels_['eyeblink']"
   ]
  },
  {
   "cell_type": "markdown",
   "id": "cdef74a1-b172-4d8b-8f30-4dac945f2e4e",
   "metadata": {},
   "source": [
    "### Create New Raw Data"
   ]
  },
  {
   "cell_type": "code",
   "execution_count": 34,
   "id": "9b4f5585-976a-4353-999f-fa67e73d8e5d",
   "metadata": {},
   "outputs": [
    {
     "data": {
      "text/html": [
       "<table class=\"table table-hover table-striped table-sm table-responsive small\">\n",
       "    <tr>\n",
       "        <th>Measurement date</th>\n",
       "        \n",
       "        <td>July 29, 2020  16:45:44 GMT</td>\n",
       "        \n",
       "    </tr>\n",
       "    <tr>\n",
       "        <th>Experimenter</th>\n",
       "        \n",
       "        <td>mne_anonymize</td>\n",
       "        \n",
       "    </tr>\n",
       "        <th>Participant</th>\n",
       "        \n",
       "            \n",
       "            <td>sub-08</td>\n",
       "            \n",
       "        \n",
       "    </tr>\n",
       "    <tr>\n",
       "        <th>Digitized points</th>\n",
       "        \n",
       "        <td>0 points</td>\n",
       "        \n",
       "    </tr>\n",
       "    <tr>\n",
       "        <th>Good channels</th>\n",
       "        <td>127 EEG, 2 EOG</td>\n",
       "    </tr>\n",
       "    <tr>\n",
       "        <th>Bad channels</th>\n",
       "        <td>None</td>\n",
       "    </tr>\n",
       "    <tr>\n",
       "        <th>EOG channels</th>\n",
       "        <td>E8, E25</td>\n",
       "    </tr>\n",
       "    <tr>\n",
       "        <th>ECG channels</th>\n",
       "        <td>Not available</td>\n",
       "    \n",
       "    <tr>\n",
       "        <th>Sampling frequency</th>\n",
       "        <td>1000.00 Hz</td>\n",
       "    </tr>\n",
       "    \n",
       "    \n",
       "    <tr>\n",
       "        <th>Highpass</th>\n",
       "        <td>1.00 Hz</td>\n",
       "    </tr>\n",
       "    \n",
       "    \n",
       "    <tr>\n",
       "        <th>Lowpass</th>\n",
       "        <td>500.00 Hz</td>\n",
       "    </tr>\n",
       "    \n",
       "    \n",
       "    \n",
       "    <tr>\n",
       "        <th>Filenames</th>\n",
       "        <td>sub-08_ses-02_task-WM1isi500_eeg.eeg</td>\n",
       "    </tr>\n",
       "    \n",
       "    <tr>\n",
       "        <th>Duration</th>\n",
       "        <td>00:08:06 (HH:MM:SS)</td>\n",
       "    </tr>\n",
       "</table>"
      ],
      "text/plain": [
       "<RawBrainVision | sub-08_ses-02_task-WM1isi500_eeg.eeg, 129 x 486748 (486.7 s), ~479.2 MB, data loaded>"
      ]
     },
     "execution_count": 34,
     "metadata": {},
     "output_type": "execute_result"
    }
   ],
   "source": [
    "reconst_raw = raw.copy()\n",
    "icas[1].apply(reconst_raw)"
   ]
  },
  {
   "cell_type": "code",
   "execution_count": 35,
   "id": "26d77c40-944e-4216-918d-675886044859",
   "metadata": {},
   "outputs": [
    {
     "data": {
      "text/plain": [
       "<mne_qt_browser._pg_figure.MNEQtBrowser at 0x25eab9ab310>"
      ]
     },
     "execution_count": 35,
     "metadata": {},
     "output_type": "execute_result"
    }
   ],
   "source": [
    "reconst_raw.plot()"
   ]
  },
  {
   "cell_type": "markdown",
   "id": "bcd21d73-0dfc-4bf7-8865-63022cc38656",
   "metadata": {},
   "source": [
    "## Epoch Comparison"
   ]
  },
  {
   "cell_type": "markdown",
   "id": "a0c0a044-ea77-4e5d-bc97-3240490c7ccd",
   "metadata": {},
   "source": [
    "### Input Old Epochs"
   ]
  },
  {
   "cell_type": "code",
   "execution_count": 39,
   "id": "d84dbcfa-9e19-4404-9f79-2639a8d10a94",
   "metadata": {},
   "outputs": [],
   "source": [
    "oldepochs = 'sub-'+subject+'_ses-'+session+'_task-'+task+'_epochs-epo.fif'"
   ]
  },
  {
   "cell_type": "code",
   "execution_count": 40,
   "id": "c0669850-7d35-43c0-8649-222ca2e6dd97",
   "metadata": {},
   "outputs": [
    {
     "data": {
      "text/html": [
       "<table class=\"table table-hover table-striped table-sm table-responsive small\">\n",
       "    <tr>\n",
       "        <th>Number of events</th>\n",
       "        <td>527</td>\n",
       "    </tr>\n",
       "    <tr>\n",
       "        <th>Events</th>\n",
       "        \n",
       "        <td>TsD-: 131<br/>WMD+: 132<br/>bgin: 132<br/>fix+: 132</td>\n",
       "        \n",
       "    </tr>\n",
       "    <tr>\n",
       "        <th>Time range</th>\n",
       "        <td>-0.250 – 0.800 sec</td>\n",
       "    </tr>\n",
       "    <tr>\n",
       "        <th>Baseline</th>\n",
       "        <td>-0.250 – 0.000 sec</td>\n",
       "    </tr>\n",
       "</table>"
      ],
      "text/plain": [
       "<EpochsFIF |  527 events (all good), -0.25 - 0.8 sec, baseline -0.25 – 0 sec, ~545.3 MB, data loaded,\n",
       " 'TsD-': 131\n",
       " 'WMD+': 132\n",
       " 'bgin': 132\n",
       " 'fix+': 132>"
      ]
     },
     "execution_count": 40,
     "metadata": {},
     "output_type": "execute_result"
    }
   ],
   "source": [
    "old_epochs = mne.read_epochs(pathlib.Path('out_data')\n",
    "            / '03_init_epochs' / subname / oldepochs)\n",
    "old_epochs"
   ]
  },
  {
   "cell_type": "markdown",
   "id": "8d7b71de-50c9-4b77-a66a-5c775ee82daa",
   "metadata": {},
   "source": [
    "#### Old Epoch Rejection Filter"
   ]
  },
  {
   "cell_type": "code",
   "execution_count": 41,
   "id": "1724ff97-8afd-4f65-a7e3-d4f67ba665dc",
   "metadata": {},
   "outputs": [
    {
     "data": {
      "text/html": [
       "<table class=\"table table-hover table-striped table-sm table-responsive small\">\n",
       "    <tr>\n",
       "        <th>Number of events</th>\n",
       "        <td>19</td>\n",
       "    </tr>\n",
       "    <tr>\n",
       "        <th>Events</th>\n",
       "        \n",
       "        <td>TsD-: 0<br/>WMD+: 7<br/>bgin: 0<br/>fix+: 12</td>\n",
       "        \n",
       "    </tr>\n",
       "    <tr>\n",
       "        <th>Time range</th>\n",
       "        <td>-0.250 – 0.800 sec</td>\n",
       "    </tr>\n",
       "    <tr>\n",
       "        <th>Baseline</th>\n",
       "        <td>-0.250 – 0.000 sec</td>\n",
       "    </tr>\n",
       "</table>"
      ],
      "text/plain": [
       "<EpochsFIF |  19 events (all good), -0.25 - 0.8 sec, baseline -0.25 – 0 sec, ~19.8 MB, data loaded,\n",
       " 'TsD-': 0\n",
       " 'WMD+': 7\n",
       " 'bgin': 0\n",
       " 'fix+': 12>"
      ]
     },
     "execution_count": 41,
     "metadata": {},
     "output_type": "execute_result"
    }
   ],
   "source": [
    "reject_criteria = dict(eeg=100e-6) # 100 µV, what should our rejection criteria be? \n",
    "\n",
    "old_epochs.drop_bad(reject=reject_criteria)"
   ]
  },
  {
   "cell_type": "code",
   "execution_count": 42,
   "id": "37e3c881-877d-4a41-84b9-044568819f2b",
   "metadata": {},
   "outputs": [
    {
     "data": {
      "text/html": [
       "<table class=\"table table-hover table-striped table-sm table-responsive small\">\n",
       "    <tr>\n",
       "        <th>Number of events</th>\n",
       "        <td>19</td>\n",
       "    </tr>\n",
       "    <tr>\n",
       "        <th>Events</th>\n",
       "        \n",
       "        <td>TsD-: 0<br/>WMD+: 7<br/>bgin: 0<br/>fix+: 12</td>\n",
       "        \n",
       "    </tr>\n",
       "    <tr>\n",
       "        <th>Time range</th>\n",
       "        <td>-0.250 – 0.800 sec</td>\n",
       "    </tr>\n",
       "    <tr>\n",
       "        <th>Baseline</th>\n",
       "        <td>-0.250 – 0.000 sec</td>\n",
       "    </tr>\n",
       "</table>"
      ],
      "text/plain": [
       "<EpochsFIF |  19 events (all good), -0.25 - 0.8 sec, baseline -0.25 – 0 sec, ~19.8 MB, data loaded,\n",
       " 'TsD-': 0\n",
       " 'WMD+': 7\n",
       " 'bgin': 0\n",
       " 'fix+': 12>"
      ]
     },
     "execution_count": 42,
     "metadata": {},
     "output_type": "execute_result"
    }
   ],
   "source": [
    "old_epochs"
   ]
  },
  {
   "cell_type": "markdown",
   "id": "755f3e6c-54ce-43bd-80a1-162c4f0c442a",
   "metadata": {},
   "source": [
    "### Run New Epochs"
   ]
  },
  {
   "cell_type": "markdown",
   "id": "43622741-8243-4f7e-8ea2-b96280d44397",
   "metadata": {
    "tags": []
   },
   "source": [
    "#### Filter Raw Data"
   ]
  },
  {
   "cell_type": "code",
   "execution_count": 44,
   "id": "4660f055-eef6-404c-91bb-31f433616058",
   "metadata": {},
   "outputs": [
    {
     "data": {
      "text/html": [
       "<table class=\"table table-hover table-striped table-sm table-responsive small\">\n",
       "    <tr>\n",
       "        <th>Measurement date</th>\n",
       "        \n",
       "        <td>July 29, 2020  16:45:44 GMT</td>\n",
       "        \n",
       "    </tr>\n",
       "    <tr>\n",
       "        <th>Experimenter</th>\n",
       "        \n",
       "        <td>mne_anonymize</td>\n",
       "        \n",
       "    </tr>\n",
       "        <th>Participant</th>\n",
       "        \n",
       "            \n",
       "            <td>sub-08</td>\n",
       "            \n",
       "        \n",
       "    </tr>\n",
       "    <tr>\n",
       "        <th>Digitized points</th>\n",
       "        \n",
       "        <td>0 points</td>\n",
       "        \n",
       "    </tr>\n",
       "    <tr>\n",
       "        <th>Good channels</th>\n",
       "        <td>127 EEG, 2 EOG</td>\n",
       "    </tr>\n",
       "    <tr>\n",
       "        <th>Bad channels</th>\n",
       "        <td>None</td>\n",
       "    </tr>\n",
       "    <tr>\n",
       "        <th>EOG channels</th>\n",
       "        <td>E8, E25</td>\n",
       "    </tr>\n",
       "    <tr>\n",
       "        <th>ECG channels</th>\n",
       "        <td>Not available</td>\n",
       "    \n",
       "    <tr>\n",
       "        <th>Sampling frequency</th>\n",
       "        <td>1000.00 Hz</td>\n",
       "    </tr>\n",
       "    \n",
       "    \n",
       "    <tr>\n",
       "        <th>Highpass</th>\n",
       "        <td>1.00 Hz</td>\n",
       "    </tr>\n",
       "    \n",
       "    \n",
       "    <tr>\n",
       "        <th>Lowpass</th>\n",
       "        <td>40.00 Hz</td>\n",
       "    </tr>\n",
       "    \n",
       "    \n",
       "    \n",
       "    <tr>\n",
       "        <th>Filenames</th>\n",
       "        <td>sub-08_ses-02_task-WM1isi500_eeg.eeg</td>\n",
       "    </tr>\n",
       "    \n",
       "    <tr>\n",
       "        <th>Duration</th>\n",
       "        <td>00:08:06 (HH:MM:SS)</td>\n",
       "    </tr>\n",
       "</table>"
      ],
      "text/plain": [
       "<RawBrainVision | sub-08_ses-02_task-WM1isi500_eeg.eeg, 129 x 486748 (486.7 s), ~479.2 MB, data loaded>"
      ]
     },
     "execution_count": 44,
     "metadata": {},
     "output_type": "execute_result"
    }
   ],
   "source": [
    "filter_raw = reconst_raw.filter(l_freq=0.1, h_freq=40) \n",
    "filter_raw"
   ]
  },
  {
   "cell_type": "markdown",
   "id": "94cc1bdd-d3e4-47e7-a088-30389056b9f5",
   "metadata": {},
   "source": [
    "#### Start New Epochs"
   ]
  },
  {
   "cell_type": "code",
   "execution_count": 45,
   "id": "330f7dce-49ff-417d-a2a3-c98f4e465e5b",
   "metadata": {},
   "outputs": [
    {
     "data": {
      "text/html": [
       "<table class=\"table table-hover table-striped table-sm table-responsive small\">\n",
       "    <tr>\n",
       "        <th>Number of events</th>\n",
       "        <td>527</td>\n",
       "    </tr>\n",
       "    <tr>\n",
       "        <th>Events</th>\n",
       "        \n",
       "        <td>TsD-: 131<br/>WMD+: 132<br/>bgin: 132<br/>fix+: 132</td>\n",
       "        \n",
       "    </tr>\n",
       "    <tr>\n",
       "        <th>Time range</th>\n",
       "        <td>-0.250 – 0.800 sec</td>\n",
       "    </tr>\n",
       "    <tr>\n",
       "        <th>Baseline</th>\n",
       "        <td>-0.250 – 0.000 sec</td>\n",
       "    </tr>\n",
       "</table>"
      ],
      "text/plain": [
       "<Epochs |  527 events (all good), -0.25 - 0.8 sec, baseline -0.25 – 0 sec, ~545.3 MB, data loaded,\n",
       " 'TsD-': 131\n",
       " 'WMD+': 132\n",
       " 'bgin': 132\n",
       " 'fix+': 132>"
      ]
     },
     "execution_count": 45,
     "metadata": {},
     "output_type": "execute_result"
    }
   ],
   "source": [
    "tmin = -0.25 #300 ms before the event\n",
    "tmax = 0.8 #500 ms after the onset\n",
    "\n",
    "new_epochs = mne.Epochs(reconst_raw,\n",
    "                    events=events,\n",
    "                    event_id=event_id,\n",
    "                    tmin=tmin,\n",
    "                    tmax=tmax,\n",
    "                    preload=True)\n",
    "new_epochs"
   ]
  },
  {
   "cell_type": "markdown",
   "id": "e7d2bd22-e638-4b33-b573-8a700340a9c3",
   "metadata": {},
   "source": [
    "#### New Epoch Rejection Filter"
   ]
  },
  {
   "cell_type": "code",
   "execution_count": 47,
   "id": "d977ea28-1c68-49ee-9ea0-08aa992d833a",
   "metadata": {},
   "outputs": [
    {
     "data": {
      "text/html": [
       "<table class=\"table table-hover table-striped table-sm table-responsive small\">\n",
       "    <tr>\n",
       "        <th>Number of events</th>\n",
       "        <td>83</td>\n",
       "    </tr>\n",
       "    <tr>\n",
       "        <th>Events</th>\n",
       "        \n",
       "        <td>TsD-: 8<br/>WMD+: 33<br/>bgin: 8<br/>fix+: 34</td>\n",
       "        \n",
       "    </tr>\n",
       "    <tr>\n",
       "        <th>Time range</th>\n",
       "        <td>-0.250 – 0.800 sec</td>\n",
       "    </tr>\n",
       "    <tr>\n",
       "        <th>Baseline</th>\n",
       "        <td>-0.250 – 0.000 sec</td>\n",
       "    </tr>\n",
       "</table>"
      ],
      "text/plain": [
       "<Epochs |  83 events (all good), -0.25 - 0.8 sec, baseline -0.25 – 0 sec, ~86.0 MB, data loaded,\n",
       " 'TsD-': 8\n",
       " 'WMD+': 33\n",
       " 'bgin': 8\n",
       " 'fix+': 34>"
      ]
     },
     "execution_count": 47,
     "metadata": {},
     "output_type": "execute_result"
    }
   ],
   "source": [
    "reject_criteria = dict(eeg=100e-6) # 100 µV, what should our rejection criteria be? \n",
    "\n",
    "new_epochs.drop_bad(reject=reject_criteria)"
   ]
  },
  {
   "cell_type": "markdown",
   "id": "6f72a464-4a60-4633-b24f-84c2af8bafcd",
   "metadata": {},
   "source": [
    "## Result"
   ]
  },
  {
   "cell_type": "raw",
   "id": "5785589d-aca1-464f-9cab-e281906ab5d3",
   "metadata": {},
   "source": [
    "old_epochs.plot(title = 'Old Epochs')\n",
    "new_epochs.plot(title = 'New Epochs')"
   ]
  },
  {
   "cell_type": "markdown",
   "id": "9b328189-5321-4fd7-9f24-d840b54c8bc9",
   "metadata": {},
   "source": [
    "## Saving Cleaned Epoch Data "
   ]
  },
  {
   "cell_type": "code",
   "execution_count": 19,
   "id": "4f579e8c-f01f-4bb9-8f27-63779c8297bd",
   "metadata": {},
   "outputs": [],
   "source": [
    "filename = 'sub-'+subject+'_ses-'+session+'_task-'+task+'_cleaned_data.fif'"
   ]
  },
  {
   "cell_type": "code",
   "execution_count": 20,
   "id": "abf76b5b-8fcc-491b-9128-45b57e06bcb1",
   "metadata": {},
   "outputs": [
    {
     "name": "stderr",
     "output_type": "stream",
     "text": [
      "C:\\Users\\trevo\\AppData\\Local\\Temp\\ipykernel_14288\\900852233.py:1: RuntimeWarning: This filename (out_data\\03_preprocessing\\sub-01_ses-02_task-WM1isi250_cleaned_data.fif) does not conform to MNE naming conventions. All epochs files should end with -epo.fif, -epo.fif.gz, _epo.fif or _epo.fif.gz\n",
      "  new_epochs.save(pathlib.Path('out_data')\n"
     ]
    }
   ],
   "source": [
    "new_epochs.save(pathlib.Path('out_data')\n",
    "            / '04_preprocessing' / subname / filename)"
   ]
  }
 ],
 "metadata": {
  "kernelspec": {
   "display_name": "Python 3 (ipykernel)",
   "language": "python",
   "name": "python3"
  },
  "language_info": {
   "codemirror_mode": {
    "name": "ipython",
    "version": 3
   },
   "file_extension": ".py",
   "mimetype": "text/x-python",
   "name": "python",
   "nbconvert_exporter": "python",
   "pygments_lexer": "ipython3",
   "version": "3.9.13"
  }
 },
 "nbformat": 4,
 "nbformat_minor": 5
}
