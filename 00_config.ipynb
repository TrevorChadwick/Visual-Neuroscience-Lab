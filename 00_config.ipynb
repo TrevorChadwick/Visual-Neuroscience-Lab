{
 "cells": [
  {
   "cell_type": "markdown",
   "id": "0fcc9dcb-e6fc-4f93-9a87-bf9a4a27466f",
   "metadata": {},
   "source": [
    "# Configuration"
   ]
  },
  {
   "cell_type": "markdown",
   "id": "96b60d3e-0048-441c-9380-e813cce764a0",
   "metadata": {},
   "source": [
    "## Import"
   ]
  },
  {
   "cell_type": "code",
   "execution_count": 1,
   "id": "62eae0de-87c9-4ce9-b65c-1fdfa7d160e3",
   "metadata": {},
   "outputs": [],
   "source": [
    "import matplotlib\n",
    "import pathlib\n",
    "\n",
    "import os\n",
    "import os.path as op\n",
    "import shutil\n",
    "import mne\n",
    "import mne_bids\n",
    "\n",
    "from mne_bids import make_report\n",
    "\n",
    "matplotlib.use('Agg')"
   ]
  },
  {
   "cell_type": "markdown",
   "id": "86ac02dc-55e9-48cf-9087-30a2a8172d8b",
   "metadata": {},
   "source": [
    "## Erase Folders"
   ]
  },
  {
   "cell_type": "code",
   "execution_count": 2,
   "id": "b94580ae-f047-4a67-ac39-e9c921bca2f2",
   "metadata": {},
   "outputs": [],
   "source": [
    "root_path = os.path.join(\"C:/Users/trevo/OneDrive/Desktop/Lab_Files/VWM_LAB\")\n",
    "bids_root = os.path.join(root_path, 'EGI_BIDS')\n",
    "output_path = os.path.join(root_path, 'EGI_OUTPUTS')"
   ]
  },
  {
   "cell_type": "markdown",
   "id": "0a3b70a5-8cac-4fe0-85c6-76cd740c0507",
   "metadata": {},
   "source": [
    "##### Careful with these, they erase all bids and output files!"
   ]
  },
  {
   "cell_type": "code",
   "execution_count": 3,
   "id": "16a2b6bc-c27e-4eba-9ddd-d2e9731a1d9f",
   "metadata": {},
   "outputs": [],
   "source": [
    "if op.exists(bids_root):\n",
    "    shutil.rmtree(bids_root)\n",
    "    os.makedirs(os.path.join(root_path, 'EGI_BIDS'))    "
   ]
  },
  {
   "cell_type": "code",
   "execution_count": 4,
   "id": "3459ddca-9043-4bc4-95c7-d8f2a6cc47ef",
   "metadata": {},
   "outputs": [],
   "source": [
    "if op.exists(output_path):\n",
    "    shutil.rmtree(output_path)\n",
    "    os.makedirs(os.path.join(root_path, 'EGI_OUTPUTS'))"
   ]
  },
  {
   "cell_type": "markdown",
   "id": "2f98cb02-ed17-4a4d-9a6d-a51a58a5c6a7",
   "metadata": {
    "tags": []
   },
   "source": [
    "## Input EGI_RAW"
   ]
  },
  {
   "cell_type": "code",
   "execution_count": null,
   "id": "2095b18d-7818-4116-ac5d-b0b090cd0b23",
   "metadata": {},
   "outputs": [],
   "source": [
    "error_list = list()\n",
    "preprocessed_list = list()"
   ]
  },
  {
   "cell_type": "code",
   "execution_count": null,
   "id": "86e25562-d80a-4b88-844c-c8572c51920f",
   "metadata": {},
   "outputs": [],
   "source": [
    "int_total_epochs = 0\n",
    "int_old_epochs = 0\n",
    "int_new_epochs = 0\n",
    "runs = 0"
   ]
  },
  {
   "cell_type": "code",
   "execution_count": null,
   "id": "87de6d91-380e-413d-9187-6555d14596d8",
   "metadata": {},
   "outputs": [],
   "source": [
    "subjects = ['01', '07', '08']\n",
    "sessions = ['WM1', 'WM3', 'WM5']\n",
    "tasks = ['isi0', 'isi50', 'isi250', 'isi500', 'isi750', 'isi1000', 'isi1250', 'isi1500']"
   ]
  },
  {
   "cell_type": "code",
   "execution_count": null,
   "id": "17c39a2c-4352-44c2-acd1-6f6b0b3250c7",
   "metadata": {},
   "outputs": [],
   "source": [
    "for subject in subjects:\n",
    "    for session in sessions:\n",
    "        for task in tasks:\n",
    "            try:\n",
    "                %run ./01_bids_convert.ipynb\n",
    "                %run ./02_init_epochs.ipynb\n",
    "                %run ./03_preprocessing.ipynb\n",
    "                %run ./04_evokes.ipynb\n",
    "                runs += 1\n",
    "                int_total_epochs += total_epochs_number\n",
    "                int_old_epochs += old_epochs_number\n",
    "                int_new_epochs += new_epochs_number\n",
    "            except:\n",
    "                error = \"subject_\"+subject+\"_\"+session+\"_task_\"+task\n",
    "                error_list.append(error)\n",
    "                pass\n",
    "            print('Finished')"
   ]
  },
  {
   "cell_type": "code",
   "execution_count": null,
   "id": "c9cd2e00-4c27-4fd1-ba81-ae491661de91",
   "metadata": {},
   "outputs": [],
   "source": [
    "print(runs)\n",
    "print(int_total_epochs)\n",
    "print(int_old_epochs)\n",
    "print(int_new_epochs)"
   ]
  },
  {
   "cell_type": "code",
   "execution_count": null,
   "id": "68100c17-7fe8-409a-bdef-e4af61dd0ef2",
   "metadata": {},
   "outputs": [],
   "source": [
    "old_epoch_percent = str((int_old_epochs / int_total_epochs)*100)\n",
    "new_epoch_percent = str((int_new_epochs / int_total_epochs)*100)\n",
    "total_epoch_survival = str(int_total_epochs / runs)\n",
    "old_epoch_survival = str(int_old_epochs / runs)\n",
    "new_epoch_survival = str(int_new_epochs / runs)"
   ]
  },
  {
   "cell_type": "code",
   "execution_count": null,
   "id": "3989d17a-4221-4f4f-a093-0767f4406c99",
   "metadata": {},
   "outputs": [],
   "source": [
    "survival_report_html = str(\n",
    "'Epoch survival rate from '+old_epoch_percent+' % to '+new_epoch_percent+\n",
    "' %, average total epoch rate = '+total_epoch_survival+', old epoch rate = '+old_epoch_survival+\n",
    "', new epoch rate = '+new_epoch_survival\n",
    ")\n",
    "survival_report_html"
   ]
  },
  {
   "cell_type": "code",
   "execution_count": null,
   "id": "46314031-3a18-40fe-8d88-655c57148791",
   "metadata": {},
   "outputs": [],
   "source": [
    "survival_report = mne.Report(title='Survival Report')\n",
    "survival_report.add_html(html=survival_report_html, title='survival_report.html')\n",
    "survival_report_path = os.path.join(output_path, 'survival_report.html')\n",
    "\n",
    "survival_report.save(survival_report_path, overwrite=True)"
   ]
  },
  {
   "cell_type": "markdown",
   "id": "359a4645-0ccb-40c7-855c-c11940376517",
   "metadata": {},
   "source": [
    "### Report Errors"
   ]
  },
  {
   "cell_type": "code",
   "execution_count": null,
   "id": "ac5b1dd7-3be9-4010-824c-235627b9ab41",
   "metadata": {},
   "outputs": [],
   "source": [
    "error_list"
   ]
  },
  {
   "cell_type": "code",
   "execution_count": null,
   "id": "c4d4274a-cf4a-45c9-bc88-b646eb194177",
   "metadata": {},
   "outputs": [],
   "source": [
    "error_report = mne.Report(title='Error Report')\n",
    "error_report.add_html(html=error_list, title='error_report.html')\n",
    "report_path = os.path.join(output_path, 'error_report.html')\n",
    "\n",
    "error_report.save(report_path, overwrite=True)"
   ]
  },
  {
   "cell_type": "code",
   "execution_count": null,
   "id": "caa4c938-5875-4f1f-b360-7779b4a7c5d4",
   "metadata": {},
   "outputs": [],
   "source": []
  }
 ],
 "metadata": {
  "kernelspec": {
   "display_name": "Python 3 (ipykernel)",
   "language": "python",
   "name": "python3"
  },
  "language_info": {
   "codemirror_mode": {
    "name": "ipython",
    "version": 3
   },
   "file_extension": ".py",
   "mimetype": "text/x-python",
   "name": "python",
   "nbconvert_exporter": "python",
   "pygments_lexer": "ipython3",
   "version": "3.10.5"
  }
 },
 "nbformat": 4,
 "nbformat_minor": 5
}
