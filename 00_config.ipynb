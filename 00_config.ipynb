{
 "cells": [
  {
   "cell_type": "markdown",
   "id": "0fcc9dcb-e6fc-4f93-9a87-bf9a4a27466f",
   "metadata": {},
   "source": [
    "# Configuration"
   ]
  },
  {
   "cell_type": "markdown",
   "id": "2f98cb02-ed17-4a4d-9a6d-a51a58a5c6a7",
   "metadata": {},
   "source": [
    "## MFF Information"
   ]
  },
  {
   "cell_type": "code",
   "execution_count": 1,
   "id": "551dff07-cee6-4152-830e-e1e9cf95c4a3",
   "metadata": {},
   "outputs": [],
   "source": [
    "WMfolder = 'WM1'\n",
    "subfolder = 'S1'\n",
    "mffname = 'WM_1_isi500_s1c_20191114_104039.mff'"
   ]
  },
  {
   "cell_type": "markdown",
   "id": "0085d6d9-29ee-412e-aae9-6dd4e0728c8f",
   "metadata": {},
   "source": [
    "## Insert Subject Information"
   ]
  },
  {
   "cell_type": "code",
   "execution_count": 2,
   "id": "2f83faf5-6d14-4dbd-97a7-a666b7050762",
   "metadata": {},
   "outputs": [],
   "source": [
    "subject = '01'\n",
    "session = '04'\n",
    "task = 'WM1isi500'\n",
    "initals = 'DAT'"
   ]
  },
  {
   "cell_type": "markdown",
   "id": "516507c4-0c19-4e6f-85d5-46797a9c314a",
   "metadata": {},
   "source": [
    "## Run Files"
   ]
  },
  {
   "cell_type": "code",
   "execution_count": 3,
   "id": "c00dde5e-5e5a-4563-8b65-794668fce4dd",
   "metadata": {},
   "outputs": [
    {
     "name": "stdout",
     "output_type": "stream",
     "text": [
      "Reading EGI MFF Header from C:\\Users\\trevo\\Desktop\\Lab_Files\\WM_eegData\\WM1\\S1\\WM_1_isi500_s1c_20191114_104039.mff...\n",
      "    Reading events ...\n",
      "    Assembling measurement info ...\n",
      "    Synthesizing trigger channel \"STI 014\" ...\n",
      "    Excluding events {SESS} ...\n",
      "533 events found\n",
      "Event IDs: [1 2 3 4 5 6]\n",
      "Reading EGI MFF Header from C:\\Users\\trevo\\Desktop\\Lab_Files\\WM_eegData\\WM1\\S1\\WM_1_isi500_s1c_20191114_104039.mff...\n",
      "    Reading events ...\n",
      "    Assembling measurement info ...\n",
      "    Synthesizing trigger channel \"STI 014\" ...\n",
      "    Excluding events {SESS} ...\n",
      "Writing 'out_data\\01_bids_structure\\participants.tsv'...\n",
      "Writing 'out_data\\01_bids_structure\\participants.json'...\n",
      "Writing 'out_data/01_bids_structure/sub-01/ses-04/eeg/sub-01_ses-04_space-CapTrak_electrodes.tsv'...\n",
      "Writing 'out_data/01_bids_structure/sub-01/ses-04/eeg/sub-01_ses-04_space-CapTrak_coordsystem.json'...\n",
      "Used Annotations descriptions: ['TsD-', 'WMD+', 'bgin', 'fix+']\n",
      "Writing 'out_data\\01_bids_structure\\sub-01\\ses-04\\eeg\\sub-01_ses-04_task-WM1isi500_events.tsv'...\n",
      "Writing 'out_data\\01_bids_structure\\dataset_description.json'...\n",
      "Writing 'out_data\\01_bids_structure\\sub-01\\ses-04\\eeg\\sub-01_ses-04_task-WM1isi500_eeg.json'...\n",
      "Writing 'out_data\\01_bids_structure\\sub-01\\ses-04\\eeg\\sub-01_ses-04_task-WM1isi500_channels.tsv'...\n",
      "Copying data files to sub-01_ses-04_task-WM1isi500_eeg.bin\n"
     ]
    },
    {
     "name": "stderr",
     "output_type": "stream",
     "text": [
      "C:\\Users\\trevo\\AppData\\Local\\Temp\\ipykernel_1528\\1209607103.py:8: RuntimeWarning: Converting data files to BrainVision format\n",
      "  mne_bids.write_raw_bids(raw, bids_path=bids_path, events_data=events, format=\"BrainVision\",\n",
      "C:\\Users\\trevo\\AppData\\Local\\Temp\\ipykernel_1528\\1209607103.py:8: RuntimeWarning: Encountered data in \"float\" format. Converting to float32.\n",
      "  mne_bids.write_raw_bids(raw, bids_path=bids_path, events_data=events, format=\"BrainVision\",\n",
      "C:\\Users\\trevo\\anaconda3\\envs\\mne\\lib\\site-packages\\pybv\\io.py:603: UserWarning: Encountered unsupported non-voltage units: n/a\n",
      "Note that the BrainVision format specification supports only µV.\n",
      "  warn(msg)\n"
     ]
    },
    {
     "name": "stdout",
     "output_type": "stream",
     "text": [
      "Writing 'out_data\\01_bids_structure\\sub-01\\ses-04\\sub-01_ses-04_scans.tsv'...\n",
      "Wrote out_data\\01_bids_structure\\sub-01\\ses-04\\sub-01_ses-04_scans.tsv entry with eeg\\sub-01_ses-04_task-WM1isi500_eeg.vhdr.\n"
     ]
    }
   ],
   "source": [
    "%run ./01_bids_convert.ipynb"
   ]
  },
  {
   "cell_type": "code",
   "execution_count": 4,
   "id": "e8a9f005-7931-434e-b2f8-963c571f3247",
   "metadata": {},
   "outputs": [
    {
     "name": "stdout",
     "output_type": "stream",
     "text": [
      "Extracting parameters from out_data\\01_bids_structure\\sub-01\\ses-04\\eeg\\sub-01_ses-04_task-WM1isi500_eeg.vhdr...\n",
      "Setting channel info structure...\n",
      "Reading events from out_data\\01_bids_structure\\sub-01\\ses-04\\eeg\\sub-01_ses-04_task-WM1isi500_events.tsv.\n",
      "Reading channel info from out_data\\01_bids_structure\\sub-01\\ses-04\\eeg\\sub-01_ses-04_task-WM1isi500_channels.tsv.\n",
      "Reading electrode coords from out_data\\01_bids_structure\\sub-01\\ses-04\\eeg\\sub-01_ses-04_space-CapTrak_electrodes.tsv.\n",
      "Reading 0 ... 427887  =      0.000 ...   427.887 secs...\n"
     ]
    },
    {
     "name": "stderr",
     "output_type": "stream",
     "text": [
      "C:\\Users\\trevo\\AppData\\Local\\Temp\\ipykernel_1528\\466673200.py:7: RuntimeWarning: There are channels without locations (n/a) that are not marked as bad: ['SESS', 'CELL', 'bgin', 'fix+', 'WMD+', 'TsD-', 'TRSP', 'STI 014']\n",
      "  raw = mne_bids.read_raw_bids(bids_path)\n",
      "C:\\Users\\trevo\\AppData\\Local\\Temp\\ipykernel_1528\\466673200.py:7: RuntimeWarning: Not setting positions of 8 stim channels found in montage:\n",
      "['SESS', 'CELL', 'bgin', 'fix+', 'WMD+', 'TsD-', 'TRSP', 'STI 014']\n",
      "Consider setting the channel types to be of EEG/sEEG/ECoG/DBS/fNIRS using inst.set_channel_types before calling inst.set_montage, or omit these channels when creating your montage.\n",
      "  raw = mne_bids.read_raw_bids(bids_path)\n"
     ]
    },
    {
     "name": "stdout",
     "output_type": "stream",
     "text": [
      "Used Annotations descriptions: ['TsD-', 'WMD+', 'bgin', 'fix+']\n",
      "EEG channel type selected for re-referencing\n",
      "Applying a custom ('EEG',) reference.\n",
      "Writing C:\\Users\\trevo\\Desktop\\Lab_Files\\MNE_Files\\E5_Data_Structure\\out_data\\02_interpolation_data\\sub-01_ses-04_task-WM1isi500_interpolated_data.fif\n"
     ]
    },
    {
     "name": "stderr",
     "output_type": "stream",
     "text": [
      "C:\\Users\\trevo\\AppData\\Local\\Temp\\ipykernel_1528\\1195969053.py:1: RuntimeWarning: No bad channels to interpolate. Doing nothing...\n",
      "  raw_inter = raw.copy().interpolate_bads(reset_bads=False)\n",
      "C:\\Users\\trevo\\AppData\\Local\\Temp\\ipykernel_1528\\1292522555.py:1: RuntimeWarning: This filename (C:\\Users\\trevo\\Desktop\\Lab_Files\\MNE_Files\\E5_Data_Structure\\out_data\\02_interpolation_data\\sub-01_ses-04_task-WM1isi500_interpolated_data.fif) does not conform to MNE naming conventions. All raw files should end with raw.fif, raw_sss.fif, raw_tsss.fif, _meg.fif, _eeg.fif, _ieeg.fif, raw.fif.gz, raw_sss.fif.gz, raw_tsss.fif.gz, _meg.fif.gz, _eeg.fif.gz or _ieeg.fif.gz\n",
      "  raw_inter.save(pathlib.Path('out_data')\n"
     ]
    },
    {
     "name": "stdout",
     "output_type": "stream",
     "text": [
      "Closing C:\\Users\\trevo\\Desktop\\Lab_Files\\MNE_Files\\E5_Data_Structure\\out_data\\02_interpolation_data\\sub-01_ses-04_task-WM1isi500_interpolated_data.fif\n",
      "[done]\n"
     ]
    }
   ],
   "source": [
    "%run ./02_interpolation.ipynb"
   ]
  },
  {
   "cell_type": "code",
   "execution_count": 5,
   "id": "d212bee0-42e6-4fd0-ae4e-82980b646857",
   "metadata": {},
   "outputs": [
    {
     "name": "stdout",
     "output_type": "stream",
     "text": [
      "Opening raw data file out_data\\02_interpolation_data\\sub-01_ses-04_task-WM1isi500_interpolated_data.fif...\n",
      "    Range : 0 ... 427887 =      0.000 ...   427.887 secs\n",
      "Ready.\n"
     ]
    },
    {
     "name": "stderr",
     "output_type": "stream",
     "text": [
      "C:\\Users\\trevo\\AppData\\Local\\Temp\\ipykernel_1528\\4248771911.py:1: RuntimeWarning: This filename (out_data\\02_interpolation_data\\sub-01_ses-04_task-WM1isi500_interpolated_data.fif) does not conform to MNE naming conventions. All raw files should end with raw.fif, raw_sss.fif, raw_tsss.fif, _meg.fif, _eeg.fif, _ieeg.fif, raw.fif.gz, raw_sss.fif.gz, raw_tsss.fif.gz, _meg.fif.gz, _eeg.fif.gz or _ieeg.fif.gz\n",
      "  raw = mne.io.read_raw(pathlib.Path('out_data') / '02_interpolation_data' /\n"
     ]
    },
    {
     "name": "stdout",
     "output_type": "stream",
     "text": [
      "Used Annotations descriptions: ['TsD-', 'WMD+', 'bgin', 'fix+']\n",
      "Reading 0 ... 427887  =      0.000 ...   427.887 secs...\n",
      "Filtering raw data in 1 contiguous segment\n",
      "Setting up band-pass filter from 0.1 - 40 Hz\n",
      "\n",
      "FIR filter parameters\n",
      "---------------------\n",
      "Designing a one-pass, zero-phase, non-causal bandpass filter:\n",
      "- Windowed time-domain design (firwin) method\n",
      "- Hamming window with 0.0194 passband ripple and 53 dB stopband attenuation\n",
      "- Lower passband edge: 0.10\n",
      "- Lower transition bandwidth: 0.10 Hz (-6 dB cutoff frequency: 0.05 Hz)\n",
      "- Upper passband edge: 40.00 Hz\n",
      "- Upper transition bandwidth: 10.00 Hz (-6 dB cutoff frequency: 45.00 Hz)\n",
      "- Filter length: 33001 samples (33.001 sec)\n",
      "\n",
      "Not setting metadata\n",
      "528 matching events found\n",
      "Setting baseline interval to [-0.25, 0.0] sec\n",
      "Applying baseline correction (mode: mean)\n",
      "0 projection items activated\n",
      "Using data from preloaded Raw for 528 events and 1051 original time points ...\n",
      "1 bad epochs dropped\n"
     ]
    }
   ],
   "source": [
    "%run ./03_creating_epochs_evoked.ipynb"
   ]
  },
  {
   "cell_type": "code",
   "execution_count": 6,
   "id": "ded0c47e-0aa9-47a9-bc45-d18b4144dd6b",
   "metadata": {},
   "outputs": [
    {
     "name": "stderr",
     "output_type": "stream",
     "text": [
      "C:\\Users\\trevo\\AppData\\Local\\Temp\\ipykernel_1528\\805060985.py:1: RuntimeWarning: This filename (out_data\\02_interpolation_data\\sub-01_ses-01_task-WM1isi0_interpolated_data.fif) does not conform to MNE naming conventions. All raw files should end with raw.fif, raw_sss.fif, raw_tsss.fif, _meg.fif, _eeg.fif, _ieeg.fif, raw.fif.gz, raw_sss.fif.gz, raw_tsss.fif.gz, _meg.fif.gz, _eeg.fif.gz or _ieeg.fif.gz\n",
      "  template_raw = mne.io.read_raw(pathlib.Path('out_data') / '02_interpolation_data' /\n",
      "C:\\Users\\trevo\\AppData\\Local\\Temp\\ipykernel_1528\\3778469506.py:1: RuntimeWarning: This filename (out_data\\02_interpolation_data\\sub-01_ses-04_task-WM1isi500_interpolated_data.fif) does not conform to MNE naming conventions. All raw files should end with raw.fif, raw_sss.fif, raw_tsss.fif, _meg.fif, _eeg.fif, _ieeg.fif, raw.fif.gz, raw_sss.fif.gz, raw_tsss.fif.gz, _meg.fif.gz, _eeg.fif.gz or _ieeg.fif.gz\n",
      "  raw = mne.io.read_raw(pathlib.Path('out_data') / '02_interpolation_data' /\n",
      "C:\\Users\\trevo\\AppData\\Local\\Temp\\ipykernel_1528\\1585327162.py:1: RuntimeWarning: This filename (out_data\\05_cleaned_data\\sub-01_ses-04_task-WM1isi500_cleaned_data.fif) does not conform to MNE naming conventions. All epochs files should end with -epo.fif, -epo.fif.gz, _epo.fif or _epo.fif.gz\n",
      "  new_epochs.save(pathlib.Path('out_data')\n"
     ]
    }
   ],
   "source": [
    "%run ./04_data_clean.ipynb"
   ]
  },
  {
   "cell_type": "code",
   "execution_count": null,
   "id": "b7ea9be8-8bfa-4635-bab2-0e9f79a62a7c",
   "metadata": {},
   "outputs": [],
   "source": []
  }
 ],
 "metadata": {
  "kernelspec": {
   "display_name": "Python 3 (ipykernel)",
   "language": "python",
   "name": "python3"
  },
  "language_info": {
   "codemirror_mode": {
    "name": "ipython",
    "version": 3
   },
   "file_extension": ".py",
   "mimetype": "text/x-python",
   "name": "python",
   "nbconvert_exporter": "python",
   "pygments_lexer": "ipython3",
   "version": "3.9.13"
  }
 },
 "nbformat": 4,
 "nbformat_minor": 5
}
