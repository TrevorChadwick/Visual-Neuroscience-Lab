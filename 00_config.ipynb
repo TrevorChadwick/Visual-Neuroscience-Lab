{
 "cells": [
  {
   "cell_type": "markdown",
   "id": "0fcc9dcb-e6fc-4f93-9a87-bf9a4a27466f",
   "metadata": {},
   "source": [
    "# Configuration"
   ]
  },
  {
   "cell_type": "markdown",
   "id": "2f98cb02-ed17-4a4d-9a6d-a51a58a5c6a7",
   "metadata": {},
   "source": [
    "## MFF Information"
   ]
  },
  {
   "cell_type": "code",
   "execution_count": null,
   "id": "551dff07-cee6-4152-830e-e1e9cf95c4a3",
   "metadata": {},
   "outputs": [],
   "source": [
    "WMfolder = 'WM1'\n",
    "subfolder = 'S1'\n",
    "mffname = 'WM_1_isi0_s1c_20191110_020011.mff'"
   ]
  },
  {
   "cell_type": "markdown",
   "id": "0085d6d9-29ee-412e-aae9-6dd4e0728c8f",
   "metadata": {},
   "source": [
    "## Insert Subject Information"
   ]
  },
  {
   "cell_type": "code",
   "execution_count": 36,
   "id": "2f83faf5-6d14-4dbd-97a7-a666b7050762",
   "metadata": {},
   "outputs": [],
   "source": [
    "subject = '01'\n",
    "session = '01'\n",
    "task = 'WM1isi0'\n",
    "initals = 'DAT'"
   ]
  },
  {
   "cell_type": "markdown",
   "id": "516507c4-0c19-4e6f-85d5-46797a9c314a",
   "metadata": {},
   "source": [
    "## Run Script 1"
   ]
  },
  {
   "cell_type": "code",
   "execution_count": 3,
   "id": "c00dde5e-5e5a-4563-8b65-794668fce4dd",
   "metadata": {},
   "outputs": [
    {
     "name": "stdout",
     "output_type": "stream",
     "text": [
      "Reading EGI MFF Header from C:\\Users\\trevo\\Desktop\\Lab_Files\\WM_eegData\\WM1\\S1\\WM_1_isi0_s1c_20191110_020011.mff...\n",
      "    Reading events ...\n",
      "    Assembling measurement info ...\n",
      "    Synthesizing trigger channel \"STI 014\" ...\n",
      "    Excluding events {SESS} ...\n",
      "Reading 0 ... 361489  =      0.000 ...   361.489 secs...\n",
      "533 events found\n",
      "Event IDs: [1 2 3 4 5 6]\n",
      "EEG channel type selected for re-referencing\n",
      "Applying a custom ('EEG',) reference.\n",
      "Writing 'out_data\\01_bids_structure\\participants.tsv'...\n",
      "Writing 'out_data\\01_bids_structure\\participants.json'...\n",
      "Writing 'out_data/01_bids_structure/sub-01/ses-01/eeg/sub-01_ses-01_space-CapTrak_electrodes.tsv'...\n",
      "Writing 'out_data/01_bids_structure/sub-01/ses-01/eeg/sub-01_ses-01_space-CapTrak_coordsystem.json'...\n",
      "Used Annotations descriptions: ['TsD-', 'WMD+', 'bgin', 'fix+']\n"
     ]
    },
    {
     "ename": "FileExistsError",
     "evalue": "\"out_data\\01_bids_structure\\sub-01\\ses-01\\eeg\\sub-01_ses-01_task-WM1isi0_events.tsv\" already exists. Please set overwrite to True.",
     "output_type": "error",
     "traceback": [
      "\u001b[1;31m---------------------------------------------------------------------------\u001b[0m",
      "\u001b[1;31mFileExistsError\u001b[0m                           Traceback (most recent call last)",
      "File \u001b[1;32m~\\AppData\\Local\\Temp\\ipykernel_5976\\3955820220.py:8\u001b[0m, in \u001b[0;36m<cell line: 8>\u001b[1;34m()\u001b[0m\n\u001b[0;32m      1\u001b[0m out_path \u001b[38;5;241m=\u001b[39m pathlib\u001b[38;5;241m.\u001b[39mPath(\u001b[38;5;124m'\u001b[39m\u001b[38;5;124mout_data/01_bids_structure\u001b[39m\u001b[38;5;124m'\u001b[39m) \u001b[38;5;66;03m#Into which directory the data should go\u001b[39;00m\n\u001b[0;32m      3\u001b[0m bids_path \u001b[38;5;241m=\u001b[39m mne_bids\u001b[38;5;241m.\u001b[39mBIDSPath(subject\u001b[38;5;241m=\u001b[39msubject,\n\u001b[0;32m      4\u001b[0m                               session\u001b[38;5;241m=\u001b[39msession,\n\u001b[0;32m      5\u001b[0m                               task\u001b[38;5;241m=\u001b[39mtask,\n\u001b[0;32m      6\u001b[0m                               root\u001b[38;5;241m=\u001b[39mout_path) \u001b[38;5;66;03m#An object that specifies the location of BIDS files\u001b[39;00m\n\u001b[1;32m----> 8\u001b[0m \u001b[43mmne_bids\u001b[49m\u001b[38;5;241;43m.\u001b[39;49m\u001b[43mwrite_raw_bids\u001b[49m\u001b[43m(\u001b[49m\u001b[43mraw\u001b[49m\u001b[43m,\u001b[49m\u001b[43m \u001b[49m\u001b[43mbids_path\u001b[49m\u001b[38;5;241;43m=\u001b[39;49m\u001b[43mbids_path\u001b[49m\u001b[43m,\u001b[49m\u001b[43m \u001b[49m\u001b[43mevents_data\u001b[49m\u001b[38;5;241;43m=\u001b[39;49m\u001b[43mevents\u001b[49m\u001b[43m,\u001b[49m\u001b[43m \u001b[49m\u001b[38;5;28;43mformat\u001b[39;49m\u001b[38;5;241;43m=\u001b[39;49m\u001b[38;5;124;43m\"\u001b[39;49m\u001b[38;5;124;43mBrainVision\u001b[39;49m\u001b[38;5;124;43m\"\u001b[39;49m\u001b[43m,\u001b[49m\u001b[43m \u001b[49m\u001b[43mallow_preload\u001b[49m\u001b[38;5;241;43m=\u001b[39;49m\u001b[38;5;28;43;01mTrue\u001b[39;49;00m\u001b[43m,\u001b[49m\n\u001b[0;32m      9\u001b[0m \u001b[43m                        \u001b[49m\u001b[43mevent_id\u001b[49m\u001b[38;5;241;43m=\u001b[39;49m\u001b[43mevent_id\u001b[49m\u001b[43m)\u001b[49m\n",
      "File \u001b[1;32m<decorator-gen-585>:12\u001b[0m, in \u001b[0;36mwrite_raw_bids\u001b[1;34m(raw, bids_path, events_data, event_id, anonymize, format, symlink, empty_room, allow_preload, montage, acpc_aligned, overwrite, verbose)\u001b[0m\n",
      "File \u001b[1;32m~\\anaconda3\\envs\\mne\\lib\\site-packages\\mne_bids\\write.py:1653\u001b[0m, in \u001b[0;36mwrite_raw_bids\u001b[1;34m(raw, bids_path, events_data, event_id, anonymize, format, symlink, empty_room, allow_preload, montage, acpc_aligned, overwrite, verbose)\u001b[0m\n\u001b[0;32m   1650\u001b[0m events_array, event_dur, event_desc_id_map \u001b[38;5;241m=\u001b[39m _read_events(\n\u001b[0;32m   1651\u001b[0m     events_data, event_id, raw, bids_path\u001b[38;5;241m=\u001b[39mbids_path)\n\u001b[0;32m   1652\u001b[0m \u001b[38;5;28;01mif\u001b[39;00m events_array\u001b[38;5;241m.\u001b[39msize \u001b[38;5;241m!=\u001b[39m \u001b[38;5;241m0\u001b[39m:\n\u001b[1;32m-> 1653\u001b[0m     \u001b[43m_events_tsv\u001b[49m\u001b[43m(\u001b[49m\u001b[43mevents\u001b[49m\u001b[38;5;241;43m=\u001b[39;49m\u001b[43mevents_array\u001b[49m\u001b[43m,\u001b[49m\u001b[43m \u001b[49m\u001b[43mdurations\u001b[49m\u001b[38;5;241;43m=\u001b[39;49m\u001b[43mevent_dur\u001b[49m\u001b[43m,\u001b[49m\u001b[43m \u001b[49m\u001b[43mraw\u001b[49m\u001b[38;5;241;43m=\u001b[39;49m\u001b[43mraw\u001b[49m\u001b[43m,\u001b[49m\n\u001b[0;32m   1654\u001b[0m \u001b[43m                \u001b[49m\u001b[43mfname\u001b[49m\u001b[38;5;241;43m=\u001b[39;49m\u001b[43mevents_path\u001b[49m\u001b[38;5;241;43m.\u001b[39;49m\u001b[43mfpath\u001b[49m\u001b[43m,\u001b[49m\u001b[43m \u001b[49m\u001b[43mtrial_type\u001b[49m\u001b[38;5;241;43m=\u001b[39;49m\u001b[43mevent_desc_id_map\u001b[49m\u001b[43m,\u001b[49m\n\u001b[0;32m   1655\u001b[0m \u001b[43m                \u001b[49m\u001b[43moverwrite\u001b[49m\u001b[38;5;241;43m=\u001b[39;49m\u001b[43moverwrite\u001b[49m\u001b[43m)\u001b[49m\n\u001b[0;32m   1656\u001b[0m \u001b[38;5;66;03m# Kepp events_array around for BrainVision writing below.\u001b[39;00m\n\u001b[0;32m   1657\u001b[0m \u001b[38;5;28;01mdel\u001b[39;00m event_desc_id_map, events_data, event_id, event_dur\n",
      "File \u001b[1;32m~\\anaconda3\\envs\\mne\\lib\\site-packages\\mne_bids\\write.py:282\u001b[0m, in \u001b[0;36m_events_tsv\u001b[1;34m(events, durations, raw, fname, trial_type, overwrite)\u001b[0m\n\u001b[0;32m    279\u001b[0m \u001b[38;5;28;01melse\u001b[39;00m:\n\u001b[0;32m    280\u001b[0m     \u001b[38;5;28;01mdel\u001b[39;00m data[\u001b[38;5;124m'\u001b[39m\u001b[38;5;124mtrial_type\u001b[39m\u001b[38;5;124m'\u001b[39m]\n\u001b[1;32m--> 282\u001b[0m \u001b[43m_write_tsv\u001b[49m\u001b[43m(\u001b[49m\u001b[43mfname\u001b[49m\u001b[43m,\u001b[49m\u001b[43m \u001b[49m\u001b[43mdata\u001b[49m\u001b[43m,\u001b[49m\u001b[43m \u001b[49m\u001b[43moverwrite\u001b[49m\u001b[43m)\u001b[49m\n",
      "File \u001b[1;32m<decorator-gen-570>:12\u001b[0m, in \u001b[0;36m_write_tsv\u001b[1;34m(fname, dictionary, overwrite, verbose)\u001b[0m\n",
      "File \u001b[1;32m~\\anaconda3\\envs\\mne\\lib\\site-packages\\mne_bids\\utils.py:206\u001b[0m, in \u001b[0;36m_write_tsv\u001b[1;34m(fname, dictionary, overwrite, verbose)\u001b[0m\n\u001b[0;32m    204\u001b[0m \u001b[38;5;124;03m\"\"\"Write an ordered dictionary to a .tsv file.\"\"\"\u001b[39;00m\n\u001b[0;32m    205\u001b[0m \u001b[38;5;28;01mif\u001b[39;00m op\u001b[38;5;241m.\u001b[39mexists(fname) \u001b[38;5;129;01mand\u001b[39;00m \u001b[38;5;129;01mnot\u001b[39;00m overwrite:\n\u001b[1;32m--> 206\u001b[0m     \u001b[38;5;28;01mraise\u001b[39;00m \u001b[38;5;167;01mFileExistsError\u001b[39;00m(\u001b[38;5;124mf\u001b[39m\u001b[38;5;124m'\u001b[39m\u001b[38;5;124m\"\u001b[39m\u001b[38;5;132;01m{\u001b[39;00mfname\u001b[38;5;132;01m}\u001b[39;00m\u001b[38;5;124m\"\u001b[39m\u001b[38;5;124m already exists. \u001b[39m\u001b[38;5;124m'\u001b[39m\n\u001b[0;32m    207\u001b[0m                           \u001b[38;5;124m'\u001b[39m\u001b[38;5;124mPlease set overwrite to True.\u001b[39m\u001b[38;5;124m'\u001b[39m)\n\u001b[0;32m    208\u001b[0m _to_tsv(dictionary, fname)\n\u001b[0;32m    210\u001b[0m logger\u001b[38;5;241m.\u001b[39minfo(\u001b[38;5;124mf\u001b[39m\u001b[38;5;124m\"\u001b[39m\u001b[38;5;124mWriting \u001b[39m\u001b[38;5;124m'\u001b[39m\u001b[38;5;132;01m{\u001b[39;00mfname\u001b[38;5;132;01m}\u001b[39;00m\u001b[38;5;124m'\u001b[39m\u001b[38;5;124m...\u001b[39m\u001b[38;5;124m\"\u001b[39m)\n",
      "\u001b[1;31mFileExistsError\u001b[0m: \"out_data\\01_bids_structure\\sub-01\\ses-01\\eeg\\sub-01_ses-01_task-WM1isi0_events.tsv\" already exists. Please set overwrite to True."
     ]
    },
    {
     "ename": "FileExistsError",
     "evalue": "\"out_data\\01_bids_structure\\sub-01\\ses-01\\eeg\\sub-01_ses-01_task-WM1isi0_events.tsv\" already exists. Please set overwrite to True.",
     "output_type": "error",
     "traceback": [
      "\u001b[1;31m---------------------------------------------------------------------------\u001b[0m",
      "\u001b[1;31mFileExistsError\u001b[0m                           Traceback (most recent call last)",
      "Input \u001b[1;32mIn [3]\u001b[0m, in \u001b[0;36m<cell line: 1>\u001b[1;34m()\u001b[0m\n\u001b[1;32m----> 1\u001b[0m \u001b[43mget_ipython\u001b[49m\u001b[43m(\u001b[49m\u001b[43m)\u001b[49m\u001b[38;5;241;43m.\u001b[39;49m\u001b[43mrun_line_magic\u001b[49m\u001b[43m(\u001b[49m\u001b[38;5;124;43m'\u001b[39;49m\u001b[38;5;124;43mrun\u001b[39;49m\u001b[38;5;124;43m'\u001b[39;49m\u001b[43m,\u001b[49m\u001b[43m \u001b[49m\u001b[38;5;124;43m'\u001b[39;49m\u001b[38;5;124;43m./01_bids_convert.ipynb\u001b[39;49m\u001b[38;5;124;43m'\u001b[39;49m\u001b[43m)\u001b[49m\n",
      "File \u001b[1;32m~\\anaconda3\\envs\\mne\\lib\\site-packages\\IPython\\core\\interactiveshell.py:2305\u001b[0m, in \u001b[0;36mInteractiveShell.run_line_magic\u001b[1;34m(self, magic_name, line, _stack_depth)\u001b[0m\n\u001b[0;32m   2303\u001b[0m     kwargs[\u001b[38;5;124m'\u001b[39m\u001b[38;5;124mlocal_ns\u001b[39m\u001b[38;5;124m'\u001b[39m] \u001b[38;5;241m=\u001b[39m \u001b[38;5;28mself\u001b[39m\u001b[38;5;241m.\u001b[39mget_local_scope(stack_depth)\n\u001b[0;32m   2304\u001b[0m \u001b[38;5;28;01mwith\u001b[39;00m \u001b[38;5;28mself\u001b[39m\u001b[38;5;241m.\u001b[39mbuiltin_trap:\n\u001b[1;32m-> 2305\u001b[0m     result \u001b[38;5;241m=\u001b[39m fn(\u001b[38;5;241m*\u001b[39margs, \u001b[38;5;241m*\u001b[39m\u001b[38;5;241m*\u001b[39mkwargs)\n\u001b[0;32m   2306\u001b[0m \u001b[38;5;28;01mreturn\u001b[39;00m result\n",
      "File \u001b[1;32m~\\anaconda3\\envs\\mne\\lib\\site-packages\\IPython\\core\\magics\\execution.py:717\u001b[0m, in \u001b[0;36mExecutionMagics.run\u001b[1;34m(self, parameter_s, runner, file_finder)\u001b[0m\n\u001b[0;32m    715\u001b[0m     \u001b[38;5;28;01mwith\u001b[39;00m preserve_keys(\u001b[38;5;28mself\u001b[39m\u001b[38;5;241m.\u001b[39mshell\u001b[38;5;241m.\u001b[39muser_ns, \u001b[38;5;124m'\u001b[39m\u001b[38;5;124m__file__\u001b[39m\u001b[38;5;124m'\u001b[39m):\n\u001b[0;32m    716\u001b[0m         \u001b[38;5;28mself\u001b[39m\u001b[38;5;241m.\u001b[39mshell\u001b[38;5;241m.\u001b[39muser_ns[\u001b[38;5;124m'\u001b[39m\u001b[38;5;124m__file__\u001b[39m\u001b[38;5;124m'\u001b[39m] \u001b[38;5;241m=\u001b[39m filename\n\u001b[1;32m--> 717\u001b[0m         \u001b[38;5;28;43mself\u001b[39;49m\u001b[38;5;241;43m.\u001b[39;49m\u001b[43mshell\u001b[49m\u001b[38;5;241;43m.\u001b[39;49m\u001b[43msafe_execfile_ipy\u001b[49m\u001b[43m(\u001b[49m\u001b[43mfilename\u001b[49m\u001b[43m,\u001b[49m\u001b[43m \u001b[49m\u001b[43mraise_exceptions\u001b[49m\u001b[38;5;241;43m=\u001b[39;49m\u001b[38;5;28;43;01mTrue\u001b[39;49;00m\u001b[43m)\u001b[49m\n\u001b[0;32m    718\u001b[0m     \u001b[38;5;28;01mreturn\u001b[39;00m\n\u001b[0;32m    720\u001b[0m \u001b[38;5;66;03m# Control the response to exit() calls made by the script being run\u001b[39;00m\n",
      "File \u001b[1;32m~\\anaconda3\\envs\\mne\\lib\\site-packages\\IPython\\core\\interactiveshell.py:2811\u001b[0m, in \u001b[0;36mInteractiveShell.safe_execfile_ipy\u001b[1;34m(self, fname, shell_futures, raise_exceptions)\u001b[0m\n\u001b[0;32m   2809\u001b[0m result \u001b[38;5;241m=\u001b[39m \u001b[38;5;28mself\u001b[39m\u001b[38;5;241m.\u001b[39mrun_cell(cell, silent\u001b[38;5;241m=\u001b[39m\u001b[38;5;28;01mTrue\u001b[39;00m, shell_futures\u001b[38;5;241m=\u001b[39mshell_futures)\n\u001b[0;32m   2810\u001b[0m \u001b[38;5;28;01mif\u001b[39;00m raise_exceptions:\n\u001b[1;32m-> 2811\u001b[0m     \u001b[43mresult\u001b[49m\u001b[38;5;241;43m.\u001b[39;49m\u001b[43mraise_error\u001b[49m\u001b[43m(\u001b[49m\u001b[43m)\u001b[49m\n\u001b[0;32m   2812\u001b[0m \u001b[38;5;28;01melif\u001b[39;00m \u001b[38;5;129;01mnot\u001b[39;00m result\u001b[38;5;241m.\u001b[39msuccess:\n\u001b[0;32m   2813\u001b[0m     \u001b[38;5;28;01mbreak\u001b[39;00m\n",
      "File \u001b[1;32m~\\anaconda3\\envs\\mne\\lib\\site-packages\\IPython\\core\\interactiveshell.py:251\u001b[0m, in \u001b[0;36mExecutionResult.raise_error\u001b[1;34m(self)\u001b[0m\n\u001b[0;32m    249\u001b[0m     \u001b[38;5;28;01mraise\u001b[39;00m \u001b[38;5;28mself\u001b[39m\u001b[38;5;241m.\u001b[39merror_before_exec\n\u001b[0;32m    250\u001b[0m \u001b[38;5;28;01mif\u001b[39;00m \u001b[38;5;28mself\u001b[39m\u001b[38;5;241m.\u001b[39merror_in_exec \u001b[38;5;129;01mis\u001b[39;00m \u001b[38;5;129;01mnot\u001b[39;00m \u001b[38;5;28;01mNone\u001b[39;00m:\n\u001b[1;32m--> 251\u001b[0m     \u001b[38;5;28;01mraise\u001b[39;00m \u001b[38;5;28mself\u001b[39m\u001b[38;5;241m.\u001b[39merror_in_exec\n",
      "    \u001b[1;31m[... skipping hidden 1 frame]\u001b[0m\n",
      "File \u001b[1;32m~\\AppData\\Local\\Temp\\ipykernel_5976\\3955820220.py:8\u001b[0m, in \u001b[0;36m<cell line: 8>\u001b[1;34m()\u001b[0m\n\u001b[0;32m      1\u001b[0m out_path \u001b[38;5;241m=\u001b[39m pathlib\u001b[38;5;241m.\u001b[39mPath(\u001b[38;5;124m'\u001b[39m\u001b[38;5;124mout_data/01_bids_structure\u001b[39m\u001b[38;5;124m'\u001b[39m) \u001b[38;5;66;03m#Into which directory the data should go\u001b[39;00m\n\u001b[0;32m      3\u001b[0m bids_path \u001b[38;5;241m=\u001b[39m mne_bids\u001b[38;5;241m.\u001b[39mBIDSPath(subject\u001b[38;5;241m=\u001b[39msubject,\n\u001b[0;32m      4\u001b[0m                               session\u001b[38;5;241m=\u001b[39msession,\n\u001b[0;32m      5\u001b[0m                               task\u001b[38;5;241m=\u001b[39mtask,\n\u001b[0;32m      6\u001b[0m                               root\u001b[38;5;241m=\u001b[39mout_path) \u001b[38;5;66;03m#An object that specifies the location of BIDS files\u001b[39;00m\n\u001b[1;32m----> 8\u001b[0m \u001b[43mmne_bids\u001b[49m\u001b[38;5;241;43m.\u001b[39;49m\u001b[43mwrite_raw_bids\u001b[49m\u001b[43m(\u001b[49m\u001b[43mraw\u001b[49m\u001b[43m,\u001b[49m\u001b[43m \u001b[49m\u001b[43mbids_path\u001b[49m\u001b[38;5;241;43m=\u001b[39;49m\u001b[43mbids_path\u001b[49m\u001b[43m,\u001b[49m\u001b[43m \u001b[49m\u001b[43mevents_data\u001b[49m\u001b[38;5;241;43m=\u001b[39;49m\u001b[43mevents\u001b[49m\u001b[43m,\u001b[49m\u001b[43m \u001b[49m\u001b[38;5;28;43mformat\u001b[39;49m\u001b[38;5;241;43m=\u001b[39;49m\u001b[38;5;124;43m\"\u001b[39;49m\u001b[38;5;124;43mBrainVision\u001b[39;49m\u001b[38;5;124;43m\"\u001b[39;49m\u001b[43m,\u001b[49m\u001b[43m \u001b[49m\u001b[43mallow_preload\u001b[49m\u001b[38;5;241;43m=\u001b[39;49m\u001b[38;5;28;43;01mTrue\u001b[39;49;00m\u001b[43m,\u001b[49m\n\u001b[0;32m      9\u001b[0m \u001b[43m                        \u001b[49m\u001b[43mevent_id\u001b[49m\u001b[38;5;241;43m=\u001b[39;49m\u001b[43mevent_id\u001b[49m\u001b[43m)\u001b[49m\n",
      "File \u001b[1;32m<decorator-gen-585>:12\u001b[0m, in \u001b[0;36mwrite_raw_bids\u001b[1;34m(raw, bids_path, events_data, event_id, anonymize, format, symlink, empty_room, allow_preload, montage, acpc_aligned, overwrite, verbose)\u001b[0m\n",
      "File \u001b[1;32m~\\anaconda3\\envs\\mne\\lib\\site-packages\\mne_bids\\write.py:1653\u001b[0m, in \u001b[0;36mwrite_raw_bids\u001b[1;34m(raw, bids_path, events_data, event_id, anonymize, format, symlink, empty_room, allow_preload, montage, acpc_aligned, overwrite, verbose)\u001b[0m\n\u001b[0;32m   1650\u001b[0m events_array, event_dur, event_desc_id_map \u001b[38;5;241m=\u001b[39m _read_events(\n\u001b[0;32m   1651\u001b[0m     events_data, event_id, raw, bids_path\u001b[38;5;241m=\u001b[39mbids_path)\n\u001b[0;32m   1652\u001b[0m \u001b[38;5;28;01mif\u001b[39;00m events_array\u001b[38;5;241m.\u001b[39msize \u001b[38;5;241m!=\u001b[39m \u001b[38;5;241m0\u001b[39m:\n\u001b[1;32m-> 1653\u001b[0m     \u001b[43m_events_tsv\u001b[49m\u001b[43m(\u001b[49m\u001b[43mevents\u001b[49m\u001b[38;5;241;43m=\u001b[39;49m\u001b[43mevents_array\u001b[49m\u001b[43m,\u001b[49m\u001b[43m \u001b[49m\u001b[43mdurations\u001b[49m\u001b[38;5;241;43m=\u001b[39;49m\u001b[43mevent_dur\u001b[49m\u001b[43m,\u001b[49m\u001b[43m \u001b[49m\u001b[43mraw\u001b[49m\u001b[38;5;241;43m=\u001b[39;49m\u001b[43mraw\u001b[49m\u001b[43m,\u001b[49m\n\u001b[0;32m   1654\u001b[0m \u001b[43m                \u001b[49m\u001b[43mfname\u001b[49m\u001b[38;5;241;43m=\u001b[39;49m\u001b[43mevents_path\u001b[49m\u001b[38;5;241;43m.\u001b[39;49m\u001b[43mfpath\u001b[49m\u001b[43m,\u001b[49m\u001b[43m \u001b[49m\u001b[43mtrial_type\u001b[49m\u001b[38;5;241;43m=\u001b[39;49m\u001b[43mevent_desc_id_map\u001b[49m\u001b[43m,\u001b[49m\n\u001b[0;32m   1655\u001b[0m \u001b[43m                \u001b[49m\u001b[43moverwrite\u001b[49m\u001b[38;5;241;43m=\u001b[39;49m\u001b[43moverwrite\u001b[49m\u001b[43m)\u001b[49m\n\u001b[0;32m   1656\u001b[0m \u001b[38;5;66;03m# Kepp events_array around for BrainVision writing below.\u001b[39;00m\n\u001b[0;32m   1657\u001b[0m \u001b[38;5;28;01mdel\u001b[39;00m event_desc_id_map, events_data, event_id, event_dur\n",
      "File \u001b[1;32m~\\anaconda3\\envs\\mne\\lib\\site-packages\\mne_bids\\write.py:282\u001b[0m, in \u001b[0;36m_events_tsv\u001b[1;34m(events, durations, raw, fname, trial_type, overwrite)\u001b[0m\n\u001b[0;32m    279\u001b[0m \u001b[38;5;28;01melse\u001b[39;00m:\n\u001b[0;32m    280\u001b[0m     \u001b[38;5;28;01mdel\u001b[39;00m data[\u001b[38;5;124m'\u001b[39m\u001b[38;5;124mtrial_type\u001b[39m\u001b[38;5;124m'\u001b[39m]\n\u001b[1;32m--> 282\u001b[0m \u001b[43m_write_tsv\u001b[49m\u001b[43m(\u001b[49m\u001b[43mfname\u001b[49m\u001b[43m,\u001b[49m\u001b[43m \u001b[49m\u001b[43mdata\u001b[49m\u001b[43m,\u001b[49m\u001b[43m \u001b[49m\u001b[43moverwrite\u001b[49m\u001b[43m)\u001b[49m\n",
      "File \u001b[1;32m<decorator-gen-570>:12\u001b[0m, in \u001b[0;36m_write_tsv\u001b[1;34m(fname, dictionary, overwrite, verbose)\u001b[0m\n",
      "File \u001b[1;32m~\\anaconda3\\envs\\mne\\lib\\site-packages\\mne_bids\\utils.py:206\u001b[0m, in \u001b[0;36m_write_tsv\u001b[1;34m(fname, dictionary, overwrite, verbose)\u001b[0m\n\u001b[0;32m    204\u001b[0m \u001b[38;5;124;03m\"\"\"Write an ordered dictionary to a .tsv file.\"\"\"\u001b[39;00m\n\u001b[0;32m    205\u001b[0m \u001b[38;5;28;01mif\u001b[39;00m op\u001b[38;5;241m.\u001b[39mexists(fname) \u001b[38;5;129;01mand\u001b[39;00m \u001b[38;5;129;01mnot\u001b[39;00m overwrite:\n\u001b[1;32m--> 206\u001b[0m     \u001b[38;5;28;01mraise\u001b[39;00m \u001b[38;5;167;01mFileExistsError\u001b[39;00m(\u001b[38;5;124mf\u001b[39m\u001b[38;5;124m'\u001b[39m\u001b[38;5;124m\"\u001b[39m\u001b[38;5;132;01m{\u001b[39;00mfname\u001b[38;5;132;01m}\u001b[39;00m\u001b[38;5;124m\"\u001b[39m\u001b[38;5;124m already exists. \u001b[39m\u001b[38;5;124m'\u001b[39m\n\u001b[0;32m    207\u001b[0m                           \u001b[38;5;124m'\u001b[39m\u001b[38;5;124mPlease set overwrite to True.\u001b[39m\u001b[38;5;124m'\u001b[39m)\n\u001b[0;32m    208\u001b[0m _to_tsv(dictionary, fname)\n\u001b[0;32m    210\u001b[0m logger\u001b[38;5;241m.\u001b[39minfo(\u001b[38;5;124mf\u001b[39m\u001b[38;5;124m\"\u001b[39m\u001b[38;5;124mWriting \u001b[39m\u001b[38;5;124m'\u001b[39m\u001b[38;5;132;01m{\u001b[39;00mfname\u001b[38;5;132;01m}\u001b[39;00m\u001b[38;5;124m'\u001b[39m\u001b[38;5;124m...\u001b[39m\u001b[38;5;124m\"\u001b[39m)\n",
      "\u001b[1;31mFileExistsError\u001b[0m: \"out_data\\01_bids_structure\\sub-01\\ses-01\\eeg\\sub-01_ses-01_task-WM1isi0_events.tsv\" already exists. Please set overwrite to True."
     ]
    }
   ],
   "source": [
    "%run ./01_bids_convert.ipynb"
   ]
  },
  {
   "cell_type": "markdown",
   "id": "4f5b40ea-5605-44a2-b553-a20d7b3c3856",
   "metadata": {},
   "source": [
    "## Interpolation"
   ]
  },
  {
   "cell_type": "markdown",
   "id": "5a19e32c-09cf-4844-9c4f-62f14a5509da",
   "metadata": {},
   "source": [
    "### Input Raw Data"
   ]
  },
  {
   "cell_type": "code",
   "execution_count": 37,
   "id": "e88222e6-0ae8-4e53-908d-3da4029f7944",
   "metadata": {},
   "outputs": [
    {
     "name": "stdout",
     "output_type": "stream",
     "text": [
      "Extracting parameters from out_data\\01_bids_structure\\sub-01\\ses-01\\eeg\\sub-01_ses-01_task-WM1isi0_eeg.vhdr...\n",
      "Setting channel info structure...\n",
      "Reading events from out_data\\01_bids_structure\\sub-01\\ses-01\\eeg\\sub-01_ses-01_task-WM1isi0_events.tsv.\n",
      "Reading channel info from out_data\\01_bids_structure\\sub-01\\ses-01\\eeg\\sub-01_ses-01_task-WM1isi0_channels.tsv.\n",
      "Reading electrode coords from out_data\\01_bids_structure\\sub-01\\ses-01\\eeg\\sub-01_ses-01_space-CapTrak_electrodes.tsv.\n",
      "Reading 0 ... 361489  =      0.000 ...   361.489 secs...\n"
     ]
    },
    {
     "name": "stderr",
     "output_type": "stream",
     "text": [
      "C:\\Users\\trevo\\AppData\\Local\\Temp\\ipykernel_5976\\1780308837.py:8: RuntimeWarning: Not setting positions of 2 eog channels found in montage:\n",
      "['E8', 'E25']\n",
      "Consider setting the channel types to be of EEG/sEEG/ECoG/DBS/fNIRS using inst.set_channel_types before calling inst.set_montage, or omit these channels when creating your montage.\n",
      "  raw = mne_bids.read_raw_bids(bids_path)\n"
     ]
    },
    {
     "name": "stdout",
     "output_type": "stream",
     "text": [
      "Used Annotations descriptions: ['TsD-', 'WMD+', 'bgin', 'fix+']\n"
     ]
    }
   ],
   "source": [
    "bids_root = pathlib.Path('out_data/01_bids_structure') \n",
    "bids_path = mne_bids.BIDSPath(subject=subject,\n",
    "                              session=session,\n",
    "                              task=task,\n",
    "                              datatype='eeg',\n",
    "                              root=bids_root)\n",
    "\n",
    "raw = mne_bids.read_raw_bids(bids_path) \n",
    "raw.load_data() \n",
    "events, event_id = mne.events_from_annotations(raw) "
   ]
  },
  {
   "cell_type": "markdown",
   "id": "fdbc872b-b356-485b-a0be-974bdc324929",
   "metadata": {},
   "source": [
    "### Interpolate"
   ]
  },
  {
   "cell_type": "code",
   "execution_count": 38,
   "id": "ccf0c88b-9826-40f8-a1b3-2725ab9a228f",
   "metadata": {},
   "outputs": [
    {
     "name": "stdout",
     "output_type": "stream",
     "text": [
      "Filtering raw data in 1 contiguous segment\n",
      "Setting up band-pass filter from 1 - 40 Hz\n",
      "\n",
      "FIR filter parameters\n",
      "---------------------\n",
      "Designing a one-pass, zero-phase, non-causal bandpass filter:\n",
      "- Windowed time-domain design (firwin) method\n",
      "- Hamming window with 0.0194 passband ripple and 53 dB stopband attenuation\n",
      "- Lower passband edge: 1.00\n",
      "- Lower transition bandwidth: 1.00 Hz (-6 dB cutoff frequency: 0.50 Hz)\n",
      "- Upper passband edge: 40.00 Hz\n",
      "- Upper transition bandwidth: 10.00 Hz (-6 dB cutoff frequency: 45.00 Hz)\n",
      "- Filter length: 3301 samples (3.301 sec)\n",
      "\n"
     ]
    },
    {
     "data": {
      "text/html": [
       "<table class=\"table table-hover table-striped table-sm table-responsive small\">\n",
       "    <tr>\n",
       "        <th>Measurement date</th>\n",
       "        \n",
       "        <td>November 10, 2019  20:00:11 GMT</td>\n",
       "        \n",
       "    </tr>\n",
       "    <tr>\n",
       "        <th>Experimenter</th>\n",
       "        \n",
       "        <td>mne_anonymize</td>\n",
       "        \n",
       "    </tr>\n",
       "        <th>Participant</th>\n",
       "        \n",
       "            \n",
       "            <td>sub-01</td>\n",
       "            \n",
       "        \n",
       "    </tr>\n",
       "    <tr>\n",
       "        <th>Digitized points</th>\n",
       "        \n",
       "        <td>0 points</td>\n",
       "        \n",
       "    </tr>\n",
       "    <tr>\n",
       "        <th>Good channels</th>\n",
       "        <td>127 EEG, 2 EOG</td>\n",
       "    </tr>\n",
       "    <tr>\n",
       "        <th>Bad channels</th>\n",
       "        <td>None</td>\n",
       "    </tr>\n",
       "    <tr>\n",
       "        <th>EOG channels</th>\n",
       "        <td>E8, E25</td>\n",
       "    </tr>\n",
       "    <tr>\n",
       "        <th>ECG channels</th>\n",
       "        <td>Not available</td>\n",
       "    \n",
       "    <tr>\n",
       "        <th>Sampling frequency</th>\n",
       "        <td>1000.00 Hz</td>\n",
       "    </tr>\n",
       "    \n",
       "    \n",
       "    <tr>\n",
       "        <th>Highpass</th>\n",
       "        <td>1.00 Hz</td>\n",
       "    </tr>\n",
       "    \n",
       "    \n",
       "    <tr>\n",
       "        <th>Lowpass</th>\n",
       "        <td>40.00 Hz</td>\n",
       "    </tr>\n",
       "    \n",
       "    \n",
       "    \n",
       "    <tr>\n",
       "        <th>Filenames</th>\n",
       "        <td>sub-01_ses-01_task-WM1isi0_eeg.eeg</td>\n",
       "    </tr>\n",
       "    \n",
       "    <tr>\n",
       "        <th>Duration</th>\n",
       "        <td>00:06:01 (HH:MM:SS)</td>\n",
       "    </tr>\n",
       "</table>"
      ],
      "text/plain": [
       "<RawBrainVision | sub-01_ses-01_task-WM1isi0_eeg.eeg, 129 x 361490 (361.5 s), ~356.0 MB, data loaded>"
      ]
     },
     "execution_count": 38,
     "metadata": {},
     "output_type": "execute_result"
    }
   ],
   "source": [
    "raw_copy = raw.copy()\n",
    "raw_copy.filter(l_freq=1, h_freq=40) "
   ]
  },
  {
   "cell_type": "code",
   "execution_count": 45,
   "id": "55161cac-e718-4140-9f8e-4178bc6263f2",
   "metadata": {},
   "outputs": [
    {
     "name": "stdout",
     "output_type": "stream",
     "text": [
      "Opening raw-browser...\n"
     ]
    },
    {
     "data": {
      "text/plain": [
       "<mne_qt_browser._pg_figure.MNEQtBrowser at 0x1588cc08b80>"
      ]
     },
     "execution_count": 45,
     "metadata": {},
     "output_type": "execute_result"
    },
    {
     "name": "stdout",
     "output_type": "stream",
     "text": [
      "Closing raw-browser...\n",
      "Channels marked as bad:\n",
      "['E9', 'E5', 'E4']\n"
     ]
    }
   ],
   "source": [
    "raw_copy.plot()"
   ]
  },
  {
   "cell_type": "code",
   "execution_count": 47,
   "id": "d67e583c-f6dd-4a69-9641-8f98c5fb84ee",
   "metadata": {},
   "outputs": [],
   "source": [
    "raw.info['bads'] = raw_copy.info['bads']\n",
    "raw.info['bads']"
   ]
  },
  {
   "cell_type": "code",
   "execution_count": 49,
   "id": "67ecb79b-2628-40b4-8ee2-d62aa7568a6c",
   "metadata": {},
   "outputs": [
    {
     "name": "stdout",
     "output_type": "stream",
     "text": [
      "Interpolating bad channels\n",
      "    Automatic origin fit: head of radius 98.9 mm\n",
      "Computing interpolation matrix from 124 sensor positions\n",
      "Interpolating 3 sensors\n"
     ]
    }
   ],
   "source": [
    "raw_inter = raw.copy().interpolate_bads(reset_bads=False)"
   ]
  },
  {
   "cell_type": "code",
   "execution_count": 50,
   "id": "9115acd9-c818-4172-aa10-dfd750844ca9",
   "metadata": {},
   "outputs": [
    {
     "data": {
      "text/plain": [
       "'sub-01_ses-01_task-WM1isi0_interpolated_data.fif'"
      ]
     },
     "execution_count": 50,
     "metadata": {},
     "output_type": "execute_result"
    }
   ],
   "source": [
    "subname = 'sub-'+subject\n",
    "savename = 'sub-'+subject+'_ses-'+session+'_task-'+task+'_interpolated_data.fif'\n",
    "savename"
   ]
  },
  {
   "cell_type": "code",
   "execution_count": null,
   "id": "e9a38917-3627-4d12-bfa1-c4017a4cfecd",
   "metadata": {},
   "outputs": [],
   "source": [
    "raw_inter.save(pathlib.Path('out_data')\n",
    "           subname / '02_interpolation_data' / savename)"
   ]
  },
  {
   "cell_type": "markdown",
   "id": "b1b15a16-71ae-4f43-a648-c92608789885",
   "metadata": {},
   "source": [
    "## Run Scripts 2 - 4"
   ]
  },
  {
   "cell_type": "code",
   "execution_count": null,
   "id": "e8a9f005-7931-434e-b2f8-963c571f3247",
   "metadata": {},
   "outputs": [],
   "source": [
    "%run ./02_init_epochs.ipynb"
   ]
  },
  {
   "cell_type": "code",
   "execution_count": null,
   "id": "d212bee0-42e6-4fd0-ae4e-82980b646857",
   "metadata": {},
   "outputs": [],
   "source": [
    "%run ./03_preprocessing.ipynb"
   ]
  },
  {
   "cell_type": "code",
   "execution_count": null,
   "id": "a812649d-bfab-4c87-a3be-d10d1ff48176",
   "metadata": {},
   "outputs": [],
   "source": [
    "old_epochs"
   ]
  },
  {
   "cell_type": "code",
   "execution_count": null,
   "id": "0d9edee4-dbb0-49a6-aae1-a983ba8e53e0",
   "metadata": {},
   "outputs": [],
   "source": [
    "new_epochs"
   ]
  },
  {
   "cell_type": "code",
   "execution_count": null,
   "id": "ded0c47e-0aa9-47a9-bc45-d18b4144dd6b",
   "metadata": {},
   "outputs": [],
   "source": [
    "%run ./04_evokes.ipynb"
   ]
  },
  {
   "cell_type": "code",
   "execution_count": null,
   "id": "b7ea9be8-8bfa-4635-bab2-0e9f79a62a7c",
   "metadata": {},
   "outputs": [],
   "source": []
  }
 ],
 "metadata": {
  "kernelspec": {
   "display_name": "Python 3 (ipykernel)",
   "language": "python",
   "name": "python3"
  },
  "language_info": {
   "codemirror_mode": {
    "name": "ipython",
    "version": 3
   },
   "file_extension": ".py",
   "mimetype": "text/x-python",
   "name": "python",
   "nbconvert_exporter": "python",
   "pygments_lexer": "ipython3",
   "version": "3.9.13"
  }
 },
 "nbformat": 4,
 "nbformat_minor": 5
}
