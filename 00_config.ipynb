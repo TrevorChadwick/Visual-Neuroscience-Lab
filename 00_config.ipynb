{
 "cells": [
  {
   "cell_type": "markdown",
   "id": "0fcc9dcb-e6fc-4f93-9a87-bf9a4a27466f",
   "metadata": {},
   "source": [
    "# Configuration"
   ]
  },
  {
   "cell_type": "markdown",
   "id": "96b60d3e-0048-441c-9380-e813cce764a0",
   "metadata": {},
   "source": [
    "## Import"
   ]
  },
  {
   "cell_type": "code",
   "execution_count": 1,
   "id": "62eae0de-87c9-4ce9-b65c-1fdfa7d160e3",
   "metadata": {},
   "outputs": [],
   "source": [
    "import matplotlib\n",
    "import pathlib\n",
    "\n",
    "import os\n",
    "import os.path as op\n",
    "import shutil\n",
    "import mne\n",
    "import mne_bids\n",
    "\n",
    "from mne_bids import make_report\n",
    "\n",
    "matplotlib.use('Agg')\n",
    "#matplotlib.use('Qt5Agg') #Raises browsers"
   ]
  },
  {
   "cell_type": "markdown",
   "id": "86ac02dc-55e9-48cf-9087-30a2a8172d8b",
   "metadata": {},
   "source": [
    "## Erase Folders"
   ]
  },
  {
   "cell_type": "code",
   "execution_count": 2,
   "id": "b94580ae-f047-4a67-ac39-e9c921bca2f2",
   "metadata": {},
   "outputs": [],
   "source": [
    "root_path = os.path.join(\"C:/Users/trevo/OneDrive/Desktop/Lab_Files/VWM_LAB\")\n",
    "bids_root = os.path.join(root_path, 'EGI_BIDS')\n",
    "output_path = os.path.join(root_path, 'EGI_OUTPUTS')"
   ]
  },
  {
   "cell_type": "markdown",
   "id": "0a3b70a5-8cac-4fe0-85c6-76cd740c0507",
   "metadata": {},
   "source": [
    "##### Careful with these, they erase all bids and output files!"
   ]
  },
  {
   "cell_type": "raw",
   "id": "b9f7c03c-0bbc-48f6-b657-fb9189f8217a",
   "metadata": {},
   "source": [
    "if op.exists(bids_root):\n",
    "    shutil.rmtree(bids_root)\n",
    "    os.makedirs(os.path.join(root_path, 'EGI_BIDS'))    "
   ]
  },
  {
   "cell_type": "raw",
   "id": "c253b7ce-6870-423e-bb38-861f7ca9a1a6",
   "metadata": {},
   "source": [
    "if op.exists(output_path):\n",
    "    shutil.rmtree(output_path)\n",
    "    os.makedirs(os.path.join(root_path, 'EGI_OUTPUTS'))"
   ]
  },
  {
   "cell_type": "markdown",
   "id": "2f98cb02-ed17-4a4d-9a6d-a51a58a5c6a7",
   "metadata": {
    "tags": []
   },
   "source": [
    "## Input EGI_RAW"
   ]
  },
  {
   "cell_type": "code",
   "execution_count": 3,
   "id": "2095b18d-7818-4116-ac5d-b0b090cd0b23",
   "metadata": {},
   "outputs": [],
   "source": [
    "error_list = list()\n",
    "preprocessed_list = list()"
   ]
  },
  {
   "cell_type": "code",
   "execution_count": 4,
   "id": "86e25562-d80a-4b88-844c-c8572c51920f",
   "metadata": {},
   "outputs": [],
   "source": [
    "int_total_epochs = 0\n",
    "int_old_epochs = 0\n",
    "int_new_epochs = 0\n",
    "runs = 0"
   ]
  },
  {
   "cell_type": "raw",
   "id": "05c0a582-a7ef-4f76-b9a1-575821d1f539",
   "metadata": {},
   "source": [
    "subjects = ['01', '07', '08']\n",
    "sessions = ['WM1', 'WM3', 'WM5']\n",
    "tasks = ['isi0', 'isi50', 'isi250', 'isi500', 'isi750', 'isi1000', 'isi1250', 'isi1500']"
   ]
  },
  {
   "cell_type": "code",
   "execution_count": 5,
   "id": "9a93cc85-45e1-4a8d-a84b-6787b8b99bc5",
   "metadata": {},
   "outputs": [],
   "source": [
    "subjects = ['01', '07', '08']\n",
    "sessions = ['WM1', 'WM3', 'WM5']\n",
    "tasks = ['isi50']#, 'isi50', 'isi250', 'isi500', 'isi750', 'isi1000', 'isi1250', 'isi1500']"
   ]
  },
  {
   "cell_type": "code",
   "execution_count": 6,
   "id": "17c39a2c-4352-44c2-acd1-6f6b0b3250c7",
   "metadata": {},
   "outputs": [
    {
     "name": "stdout",
     "output_type": "stream",
     "text": [
      "Reading EGI MFF Header from C:\\Users\\trevo\\OneDrive\\Desktop\\Lab_Files\\VWM_LAB\\EGI_RAW\\01\\WM1\\isi50.mff...\n",
      "    Reading events ...\n",
      "    Assembling measurement info ...\n",
      "    Synthesizing trigger channel \"STI 014\" ...\n",
      "    Excluding events {SESS} ...\n",
      "Reading 0 ... 384579  =      0.000 ...   384.579 secs...\n",
      "533 events found\n",
      "Event IDs: [1 2 3 4 5 6]\n",
      "######################## Computing BIDS path. ########################\n",
      "Writing 'C:\\Users\\trevo\\OneDrive\\Desktop\\Lab_Files\\VWM_LAB\\EGI_BIDS\\participants.tsv'...\n",
      "Writing 'C:\\Users\\trevo\\OneDrive\\Desktop\\Lab_Files\\VWM_LAB\\EGI_BIDS\\participants.json'...\n",
      "Writing 'C:/Users/trevo/OneDrive/Desktop/Lab_Files/VWM_LAB/EGI_BIDS/sub-01/ses-WM1/eeg/sub-01_ses-WM1_space-CapTrak_electrodes.tsv'...\n",
      "Writing 'C:/Users/trevo/OneDrive/Desktop/Lab_Files/VWM_LAB/EGI_BIDS/sub-01/ses-WM1/eeg/sub-01_ses-WM1_space-CapTrak_coordsystem.json'...\n",
      "Used Annotations descriptions: ['TsD-', 'WMD+', 'bgin', 'fix+']\n",
      "Writing 'C:\\Users\\trevo\\OneDrive\\Desktop\\Lab_Files\\VWM_LAB\\EGI_BIDS\\sub-01\\ses-WM1\\eeg\\sub-01_ses-WM1_task-isi50_events.tsv'...\n",
      "Writing 'C:\\Users\\trevo\\OneDrive\\Desktop\\Lab_Files\\VWM_LAB\\EGI_BIDS\\dataset_description.json'...\n",
      "Writing 'C:\\Users\\trevo\\OneDrive\\Desktop\\Lab_Files\\VWM_LAB\\EGI_BIDS\\sub-01\\ses-WM1\\eeg\\sub-01_ses-WM1_task-isi50_eeg.json'...\n",
      "Writing 'C:\\Users\\trevo\\OneDrive\\Desktop\\Lab_Files\\VWM_LAB\\EGI_BIDS\\sub-01\\ses-WM1\\eeg\\sub-01_ses-WM1_task-isi50_channels.tsv'...\n",
      "Copying data files to sub-01_ses-WM1_task-isi50_eeg.vhdr\n"
     ]
    },
    {
     "name": "stderr",
     "output_type": "stream",
     "text": [
      "C:\\Users\\trevo\\AppData\\Local\\Temp\\ipykernel_48452\\4111460219.py:6: RuntimeWarning: Converting data files to BrainVision format\n",
      "  mne_bids.write_raw_bids(raw, bids_path=bids_path, events_data=events, format=\"BrainVision\", allow_preload=True,\n",
      "C:\\Users\\trevo\\AppData\\Local\\Temp\\ipykernel_48452\\4111460219.py:6: RuntimeWarning: Encountered data in \"float\" format. Converting to float32.\n",
      "  mne_bids.write_raw_bids(raw, bids_path=bids_path, events_data=events, format=\"BrainVision\", allow_preload=True,\n",
      "C:\\Users\\trevo\\anaconda3\\envs\\mne\\lib\\site-packages\\pybv\\io.py:603: UserWarning: Encountered unsupported non-voltage units: n/a\n",
      "Note that the BrainVision format specification supports only µV.\n",
      "  warn(msg)\n"
     ]
    },
    {
     "name": "stdout",
     "output_type": "stream",
     "text": [
      "Writing 'C:\\Users\\trevo\\OneDrive\\Desktop\\Lab_Files\\VWM_LAB\\EGI_BIDS\\sub-01\\ses-WM1\\sub-01_ses-WM1_scans.tsv'...\n",
      "Wrote C:\\Users\\trevo\\OneDrive\\Desktop\\Lab_Files\\VWM_LAB\\EGI_BIDS\\sub-01\\ses-WM1\\sub-01_ses-WM1_scans.tsv entry with eeg\\sub-01_ses-WM1_task-isi50_eeg.vhdr.\n",
      "Embedding : jquery-3.6.0.min.js\n",
      "Embedding : bootstrap.bundle.min.js\n",
      "Embedding : bootstrap.min.css\n",
      "Embedding : bootstrap-table/bootstrap-table.min.js\n",
      "Embedding : bootstrap-table/bootstrap-table.min.css\n",
      "Embedding : bootstrap-table/bootstrap-table-copy-rows.min.js\n",
      "Embedding : bootstrap-table/bootstrap-table-export.min.js\n",
      "Embedding : bootstrap-table/tableExport.min.js\n",
      "Embedding : bootstrap-icons/bootstrap-icons.mne.min.css\n",
      "Embedding : highlightjs/highlight.min.js\n",
      "Embedding : highlightjs/atom-one-dark-reasonable.min.css\n",
      "Using matplotlib as 2D backend.\n",
      "Opening raw-browser...\n",
      "Saving report to : C:\\Users\\trevo\\OneDrive\\Desktop\\Lab_Files\\VWM_LAB\\EGI_OUTPUTS\\sub-01\\ses-WM1\\eeg\\01_raw\\sub-01_ses-WM1_isi50_report_raw.html\n",
      "Embedding : jquery-3.6.0.min.js\n",
      "Embedding : bootstrap.bundle.min.js\n",
      "Embedding : bootstrap.min.css\n",
      "Embedding : bootstrap-table/bootstrap-table.min.js\n",
      "Embedding : bootstrap-table/bootstrap-table.min.css\n",
      "Embedding : bootstrap-table/bootstrap-table-copy-rows.min.js\n",
      "Embedding : bootstrap-table/bootstrap-table-export.min.js\n",
      "Embedding : bootstrap-table/tableExport.min.js\n",
      "Embedding : bootstrap-icons/bootstrap-icons.mne.min.css\n",
      "Embedding : highlightjs/highlight.min.js\n",
      "Embedding : highlightjs/atom-one-dark-reasonable.min.css\n",
      "Saving report to : C:\\Users\\trevo\\OneDrive\\Desktop\\Lab_Files\\VWM_LAB\\EGI_OUTPUTS\\sub-01\\ses-WM1\\eeg\\01_raw\\sub-01_ses-WM1_isi50_report_events.html\n",
      "Summarizing participants.tsv C:/Users/trevo/OneDrive/Desktop/Lab_Files/VWM_LAB\\EGI_BIDS\\participants.tsv...\n",
      "Summarizing scans.tsv files [WindowsPath('C:/Users/trevo/OneDrive/Desktop/Lab_Files/VWM_LAB/EGI_BIDS/sub-01/ses-WM1/sub-01_ses-WM1_scans.tsv'), WindowsPath('C:/Users/trevo/OneDrive/Desktop/Lab_Files/VWM_LAB/EGI_BIDS/sub-01/ses-WM3/sub-01_ses-WM3_scans.tsv'), WindowsPath('C:/Users/trevo/OneDrive/Desktop/Lab_Files/VWM_LAB/EGI_BIDS/sub-01/ses-WM5/sub-01_ses-WM5_scans.tsv'), WindowsPath('C:/Users/trevo/OneDrive/Desktop/Lab_Files/VWM_LAB/EGI_BIDS/sub-07/ses-WM1/sub-07_ses-WM1_scans.tsv'), WindowsPath('C:/Users/trevo/OneDrive/Desktop/Lab_Files/VWM_LAB/EGI_BIDS/sub-07/ses-WM3/sub-07_ses-WM3_scans.tsv'), WindowsPath('C:/Users/trevo/OneDrive/Desktop/Lab_Files/VWM_LAB/EGI_BIDS/sub-07/ses-WM5/sub-07_ses-WM5_scans.tsv'), WindowsPath('C:/Users/trevo/OneDrive/Desktop/Lab_Files/VWM_LAB/EGI_BIDS/sub-08/ses-WM1/sub-08_ses-WM1_scans.tsv'), WindowsPath('C:/Users/trevo/OneDrive/Desktop/Lab_Files/VWM_LAB/EGI_BIDS/sub-08/ses-WM5/sub-08_ses-WM5_scans.tsv')]...\n",
      "The participant template found: sex were all unknown;\n",
      "handedness were all unknown;\n",
      "ages all unknown\n",
      "Embedding : jquery-3.6.0.min.js\n",
      "Embedding : bootstrap.bundle.min.js\n",
      "Embedding : bootstrap.min.css\n",
      "Embedding : bootstrap-table/bootstrap-table.min.js\n",
      "Embedding : bootstrap-table/bootstrap-table.min.css\n",
      "Embedding : bootstrap-table/bootstrap-table-copy-rows.min.js\n",
      "Embedding : bootstrap-table/bootstrap-table-export.min.js\n",
      "Embedding : bootstrap-table/tableExport.min.js\n",
      "Embedding : bootstrap-icons/bootstrap-icons.mne.min.css\n",
      "Embedding : highlightjs/highlight.min.js\n",
      "Embedding : highlightjs/atom-one-dark-reasonable.min.css\n",
      "Overwriting existing file.\n",
      "Saving report to : C:\\Users\\trevo\\OneDrive\\Desktop\\Lab_Files\\VWM_LAB\\EGI_OUTPUTS\\full_report.html\n",
      "Extracting parameters from C:\\Users\\trevo\\OneDrive\\Desktop\\Lab_Files\\VWM_LAB\\EGI_BIDS\\sub-01\\ses-WM1\\eeg\\sub-01_ses-WM1_task-isi50_eeg.vhdr...\n",
      "Setting channel info structure...\n",
      "Reading events from C:\\Users\\trevo\\OneDrive\\Desktop\\Lab_Files\\VWM_LAB\\EGI_BIDS\\sub-01\\ses-WM1\\eeg\\sub-01_ses-WM1_task-isi50_events.tsv.\n",
      "Reading channel info from C:\\Users\\trevo\\OneDrive\\Desktop\\Lab_Files\\VWM_LAB\\EGI_BIDS\\sub-01\\ses-WM1\\eeg\\sub-01_ses-WM1_task-isi50_channels.tsv.\n",
      "Reading electrode coords from C:\\Users\\trevo\\OneDrive\\Desktop\\Lab_Files\\VWM_LAB\\EGI_BIDS\\sub-01\\ses-WM1\\eeg\\sub-01_ses-WM1_space-CapTrak_electrodes.tsv.\n",
      "Reading 0 ... 384579  =      0.000 ...   384.579 secs...\n"
     ]
    },
    {
     "name": "stderr",
     "output_type": "stream",
     "text": [
      "C:\\Users\\trevo\\AppData\\Local\\Temp\\ipykernel_48452\\466673200.py:7: RuntimeWarning: There are channels without locations (n/a) that are not marked as bad: ['SESS', 'CELL', 'bgin', 'fix+', 'WMD+', 'TsD-', 'TRSP', 'STI 014']\n",
      "  raw = mne_bids.read_raw_bids(bids_path)\n",
      "C:\\Users\\trevo\\AppData\\Local\\Temp\\ipykernel_48452\\466673200.py:7: RuntimeWarning: Not setting positions of 8 stim channels found in montage:\n",
      "['SESS', 'CELL', 'bgin', 'fix+', 'WMD+', 'TsD-', 'TRSP', 'STI 014']\n",
      "Consider setting the channel types to be of EEG/sEEG/ECoG/DBS/fNIRS using inst.set_channel_types before calling inst.set_montage, or omit these channels when creating your montage.\n",
      "  raw = mne_bids.read_raw_bids(bids_path)\n"
     ]
    },
    {
     "name": "stdout",
     "output_type": "stream",
     "text": [
      "Used Annotations descriptions: ['TsD-', 'WMD+', 'bgin', 'fix+']\n",
      "Adding average EEG reference projection.\n",
      "1 projection items deactivated\n",
      "Average reference projection was added, but has not been applied yet. Use the apply_proj method to apply it.\n",
      "Filtering raw data in 1 contiguous segment\n",
      "Setting up band-pass filter from 0.1 - 40 Hz\n",
      "\n",
      "FIR filter parameters\n",
      "---------------------\n",
      "Designing a one-pass, zero-phase, non-causal bandpass filter:\n",
      "- Windowed time-domain design (firwin) method\n",
      "- Hamming window with 0.0194 passband ripple and 53 dB stopband attenuation\n",
      "- Lower passband edge: 0.10\n",
      "- Lower transition bandwidth: 0.10 Hz (-6 dB cutoff frequency: 0.05 Hz)\n",
      "- Upper passband edge: 40.00 Hz\n",
      "- Upper transition bandwidth: 10.00 Hz (-6 dB cutoff frequency: 45.00 Hz)\n",
      "- Filter length: 33001 samples (33.001 sec)\n",
      "\n",
      "Not setting metadata\n",
      "528 matching events found\n",
      "Setting baseline interval to [-0.25, 0.0] sec\n",
      "Applying baseline correction (mode: mean)\n",
      "Created an SSP operator (subspace dimension = 1)\n",
      "1 projection items activated\n",
      "Using data from preloaded Raw for 528 events and 1051 original time points ...\n",
      "1 bad epochs dropped\n",
      "######################## Computing autoreject. ########################\n"
     ]
    },
    {
     "name": "stderr",
     "output_type": "stream",
     "text": [
      "[Parallel(n_jobs=1)]: Using backend SequentialBackend with 1 concurrent workers.\n"
     ]
    },
    {
     "data": {
      "application/vnd.jupyter.widget-view+json": {
       "model_id": "9756c10d37d4440db36717b259ee885f",
       "version_major": 2,
       "version_minor": 0
      },
      "text/plain": [
       "  0%|          | Iterating epochs : 0/527 [00:00<?,       ?it/s]"
      ]
     },
     "metadata": {},
     "output_type": "display_data"
    },
    {
     "name": "stderr",
     "output_type": "stream",
     "text": [
      "[Parallel(n_jobs=1)]: Done   1 out of   1 | elapsed:  2.3min remaining:    0.0s\n",
      "[Parallel(n_jobs=1)]: Done   1 out of   1 | elapsed:  2.3min finished\n"
     ]
    },
    {
     "name": "stdout",
     "output_type": "stream",
     "text": [
      "Interpolating bad channels\n",
      "    Automatic origin fit: head of radius 99.1 mm\n",
      "Computing interpolation matrix from 107 sensor positions\n",
      "Interpolating 20 sensors\n",
      "Embedding : jquery-3.6.0.min.js\n",
      "Embedding : bootstrap.bundle.min.js\n",
      "Embedding : bootstrap.min.css\n",
      "Embedding : bootstrap-table/bootstrap-table.min.js\n",
      "Embedding : bootstrap-table/bootstrap-table.min.css\n",
      "Embedding : bootstrap-table/bootstrap-table-copy-rows.min.js\n",
      "Embedding : bootstrap-table/bootstrap-table-export.min.js\n",
      "Embedding : bootstrap-table/tableExport.min.js\n",
      "Embedding : bootstrap-icons/bootstrap-icons.mne.min.css\n",
      "Embedding : highlightjs/highlight.min.js\n",
      "Embedding : highlightjs/atom-one-dark-reasonable.min.css\n",
      "Saving report to : C:\\Users\\trevo\\OneDrive\\Desktop\\Lab_Files\\VWM_LAB\\EGI_OUTPUTS\\sub-01\\ses-WM1\\eeg\\02_epochs\\sub-01_ses-WM1_task-isi50_bad_channel_report.html\n",
      "Embedding : jquery-3.6.0.min.js\n",
      "Embedding : bootstrap.bundle.min.js\n",
      "Embedding : bootstrap.min.css\n",
      "Embedding : bootstrap-table/bootstrap-table.min.js\n",
      "Embedding : bootstrap-table/bootstrap-table.min.css\n",
      "Embedding : bootstrap-table/bootstrap-table-copy-rows.min.js\n",
      "Embedding : bootstrap-table/bootstrap-table-export.min.js\n",
      "Embedding : bootstrap-table/tableExport.min.js\n",
      "Embedding : bootstrap-icons/bootstrap-icons.mne.min.css\n",
      "Embedding : highlightjs/highlight.min.js\n",
      "Embedding : highlightjs/atom-one-dark-reasonable.min.css\n",
      "Saving report to : C:\\Users\\trevo\\OneDrive\\Desktop\\Lab_Files\\VWM_LAB\\EGI_OUTPUTS\\sub-01\\ses-WM1\\eeg\\02_epochs\\sub-01_ses-WM1_task-isi50_ransac_report.html\n"
     ]
    },
    {
     "name": "stderr",
     "output_type": "stream",
     "text": [
      "C:\\Users\\trevo\\AppData\\Local\\Temp\\ipykernel_48452\\3814608851.py:7: RuntimeWarning: There are channels without locations (n/a) that are not marked as bad: ['SESS', 'CELL', 'bgin', 'fix+', 'WMD+', 'TsD-', 'TRSP', 'STI 014']\n",
      "  template_raw = mne_bids.read_raw_bids(template_path)\n",
      "C:\\Users\\trevo\\AppData\\Local\\Temp\\ipykernel_48452\\3814608851.py:7: RuntimeWarning: Not setting positions of 8 stim channels found in montage:\n",
      "['SESS', 'CELL', 'bgin', 'fix+', 'WMD+', 'TsD-', 'TRSP', 'STI 014']\n",
      "Consider setting the channel types to be of EEG/sEEG/ECoG/DBS/fNIRS using inst.set_channel_types before calling inst.set_montage, or omit these channels when creating your montage.\n",
      "  template_raw = mne_bids.read_raw_bids(template_path)\n",
      "C:\\Users\\trevo\\AppData\\Local\\Temp\\ipykernel_48452\\3722181059.py:7: RuntimeWarning: There are channels without locations (n/a) that are not marked as bad: ['SESS', 'CELL', 'bgin', 'fix+', 'WMD+', 'TsD-', 'TRSP', 'STI 014']\n",
      "  raw = mne_bids.read_raw_bids(bids_path)\n",
      "C:\\Users\\trevo\\AppData\\Local\\Temp\\ipykernel_48452\\3722181059.py:7: RuntimeWarning: Not setting positions of 8 stim channels found in montage:\n",
      "['SESS', 'CELL', 'bgin', 'fix+', 'WMD+', 'TsD-', 'TRSP', 'STI 014']\n",
      "Consider setting the channel types to be of EEG/sEEG/ECoG/DBS/fNIRS using inst.set_channel_types before calling inst.set_montage, or omit these channels when creating your montage.\n",
      "  raw = mne_bids.read_raw_bids(bids_path)\n"
     ]
    },
    {
     "name": "stdout",
     "output_type": "stream",
     "text": [
      "######################## Computing ICA analysis. ########################\n",
      "0 files missing from root.txt in C:\\Users\\trevo\\mne_data\\MNE-fsaverage-data\n",
      "0 files missing from bem.txt in C:\\Users\\trevo\\mne_data\\MNE-fsaverage-data\\fsaverage\n"
     ]
    },
    {
     "name": "stderr",
     "output_type": "stream",
     "text": [
      "C:\\Users\\trevo\\AppData\\Local\\Temp\\ipykernel_48452\\1893570194.py:7: RuntimeWarning: There are channels without locations (n/a) that are not marked as bad: ['SESS', 'CELL', 'bgin', 'fix+', 'WMD+', 'TsD-', 'TRSP', 'STI 014']\n",
      "  raw = mne_bids.read_raw_bids(bids_path)\n",
      "C:\\Users\\trevo\\AppData\\Local\\Temp\\ipykernel_48452\\1893570194.py:7: RuntimeWarning: Not setting positions of 8 stim channels found in montage:\n",
      "['SESS', 'CELL', 'bgin', 'fix+', 'WMD+', 'TsD-', 'TRSP', 'STI 014']\n",
      "Consider setting the channel types to be of EEG/sEEG/ECoG/DBS/fNIRS using inst.set_channel_types before calling inst.set_montage, or omit these channels when creating your montage.\n",
      "  raw = mne_bids.read_raw_bids(bids_path)\n"
     ]
    },
    {
     "name": "stdout",
     "output_type": "stream",
     "text": [
      "######################## Setting montage. ########################\n",
      "######################## Computing forward solution. ########################\n",
      "<Forward | MEG channels: 0 | EEG channels: 129 | Source space: Surface with 20484 vertices | Source orientation: Free>\n",
      "######################## Computing noise covariance. ########################\n",
      "######################## Computing source estimate. ########################\n",
      "Finished.\n",
      "######################## Computing BIDS path. ########################\n"
     ]
    },
    {
     "name": "stderr",
     "output_type": "stream",
     "text": [
      "C:\\Users\\trevo\\AppData\\Local\\Temp\\ipykernel_48452\\4111460219.py:6: RuntimeWarning: Converting data files to BrainVision format\n",
      "  mne_bids.write_raw_bids(raw, bids_path=bids_path, events_data=events, format=\"BrainVision\", allow_preload=True,\n",
      "C:\\Users\\trevo\\AppData\\Local\\Temp\\ipykernel_48452\\4111460219.py:6: RuntimeWarning: Encountered data in \"float\" format. Converting to float32.\n",
      "  mne_bids.write_raw_bids(raw, bids_path=bids_path, events_data=events, format=\"BrainVision\", allow_preload=True,\n",
      "C:\\Users\\trevo\\anaconda3\\envs\\mne\\lib\\site-packages\\pybv\\io.py:603: UserWarning: Encountered unsupported non-voltage units: n/a\n",
      "Note that the BrainVision format specification supports only µV.\n",
      "  warn(msg)\n",
      "C:\\Users\\trevo\\AppData\\Local\\Temp\\ipykernel_48452\\466673200.py:7: RuntimeWarning: There are channels without locations (n/a) that are not marked as bad: ['SESS', 'CELL', 'bgin', 'fix+', 'WMD+', 'TsD-', 'TRSP', 'STI 014']\n",
      "  raw = mne_bids.read_raw_bids(bids_path)\n",
      "C:\\Users\\trevo\\AppData\\Local\\Temp\\ipykernel_48452\\466673200.py:7: RuntimeWarning: Not setting positions of 8 stim channels found in montage:\n",
      "['SESS', 'CELL', 'bgin', 'fix+', 'WMD+', 'TsD-', 'TRSP', 'STI 014']\n",
      "Consider setting the channel types to be of EEG/sEEG/ECoG/DBS/fNIRS using inst.set_channel_types before calling inst.set_montage, or omit these channels when creating your montage.\n",
      "  raw = mne_bids.read_raw_bids(bids_path)\n"
     ]
    },
    {
     "name": "stdout",
     "output_type": "stream",
     "text": [
      "######################## Computing autoreject. ########################\n"
     ]
    },
    {
     "name": "stderr",
     "output_type": "stream",
     "text": [
      "[Parallel(n_jobs=1)]: Using backend SequentialBackend with 1 concurrent workers.\n",
      "[Parallel(n_jobs=1)]: Done   1 out of   1 | elapsed:  2.3min remaining:    0.0s\n",
      "[Parallel(n_jobs=1)]: Done   1 out of   1 | elapsed:  2.3min finished\n",
      "C:\\Users\\trevo\\AppData\\Local\\Temp\\ipykernel_48452\\3814608851.py:7: RuntimeWarning: There are channels without locations (n/a) that are not marked as bad: ['SESS', 'CELL', 'bgin', 'fix+', 'WMD+', 'TsD-', 'TRSP', 'STI 014']\n",
      "  template_raw = mne_bids.read_raw_bids(template_path)\n",
      "C:\\Users\\trevo\\AppData\\Local\\Temp\\ipykernel_48452\\3814608851.py:7: RuntimeWarning: Not setting positions of 8 stim channels found in montage:\n",
      "['SESS', 'CELL', 'bgin', 'fix+', 'WMD+', 'TsD-', 'TRSP', 'STI 014']\n",
      "Consider setting the channel types to be of EEG/sEEG/ECoG/DBS/fNIRS using inst.set_channel_types before calling inst.set_montage, or omit these channels when creating your montage.\n",
      "  template_raw = mne_bids.read_raw_bids(template_path)\n",
      "C:\\Users\\trevo\\AppData\\Local\\Temp\\ipykernel_48452\\3722181059.py:7: RuntimeWarning: There are channels without locations (n/a) that are not marked as bad: ['SESS', 'CELL', 'bgin', 'fix+', 'WMD+', 'TsD-', 'TRSP', 'STI 014']\n",
      "  raw = mne_bids.read_raw_bids(bids_path)\n",
      "C:\\Users\\trevo\\AppData\\Local\\Temp\\ipykernel_48452\\3722181059.py:7: RuntimeWarning: Not setting positions of 8 stim channels found in montage:\n",
      "['SESS', 'CELL', 'bgin', 'fix+', 'WMD+', 'TsD-', 'TRSP', 'STI 014']\n",
      "Consider setting the channel types to be of EEG/sEEG/ECoG/DBS/fNIRS using inst.set_channel_types before calling inst.set_montage, or omit these channels when creating your montage.\n",
      "  raw = mne_bids.read_raw_bids(bids_path)\n"
     ]
    },
    {
     "name": "stdout",
     "output_type": "stream",
     "text": [
      "######################## Computing ICA analysis. ########################\n",
      "0 files missing from root.txt in C:\\Users\\trevo\\mne_data\\MNE-fsaverage-data\n",
      "0 files missing from bem.txt in C:\\Users\\trevo\\mne_data\\MNE-fsaverage-data\\fsaverage\n"
     ]
    },
    {
     "name": "stderr",
     "output_type": "stream",
     "text": [
      "C:\\Users\\trevo\\AppData\\Local\\Temp\\ipykernel_48452\\1893570194.py:7: RuntimeWarning: There are channels without locations (n/a) that are not marked as bad: ['SESS', 'CELL', 'bgin', 'fix+', 'WMD+', 'TsD-', 'TRSP', 'STI 014']\n",
      "  raw = mne_bids.read_raw_bids(bids_path)\n",
      "C:\\Users\\trevo\\AppData\\Local\\Temp\\ipykernel_48452\\1893570194.py:7: RuntimeWarning: Not setting positions of 8 stim channels found in montage:\n",
      "['SESS', 'CELL', 'bgin', 'fix+', 'WMD+', 'TsD-', 'TRSP', 'STI 014']\n",
      "Consider setting the channel types to be of EEG/sEEG/ECoG/DBS/fNIRS using inst.set_channel_types before calling inst.set_montage, or omit these channels when creating your montage.\n",
      "  raw = mne_bids.read_raw_bids(bids_path)\n"
     ]
    },
    {
     "name": "stdout",
     "output_type": "stream",
     "text": [
      "######################## Setting montage. ########################\n",
      "######################## Computing forward solution. ########################\n",
      "<Forward | MEG channels: 0 | EEG channels: 129 | Source space: Surface with 20484 vertices | Source orientation: Free>\n",
      "######################## Computing noise covariance. ########################\n",
      "######################## Computing source estimate. ########################\n",
      "Finished.\n",
      "######################## Computing BIDS path. ########################\n"
     ]
    },
    {
     "name": "stderr",
     "output_type": "stream",
     "text": [
      "C:\\Users\\trevo\\AppData\\Local\\Temp\\ipykernel_48452\\4111460219.py:6: RuntimeWarning: Converting data files to BrainVision format\n",
      "  mne_bids.write_raw_bids(raw, bids_path=bids_path, events_data=events, format=\"BrainVision\", allow_preload=True,\n",
      "C:\\Users\\trevo\\AppData\\Local\\Temp\\ipykernel_48452\\4111460219.py:6: RuntimeWarning: Encountered data in \"float\" format. Converting to float32.\n",
      "  mne_bids.write_raw_bids(raw, bids_path=bids_path, events_data=events, format=\"BrainVision\", allow_preload=True,\n",
      "C:\\Users\\trevo\\anaconda3\\envs\\mne\\lib\\site-packages\\pybv\\io.py:603: UserWarning: Encountered unsupported non-voltage units: n/a\n",
      "Note that the BrainVision format specification supports only µV.\n",
      "  warn(msg)\n",
      "C:\\Users\\trevo\\AppData\\Local\\Temp\\ipykernel_48452\\466673200.py:7: RuntimeWarning: There are channels without locations (n/a) that are not marked as bad: ['SESS', 'CELL', 'bgin', 'fix+', 'WMD+', 'TsD-', 'TRSP', 'STI 014']\n",
      "  raw = mne_bids.read_raw_bids(bids_path)\n",
      "C:\\Users\\trevo\\AppData\\Local\\Temp\\ipykernel_48452\\466673200.py:7: RuntimeWarning: Not setting positions of 8 stim channels found in montage:\n",
      "['SESS', 'CELL', 'bgin', 'fix+', 'WMD+', 'TsD-', 'TRSP', 'STI 014']\n",
      "Consider setting the channel types to be of EEG/sEEG/ECoG/DBS/fNIRS using inst.set_channel_types before calling inst.set_montage, or omit these channels when creating your montage.\n",
      "  raw = mne_bids.read_raw_bids(bids_path)\n"
     ]
    },
    {
     "name": "stdout",
     "output_type": "stream",
     "text": [
      "######################## Computing autoreject. ########################\n"
     ]
    },
    {
     "name": "stderr",
     "output_type": "stream",
     "text": [
      "[Parallel(n_jobs=1)]: Using backend SequentialBackend with 1 concurrent workers.\n",
      "[Parallel(n_jobs=1)]: Done   1 out of   1 | elapsed:  2.1min remaining:    0.0s\n",
      "[Parallel(n_jobs=1)]: Done   1 out of   1 | elapsed:  2.1min finished\n",
      "C:\\Users\\trevo\\AppData\\Local\\Temp\\ipykernel_48452\\3814608851.py:7: RuntimeWarning: There are channels without locations (n/a) that are not marked as bad: ['SESS', 'CELL', 'bgin', 'fix+', 'WMD+', 'TsD-', 'TRSP', 'STI 014']\n",
      "  template_raw = mne_bids.read_raw_bids(template_path)\n",
      "C:\\Users\\trevo\\AppData\\Local\\Temp\\ipykernel_48452\\3814608851.py:7: RuntimeWarning: Not setting positions of 8 stim channels found in montage:\n",
      "['SESS', 'CELL', 'bgin', 'fix+', 'WMD+', 'TsD-', 'TRSP', 'STI 014']\n",
      "Consider setting the channel types to be of EEG/sEEG/ECoG/DBS/fNIRS using inst.set_channel_types before calling inst.set_montage, or omit these channels when creating your montage.\n",
      "  template_raw = mne_bids.read_raw_bids(template_path)\n",
      "C:\\Users\\trevo\\AppData\\Local\\Temp\\ipykernel_48452\\3722181059.py:7: RuntimeWarning: There are channels without locations (n/a) that are not marked as bad: ['SESS', 'CELL', 'bgin', 'fix+', 'WMD+', 'TsD-', 'TRSP', 'STI 014']\n",
      "  raw = mne_bids.read_raw_bids(bids_path)\n",
      "C:\\Users\\trevo\\AppData\\Local\\Temp\\ipykernel_48452\\3722181059.py:7: RuntimeWarning: Not setting positions of 8 stim channels found in montage:\n",
      "['SESS', 'CELL', 'bgin', 'fix+', 'WMD+', 'TsD-', 'TRSP', 'STI 014']\n",
      "Consider setting the channel types to be of EEG/sEEG/ECoG/DBS/fNIRS using inst.set_channel_types before calling inst.set_montage, or omit these channels when creating your montage.\n",
      "  raw = mne_bids.read_raw_bids(bids_path)\n"
     ]
    },
    {
     "name": "stdout",
     "output_type": "stream",
     "text": [
      "######################## Computing ICA analysis. ########################\n",
      "0 files missing from root.txt in C:\\Users\\trevo\\mne_data\\MNE-fsaverage-data\n",
      "0 files missing from bem.txt in C:\\Users\\trevo\\mne_data\\MNE-fsaverage-data\\fsaverage\n"
     ]
    },
    {
     "name": "stderr",
     "output_type": "stream",
     "text": [
      "C:\\Users\\trevo\\AppData\\Local\\Temp\\ipykernel_48452\\1893570194.py:7: RuntimeWarning: There are channels without locations (n/a) that are not marked as bad: ['SESS', 'CELL', 'bgin', 'fix+', 'WMD+', 'TsD-', 'TRSP', 'STI 014']\n",
      "  raw = mne_bids.read_raw_bids(bids_path)\n",
      "C:\\Users\\trevo\\AppData\\Local\\Temp\\ipykernel_48452\\1893570194.py:7: RuntimeWarning: Not setting positions of 8 stim channels found in montage:\n",
      "['SESS', 'CELL', 'bgin', 'fix+', 'WMD+', 'TsD-', 'TRSP', 'STI 014']\n",
      "Consider setting the channel types to be of EEG/sEEG/ECoG/DBS/fNIRS using inst.set_channel_types before calling inst.set_montage, or omit these channels when creating your montage.\n",
      "  raw = mne_bids.read_raw_bids(bids_path)\n"
     ]
    },
    {
     "name": "stdout",
     "output_type": "stream",
     "text": [
      "######################## Setting montage. ########################\n",
      "######################## Computing forward solution. ########################\n",
      "<Forward | MEG channels: 0 | EEG channels: 129 | Source space: Surface with 20484 vertices | Source orientation: Free>\n",
      "######################## Computing noise covariance. ########################\n",
      "######################## Computing source estimate. ########################\n",
      "Finished.\n",
      "######################## Computing BIDS path. ########################\n"
     ]
    },
    {
     "name": "stderr",
     "output_type": "stream",
     "text": [
      "C:\\Users\\trevo\\AppData\\Local\\Temp\\ipykernel_48452\\4111460219.py:6: RuntimeWarning: Converting data files to BrainVision format\n",
      "  mne_bids.write_raw_bids(raw, bids_path=bids_path, events_data=events, format=\"BrainVision\", allow_preload=True,\n",
      "C:\\Users\\trevo\\AppData\\Local\\Temp\\ipykernel_48452\\4111460219.py:6: RuntimeWarning: Encountered data in \"float\" format. Converting to float32.\n",
      "  mne_bids.write_raw_bids(raw, bids_path=bids_path, events_data=events, format=\"BrainVision\", allow_preload=True,\n",
      "C:\\Users\\trevo\\anaconda3\\envs\\mne\\lib\\site-packages\\pybv\\io.py:603: UserWarning: Encountered unsupported non-voltage units: n/a\n",
      "Note that the BrainVision format specification supports only µV.\n",
      "  warn(msg)\n",
      "C:\\Users\\trevo\\AppData\\Local\\Temp\\ipykernel_48452\\466673200.py:7: RuntimeWarning: There are channels without locations (n/a) that are not marked as bad: ['SESS', 'CELL', 'bgin', 'fix+', 'WMD+', 'TsD-', 'TRSP', 'STI 014']\n",
      "  raw = mne_bids.read_raw_bids(bids_path)\n",
      "C:\\Users\\trevo\\AppData\\Local\\Temp\\ipykernel_48452\\466673200.py:7: RuntimeWarning: Not setting positions of 8 stim channels found in montage:\n",
      "['SESS', 'CELL', 'bgin', 'fix+', 'WMD+', 'TsD-', 'TRSP', 'STI 014']\n",
      "Consider setting the channel types to be of EEG/sEEG/ECoG/DBS/fNIRS using inst.set_channel_types before calling inst.set_montage, or omit these channels when creating your montage.\n",
      "  raw = mne_bids.read_raw_bids(bids_path)\n"
     ]
    },
    {
     "name": "stdout",
     "output_type": "stream",
     "text": [
      "######################## Computing autoreject. ########################\n"
     ]
    },
    {
     "name": "stderr",
     "output_type": "stream",
     "text": [
      "[Parallel(n_jobs=1)]: Using backend SequentialBackend with 1 concurrent workers.\n",
      "[Parallel(n_jobs=1)]: Done   1 out of   1 | elapsed:  2.1min remaining:    0.0s\n",
      "[Parallel(n_jobs=1)]: Done   1 out of   1 | elapsed:  2.1min finished\n",
      "C:\\Users\\trevo\\AppData\\Local\\Temp\\ipykernel_48452\\3814608851.py:7: RuntimeWarning: There are channels without locations (n/a) that are not marked as bad: ['SESS', 'CELL', 'bgin', 'fix+', 'WMD+', 'TsD-', 'TRSP', 'STI 014']\n",
      "  template_raw = mne_bids.read_raw_bids(template_path)\n",
      "C:\\Users\\trevo\\AppData\\Local\\Temp\\ipykernel_48452\\3814608851.py:7: RuntimeWarning: Not setting positions of 8 stim channels found in montage:\n",
      "['SESS', 'CELL', 'bgin', 'fix+', 'WMD+', 'TsD-', 'TRSP', 'STI 014']\n",
      "Consider setting the channel types to be of EEG/sEEG/ECoG/DBS/fNIRS using inst.set_channel_types before calling inst.set_montage, or omit these channels when creating your montage.\n",
      "  template_raw = mne_bids.read_raw_bids(template_path)\n",
      "C:\\Users\\trevo\\AppData\\Local\\Temp\\ipykernel_48452\\3722181059.py:7: RuntimeWarning: There are channels without locations (n/a) that are not marked as bad: ['SESS', 'CELL', 'bgin', 'fix+', 'WMD+', 'TsD-', 'TRSP', 'STI 014']\n",
      "  raw = mne_bids.read_raw_bids(bids_path)\n",
      "C:\\Users\\trevo\\AppData\\Local\\Temp\\ipykernel_48452\\3722181059.py:7: RuntimeWarning: Not setting positions of 8 stim channels found in montage:\n",
      "['SESS', 'CELL', 'bgin', 'fix+', 'WMD+', 'TsD-', 'TRSP', 'STI 014']\n",
      "Consider setting the channel types to be of EEG/sEEG/ECoG/DBS/fNIRS using inst.set_channel_types before calling inst.set_montage, or omit these channels when creating your montage.\n",
      "  raw = mne_bids.read_raw_bids(bids_path)\n"
     ]
    },
    {
     "name": "stdout",
     "output_type": "stream",
     "text": [
      "######################## Computing ICA analysis. ########################\n",
      "0 files missing from root.txt in C:\\Users\\trevo\\mne_data\\MNE-fsaverage-data\n",
      "0 files missing from bem.txt in C:\\Users\\trevo\\mne_data\\MNE-fsaverage-data\\fsaverage\n"
     ]
    },
    {
     "name": "stderr",
     "output_type": "stream",
     "text": [
      "C:\\Users\\trevo\\AppData\\Local\\Temp\\ipykernel_48452\\1893570194.py:7: RuntimeWarning: There are channels without locations (n/a) that are not marked as bad: ['SESS', 'CELL', 'bgin', 'fix+', 'WMD+', 'TsD-', 'TRSP', 'STI 014']\n",
      "  raw = mne_bids.read_raw_bids(bids_path)\n",
      "C:\\Users\\trevo\\AppData\\Local\\Temp\\ipykernel_48452\\1893570194.py:7: RuntimeWarning: Not setting positions of 8 stim channels found in montage:\n",
      "['SESS', 'CELL', 'bgin', 'fix+', 'WMD+', 'TsD-', 'TRSP', 'STI 014']\n",
      "Consider setting the channel types to be of EEG/sEEG/ECoG/DBS/fNIRS using inst.set_channel_types before calling inst.set_montage, or omit these channels when creating your montage.\n",
      "  raw = mne_bids.read_raw_bids(bids_path)\n"
     ]
    },
    {
     "name": "stdout",
     "output_type": "stream",
     "text": [
      "######################## Setting montage. ########################\n",
      "######################## Computing forward solution. ########################\n",
      "<Forward | MEG channels: 0 | EEG channels: 129 | Source space: Surface with 20484 vertices | Source orientation: Free>\n",
      "######################## Computing noise covariance. ########################\n",
      "######################## Computing source estimate. ########################\n",
      "Finished.\n"
     ]
    },
    {
     "ename": "IndexError",
     "evalue": "index -585184 is out of bounds for axis 0 with size 373418",
     "output_type": "error",
     "traceback": [
      "\u001b[1;31m---------------------------------------------------------------------------\u001b[0m",
      "\u001b[1;31mIndexError\u001b[0m                                Traceback (most recent call last)",
      "File \u001b[1;32m~\\AppData\\Local\\Temp\\ipykernel_48452\\2920004970.py:1\u001b[0m, in \u001b[0;36m<cell line: 1>\u001b[1;34m()\u001b[0m\n\u001b[1;32m----> 1\u001b[0m raw \u001b[38;5;241m=\u001b[39m \u001b[43mmne\u001b[49m\u001b[38;5;241;43m.\u001b[39;49m\u001b[43mio\u001b[49m\u001b[38;5;241;43m.\u001b[39;49m\u001b[43mread_raw_egi\u001b[49m\u001b[43m(\u001b[49m\u001b[43mraw_path\u001b[49m\u001b[43m)\u001b[49m\n\u001b[0;32m      2\u001b[0m raw\u001b[38;5;241m.\u001b[39mload_data()\n",
      "File \u001b[1;32m<decorator-gen-238>:12\u001b[0m, in \u001b[0;36mread_raw_egi\u001b[1;34m(input_fname, eog, misc, include, exclude, preload, channel_naming, verbose)\u001b[0m\n",
      "File \u001b[1;32m~\\anaconda3\\envs\\mne\\lib\\site-packages\\mne\\io\\egi\\egi.py:156\u001b[0m, in \u001b[0;36mread_raw_egi\u001b[1;34m(input_fname, eog, misc, include, exclude, preload, channel_naming, verbose)\u001b[0m\n\u001b[0;32m    154\u001b[0m input_fname \u001b[38;5;241m=\u001b[39m \u001b[38;5;28mstr\u001b[39m(input_fname)\n\u001b[0;32m    155\u001b[0m \u001b[38;5;28;01mif\u001b[39;00m input_fname\u001b[38;5;241m.\u001b[39mendswith(\u001b[38;5;124m'\u001b[39m\u001b[38;5;124m.mff\u001b[39m\u001b[38;5;124m'\u001b[39m):\n\u001b[1;32m--> 156\u001b[0m     \u001b[38;5;28;01mreturn\u001b[39;00m \u001b[43m_read_raw_egi_mff\u001b[49m\u001b[43m(\u001b[49m\u001b[43minput_fname\u001b[49m\u001b[43m,\u001b[49m\u001b[43m \u001b[49m\u001b[43meog\u001b[49m\u001b[43m,\u001b[49m\u001b[43m \u001b[49m\u001b[43mmisc\u001b[49m\u001b[43m,\u001b[49m\u001b[43m \u001b[49m\u001b[43minclude\u001b[49m\u001b[43m,\u001b[49m\n\u001b[0;32m    157\u001b[0m \u001b[43m                             \u001b[49m\u001b[43mexclude\u001b[49m\u001b[43m,\u001b[49m\u001b[43m \u001b[49m\u001b[43mpreload\u001b[49m\u001b[43m,\u001b[49m\u001b[43m \u001b[49m\u001b[43mchannel_naming\u001b[49m\u001b[43m,\u001b[49m\u001b[43m \u001b[49m\u001b[43mverbose\u001b[49m\u001b[43m)\u001b[49m\n\u001b[0;32m    158\u001b[0m \u001b[38;5;28;01mreturn\u001b[39;00m RawEGI(input_fname, eog, misc, include, exclude, preload,\n\u001b[0;32m    159\u001b[0m               channel_naming, verbose)\n",
      "File \u001b[1;32m<decorator-gen-235>:12\u001b[0m, in \u001b[0;36m_read_raw_egi_mff\u001b[1;34m(input_fname, eog, misc, include, exclude, preload, channel_naming, verbose)\u001b[0m\n",
      "File \u001b[1;32m~\\anaconda3\\envs\\mne\\lib\\site-packages\\mne\\io\\egi\\egimff.py:379\u001b[0m, in \u001b[0;36m_read_raw_egi_mff\u001b[1;34m(input_fname, eog, misc, include, exclude, preload, channel_naming, verbose)\u001b[0m\n\u001b[0;32m    318\u001b[0m \u001b[38;5;129m@verbose\u001b[39m\n\u001b[0;32m    319\u001b[0m \u001b[38;5;28;01mdef\u001b[39;00m \u001b[38;5;21m_read_raw_egi_mff\u001b[39m(input_fname, eog\u001b[38;5;241m=\u001b[39m\u001b[38;5;28;01mNone\u001b[39;00m, misc\u001b[38;5;241m=\u001b[39m\u001b[38;5;28;01mNone\u001b[39;00m,\n\u001b[0;32m    320\u001b[0m                       include\u001b[38;5;241m=\u001b[39m\u001b[38;5;28;01mNone\u001b[39;00m, exclude\u001b[38;5;241m=\u001b[39m\u001b[38;5;28;01mNone\u001b[39;00m, preload\u001b[38;5;241m=\u001b[39m\u001b[38;5;28;01mFalse\u001b[39;00m,\n\u001b[0;32m    321\u001b[0m                       channel_naming\u001b[38;5;241m=\u001b[39m\u001b[38;5;124m'\u001b[39m\u001b[38;5;124mE\u001b[39m\u001b[38;5;132;01m%d\u001b[39;00m\u001b[38;5;124m'\u001b[39m, verbose\u001b[38;5;241m=\u001b[39m\u001b[38;5;28;01mNone\u001b[39;00m):\n\u001b[0;32m    322\u001b[0m     \u001b[38;5;124;03m\"\"\"Read EGI mff binary as raw object.\u001b[39;00m\n\u001b[0;32m    323\u001b[0m \n\u001b[0;32m    324\u001b[0m \u001b[38;5;124;03m    .. note:: This function attempts to create a synthetic trigger channel.\u001b[39;00m\n\u001b[1;32m   (...)\u001b[0m\n\u001b[0;32m    377\u001b[0m \u001b[38;5;124;03m    .. versionadded:: 0.15.0\u001b[39;00m\n\u001b[0;32m    378\u001b[0m \u001b[38;5;124;03m    \"\"\"\u001b[39;00m\n\u001b[1;32m--> 379\u001b[0m     \u001b[38;5;28;01mreturn\u001b[39;00m \u001b[43mRawMff\u001b[49m\u001b[43m(\u001b[49m\u001b[43minput_fname\u001b[49m\u001b[43m,\u001b[49m\u001b[43m \u001b[49m\u001b[43meog\u001b[49m\u001b[43m,\u001b[49m\u001b[43m \u001b[49m\u001b[43mmisc\u001b[49m\u001b[43m,\u001b[49m\u001b[43m \u001b[49m\u001b[43minclude\u001b[49m\u001b[43m,\u001b[49m\u001b[43m \u001b[49m\u001b[43mexclude\u001b[49m\u001b[43m,\u001b[49m\n\u001b[0;32m    380\u001b[0m \u001b[43m                  \u001b[49m\u001b[43mpreload\u001b[49m\u001b[43m,\u001b[49m\u001b[43m \u001b[49m\u001b[43mchannel_naming\u001b[49m\u001b[43m,\u001b[49m\u001b[43m \u001b[49m\u001b[43mverbose\u001b[49m\u001b[43m)\u001b[49m\n",
      "File \u001b[1;32m<decorator-gen-236>:12\u001b[0m, in \u001b[0;36m__init__\u001b[1;34m(self, input_fname, eog, misc, include, exclude, preload, channel_naming, verbose)\u001b[0m\n",
      "File \u001b[1;32m~\\anaconda3\\envs\\mne\\lib\\site-packages\\mne\\io\\egi\\egimff.py:402\u001b[0m, in \u001b[0;36mRawMff.__init__\u001b[1;34m(self, input_fname, eog, misc, include, exclude, preload, channel_naming, verbose)\u001b[0m\n\u001b[0;32m    398\u001b[0m     misc \u001b[38;5;241m=\u001b[39m np\u001b[38;5;241m.\u001b[39mwhere(np\u001b[38;5;241m.\u001b[39marray(\n\u001b[0;32m    399\u001b[0m         egi_info[\u001b[38;5;124m'\u001b[39m\u001b[38;5;124mchan_type\u001b[39m\u001b[38;5;124m'\u001b[39m]) \u001b[38;5;241m!=\u001b[39m \u001b[38;5;124m'\u001b[39m\u001b[38;5;124meeg\u001b[39m\u001b[38;5;124m'\u001b[39m)[\u001b[38;5;241m0\u001b[39m]\u001b[38;5;241m.\u001b[39mtolist()\n\u001b[0;32m    401\u001b[0m logger\u001b[38;5;241m.\u001b[39minfo(\u001b[38;5;124m'\u001b[39m\u001b[38;5;124m    Reading events ...\u001b[39m\u001b[38;5;124m'\u001b[39m)\n\u001b[1;32m--> 402\u001b[0m egi_events, egi_info \u001b[38;5;241m=\u001b[39m \u001b[43m_read_events\u001b[49m\u001b[43m(\u001b[49m\u001b[43minput_fname\u001b[49m\u001b[43m,\u001b[49m\u001b[43m \u001b[49m\u001b[43megi_info\u001b[49m\u001b[43m)\u001b[49m\n\u001b[0;32m    403\u001b[0m cals \u001b[38;5;241m=\u001b[39m _get_eeg_calibration_info(input_fname, egi_info)\n\u001b[0;32m    404\u001b[0m logger\u001b[38;5;241m.\u001b[39minfo(\u001b[38;5;124m'\u001b[39m\u001b[38;5;124m    Assembling measurement info ...\u001b[39m\u001b[38;5;124m'\u001b[39m)\n",
      "File \u001b[1;32m~\\anaconda3\\envs\\mne\\lib\\site-packages\\mne\\io\\egi\\events.py:32\u001b[0m, in \u001b[0;36m_read_events\u001b[1;34m(input_fname, info)\u001b[0m\n\u001b[0;32m     30\u001b[0m \u001b[38;5;28;01mfor\u001b[39;00m n, event \u001b[38;5;129;01min\u001b[39;00m \u001b[38;5;28menumerate\u001b[39m(event_codes):\n\u001b[0;32m     31\u001b[0m     \u001b[38;5;28;01mfor\u001b[39;00m i \u001b[38;5;129;01min\u001b[39;00m mff_events[event]:\n\u001b[1;32m---> 32\u001b[0m         events[n][i] \u001b[38;5;241m=\u001b[39m n \u001b[38;5;241m+\u001b[39m \u001b[38;5;241m1\u001b[39m\n\u001b[0;32m     33\u001b[0m \u001b[38;5;28;01mreturn\u001b[39;00m events, info\n",
      "\u001b[1;31mIndexError\u001b[0m: index -585184 is out of bounds for axis 0 with size 373418"
     ]
    },
    {
     "name": "stdout",
     "output_type": "stream",
     "text": [
      "Finished.\n",
      "######################## Computing BIDS path. ########################\n"
     ]
    },
    {
     "name": "stderr",
     "output_type": "stream",
     "text": [
      "C:\\Users\\trevo\\AppData\\Local\\Temp\\ipykernel_48452\\4111460219.py:6: RuntimeWarning: Converting data files to BrainVision format\n",
      "  mne_bids.write_raw_bids(raw, bids_path=bids_path, events_data=events, format=\"BrainVision\", allow_preload=True,\n",
      "C:\\Users\\trevo\\AppData\\Local\\Temp\\ipykernel_48452\\4111460219.py:6: RuntimeWarning: Encountered data in \"float\" format. Converting to float32.\n",
      "  mne_bids.write_raw_bids(raw, bids_path=bids_path, events_data=events, format=\"BrainVision\", allow_preload=True,\n",
      "C:\\Users\\trevo\\anaconda3\\envs\\mne\\lib\\site-packages\\pybv\\io.py:603: UserWarning: Encountered unsupported non-voltage units: n/a\n",
      "Note that the BrainVision format specification supports only µV.\n",
      "  warn(msg)\n",
      "C:\\Users\\trevo\\AppData\\Local\\Temp\\ipykernel_48452\\466673200.py:7: RuntimeWarning: There are channels without locations (n/a) that are not marked as bad: ['SESS', 'CELL', 'bgin', 'fix+', 'WMD+', 'TsD-', 'TRSP', 'STI 014']\n",
      "  raw = mne_bids.read_raw_bids(bids_path)\n",
      "C:\\Users\\trevo\\AppData\\Local\\Temp\\ipykernel_48452\\466673200.py:7: RuntimeWarning: Not setting positions of 8 stim channels found in montage:\n",
      "['SESS', 'CELL', 'bgin', 'fix+', 'WMD+', 'TsD-', 'TRSP', 'STI 014']\n",
      "Consider setting the channel types to be of EEG/sEEG/ECoG/DBS/fNIRS using inst.set_channel_types before calling inst.set_montage, or omit these channels when creating your montage.\n",
      "  raw = mne_bids.read_raw_bids(bids_path)\n"
     ]
    },
    {
     "name": "stdout",
     "output_type": "stream",
     "text": [
      "######################## Computing autoreject. ########################\n"
     ]
    },
    {
     "name": "stderr",
     "output_type": "stream",
     "text": [
      "[Parallel(n_jobs=1)]: Using backend SequentialBackend with 1 concurrent workers.\n",
      "[Parallel(n_jobs=1)]: Done   1 out of   1 | elapsed:  2.1min remaining:    0.0s\n",
      "[Parallel(n_jobs=1)]: Done   1 out of   1 | elapsed:  2.1min finished\n",
      "C:\\Users\\trevo\\AppData\\Local\\Temp\\ipykernel_48452\\3814608851.py:7: RuntimeWarning: There are channels without locations (n/a) that are not marked as bad: ['SESS', 'CELL', 'bgin', 'fix+', 'WMD+', 'TsD-', 'TRSP', 'STI 014']\n",
      "  template_raw = mne_bids.read_raw_bids(template_path)\n",
      "C:\\Users\\trevo\\AppData\\Local\\Temp\\ipykernel_48452\\3814608851.py:7: RuntimeWarning: Not setting positions of 8 stim channels found in montage:\n",
      "['SESS', 'CELL', 'bgin', 'fix+', 'WMD+', 'TsD-', 'TRSP', 'STI 014']\n",
      "Consider setting the channel types to be of EEG/sEEG/ECoG/DBS/fNIRS using inst.set_channel_types before calling inst.set_montage, or omit these channels when creating your montage.\n",
      "  template_raw = mne_bids.read_raw_bids(template_path)\n",
      "C:\\Users\\trevo\\AppData\\Local\\Temp\\ipykernel_48452\\3722181059.py:7: RuntimeWarning: There are channels without locations (n/a) that are not marked as bad: ['SESS', 'CELL', 'bgin', 'fix+', 'WMD+', 'TsD-', 'TRSP', 'STI 014']\n",
      "  raw = mne_bids.read_raw_bids(bids_path)\n",
      "C:\\Users\\trevo\\AppData\\Local\\Temp\\ipykernel_48452\\3722181059.py:7: RuntimeWarning: Not setting positions of 8 stim channels found in montage:\n",
      "['SESS', 'CELL', 'bgin', 'fix+', 'WMD+', 'TsD-', 'TRSP', 'STI 014']\n",
      "Consider setting the channel types to be of EEG/sEEG/ECoG/DBS/fNIRS using inst.set_channel_types before calling inst.set_montage, or omit these channels when creating your montage.\n",
      "  raw = mne_bids.read_raw_bids(bids_path)\n"
     ]
    },
    {
     "name": "stdout",
     "output_type": "stream",
     "text": [
      "######################## Computing ICA analysis. ########################\n",
      "0 files missing from root.txt in C:\\Users\\trevo\\mne_data\\MNE-fsaverage-data\n",
      "0 files missing from bem.txt in C:\\Users\\trevo\\mne_data\\MNE-fsaverage-data\\fsaverage\n"
     ]
    },
    {
     "name": "stderr",
     "output_type": "stream",
     "text": [
      "C:\\Users\\trevo\\AppData\\Local\\Temp\\ipykernel_48452\\1893570194.py:7: RuntimeWarning: There are channels without locations (n/a) that are not marked as bad: ['SESS', 'CELL', 'bgin', 'fix+', 'WMD+', 'TsD-', 'TRSP', 'STI 014']\n",
      "  raw = mne_bids.read_raw_bids(bids_path)\n",
      "C:\\Users\\trevo\\AppData\\Local\\Temp\\ipykernel_48452\\1893570194.py:7: RuntimeWarning: Not setting positions of 8 stim channels found in montage:\n",
      "['SESS', 'CELL', 'bgin', 'fix+', 'WMD+', 'TsD-', 'TRSP', 'STI 014']\n",
      "Consider setting the channel types to be of EEG/sEEG/ECoG/DBS/fNIRS using inst.set_channel_types before calling inst.set_montage, or omit these channels when creating your montage.\n",
      "  raw = mne_bids.read_raw_bids(bids_path)\n"
     ]
    },
    {
     "name": "stdout",
     "output_type": "stream",
     "text": [
      "######################## Setting montage. ########################\n",
      "######################## Computing forward solution. ########################\n",
      "<Forward | MEG channels: 0 | EEG channels: 129 | Source space: Surface with 20484 vertices | Source orientation: Free>\n",
      "######################## Computing noise covariance. ########################\n",
      "######################## Computing source estimate. ########################\n",
      "Finished.\n"
     ]
    },
    {
     "ename": "IndexError",
     "evalue": "index -4285438 is out of bounds for axis 0 with size 431311",
     "output_type": "error",
     "traceback": [
      "\u001b[1;31m---------------------------------------------------------------------------\u001b[0m",
      "\u001b[1;31mIndexError\u001b[0m                                Traceback (most recent call last)",
      "File \u001b[1;32m~\\AppData\\Local\\Temp\\ipykernel_48452\\2920004970.py:1\u001b[0m, in \u001b[0;36m<cell line: 1>\u001b[1;34m()\u001b[0m\n\u001b[1;32m----> 1\u001b[0m raw \u001b[38;5;241m=\u001b[39m \u001b[43mmne\u001b[49m\u001b[38;5;241;43m.\u001b[39;49m\u001b[43mio\u001b[49m\u001b[38;5;241;43m.\u001b[39;49m\u001b[43mread_raw_egi\u001b[49m\u001b[43m(\u001b[49m\u001b[43mraw_path\u001b[49m\u001b[43m)\u001b[49m\n\u001b[0;32m      2\u001b[0m raw\u001b[38;5;241m.\u001b[39mload_data()\n",
      "File \u001b[1;32m<decorator-gen-238>:12\u001b[0m, in \u001b[0;36mread_raw_egi\u001b[1;34m(input_fname, eog, misc, include, exclude, preload, channel_naming, verbose)\u001b[0m\n",
      "File \u001b[1;32m~\\anaconda3\\envs\\mne\\lib\\site-packages\\mne\\io\\egi\\egi.py:156\u001b[0m, in \u001b[0;36mread_raw_egi\u001b[1;34m(input_fname, eog, misc, include, exclude, preload, channel_naming, verbose)\u001b[0m\n\u001b[0;32m    154\u001b[0m input_fname \u001b[38;5;241m=\u001b[39m \u001b[38;5;28mstr\u001b[39m(input_fname)\n\u001b[0;32m    155\u001b[0m \u001b[38;5;28;01mif\u001b[39;00m input_fname\u001b[38;5;241m.\u001b[39mendswith(\u001b[38;5;124m'\u001b[39m\u001b[38;5;124m.mff\u001b[39m\u001b[38;5;124m'\u001b[39m):\n\u001b[1;32m--> 156\u001b[0m     \u001b[38;5;28;01mreturn\u001b[39;00m \u001b[43m_read_raw_egi_mff\u001b[49m\u001b[43m(\u001b[49m\u001b[43minput_fname\u001b[49m\u001b[43m,\u001b[49m\u001b[43m \u001b[49m\u001b[43meog\u001b[49m\u001b[43m,\u001b[49m\u001b[43m \u001b[49m\u001b[43mmisc\u001b[49m\u001b[43m,\u001b[49m\u001b[43m \u001b[49m\u001b[43minclude\u001b[49m\u001b[43m,\u001b[49m\n\u001b[0;32m    157\u001b[0m \u001b[43m                             \u001b[49m\u001b[43mexclude\u001b[49m\u001b[43m,\u001b[49m\u001b[43m \u001b[49m\u001b[43mpreload\u001b[49m\u001b[43m,\u001b[49m\u001b[43m \u001b[49m\u001b[43mchannel_naming\u001b[49m\u001b[43m,\u001b[49m\u001b[43m \u001b[49m\u001b[43mverbose\u001b[49m\u001b[43m)\u001b[49m\n\u001b[0;32m    158\u001b[0m \u001b[38;5;28;01mreturn\u001b[39;00m RawEGI(input_fname, eog, misc, include, exclude, preload,\n\u001b[0;32m    159\u001b[0m               channel_naming, verbose)\n",
      "File \u001b[1;32m<decorator-gen-235>:12\u001b[0m, in \u001b[0;36m_read_raw_egi_mff\u001b[1;34m(input_fname, eog, misc, include, exclude, preload, channel_naming, verbose)\u001b[0m\n",
      "File \u001b[1;32m~\\anaconda3\\envs\\mne\\lib\\site-packages\\mne\\io\\egi\\egimff.py:379\u001b[0m, in \u001b[0;36m_read_raw_egi_mff\u001b[1;34m(input_fname, eog, misc, include, exclude, preload, channel_naming, verbose)\u001b[0m\n\u001b[0;32m    318\u001b[0m \u001b[38;5;129m@verbose\u001b[39m\n\u001b[0;32m    319\u001b[0m \u001b[38;5;28;01mdef\u001b[39;00m \u001b[38;5;21m_read_raw_egi_mff\u001b[39m(input_fname, eog\u001b[38;5;241m=\u001b[39m\u001b[38;5;28;01mNone\u001b[39;00m, misc\u001b[38;5;241m=\u001b[39m\u001b[38;5;28;01mNone\u001b[39;00m,\n\u001b[0;32m    320\u001b[0m                       include\u001b[38;5;241m=\u001b[39m\u001b[38;5;28;01mNone\u001b[39;00m, exclude\u001b[38;5;241m=\u001b[39m\u001b[38;5;28;01mNone\u001b[39;00m, preload\u001b[38;5;241m=\u001b[39m\u001b[38;5;28;01mFalse\u001b[39;00m,\n\u001b[0;32m    321\u001b[0m                       channel_naming\u001b[38;5;241m=\u001b[39m\u001b[38;5;124m'\u001b[39m\u001b[38;5;124mE\u001b[39m\u001b[38;5;132;01m%d\u001b[39;00m\u001b[38;5;124m'\u001b[39m, verbose\u001b[38;5;241m=\u001b[39m\u001b[38;5;28;01mNone\u001b[39;00m):\n\u001b[0;32m    322\u001b[0m     \u001b[38;5;124;03m\"\"\"Read EGI mff binary as raw object.\u001b[39;00m\n\u001b[0;32m    323\u001b[0m \n\u001b[0;32m    324\u001b[0m \u001b[38;5;124;03m    .. note:: This function attempts to create a synthetic trigger channel.\u001b[39;00m\n\u001b[1;32m   (...)\u001b[0m\n\u001b[0;32m    377\u001b[0m \u001b[38;5;124;03m    .. versionadded:: 0.15.0\u001b[39;00m\n\u001b[0;32m    378\u001b[0m \u001b[38;5;124;03m    \"\"\"\u001b[39;00m\n\u001b[1;32m--> 379\u001b[0m     \u001b[38;5;28;01mreturn\u001b[39;00m \u001b[43mRawMff\u001b[49m\u001b[43m(\u001b[49m\u001b[43minput_fname\u001b[49m\u001b[43m,\u001b[49m\u001b[43m \u001b[49m\u001b[43meog\u001b[49m\u001b[43m,\u001b[49m\u001b[43m \u001b[49m\u001b[43mmisc\u001b[49m\u001b[43m,\u001b[49m\u001b[43m \u001b[49m\u001b[43minclude\u001b[49m\u001b[43m,\u001b[49m\u001b[43m \u001b[49m\u001b[43mexclude\u001b[49m\u001b[43m,\u001b[49m\n\u001b[0;32m    380\u001b[0m \u001b[43m                  \u001b[49m\u001b[43mpreload\u001b[49m\u001b[43m,\u001b[49m\u001b[43m \u001b[49m\u001b[43mchannel_naming\u001b[49m\u001b[43m,\u001b[49m\u001b[43m \u001b[49m\u001b[43mverbose\u001b[49m\u001b[43m)\u001b[49m\n",
      "File \u001b[1;32m<decorator-gen-236>:12\u001b[0m, in \u001b[0;36m__init__\u001b[1;34m(self, input_fname, eog, misc, include, exclude, preload, channel_naming, verbose)\u001b[0m\n",
      "File \u001b[1;32m~\\anaconda3\\envs\\mne\\lib\\site-packages\\mne\\io\\egi\\egimff.py:402\u001b[0m, in \u001b[0;36mRawMff.__init__\u001b[1;34m(self, input_fname, eog, misc, include, exclude, preload, channel_naming, verbose)\u001b[0m\n\u001b[0;32m    398\u001b[0m     misc \u001b[38;5;241m=\u001b[39m np\u001b[38;5;241m.\u001b[39mwhere(np\u001b[38;5;241m.\u001b[39marray(\n\u001b[0;32m    399\u001b[0m         egi_info[\u001b[38;5;124m'\u001b[39m\u001b[38;5;124mchan_type\u001b[39m\u001b[38;5;124m'\u001b[39m]) \u001b[38;5;241m!=\u001b[39m \u001b[38;5;124m'\u001b[39m\u001b[38;5;124meeg\u001b[39m\u001b[38;5;124m'\u001b[39m)[\u001b[38;5;241m0\u001b[39m]\u001b[38;5;241m.\u001b[39mtolist()\n\u001b[0;32m    401\u001b[0m logger\u001b[38;5;241m.\u001b[39minfo(\u001b[38;5;124m'\u001b[39m\u001b[38;5;124m    Reading events ...\u001b[39m\u001b[38;5;124m'\u001b[39m)\n\u001b[1;32m--> 402\u001b[0m egi_events, egi_info \u001b[38;5;241m=\u001b[39m \u001b[43m_read_events\u001b[49m\u001b[43m(\u001b[49m\u001b[43minput_fname\u001b[49m\u001b[43m,\u001b[49m\u001b[43m \u001b[49m\u001b[43megi_info\u001b[49m\u001b[43m)\u001b[49m\n\u001b[0;32m    403\u001b[0m cals \u001b[38;5;241m=\u001b[39m _get_eeg_calibration_info(input_fname, egi_info)\n\u001b[0;32m    404\u001b[0m logger\u001b[38;5;241m.\u001b[39minfo(\u001b[38;5;124m'\u001b[39m\u001b[38;5;124m    Assembling measurement info ...\u001b[39m\u001b[38;5;124m'\u001b[39m)\n",
      "File \u001b[1;32m~\\anaconda3\\envs\\mne\\lib\\site-packages\\mne\\io\\egi\\events.py:32\u001b[0m, in \u001b[0;36m_read_events\u001b[1;34m(input_fname, info)\u001b[0m\n\u001b[0;32m     30\u001b[0m \u001b[38;5;28;01mfor\u001b[39;00m n, event \u001b[38;5;129;01min\u001b[39;00m \u001b[38;5;28menumerate\u001b[39m(event_codes):\n\u001b[0;32m     31\u001b[0m     \u001b[38;5;28;01mfor\u001b[39;00m i \u001b[38;5;129;01min\u001b[39;00m mff_events[event]:\n\u001b[1;32m---> 32\u001b[0m         events[n][i] \u001b[38;5;241m=\u001b[39m n \u001b[38;5;241m+\u001b[39m \u001b[38;5;241m1\u001b[39m\n\u001b[0;32m     33\u001b[0m \u001b[38;5;28;01mreturn\u001b[39;00m events, info\n",
      "\u001b[1;31mIndexError\u001b[0m: index -4285438 is out of bounds for axis 0 with size 431311"
     ]
    },
    {
     "name": "stdout",
     "output_type": "stream",
     "text": [
      "Finished.\n",
      "######################## Computing BIDS path. ########################\n"
     ]
    },
    {
     "name": "stderr",
     "output_type": "stream",
     "text": [
      "C:\\Users\\trevo\\AppData\\Local\\Temp\\ipykernel_48452\\4111460219.py:6: RuntimeWarning: Converting data files to BrainVision format\n",
      "  mne_bids.write_raw_bids(raw, bids_path=bids_path, events_data=events, format=\"BrainVision\", allow_preload=True,\n",
      "C:\\Users\\trevo\\AppData\\Local\\Temp\\ipykernel_48452\\4111460219.py:6: RuntimeWarning: Encountered data in \"float\" format. Converting to float32.\n",
      "  mne_bids.write_raw_bids(raw, bids_path=bids_path, events_data=events, format=\"BrainVision\", allow_preload=True,\n",
      "C:\\Users\\trevo\\anaconda3\\envs\\mne\\lib\\site-packages\\pybv\\io.py:603: UserWarning: Encountered unsupported non-voltage units: n/a\n",
      "Note that the BrainVision format specification supports only µV.\n",
      "  warn(msg)\n",
      "C:\\Users\\trevo\\AppData\\Local\\Temp\\ipykernel_48452\\466673200.py:7: RuntimeWarning: There are channels without locations (n/a) that are not marked as bad: ['SESS', 'CELL', 'bgin', 'fix+', 'WMD+', 'TsD-', 'TRSP', 'STI 014']\n",
      "  raw = mne_bids.read_raw_bids(bids_path)\n",
      "C:\\Users\\trevo\\AppData\\Local\\Temp\\ipykernel_48452\\466673200.py:7: RuntimeWarning: Not setting positions of 8 stim channels found in montage:\n",
      "['SESS', 'CELL', 'bgin', 'fix+', 'WMD+', 'TsD-', 'TRSP', 'STI 014']\n",
      "Consider setting the channel types to be of EEG/sEEG/ECoG/DBS/fNIRS using inst.set_channel_types before calling inst.set_montage, or omit these channels when creating your montage.\n",
      "  raw = mne_bids.read_raw_bids(bids_path)\n"
     ]
    },
    {
     "name": "stdout",
     "output_type": "stream",
     "text": [
      "######################## Computing autoreject. ########################\n"
     ]
    },
    {
     "name": "stderr",
     "output_type": "stream",
     "text": [
      "[Parallel(n_jobs=1)]: Using backend SequentialBackend with 1 concurrent workers.\n",
      "[Parallel(n_jobs=1)]: Done   1 out of   1 | elapsed:  2.0min remaining:    0.0s\n",
      "[Parallel(n_jobs=1)]: Done   1 out of   1 | elapsed:  2.0min finished\n",
      "C:\\Users\\trevo\\AppData\\Local\\Temp\\ipykernel_48452\\3814608851.py:7: RuntimeWarning: There are channels without locations (n/a) that are not marked as bad: ['SESS', 'CELL', 'bgin', 'fix+', 'WMD+', 'TsD-', 'TRSP', 'STI 014']\n",
      "  template_raw = mne_bids.read_raw_bids(template_path)\n",
      "C:\\Users\\trevo\\AppData\\Local\\Temp\\ipykernel_48452\\3814608851.py:7: RuntimeWarning: Not setting positions of 8 stim channels found in montage:\n",
      "['SESS', 'CELL', 'bgin', 'fix+', 'WMD+', 'TsD-', 'TRSP', 'STI 014']\n",
      "Consider setting the channel types to be of EEG/sEEG/ECoG/DBS/fNIRS using inst.set_channel_types before calling inst.set_montage, or omit these channels when creating your montage.\n",
      "  template_raw = mne_bids.read_raw_bids(template_path)\n",
      "C:\\Users\\trevo\\AppData\\Local\\Temp\\ipykernel_48452\\3722181059.py:7: RuntimeWarning: There are channels without locations (n/a) that are not marked as bad: ['SESS', 'CELL', 'bgin', 'fix+', 'WMD+', 'TsD-', 'TRSP', 'STI 014']\n",
      "  raw = mne_bids.read_raw_bids(bids_path)\n",
      "C:\\Users\\trevo\\AppData\\Local\\Temp\\ipykernel_48452\\3722181059.py:7: RuntimeWarning: Not setting positions of 8 stim channels found in montage:\n",
      "['SESS', 'CELL', 'bgin', 'fix+', 'WMD+', 'TsD-', 'TRSP', 'STI 014']\n",
      "Consider setting the channel types to be of EEG/sEEG/ECoG/DBS/fNIRS using inst.set_channel_types before calling inst.set_montage, or omit these channels when creating your montage.\n",
      "  raw = mne_bids.read_raw_bids(bids_path)\n"
     ]
    },
    {
     "name": "stdout",
     "output_type": "stream",
     "text": [
      "######################## Computing ICA analysis. ########################\n",
      "0 files missing from root.txt in C:\\Users\\trevo\\mne_data\\MNE-fsaverage-data\n",
      "0 files missing from bem.txt in C:\\Users\\trevo\\mne_data\\MNE-fsaverage-data\\fsaverage\n"
     ]
    },
    {
     "name": "stderr",
     "output_type": "stream",
     "text": [
      "C:\\Users\\trevo\\AppData\\Local\\Temp\\ipykernel_48452\\1893570194.py:7: RuntimeWarning: There are channels without locations (n/a) that are not marked as bad: ['SESS', 'CELL', 'bgin', 'fix+', 'WMD+', 'TsD-', 'TRSP', 'STI 014']\n",
      "  raw = mne_bids.read_raw_bids(bids_path)\n",
      "C:\\Users\\trevo\\AppData\\Local\\Temp\\ipykernel_48452\\1893570194.py:7: RuntimeWarning: Not setting positions of 8 stim channels found in montage:\n",
      "['SESS', 'CELL', 'bgin', 'fix+', 'WMD+', 'TsD-', 'TRSP', 'STI 014']\n",
      "Consider setting the channel types to be of EEG/sEEG/ECoG/DBS/fNIRS using inst.set_channel_types before calling inst.set_montage, or omit these channels when creating your montage.\n",
      "  raw = mne_bids.read_raw_bids(bids_path)\n"
     ]
    },
    {
     "name": "stdout",
     "output_type": "stream",
     "text": [
      "######################## Setting montage. ########################\n",
      "######################## Computing forward solution. ########################\n",
      "<Forward | MEG channels: 0 | EEG channels: 129 | Source space: Surface with 20484 vertices | Source orientation: Free>\n",
      "######################## Computing noise covariance. ########################\n",
      "######################## Computing source estimate. ########################\n",
      "Finished.\n",
      "######################## Computing BIDS path. ########################\n"
     ]
    },
    {
     "name": "stderr",
     "output_type": "stream",
     "text": [
      "C:\\Users\\trevo\\AppData\\Local\\Temp\\ipykernel_48452\\4111460219.py:6: RuntimeWarning: Converting data files to BrainVision format\n",
      "  mne_bids.write_raw_bids(raw, bids_path=bids_path, events_data=events, format=\"BrainVision\", allow_preload=True,\n",
      "C:\\Users\\trevo\\AppData\\Local\\Temp\\ipykernel_48452\\4111460219.py:6: RuntimeWarning: Encountered data in \"float\" format. Converting to float32.\n",
      "  mne_bids.write_raw_bids(raw, bids_path=bids_path, events_data=events, format=\"BrainVision\", allow_preload=True,\n",
      "C:\\Users\\trevo\\anaconda3\\envs\\mne\\lib\\site-packages\\pybv\\io.py:603: UserWarning: Encountered unsupported non-voltage units: n/a\n",
      "Note that the BrainVision format specification supports only µV.\n",
      "  warn(msg)\n",
      "C:\\Users\\trevo\\AppData\\Local\\Temp\\ipykernel_48452\\466673200.py:7: RuntimeWarning: There are channels without locations (n/a) that are not marked as bad: ['SESS', 'CELL', 'bgin', 'fix+', 'WMD+', 'TsD-', 'TRSP', 'STI 014']\n",
      "  raw = mne_bids.read_raw_bids(bids_path)\n",
      "C:\\Users\\trevo\\AppData\\Local\\Temp\\ipykernel_48452\\466673200.py:7: RuntimeWarning: Not setting positions of 8 stim channels found in montage:\n",
      "['SESS', 'CELL', 'bgin', 'fix+', 'WMD+', 'TsD-', 'TRSP', 'STI 014']\n",
      "Consider setting the channel types to be of EEG/sEEG/ECoG/DBS/fNIRS using inst.set_channel_types before calling inst.set_montage, or omit these channels when creating your montage.\n",
      "  raw = mne_bids.read_raw_bids(bids_path)\n"
     ]
    },
    {
     "name": "stdout",
     "output_type": "stream",
     "text": [
      "######################## Computing autoreject. ########################\n"
     ]
    },
    {
     "name": "stderr",
     "output_type": "stream",
     "text": [
      "[Parallel(n_jobs=1)]: Using backend SequentialBackend with 1 concurrent workers.\n",
      "[Parallel(n_jobs=1)]: Done   1 out of   1 | elapsed:  2.1min remaining:    0.0s\n",
      "[Parallel(n_jobs=1)]: Done   1 out of   1 | elapsed:  2.1min finished\n",
      "C:\\Users\\trevo\\AppData\\Local\\Temp\\ipykernel_48452\\3814608851.py:7: RuntimeWarning: There are channels without locations (n/a) that are not marked as bad: ['SESS', 'CELL', 'bgin', 'fix+', 'WMD+', 'TsD-', 'TRSP', 'STI 014']\n",
      "  template_raw = mne_bids.read_raw_bids(template_path)\n",
      "C:\\Users\\trevo\\AppData\\Local\\Temp\\ipykernel_48452\\3814608851.py:7: RuntimeWarning: Not setting positions of 8 stim channels found in montage:\n",
      "['SESS', 'CELL', 'bgin', 'fix+', 'WMD+', 'TsD-', 'TRSP', 'STI 014']\n",
      "Consider setting the channel types to be of EEG/sEEG/ECoG/DBS/fNIRS using inst.set_channel_types before calling inst.set_montage, or omit these channels when creating your montage.\n",
      "  template_raw = mne_bids.read_raw_bids(template_path)\n",
      "C:\\Users\\trevo\\AppData\\Local\\Temp\\ipykernel_48452\\3722181059.py:7: RuntimeWarning: There are channels without locations (n/a) that are not marked as bad: ['SESS', 'CELL', 'bgin', 'fix+', 'WMD+', 'TsD-', 'TRSP', 'STI 014']\n",
      "  raw = mne_bids.read_raw_bids(bids_path)\n",
      "C:\\Users\\trevo\\AppData\\Local\\Temp\\ipykernel_48452\\3722181059.py:7: RuntimeWarning: Not setting positions of 8 stim channels found in montage:\n",
      "['SESS', 'CELL', 'bgin', 'fix+', 'WMD+', 'TsD-', 'TRSP', 'STI 014']\n",
      "Consider setting the channel types to be of EEG/sEEG/ECoG/DBS/fNIRS using inst.set_channel_types before calling inst.set_montage, or omit these channels when creating your montage.\n",
      "  raw = mne_bids.read_raw_bids(bids_path)\n",
      "C:\\Users\\trevo\\anaconda3\\envs\\mne\\lib\\site-packages\\mne\\viz\\_mpl_figure.py:2066: RuntimeWarning: More than 20 figures have been opened. Figures created through the pyplot interface (`matplotlib.pyplot.figure`) are retained until explicitly closed and may consume too much memory. (To control this warning, see the rcParam `figure.max_open_warning`).\n",
      "  fig = figure(FigureClass=FigureClass, **kwargs)\n"
     ]
    },
    {
     "name": "stdout",
     "output_type": "stream",
     "text": [
      "######################## Computing ICA analysis. ########################\n",
      "0 files missing from root.txt in C:\\Users\\trevo\\mne_data\\MNE-fsaverage-data\n",
      "0 files missing from bem.txt in C:\\Users\\trevo\\mne_data\\MNE-fsaverage-data\\fsaverage\n"
     ]
    },
    {
     "name": "stderr",
     "output_type": "stream",
     "text": [
      "C:\\Users\\trevo\\AppData\\Local\\Temp\\ipykernel_48452\\1893570194.py:7: RuntimeWarning: There are channels without locations (n/a) that are not marked as bad: ['SESS', 'CELL', 'bgin', 'fix+', 'WMD+', 'TsD-', 'TRSP', 'STI 014']\n",
      "  raw = mne_bids.read_raw_bids(bids_path)\n",
      "C:\\Users\\trevo\\AppData\\Local\\Temp\\ipykernel_48452\\1893570194.py:7: RuntimeWarning: Not setting positions of 8 stim channels found in montage:\n",
      "['SESS', 'CELL', 'bgin', 'fix+', 'WMD+', 'TsD-', 'TRSP', 'STI 014']\n",
      "Consider setting the channel types to be of EEG/sEEG/ECoG/DBS/fNIRS using inst.set_channel_types before calling inst.set_montage, or omit these channels when creating your montage.\n",
      "  raw = mne_bids.read_raw_bids(bids_path)\n"
     ]
    },
    {
     "name": "stdout",
     "output_type": "stream",
     "text": [
      "######################## Setting montage. ########################\n",
      "######################## Computing forward solution. ########################\n",
      "<Forward | MEG channels: 0 | EEG channels: 129 | Source space: Surface with 20484 vertices | Source orientation: Free>\n",
      "######################## Computing noise covariance. ########################\n",
      "######################## Computing source estimate. ########################\n",
      "Finished.\n"
     ]
    }
   ],
   "source": [
    "for subject in subjects:\n",
    "    for session in sessions:\n",
    "        for task in tasks:\n",
    "            try:\n",
    "                %run ./01_bids_convert.ipynb\n",
    "                %run ./02_init_epochs.ipynb\n",
    "                %run ./03_preprocessing.ipynb\n",
    "                %run ./04_forward_operator.ipynb\n",
    "                %run ./05_noise_covariance.ipynb                \n",
    "                %run ./06_source_estimation.ipynb\n",
    "                runs += 1\n",
    "                int_total_epochs += total_epochs_number\n",
    "                int_old_epochs += old_epochs_number\n",
    "                int_new_epochs += new_epochs_number\n",
    "            except:\n",
    "                error = \"subject_\"+subject+\"_\"+session+\"_task_\"+task\n",
    "                error_list.append(error)\n",
    "                pass\n",
    "            print('Finished.')"
   ]
  },
  {
   "cell_type": "markdown",
   "id": "b83ab32d-2a46-43df-a0bd-530253a5be96",
   "metadata": {},
   "source": [
    "## Results"
   ]
  },
  {
   "cell_type": "code",
   "execution_count": 7,
   "id": "c9cd2e00-4c27-4fd1-ba81-ae491661de91",
   "metadata": {},
   "outputs": [
    {
     "name": "stdout",
     "output_type": "stream",
     "text": [
      "7\n",
      "3689\n",
      "1108\n",
      "3333\n"
     ]
    }
   ],
   "source": [
    "print(runs)\n",
    "print(int_total_epochs)\n",
    "print(int_old_epochs)\n",
    "print(int_new_epochs)"
   ]
  },
  {
   "cell_type": "code",
   "execution_count": 8,
   "id": "68100c17-7fe8-409a-bdef-e4af61dd0ef2",
   "metadata": {},
   "outputs": [],
   "source": [
    "old_epoch_percent = str((int_old_epochs / int_total_epochs)*100)\n",
    "new_epoch_percent = str((int_new_epochs / int_total_epochs)*100)\n",
    "total_epoch_survival = str(int_total_epochs / runs)\n",
    "old_epoch_survival = str(int_old_epochs / runs)\n",
    "new_epoch_survival = str(int_new_epochs / runs)"
   ]
  },
  {
   "cell_type": "code",
   "execution_count": 9,
   "id": "3989d17a-4221-4f4f-a093-0767f4406c99",
   "metadata": {},
   "outputs": [
    {
     "data": {
      "text/plain": [
       "'Epoch survival rate from 30.03523990241258 % to 90.34968826240174 %, average total epochs = 527.0, old epochs = 158.28571428571428, new epochs = 476.14285714285717'"
      ]
     },
     "execution_count": 9,
     "metadata": {},
     "output_type": "execute_result"
    }
   ],
   "source": [
    "survival_report_html = str(\n",
    "'Epoch survival rate from '+old_epoch_percent+' % to '+new_epoch_percent+\n",
    "' %, average total epochs = '+total_epoch_survival+', old epochs = '+old_epoch_survival+\n",
    "', new epochs = '+new_epoch_survival\n",
    ")\n",
    "survival_report_html"
   ]
  },
  {
   "cell_type": "code",
   "execution_count": 10,
   "id": "46314031-3a18-40fe-8d88-655c57148791",
   "metadata": {},
   "outputs": [
    {
     "data": {
      "text/plain": [
       "'C:\\\\Users\\\\trevo\\\\OneDrive\\\\Desktop\\\\Lab_Files\\\\VWM_LAB\\\\EGI_OUTPUTS\\\\survival_report.html'"
      ]
     },
     "execution_count": 10,
     "metadata": {},
     "output_type": "execute_result"
    }
   ],
   "source": [
    "survival_report = mne.Report(title='Survival Report')\n",
    "survival_report.add_html(html=survival_report_html, title='survival_report.html')\n",
    "survival_report_path = os.path.join(output_path, 'survival_report.html')\n",
    "\n",
    "survival_report.save(survival_report_path, overwrite=True)"
   ]
  },
  {
   "cell_type": "markdown",
   "id": "359a4645-0ccb-40c7-855c-c11940376517",
   "metadata": {},
   "source": [
    "### Report Errors"
   ]
  },
  {
   "cell_type": "code",
   "execution_count": 11,
   "id": "ac5b1dd7-3be9-4010-824c-235627b9ab41",
   "metadata": {},
   "outputs": [
    {
     "data": {
      "text/plain": [
       "['subject_07_WM3_task_isi50', 'subject_08_WM1_task_isi50']"
      ]
     },
     "execution_count": 11,
     "metadata": {},
     "output_type": "execute_result"
    }
   ],
   "source": [
    "error_list"
   ]
  },
  {
   "cell_type": "code",
   "execution_count": 12,
   "id": "c4d4274a-cf4a-45c9-bc88-b646eb194177",
   "metadata": {},
   "outputs": [
    {
     "data": {
      "text/plain": [
       "'C:\\\\Users\\\\trevo\\\\OneDrive\\\\Desktop\\\\Lab_Files\\\\VWM_LAB\\\\EGI_OUTPUTS\\\\error_report.html'"
      ]
     },
     "execution_count": 12,
     "metadata": {},
     "output_type": "execute_result"
    }
   ],
   "source": [
    "error_report = mne.Report(title='Error Report')\n",
    "error_report.add_html(html=error_list, title='error_report.html')\n",
    "report_path = os.path.join(output_path, 'error_report.html')\n",
    "\n",
    "error_report.save(report_path, overwrite=True)"
   ]
  },
  {
   "cell_type": "code",
   "execution_count": null,
   "id": "caa4c938-5875-4f1f-b360-7779b4a7c5d4",
   "metadata": {},
   "outputs": [],
   "source": []
  }
 ],
 "metadata": {
  "kernelspec": {
   "display_name": "Python 3 (ipykernel)",
   "language": "python",
   "name": "python3"
  },
  "language_info": {
   "codemirror_mode": {
    "name": "ipython",
    "version": 3
   },
   "file_extension": ".py",
   "mimetype": "text/x-python",
   "name": "python",
   "nbconvert_exporter": "python",
   "pygments_lexer": "ipython3",
   "version": "3.10.5"
  }
 },
 "nbformat": 4,
 "nbformat_minor": 5
}
