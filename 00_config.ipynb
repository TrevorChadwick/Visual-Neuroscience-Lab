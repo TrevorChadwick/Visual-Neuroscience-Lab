{
 "cells": [
  {
   "cell_type": "markdown",
   "id": "0fcc9dcb-e6fc-4f93-9a87-bf9a4a27466f",
   "metadata": {},
   "source": [
    "# Configuration"
   ]
  },
  {
   "cell_type": "markdown",
   "id": "d561813d-c4ec-4774-90b2-7b778d2fd8dc",
   "metadata": {},
   "source": [
    "Overview of MEG/EEG analysis with MNE-Python https://mne.tools/stable/auto_tutorials/intro/10_overview.html"
   ]
  },
  {
   "cell_type": "markdown",
   "id": "96b60d3e-0048-441c-9380-e813cce764a0",
   "metadata": {},
   "source": [
    "## Import"
   ]
  },
  {
   "cell_type": "code",
   "execution_count": null,
   "id": "62eae0de-87c9-4ce9-b65c-1fdfa7d160e3",
   "metadata": {},
   "outputs": [],
   "source": [
    "import matplotlib\n",
    "import pathlib\n",
    "\n",
    "import os\n",
    "import os.path as op\n",
    "import shutil\n",
    "import mne\n",
    "import mne_bids\n",
    "\n",
    "from mne_bids import make_report\n",
    "\n",
    "matplotlib.use('Agg')\n",
    "#matplotlib.use('Qt5Agg') #Raises browsers"
   ]
  },
  {
   "cell_type": "markdown",
   "id": "86ac02dc-55e9-48cf-9087-30a2a8172d8b",
   "metadata": {},
   "source": [
    "## Erase Folders"
   ]
  },
  {
   "cell_type": "code",
   "execution_count": null,
   "id": "b94580ae-f047-4a67-ac39-e9c921bca2f2",
   "metadata": {},
   "outputs": [],
   "source": [
    "root_path = os.path.join(\"C:/Users/trevo/OneDrive/Desktop/Lab_Files/VWM_LAB\")\n",
    "bids_root = os.path.join(root_path, 'EGI_BIDS')\n",
    "output_path = os.path.join(root_path, 'EGI_OUTPUTS')"
   ]
  },
  {
   "cell_type": "markdown",
   "id": "0a3b70a5-8cac-4fe0-85c6-76cd740c0507",
   "metadata": {},
   "source": [
    "##### Careful with these, they erase all bids and output files!"
   ]
  },
  {
   "cell_type": "raw",
   "id": "ede4ded6-beb5-425d-a773-1bba29c663a3",
   "metadata": {},
   "source": [
    "if op.exists(bids_root):\n",
    "    shutil.rmtree(bids_root)\n",
    "    os.makedirs(os.path.join(root_path, 'EGI_BIDS'))    "
   ]
  },
  {
   "cell_type": "raw",
   "id": "e5ba4871-89f4-4d29-84fd-029a163f92eb",
   "metadata": {},
   "source": [
    "if op.exists(output_path):\n",
    "    shutil.rmtree(output_path)\n",
    "    os.makedirs(os.path.join(root_path, 'EGI_OUTPUTS'))"
   ]
  },
  {
   "cell_type": "markdown",
   "id": "ae148dc6-dd8f-4c29-90d4-2dd978ef3d50",
   "metadata": {},
   "source": [
    "## Reports"
   ]
  },
  {
   "cell_type": "markdown",
   "id": "40938c48-8475-47bd-8933-c42bf1a82c25",
   "metadata": {},
   "source": [
    "Getting started with mne.Report\n",
    "https://mne.tools/stable/auto_tutorials/intro/70_report.html"
   ]
  },
  {
   "cell_type": "markdown",
   "id": "2bf02f31-ee85-4f9d-ac18-53e150e13199",
   "metadata": {},
   "source": [
    "### Result Report"
   ]
  },
  {
   "cell_type": "code",
   "execution_count": null,
   "id": "1d53446f-63ce-4ebe-8bc9-47dfd4032ad4",
   "metadata": {},
   "outputs": [],
   "source": [
    "def result_report():\n",
    "    old_epoch_percent = str((int_old_epochs / int_total_epochs)*100)\n",
    "    new_epoch_percent = str((int_new_epochs / int_total_epochs)*100)\n",
    "    total_epoch_survival = str(int_total_epochs / runs)\n",
    "    old_epoch_survival = str(int_old_epochs / runs)\n",
    "    new_epoch_survival = str(int_new_epochs / runs)\n",
    "    \n",
    "    survival_report_html = str(\n",
    "    'Epoch survival rate from '+old_epoch_percent+' % to '+new_epoch_percent+\n",
    "    ' %, average total epochs = '+total_epoch_survival+', old epochs = '+old_epoch_survival+\n",
    "    ', new epochs = '+new_epoch_survival\n",
    "    )\n",
    "\n",
    "    survival_report = mne.Report(title='Task '+task+' Survival Report')\n",
    "    survival_report.add_html(html=survival_report_html, title='task_'+task+'_survival_report.html')\n",
    "    survival_report_path = os.path.join(output_path, 'task_'+task+'_survival_report.html')\n",
    "\n",
    "    survival_report.save(survival_report_path, overwrite=True)"
   ]
  },
  {
   "cell_type": "markdown",
   "id": "336ac7e6-c4da-4fbb-a890-af2568aba93e",
   "metadata": {},
   "source": [
    "### Error Reports"
   ]
  },
  {
   "cell_type": "code",
   "execution_count": null,
   "id": "43e31166-574d-456d-9aa0-3afd64f2e1bf",
   "metadata": {},
   "outputs": [],
   "source": [
    "def error_report():\n",
    "    error_list\n",
    "    len(error_list)\n",
    "    \n",
    "    error_report = mne.Report(title='Task '+task+' Error Report')\n",
    "    error_report.add_html(html=error_list, title='task_'+task+'_error_report.html')\n",
    "    report_path = os.path.join(output_path, 'task_'+task+'_error_report.html')\n",
    "\n",
    "    error_report.save(report_path, overwrite=True)"
   ]
  },
  {
   "cell_type": "markdown",
   "id": "2f98cb02-ed17-4a4d-9a6d-a51a58a5c6a7",
   "metadata": {
    "tags": []
   },
   "source": [
    "## Input EGI_RAW"
   ]
  },
  {
   "cell_type": "code",
   "execution_count": null,
   "id": "2095b18d-7818-4116-ac5d-b0b090cd0b23",
   "metadata": {},
   "outputs": [],
   "source": [
    "error_list = list()"
   ]
  },
  {
   "cell_type": "code",
   "execution_count": null,
   "id": "86e25562-d80a-4b88-844c-c8572c51920f",
   "metadata": {},
   "outputs": [],
   "source": [
    "int_total_epochs = 0\n",
    "int_old_epochs = 0\n",
    "int_new_epochs = 0\n",
    "runs = 0"
   ]
  },
  {
   "cell_type": "code",
   "execution_count": null,
   "id": "2f763d44-2b05-4a2d-b0f5-7c0c45c5240d",
   "metadata": {},
   "outputs": [],
   "source": [
    "subjects = ['01', '07', '08', '10', '12', '13', '14', '15', '17', '18', '20', '22']\n",
    "sessions = ['WM1', 'WM3', 'WM5']\n",
    "tasks = ['isi0', 'isi50', 'isi250', 'isi500', 'isi750', 'isi1000', 'isi1250', 'isi1500']"
   ]
  },
  {
   "cell_type": "code",
   "execution_count": null,
   "id": "17c39a2c-4352-44c2-acd1-6f6b0b3250c7",
   "metadata": {},
   "outputs": [],
   "source": [
    "for task in tasks:\n",
    "    error_list = list()\n",
    "    total_epochs_number = 0\n",
    "    int_old_epochs = 0\n",
    "    int_new_epochs = 0\n",
    "    for subject in subjects:\n",
    "        for session in sessions:\n",
    "            try:\n",
    "                %run ./01_bids_convert.ipynb\n",
    "                %run ./02_init_epochs.ipynb\n",
    "                %run ./03_preprocessing.ipynb\n",
    "                %run ./04_forward_operator.ipynb\n",
    "                %run ./05_noise_covariance.ipynb                \n",
    "                %run ./06_source_estimation.ipynb\n",
    "                runs += 1\n",
    "                int_total_epochs += total_epochs_number\n",
    "                int_old_epochs += old_epochs_number\n",
    "                int_new_epochs += new_epochs_number\n",
    "            except:\n",
    "                error = 'sub-'+subject+'_ses-'+session+'_task-'+task\n",
    "                error_list.append(error)\n",
    "                pass\n",
    "    print('Finished.')\n",
    "    result_report()\n",
    "    error_report()"
   ]
  },
  {
   "cell_type": "code",
   "execution_count": null,
   "id": "7f30281b-474e-4013-8a37-b0985584174a",
   "metadata": {},
   "outputs": [],
   "source": []
  }
 ],
 "metadata": {
  "kernelspec": {
   "display_name": "Python 3 (ipykernel)",
   "language": "python",
   "name": "python3"
  },
  "language_info": {
   "codemirror_mode": {
    "name": "ipython",
    "version": 3
   },
   "file_extension": ".py",
   "mimetype": "text/x-python",
   "name": "python",
   "nbconvert_exporter": "python",
   "pygments_lexer": "ipython3",
   "version": "3.10.5"
  }
 },
 "nbformat": 4,
 "nbformat_minor": 5
}
