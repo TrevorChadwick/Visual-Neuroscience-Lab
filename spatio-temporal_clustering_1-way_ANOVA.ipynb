{
 "cells": [
  {
   "cell_type": "markdown",
   "id": "5b189824-edcf-4ca9-99ad-104335945e60",
   "metadata": {},
   "source": [
    "# Stat Analysis "
   ]
  },
  {
   "cell_type": "markdown",
   "id": "9d576dad-9038-4a37-a202-ce416b3aed4f",
   "metadata": {},
   "source": [
    "## Repeated measures one-way ANOVA - Session Types"
   ]
  },
  {
   "cell_type": "markdown",
   "id": "e5b45231-9ee2-46e0-b4ec-7a4b82ea0524",
   "metadata": {},
   "source": [
    "Repeated measures ANOVA on source data with spatio-temporal clustering"
   ]
  },
  {
   "cell_type": "markdown",
   "id": "a78b2de6-6dc0-4c7d-948f-c59faf551b71",
   "metadata": {},
   "source": [
    "## Import"
   ]
  },
  {
   "cell_type": "code",
   "execution_count": null,
   "id": "ba27ca8e-1b8b-4284-8fa6-e1a3373f80dc",
   "metadata": {},
   "outputs": [],
   "source": [
    "import os.path as op\n",
    "import numpy as np\n",
    "import matplotlib.pyplot as plt\n",
    "\n",
    "import mne\n",
    "import os\n",
    "import vtk\n",
    "\n",
    "from mne.datasets import fetch_fsaverage\n",
    "\n",
    "from mne import spatial_src_adjacency\n",
    "\n",
    "from mne_bids import make_report\n",
    "\n",
    "from mne.minimum_norm import read_inverse_operator, apply_inverse\n",
    "\n",
    "from mne.stats import (spatio_temporal_cluster_test,\n",
    "                      summarize_clusters_stc, f_mway_rm, f_threshold_mway_rm)"
   ]
  },
  {
   "cell_type": "markdown",
   "id": "02d6928e-8ece-4799-bd3d-b02791faf9cf",
   "metadata": {},
   "source": [
    "## Main Directory"
   ]
  },
  {
   "cell_type": "code",
   "execution_count": null,
   "id": "906e8b3d-11da-4653-bf14-0a82ab9f8fc2",
   "metadata": {},
   "outputs": [],
   "source": [
    "subjects = ['01', '12', '13', '14', '15', '20', '22', '01', '01', '01']\n",
    "sessions = ['WM1', 'WM3', 'WM5']\n",
    "#tasks = ['isi0', 'isi50', 'isi250', 'isi500', 'isi750', 'isi1000', 'isi1250', 'isi1500']\n",
    "tasks = ['isi1000', 'isi1250', 'isi1500']\n",
    "\n",
    "root_path = os.path.join(\"C:/Users/trevo/OneDrive/Desktop/Lab_Files/VWM_LAB\")\n",
    "bids_root = os.path.join(root_path, 'EGI_BIDS')\n",
    "output_path = os.path.join(root_path, 'EGI_OUTPUTS')"
   ]
  },
  {
   "cell_type": "code",
   "execution_count": null,
   "id": "c8f4002c-65d3-4f5f-8c05-e249e8beb563",
   "metadata": {},
   "outputs": [],
   "source": [
    "stats = 'stats'\n",
    "preprocessed_reports = \"03_preprocessed\"\n",
    "\n",
    "#Makes EEG_OUTPUTS -> stats\n",
    "if not os.path.exists(os.path.join(\"C:/Users/trevo/OneDrive/Desktop/Lab_Files/VWM_LAB/\"+stats)):\n",
    "    os.makedirs(os.path.join(\"C:/Users/trevo/OneDrive/Desktop/Lab_Files/VWM_LAB/\"+stats))\n",
    "    \n",
    "stats_path = os.path.join(\"C:/Users/trevo/OneDrive/Desktop/Lab_Files/VWM_LAB/\"+stats)"
   ]
  },
  {
   "cell_type": "markdown",
   "id": "f87b02f8-e6be-4f96-bb0a-a108db6903ba",
   "metadata": {},
   "source": [
    "## Global Variables"
   ]
  },
  {
   "cell_type": "code",
   "execution_count": null,
   "id": "88f4c228-dc17-480c-9b7b-518568ca67a9",
   "metadata": {},
   "outputs": [],
   "source": [
    "n_subjects = 0\n",
    "factor_levels=[3]\n",
    "\n",
    "n_permutations = 50"
   ]
  },
  {
   "cell_type": "code",
   "execution_count": null,
   "id": "5415e0c0-bc5f-4924-9865-5236a7a2302a",
   "metadata": {},
   "outputs": [],
   "source": [
    "for subject in subjects:\n",
    "    for session in sessions:\n",
    "        for task in tasks:\n",
    "            n_subjects+=1"
   ]
  },
  {
   "cell_type": "markdown",
   "id": "645a0377-e469-46d0-9ed1-6bd595293680",
   "metadata": {},
   "source": [
    "## Set Parameters"
   ]
  },
  {
   "cell_type": "code",
   "execution_count": null,
   "id": "c32e0508-12ae-488b-bb0a-bea85f637900",
   "metadata": {},
   "outputs": [],
   "source": [
    "# Download fsaverage files\n",
    "fs_dir = fetch_fsaverage(verbose=True)\n",
    "subjects_dir = op.dirname(fs_dir)\n",
    "\n",
    "src_fname = op.join(fs_dir, 'bem', 'fsaverage-ico-5-src.fif')\n",
    "\n",
    "# Read the source space we are morphing to\n",
    "src = mne.read_source_spaces(src_fname)\n",
    "adjacency = spatial_src_adjacency(src)\n",
    "fsave_vertices = [s['vertno'] for s in src]"
   ]
  },
  {
   "cell_type": "markdown",
   "id": "fd19cf4f-c9d0-4bb7-a13d-375525efa3ed",
   "metadata": {},
   "source": [
    "## Statistic Pipeline"
   ]
  },
  {
   "cell_type": "markdown",
   "id": "d86e2360-9306-4668-be46-66b6988a2b2a",
   "metadata": {},
   "source": [
    "### Initialize"
   ]
  },
  {
   "cell_type": "code",
   "execution_count": null,
   "id": "5db414e7-1377-4c80-b220-5a92da826c5a",
   "metadata": {},
   "outputs": [],
   "source": [
    "def initialize():\n",
    "    printname = 'sub-'+subject+'_ses-'+session+'_task-'+task+'_preprocessed_epo.fif'\n",
    "    print('######################## ['+printname+'] ########################')\n",
    "    preprocessed_report_path = os.path.join(root_path, \"EGI_OUTPUTS\\\\sub-\"+subject+\"\\\\ses-\"+session+\"\\\\eeg\\\\03_preprocessed\")\n",
    "    epochs_source_path = os.path.join(preprocessed_report_path, printname)\n",
    "   \n",
    "    epochs_load(epochs_source_path, printname)"
   ]
  },
  {
   "cell_type": "markdown",
   "id": "8f1be901-6cfc-4328-91a2-46caf44ca4b3",
   "metadata": {},
   "source": [
    "### Load Epochs "
   ]
  },
  {
   "cell_type": "code",
   "execution_count": null,
   "id": "a928961b-37de-4eaf-a22f-97bf5271ba7f",
   "metadata": {},
   "outputs": [],
   "source": [
    "def epochs_load(epochs_source_path, printname):\n",
    "    print('######################## Loading Epochs ########################')\n",
    "    epochs = mne.read_epochs(epochs_source_path)\n",
    "\n",
    "    epochs = epochs['WMD+', 'TsD-']\n",
    "    \n",
    "    print(epochs.event_id)\n",
    "    \n",
    "    inv_operator(epochs)"
   ]
  },
  {
   "cell_type": "markdown",
   "id": "e062b2d4-ee95-4920-9a75-45182b34784d",
   "metadata": {},
   "source": [
    "### Load Inverse Operator"
   ]
  },
  {
   "cell_type": "code",
   "execution_count": null,
   "id": "84a7a8dc-9114-4fec-967c-41f08f36b95e",
   "metadata": {},
   "outputs": [],
   "source": [
    "def inv_operator(epochs):\n",
    "    inv_title = 'sub-'+subject+'_ses-'+session+'_task-'+task+'-inv.fif'\n",
    "    inverse_operator_path = os.path.join(root_path, \"EGI_OUTPUTS\\\\sub-\"+subject+\"\\\\ses-\"+session+\"\\\\eeg\\\\06_inv\")\n",
    "    inv_path = os.path.join(inverse_operator_path, inv_title)\n",
    "\n",
    "    snr = 3.0\n",
    "    lambda2 = 1.0 / snr ** 2\n",
    "    method = \"dSPM\"  # use dSPM method (could also be MNE, sLORETA, or eLORETA)\n",
    "    inverse_operator = read_inverse_operator(inv_path)\n",
    "    \n",
    "    compute_conditions(epochs, inverse_operator, lambda2, method)"
   ]
  },
  {
   "cell_type": "markdown",
   "id": "da83976e-3637-4b8b-8938-774ae18edbe0",
   "metadata": {},
   "source": [
    "### Compute Conditions"
   ]
  },
  {
   "cell_type": "code",
   "execution_count": null,
   "id": "b3491698-ec36-443c-9f43-3ca5b537e24e",
   "metadata": {},
   "outputs": [],
   "source": [
    " def compute_conditions(epochs, inverse_operator, lambda2, method):\n",
    "    print('########################  Computing Condition ########################')\n",
    "    \n",
    "    evoked = epochs.average()\n",
    "    evoked.resample(30).crop(0., None) #for troubleshooting, remove during analysis\n",
    "    stc = apply_inverse(evoked, inverse_operator, lambda2, method)\n",
    "     \n",
    "    stcs.append(stc)\n",
    "    \n",
    "    if session == 'WM1':\n",
    "        A1.append(stc.data)\n",
    "    elif session == 'WM3':\n",
    "        A2.append(stc.data)\n",
    "    elif session == 'WM5':\n",
    "        A3.append(stc.data)\n",
    "        "
   ]
  },
  {
   "cell_type": "markdown",
   "id": "11c7ff62-e6b9-48d4-ab24-f208ee6f8d2c",
   "metadata": {},
   "source": [
    "### Compute Dataset"
   ]
  },
  {
   "cell_type": "code",
   "execution_count": null,
   "id": "76478a94-afcd-4a79-b453-7930aff4e399",
   "metadata": {},
   "outputs": [],
   "source": [
    "def compute_dataset():\n",
    "    \n",
    "    global A1\n",
    "    global A2\n",
    "    global A3\n",
    "    global stcs\n",
    "    \n",
    "    A1 = np.stack(A1, axis=0) # observations, space, times\n",
    "    A2 = np.stack(A2, axis=0) # observations, space, times\n",
    "    A3 = np.stack(A3, axis=0) # observations, space, times\n",
    "    print(A1.shape)\n",
    "    \n",
    "    A1 = np.transpose(A1, [0, 2, 1]) # observations, times, space\n",
    "    A2 = np.transpose(A2, [0, 2, 1]) # observations, times, space\n",
    "    A3 = np.transpose(A3, [0, 2, 1]) # observations, times, space\n",
    "    print(A1.shape)\n",
    "    \n",
    "    X = [A1, A2, A3]\n",
    "    \n",
    "    a_times = X[0].shape[0]\n",
    "    b_times = X[0].shape[1]\n",
    "    c_times = X[0].shape[2]\n",
    "    a_times = str(a_times)\n",
    "    b_times = str(b_times)\n",
    "    c_times = str(c_times)\n",
    "    print('X shape 1 = '+a_times+'. X shape 2 = '+b_times+'. X shape 3 = '+c_times+'.')\n",
    "    \n",
    "    tstep = stcs[0].tstep\n",
    "    tstep_str = str(tstep)\n",
    "    print(task+' task type tstep = '+tstep_str)\n",
    "    \n",
    "    times = np.arange(X[0].shape[1]) * tstep * 1e3\n",
    "    \n",
    "    compute_cluster(X, tstep, times)"
   ]
  },
  {
   "cell_type": "markdown",
   "id": "62192e2a-9311-4b2c-bbd1-54f43404e862",
   "metadata": {},
   "source": [
    "### Spatio-temporal Cluster Test"
   ]
  },
  {
   "cell_type": "code",
   "execution_count": null,
   "id": "5c2239be-ce24-4e8c-b2b9-75b25cf073b0",
   "metadata": {},
   "outputs": [],
   "source": [
    "def stat_fun(*args):\n",
    "    # get f-values only.\n",
    "    return f_mway_rm(np.swapaxes(args, 1, 0), factor_levels=factor_levels,\n",
    "                     effects='A', return_pvals=False)[0]"
   ]
  },
  {
   "cell_type": "code",
   "execution_count": null,
   "id": "8e80de2f-fbab-4b09-89d0-b3bdc5ee1d04",
   "metadata": {},
   "outputs": [],
   "source": [
    "def compute_cluster(X, tstep, times):\n",
    "    f_thresh = mne.stats.f_threshold_mway_rm(n_subjects, factor_levels = factor_levels, effects='A', pvalue=.05)\n",
    "    f_thresh_str = str(f_thresh)\n",
    "    print('F Threshold for A = '+f_thresh_str)\n",
    "    \n",
    "    print('Clustering.')\n",
    "    F_obs, clusters, cluster_p_values, H0 = clu = \\\n",
    "        spatio_temporal_cluster_test(X, adjacency=adjacency, n_jobs=1,\n",
    "                                 threshold=f_thresh, stat_fun=stat_fun,\n",
    "                                 n_permutations=n_permutations,\n",
    "                                 buffer_size=None)\n",
    "    # Now select the clusters that are sig. at p < 0.05 (note that this value\n",
    "    # is multiple-comparisons corrected).\n",
    "    good_cluster_inds = np.where(cluster_p_values < 0.05)[0]\n",
    "    \n",
    "    visualize_clusters(X, clu, tstep, clusters, good_cluster_inds, times)"
   ]
  },
  {
   "cell_type": "markdown",
   "id": "d543751c-ba4d-4051-8187-7b00d0bab05f",
   "metadata": {},
   "source": [
    "### Visualize Clusters"
   ]
  },
  {
   "cell_type": "code",
   "execution_count": null,
   "id": "520dd66e-c336-4f63-bb63-080ccad2971d",
   "metadata": {},
   "outputs": [],
   "source": [
    "def visualize_clusters(X, clu, tstep, clusters, good_cluster_inds, times):\n",
    "    print('Visualizing clusters.')\n",
    "\n",
    "    #    Now let's build a convenient representation of each cluster, where each\n",
    "    #    cluster becomes a \"time point\" in the SourceEstimate\n",
    "    stc_all_cluster_vis = summarize_clusters_stc(clu, tstep=tstep, p_thresh=0.05,\n",
    "                                                 vertices=fsave_vertices,\n",
    "                                                 subject='fsaverage')\n",
    "\n",
    "    #    Let's actually plot the first \"time point\" in the SourceEstimate, which\n",
    "    #    shows all the clusters, weighted by duration\n",
    "    lh_brain = stc_all_cluster_vis.plot(subjects_dir=subjects_dir, views='lat', hemi='lh',\n",
    "                                     time_label='temporal extent (ms)',\n",
    "                                     clim=dict(kind='value', lims=[0, 1, 40]))\n",
    "    lh_brain.save_image(stats_path+'/lh_clusters_'+task+'_statistic.png')\n",
    "    \n",
    "    rh_brain = stc_all_cluster_vis.plot(subjects_dir=subjects_dir, views='lat', hemi='rh',\n",
    "                                     time_label='temporal extent (ms)',\n",
    "                                     clim=dict(kind='value', lims=[0, 1, 40]))\n",
    "    rh_brain.save_image(stats_path+'/rh_clusters_'+task+'_statistic.png')\n",
    "    #brain.show_view('medial')\n",
    "    \n",
    "    interaction_effect(X, tstep, clusters, good_cluster_inds, times)"
   ]
  },
  {
   "cell_type": "markdown",
   "id": "3cc930d8-ef90-4ebb-8e24-533bfea478b5",
   "metadata": {},
   "source": [
    "### Visualize the Interaction Effect"
   ]
  },
  {
   "cell_type": "code",
   "execution_count": null,
   "id": "86f3f9c5-8750-44ad-8275-4c0759c043ed",
   "metadata": {},
   "outputs": [],
   "source": [
    "def interaction_effect(X, tstep, clusters, good_cluster_inds, times):\n",
    "    inds_t, inds_v = [(clusters[cluster_ind]) for ii, cluster_ind in\n",
    "                  enumerate(good_cluster_inds)][0]  # first cluster\n",
    "\n",
    "    fig = plt.figure()\n",
    "    colors = ['y', 'b', 'g']\n",
    "    work_loads = ['WM1', 'WM3', 'WM5']\n",
    "    \n",
    "    for ii, (condition, color, work_load) in enumerate(zip(X, colors, work_loads)):\n",
    "        # extract time course at cluster vertices\n",
    "        condition = condition[:, :, inds_v]\n",
    "        # normally we would normalize values across subjects but\n",
    "        # here we use data from the same subject so we're good to just\n",
    "        # create average time series across subjects and vertices.\n",
    "        mean_tc = condition.mean(axis=2).mean(axis=0)\n",
    "        std_tc = condition.std(axis=2).std(axis=0)\n",
    "        plt.plot(times, mean_tc.T, color=color, label=work_load)\n",
    "        plt.fill_between(times, mean_tc + std_tc, mean_tc - std_tc, color='gray',\n",
    "                         alpha=0.5, label='')\n",
    "\n",
    "    ymin, ymax = mean_tc.min() - .5, mean_tc.max() + .5\n",
    "    plt.xlabel('Time (ms)')\n",
    "    plt.ylabel('Activation (F-values)')\n",
    "    plt.xlim(times[[0, -1]])\n",
    "    plt.ylim(ymin, ymax)\n",
    "    plt.fill_betweenx((ymin, ymax), times[inds_t[0]],\n",
    "                      times[inds_t[-1]], color='orange', alpha=0.3)\n",
    "    plt.legend()\n",
    "    plt.title('Interaction between working memory load sets, '+task+' task type.')\n",
    "    plt.show()\n",
    "    \n",
    "    title = 'Interaction between working memory load sets, '+task+' task type.'\n",
    "    report = mne.Report(title=title)\n",
    "    report.add_figure(\n",
    "        fig=fig, title=title,\n",
    "        image_format='PNG'\n",
    "    )\n",
    "    report.save(stats_path+'/interaction_effect_'+task+'.html', overwrite=True)"
   ]
  },
  {
   "cell_type": "markdown",
   "id": "a4c38ac0-a6e2-4bc0-a007-d33a88c9b278",
   "metadata": {},
   "source": [
    "## Compute Data - isi0"
   ]
  },
  {
   "cell_type": "code",
   "execution_count": null,
   "id": "5a2f2f44-feef-4a98-9da0-dd7ba5a7beea",
   "metadata": {},
   "outputs": [],
   "source": [
    "for task in tasks:\n",
    "    stcs = []\n",
    "    X = []\n",
    "    A1 = []\n",
    "    A2 = []\n",
    "    A3 = []\n",
    "    for subject in subjects:\n",
    "        for session in sessions:\n",
    "            initialize()\n",
    "    \n",
    "    compute_dataset()"
   ]
  },
  {
   "cell_type": "code",
   "execution_count": null,
   "id": "6161a0dd-e970-40f9-a6f0-71171332532f",
   "metadata": {},
   "outputs": [],
   "source": []
  }
 ],
 "metadata": {
  "kernelspec": {
   "display_name": "Python 3 (ipykernel)",
   "language": "python",
   "name": "python3"
  },
  "language_info": {
   "codemirror_mode": {
    "name": "ipython",
    "version": 3
   },
   "file_extension": ".py",
   "mimetype": "text/x-python",
   "name": "python",
   "nbconvert_exporter": "python",
   "pygments_lexer": "ipython3",
   "version": "3.10.5"
  }
 },
 "nbformat": 4,
 "nbformat_minor": 5
}
