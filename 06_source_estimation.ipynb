{
 "cells": [
  {
   "cell_type": "markdown",
   "id": "8ab528f0-4222-449f-acdb-d9c10aa67f8e",
   "metadata": {},
   "source": [
    "# Source Estimation"
   ]
  },
  {
   "cell_type": "markdown",
   "id": "0e94bb6b-c365-444e-bd90-9dc0a126883c",
   "metadata": {},
   "source": [
    "The SourceEstimate data structure\n",
    "https://mne.tools/stable/auto_tutorials/inverse/10_stc_class.html"
   ]
  },
  {
   "cell_type": "markdown",
   "id": "92816284-2266-4f77-b462-34a7f19c3cae",
   "metadata": {},
   "source": [
    "## Import"
   ]
  },
  {
   "cell_type": "code",
   "execution_count": null,
   "id": "13ec6563-7876-4f1f-a11c-ddbbb31fa2c8",
   "metadata": {},
   "outputs": [],
   "source": [
    "import os.path as op\n",
    "\n",
    "import mne\n",
    "import os\n",
    "import mne_bids\n",
    "import vtk\n",
    "\n",
    "from mne.forward import read_forward_solution\n",
    "from mne.minimum_norm import (make_inverse_operator, apply_inverse,\n",
    "                              write_inverse_operator)"
   ]
  },
  {
   "cell_type": "raw",
   "id": "0bcedcc2-e1a1-4577-aceb-3808a81d670c",
   "metadata": {},
   "source": [
    "#Tester\n",
    "subject = '01'\n",
    "session = 'WM1'\n",
    "task = 'isi0'\n",
    "\n",
    "root_path = os.path.join(\"C:/Users/trevo/OneDrive/Desktop/Lab_Files/VWM_LAB\")\n",
    "bids_root = os.path.join(root_path, 'EGI_BIDS')\n",
    "output_path = os.path.join(root_path, 'EGI_OUTPUTS')"
   ]
  },
  {
   "cell_type": "markdown",
   "id": "144278ae-38d1-4950-a362-293bdda571c8",
   "metadata": {},
   "source": [
    "## Directory"
   ]
  },
  {
   "cell_type": "code",
   "execution_count": null,
   "id": "b4d64fde-feb6-4e51-ab5d-dc1f2a053121",
   "metadata": {},
   "outputs": [],
   "source": [
    "eeg_path = \"eeg\"\n",
    "subname = \"sub-\"+subject\n",
    "sesname = \"ses-\"+session\n",
    "preprocessed_reports = \"03_preprocessed\"\n",
    "forward_solution = \"04_fwd\"\n",
    "covariance_reports = \"05_covariance\"\n",
    "inverse_operator = \"06_inv\"\n",
    "source_estimates = \"07_stc\""
   ]
  },
  {
   "cell_type": "code",
   "execution_count": null,
   "id": "987147c0-e6c4-4c7f-91c6-6daecf150978",
   "metadata": {},
   "outputs": [],
   "source": [
    "#Makes EEG_OUTPUTS -> subject -> session -> eeg -> evoked_reports\n",
    "if not os.path.exists(os.path.join(output_path, subname, sesname, \n",
    "                                   eeg_path, inverse_operator)):\n",
    "    os.makedirs(os.path.join(output_path, subname, sesname, \n",
    "                             eeg_path, inverse_operator))"
   ]
  },
  {
   "cell_type": "code",
   "execution_count": null,
   "id": "4a53519f-046e-4594-8fa6-6446dbb2c5f8",
   "metadata": {},
   "outputs": [],
   "source": [
    "#Makes EEG_OUTPUTS -> subject -> session -> eeg -> evoked_reports\n",
    "if not os.path.exists(os.path.join(output_path, subname, sesname, \n",
    "                                   eeg_path, source_estimates)):\n",
    "    os.makedirs(os.path.join(output_path, subname, sesname, \n",
    "                             eeg_path, source_estimates))"
   ]
  },
  {
   "cell_type": "code",
   "execution_count": null,
   "id": "d041f4c7-d1d3-4c3e-9753-4c981299222d",
   "metadata": {},
   "outputs": [],
   "source": [
    "preprocessed_report_path = os.path.join(root_path, \"EGI_OUTPUTS\\\\sub-\"+subject+\"\\\\ses-\"+session+\"\\\\eeg\\\\\"+preprocessed_reports)\n",
    "forward_path = os.path.join(root_path, \"EGI_OUTPUTS\\\\sub-\"+subject+\"\\\\ses-\"+session+\"\\\\eeg\\\\\"+forward_solution)\n",
    "covariance_path = os.path.join(root_path, \"EGI_OUTPUTS\\\\sub-\"+subject+\"\\\\ses-\"+session+\"\\\\eeg\\\\\"+covariance_reports)\n",
    "inverse_operator_path = os.path.join(root_path, \"EGI_OUTPUTS\\\\sub-\"+subject+\"\\\\ses-\"+session+\"\\\\eeg\\\\\"+inverse_operator)\n",
    "source_estimates_path = os.path.join(root_path, \"EGI_OUTPUTS\\\\sub-\"+subject+\"\\\\ses-\"+session+\"\\\\eeg\\\\\"+source_estimates)"
   ]
  },
  {
   "cell_type": "markdown",
   "id": "1b5762d8-ef83-4ff0-8e36-c3643c2c98f2",
   "metadata": {},
   "source": [
    "## Input Epoch Data"
   ]
  },
  {
   "cell_type": "code",
   "execution_count": null,
   "id": "82812bf1-0381-411c-aa83-88ba38736792",
   "metadata": {},
   "outputs": [],
   "source": [
    "preprocessed_name = 'sub-'+subject+'_ses-'+session+'_task-'+task+'_preprocessed_epo.fif'\n",
    "preprocessed_file = os.path.join(preprocessed_report_path, preprocessed_name)\n",
    "epochs = mne.read_epochs(preprocessed_file)\n",
    "epochs"
   ]
  },
  {
   "cell_type": "code",
   "execution_count": null,
   "id": "b56d9c0f-1c9d-41f5-b032-23878bae9b34",
   "metadata": {},
   "outputs": [],
   "source": [
    "info = mne.io.read_info(preprocessed_file)"
   ]
  },
  {
   "cell_type": "markdown",
   "id": "e60a9237-55a7-46d0-8a4d-9a532defdb11",
   "metadata": {},
   "source": [
    "## Input Forward Solution"
   ]
  },
  {
   "cell_type": "code",
   "execution_count": null,
   "id": "98a8c029-ac8f-4d4e-a28c-09b27e53125d",
   "metadata": {},
   "outputs": [],
   "source": [
    "fwd_name = 'sub-'+subject+'_ses-'+session+'_task-'+task+'_fwd.fif'\n",
    "fwd_file = os.path.join(forward_path, fwd_name)\n",
    "fwd = mne.read_forward_solution(fwd_file)\n",
    "fwd"
   ]
  },
  {
   "cell_type": "markdown",
   "id": "4ab5bb6e-1b7e-4e67-af9d-1e4beaea57da",
   "metadata": {},
   "source": [
    "## Input Noise Covariance"
   ]
  },
  {
   "cell_type": "code",
   "execution_count": null,
   "id": "a4f5f868-8c51-4f8c-af74-1cf4b0ba63af",
   "metadata": {},
   "outputs": [],
   "source": [
    "cov_name = 'sub-'+subject+'_ses-'+session+'_task-'+task+'_cov.fif'\n",
    "cov_file = os.path.join(covariance_path, cov_name)\n",
    "noise_cov = mne.read_cov(cov_file)\n",
    "noise_cov"
   ]
  },
  {
   "cell_type": "markdown",
   "id": "7e356ae6-cf2f-475e-9ad5-34108ffb26f5",
   "metadata": {},
   "source": [
    "## Inverse Operator"
   ]
  },
  {
   "cell_type": "code",
   "execution_count": null,
   "id": "3f4fd91a-87f1-41f0-98a3-e3b21940f4eb",
   "metadata": {},
   "outputs": [],
   "source": [
    "inverse_operator = make_inverse_operator(info, fwd, noise_cov,\n",
    "                                         loose=0.2, depth=0.8)"
   ]
  },
  {
   "cell_type": "markdown",
   "id": "fec38f39-2e0d-4b41-952b-32739273fc87",
   "metadata": {},
   "source": [
    "### Write Inverse Operator"
   ]
  },
  {
   "cell_type": "code",
   "execution_count": null,
   "id": "1834446d-c215-4d44-93e6-35a291efcef3",
   "metadata": {},
   "outputs": [],
   "source": [
    "inv_title = 'sub-'+subject+'_ses-'+session+'_task-'+task+'-inv.fif'\n",
    "\n",
    "inv_path = os.path.join(inverse_operator_path, inv_title)\n",
    "mne.minimum_norm.write_inverse_operator(inv_path, inverse_operator, overwrite=True)"
   ]
  },
  {
   "cell_type": "markdown",
   "id": "65669d4d-c3e6-4f13-89c4-1070fbf90632",
   "metadata": {},
   "source": [
    "## Calculate Source Estimate"
   ]
  },
  {
   "cell_type": "markdown",
   "id": "103e015d-1923-448b-812f-ea11c6032b79",
   "metadata": {},
   "source": [
    "The Evoked data structure: evoked/averaged data\n",
    "https://mne.tools/stable/auto_tutorials/evoked/10_evoked_overview.html"
   ]
  },
  {
   "cell_type": "markdown",
   "id": "56143eb5-1607-48de-80bd-d5a0f2d778fb",
   "metadata": {},
   "source": [
    "Source localization with MNE, dSPM, sLORETA, and eLORETA\n",
    "https://mne.tools/stable/auto_tutorials/inverse/30_mne_dspm_loreta.html"
   ]
  },
  {
   "cell_type": "markdown",
   "id": "0a486c1e-831f-431a-824a-84d919a475c8",
   "metadata": {},
   "source": [
    "Computing various MNE solutions\n",
    "https://mne.tools/stable/auto_tutorials/inverse/40_mne_fixed_free.html#"
   ]
  },
  {
   "cell_type": "code",
   "execution_count": null,
   "id": "f4284571-e38f-4893-81f1-2f2796f5bf32",
   "metadata": {},
   "outputs": [],
   "source": [
    "print('######################## Computing source estimate. ########################')"
   ]
  },
  {
   "cell_type": "code",
   "execution_count": null,
   "id": "70a2dbb3-6022-4b6b-8481-9910ff4bda70",
   "metadata": {},
   "outputs": [],
   "source": [
    "method = \"dSPM\"\n",
    "snr = 3.\n",
    "lambda2 = 1. / snr ** 2\n",
    "\n",
    "stc = apply_inverse(epochs.average(), inverse_operator, lambda2,\n",
    "                    method=method, pick_ori=None)"
   ]
  },
  {
   "cell_type": "markdown",
   "id": "1427c473-71c2-4151-95a5-7ce9f029becb",
   "metadata": {},
   "source": [
    "### Show Source Estimate"
   ]
  },
  {
   "cell_type": "raw",
   "id": "1f31bb75-a401-4d42-96b7-0ab5c08ca042",
   "metadata": {},
   "source": [
    "brain = stc.plot(subject='fsaverage',\n",
    "                 surface='pial',\n",
    "                 hemi='both',\n",
    "                 time_viewer=True)"
   ]
  },
  {
   "cell_type": "markdown",
   "id": "b65fd5d7-71ff-48d7-9f42-406771188c44",
   "metadata": {},
   "source": [
    "## Report Source Estimate"
   ]
  },
  {
   "cell_type": "code",
   "execution_count": null,
   "id": "fbfa7394-1912-4525-959c-01e3d472a6f3",
   "metadata": {},
   "outputs": [],
   "source": [
    "stc_report_title = 'sub-'+subject+'_ses-'+session+'_task-'+task+'_stc_report.html'\n",
    "stc_report_path = os.path.join(source_estimates_path, stc_report_title)\n",
    "\n",
    "\n",
    "stc_report = mne.Report(title='Source Estimate')\n",
    "stc_report.add_stc(\n",
    "    stc=stc, subject='fsaverage',\n",
    "    title='Source Estimate', n_time_points=6  # few for speed\n",
    ")\n",
    "stc_report.save(stc_report_path, overwrite=True)"
   ]
  },
  {
   "cell_type": "markdown",
   "id": "1c06d7b8-cd93-4f0a-85d3-32e657dd9d9d",
   "metadata": {},
   "source": [
    "## Save Source Estimate"
   ]
  },
  {
   "cell_type": "code",
   "execution_count": null,
   "id": "041f4e22-43be-44db-ac83-1ce952b7a624",
   "metadata": {},
   "outputs": [],
   "source": [
    "stc_title = 'sub-'+subject+'_ses-'+session+'_task-'+task+'_source_estimate.stc'\n",
    "\n",
    "stc_path = os.path.join(source_estimates_path, stc_title)\n",
    "stc.save(stc_path, overwrite=True)"
   ]
  },
  {
   "cell_type": "code",
   "execution_count": null,
   "id": "7c9bc4b9-1641-467c-80b6-02c2f4680c03",
   "metadata": {},
   "outputs": [],
   "source": []
  }
 ],
 "metadata": {
  "kernelspec": {
   "display_name": "Python 3 (ipykernel)",
   "language": "python",
   "name": "python3"
  },
  "language_info": {
   "codemirror_mode": {
    "name": "ipython",
    "version": 3
   },
   "file_extension": ".py",
   "mimetype": "text/x-python",
   "name": "python",
   "nbconvert_exporter": "python",
   "pygments_lexer": "ipython3",
   "version": "3.10.5"
  }
 },
 "nbformat": 4,
 "nbformat_minor": 5
}
