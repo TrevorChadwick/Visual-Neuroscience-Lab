{
 "cells": [
  {
   "cell_type": "markdown",
   "id": "8ab528f0-4222-449f-acdb-d9c10aa67f8e",
   "metadata": {},
   "source": [
    "# Source Estimation"
   ]
  },
  {
   "cell_type": "markdown",
   "id": "92816284-2266-4f77-b462-34a7f19c3cae",
   "metadata": {},
   "source": [
    "## Import"
   ]
  },
  {
   "cell_type": "code",
   "execution_count": 1,
   "id": "13ec6563-7876-4f1f-a11c-ddbbb31fa2c8",
   "metadata": {},
   "outputs": [],
   "source": [
    "import os.path as op\n",
    "\n",
    "import mne\n",
    "import os\n",
    "import mne_bids\n",
    "import vtk\n",
    "\n",
    "from mne.forward import read_forward_solution\n",
    "from mne.minimum_norm import (make_inverse_operator, apply_inverse,\n",
    "                              write_inverse_operator)"
   ]
  },
  {
   "cell_type": "raw",
   "id": "2eacddac-8ce0-4f6d-9cbe-c6ed6e1dbff9",
   "metadata": {},
   "source": [
    "#Tester\n",
    "subject = '01'\n",
    "session = 'WM1'\n",
    "task = 'isi0'\n",
    "\n",
    "root_path = os.path.join(\"C:/Users/trevo/OneDrive/Desktop/Lab_Files/VWM_LAB\")\n",
    "bids_root = os.path.join(root_path, 'EGI_BIDS')\n",
    "output_path = os.path.join(root_path, 'EGI_OUTPUTS')"
   ]
  },
  {
   "cell_type": "markdown",
   "id": "144278ae-38d1-4950-a362-293bdda571c8",
   "metadata": {},
   "source": [
    "## Directory"
   ]
  },
  {
   "cell_type": "code",
   "execution_count": 3,
   "id": "b4d64fde-feb6-4e51-ab5d-dc1f2a053121",
   "metadata": {},
   "outputs": [],
   "source": [
    "eeg_path = \"eeg\"\n",
    "subname = \"sub-\"+subject\n",
    "sesname = \"ses-\"+session\n",
    "preprocessed_reports = \"03_preprocessed\"\n",
    "forward_solution = \"04_fwd\"\n",
    "covariance_reports = \"05_covariance\"\n",
    "inverse_operator = \"06_inv\"\n",
    "source_estimates = \"07_stc\""
   ]
  },
  {
   "cell_type": "code",
   "execution_count": 4,
   "id": "987147c0-e6c4-4c7f-91c6-6daecf150978",
   "metadata": {},
   "outputs": [],
   "source": [
    "#Makes EEG_OUTPUTS -> subject -> session -> eeg -> evoked_reports\n",
    "if not os.path.exists(os.path.join(output_path, subname, sesname, \n",
    "                                   eeg_path, inverse_operator)):\n",
    "    os.makedirs(os.path.join(output_path, subname, sesname, \n",
    "                             eeg_path, inverse_operator))"
   ]
  },
  {
   "cell_type": "code",
   "execution_count": 5,
   "id": "4a53519f-046e-4594-8fa6-6446dbb2c5f8",
   "metadata": {},
   "outputs": [],
   "source": [
    "#Makes EEG_OUTPUTS -> subject -> session -> eeg -> evoked_reports\n",
    "if not os.path.exists(os.path.join(output_path, subname, sesname, \n",
    "                                   eeg_path, source_estimates)):\n",
    "    os.makedirs(os.path.join(output_path, subname, sesname, \n",
    "                             eeg_path, source_estimates))"
   ]
  },
  {
   "cell_type": "code",
   "execution_count": 6,
   "id": "d041f4c7-d1d3-4c3e-9753-4c981299222d",
   "metadata": {},
   "outputs": [],
   "source": [
    "preprocessed_report_path = os.path.join(root_path, \"EGI_OUTPUTS\\\\\"+subname+\"\\\\\"+sesname+\"\\\\\"+eeg_path+\"\\\\\"+preprocessed_reports)\n",
    "forward_path = os.path.join(root_path, \"EGI_OUTPUTS\\\\\"+subname+\"\\\\\"+sesname+\"\\\\\"+eeg_path+\"\\\\\"+forward_solution)\n",
    "covariance_path = os.path.join(root_path, \"EGI_OUTPUTS\\\\\"+subname+\"\\\\\"+sesname+\"\\\\\"+eeg_path+\"\\\\\"+covariance_reports)\n",
    "inverse_operator_path = os.path.join(root_path, \"EGI_OUTPUTS\\\\\"+subname+\"\\\\\"+sesname+\"\\\\\"+eeg_path+\"\\\\\"+inverse_operator)\n",
    "source_estimates_path = os.path.join(root_path, \"EGI_OUTPUTS\\\\\"+subname+\"\\\\\"+sesname+\"\\\\\"+eeg_path+\"\\\\\"+source_estimates)"
   ]
  },
  {
   "cell_type": "markdown",
   "id": "1b5762d8-ef83-4ff0-8e36-c3643c2c98f2",
   "metadata": {},
   "source": [
    "## Input Epoch Data"
   ]
  },
  {
   "cell_type": "code",
   "execution_count": 7,
   "id": "82812bf1-0381-411c-aa83-88ba38736792",
   "metadata": {},
   "outputs": [
    {
     "name": "stdout",
     "output_type": "stream",
     "text": [
      "Reading C:\\Users\\trevo\\OneDrive\\Desktop\\Lab_Files\\VWM_LAB\\EGI_OUTPUTS\\sub-01\\ses-WM1\\eeg\\03_preprocessed\\sub-01_ses-WM1_task-isi0_preprocessed_epo.fif ...\n",
      "    Read a total of 1 projection items:\n",
      "        Average EEG reference (1 x 127) active\n",
      "    Found the data of interest:\n",
      "        t =    -250.00 ...     800.00 ms\n",
      "        0 CTF compensation matrices available\n",
      "0 bad epochs dropped\n",
      "Not setting metadata\n",
      "471 matching events found\n",
      "No baseline correction applied\n",
      "Created an SSP operator (subspace dimension = 1)\n",
      "1 projection items activated\n"
     ]
    },
    {
     "data": {
      "text/html": [
       "<table class=\"table table-hover table-striped table-sm table-responsive small\">\n",
       "    <tr>\n",
       "        <th>Number of events</th>\n",
       "        <td>471</td>\n",
       "    </tr>\n",
       "    <tr>\n",
       "        <th>Events</th>\n",
       "        \n",
       "        <td>TsD-: 119<br/>WMD+: 118<br/>bgin: 119<br/>fix+: 115</td>\n",
       "        \n",
       "    </tr>\n",
       "    <tr>\n",
       "        <th>Time range</th>\n",
       "        <td>-0.250 – 0.800 sec</td>\n",
       "    </tr>\n",
       "    <tr>\n",
       "        <th>Baseline</th>\n",
       "        <td>-0.250 – 0.000 sec</td>\n",
       "    </tr>\n",
       "</table>"
      ],
      "text/plain": [
       "<EpochsFIF |  471 events (all good), -0.25 - 0.8 sec, baseline -0.25 – 0 sec, ~487.4 MB, data loaded,\n",
       " 'TsD-': 119\n",
       " 'WMD+': 118\n",
       " 'bgin': 119\n",
       " 'fix+': 115>"
      ]
     },
     "execution_count": 7,
     "metadata": {},
     "output_type": "execute_result"
    }
   ],
   "source": [
    "preprocessed_name = 'sub-'+subject+'_ses-'+session+'_task-'+task+'_preprocessed_epo.fif'\n",
    "preprocessed_file = os.path.join(preprocessed_report_path, preprocessed_name)\n",
    "epochs = mne.read_epochs(preprocessed_file)\n",
    "epochs"
   ]
  },
  {
   "cell_type": "code",
   "execution_count": 8,
   "id": "b56d9c0f-1c9d-41f5-b032-23878bae9b34",
   "metadata": {},
   "outputs": [
    {
     "name": "stdout",
     "output_type": "stream",
     "text": [
      "    Read a total of 1 projection items:\n",
      "        Average EEG reference (1 x 127) active\n"
     ]
    }
   ],
   "source": [
    "info = mne.io.read_info(preprocessed_file)"
   ]
  },
  {
   "cell_type": "markdown",
   "id": "e60a9237-55a7-46d0-8a4d-9a532defdb11",
   "metadata": {},
   "source": [
    "## Input Forward Solution"
   ]
  },
  {
   "cell_type": "code",
   "execution_count": 9,
   "id": "98a8c029-ac8f-4d4e-a28c-09b27e53125d",
   "metadata": {},
   "outputs": [
    {
     "name": "stdout",
     "output_type": "stream",
     "text": [
      "Reading forward solution from C:\\Users\\trevo\\OneDrive\\Desktop\\Lab_Files\\VWM_LAB\\EGI_OUTPUTS\\sub-01\\ses-WM1\\eeg\\04_fwd\\sub-01_ses-WM1_task-isi0_fwd.fif...\n",
      "    Reading a source space...\n",
      "    [done]\n",
      "    Reading a source space...\n",
      "    [done]\n",
      "    2 source spaces read\n",
      "    Desired named matrix (kind = 3523) not available\n",
      "    Read EEG forward solution (20484 sources, 129 channels, free orientations)\n",
      "    Source spaces transformed to the forward solution coordinate frame\n"
     ]
    },
    {
     "data": {
      "text/html": [
       "<table class=\"table table-hover table-striped table-sm table-responsive small\">\n",
       "    <tr>\n",
       "        <th>Good channels</th>\n",
       "        <td>129 EEG</td>\n",
       "    </tr>\n",
       "    <tr>\n",
       "        <th>Bad channels</th>\n",
       "        <td>None</td>\n",
       "    </tr>\n",
       "    <tr>\n",
       "        <th>Source space</th>\n",
       "        <td>Surface with 20484 vertices</td>\n",
       "    </tr>\n",
       "    <tr>\n",
       "        <th>Source orientation</th>\n",
       "        <td>Free</td>\n",
       "    </tr>\n",
       "</table>"
      ],
      "text/plain": [
       "<Forward | MEG channels: 0 | EEG channels: 129 | Source space: Surface with 20484 vertices | Source orientation: Free>"
      ]
     },
     "execution_count": 9,
     "metadata": {},
     "output_type": "execute_result"
    }
   ],
   "source": [
    "fwd_name = 'sub-'+subject+'_ses-'+session+'_task-'+task+'_fwd.fif'\n",
    "fwd_file = os.path.join(forward_path, fwd_name)\n",
    "fwd = mne.read_forward_solution(fwd_file)\n",
    "fwd"
   ]
  },
  {
   "cell_type": "markdown",
   "id": "4ab5bb6e-1b7e-4e67-af9d-1e4beaea57da",
   "metadata": {},
   "source": [
    "## Input Noise Covariance"
   ]
  },
  {
   "cell_type": "code",
   "execution_count": 10,
   "id": "a4f5f868-8c51-4f8c-af74-1cf4b0ba63af",
   "metadata": {},
   "outputs": [
    {
     "name": "stdout",
     "output_type": "stream",
     "text": [
      "    127 x 127 full covariance (kind = 1) found.\n",
      "    Read a total of 1 projection items:\n",
      "        Average EEG reference (1 x 127) active\n"
     ]
    },
    {
     "data": {
      "text/plain": [
       "<Covariance | size : 127 x 127, n_samples : 118220, data : [[ 2.05735827e-11  1.50414641e-11  8.23090641e-12 ...  1.39309335e-11\n",
       "   9.93285790e-12 -1.00589750e-11]\n",
       " [ 1.50414641e-11  3.08361497e-11  1.13943832e-11 ...  9.07722232e-12\n",
       "   5.83043618e-12 -6.84139971e-12]\n",
       " [ 8.23090641e-12  1.13943832e-11  2.13271530e-11 ...  4.36499316e-12\n",
       "   1.96613265e-12 -3.18358192e-13]\n",
       " ...\n",
       " [ 1.39309335e-11  9.07722232e-12  4.36499316e-12 ...  2.51869090e-11\n",
       "   1.94574642e-11 -1.29614305e-11]\n",
       " [ 9.93285790e-12  5.83043618e-12  1.96613265e-12 ...  1.94574642e-11\n",
       "   1.97499477e-11 -1.24010238e-11]\n",
       " [-1.00589750e-11 -6.84139971e-12 -3.18358192e-13 ... -1.29614305e-11\n",
       "  -1.24010238e-11  2.16403061e-11]]>"
      ]
     },
     "execution_count": 10,
     "metadata": {},
     "output_type": "execute_result"
    }
   ],
   "source": [
    "cov_name = 'sub-'+subject+'_ses-'+session+'_task-'+task+'_cov.fif'\n",
    "cov_file = os.path.join(covariance_path, cov_name)\n",
    "noise_cov = mne.read_cov(cov_file)\n",
    "noise_cov"
   ]
  },
  {
   "cell_type": "markdown",
   "id": "7e356ae6-cf2f-475e-9ad5-34108ffb26f5",
   "metadata": {},
   "source": [
    "## Inverse Operator"
   ]
  },
  {
   "cell_type": "code",
   "execution_count": 11,
   "id": "3f4fd91a-87f1-41f0-98a3-e3b21940f4eb",
   "metadata": {},
   "outputs": [
    {
     "name": "stdout",
     "output_type": "stream",
     "text": [
      "Converting forward solution to surface orientation\n",
      "    No patch info available. The standard source space normals will be employed in the rotation to the local surface coordinates....\n",
      "    Converting to surface-based source orientations...\n",
      "    [done]\n",
      "Computing inverse operator with 126 channels.\n",
      "    126 out of 129 channels remain after picking\n",
      "Selected 126 channels\n",
      "Creating the depth weighting matrix...\n",
      "    126 EEG channels\n",
      "    limit = 20485/20484 = 1.768882\n",
      "    scale = 274009 exp = 0.8\n",
      "Applying loose dipole orientations to surface source spaces: 0.2\n",
      "Whitening the forward solution.\n",
      "    Created an SSP operator (subspace dimension = 1)\n",
      "Computing rank from covariance with rank=None\n",
      "    Using tolerance 1.8e-13 (2.2e-16 eps * 126 dim * 6.4  max singular value)\n",
      "    Estimated rank (eeg): 102\n",
      "    EEG: rank 102 computed from 126 data channels with 1 projector\n",
      "    Setting small EEG eigenvalues to zero (without PCA)\n",
      "Creating the source covariance matrix\n",
      "Adjusting source covariance matrix.\n",
      "Computing SVD of whitened and weighted lead field matrix.\n",
      "    largest singular value = 7.8985\n",
      "    scaling factor to adjust the trace = 3.36761e+20 (nchan = 126 nzero = 24)\n"
     ]
    }
   ],
   "source": [
    "inverse_operator = make_inverse_operator(info, fwd, noise_cov,\n",
    "                                         loose=0.2, depth=0.8)"
   ]
  },
  {
   "cell_type": "markdown",
   "id": "fec38f39-2e0d-4b41-952b-32739273fc87",
   "metadata": {},
   "source": [
    "### Write Inverse Operator"
   ]
  },
  {
   "cell_type": "code",
   "execution_count": 12,
   "id": "1834446d-c215-4d44-93e6-35a291efcef3",
   "metadata": {},
   "outputs": [
    {
     "name": "stdout",
     "output_type": "stream",
     "text": [
      "Overwriting existing file.\n",
      "Write inverse operator decomposition in C:\\Users\\trevo\\OneDrive\\Desktop\\Lab_Files\\VWM_LAB\\EGI_OUTPUTS\\sub-01\\ses-WM1\\eeg\\06_inv\\sub-01_ses-WM1_task-isi0-inv.fif...\n",
      "    Write a source space...\n",
      "    [done]\n",
      "    Write a source space...\n",
      "    [done]\n",
      "    2 source spaces written\n",
      "    Writing inverse operator info...\n",
      "    Writing noise covariance matrix.\n",
      "    Writing source covariance matrix.\n",
      "    Writing orientation priors.\n",
      "    [done]\n"
     ]
    }
   ],
   "source": [
    "inv_title = 'sub-'+subject+'_ses-'+session+'_task-'+task+'-inv.fif'\n",
    "\n",
    "inv_path = os.path.join(inverse_operator_path, inv_title)\n",
    "mne.minimum_norm.write_inverse_operator(inv_path, inverse_operator, overwrite=True)"
   ]
  },
  {
   "cell_type": "markdown",
   "id": "65669d4d-c3e6-4f13-89c4-1070fbf90632",
   "metadata": {},
   "source": [
    "## Calculate Source Estimate"
   ]
  },
  {
   "cell_type": "markdown",
   "id": "b4924b98-9c52-42b3-bf8b-844f6e96672d",
   "metadata": {},
   "source": [
    "##### Note: There are many, many different methods to use for source estimates."
   ]
  },
  {
   "cell_type": "code",
   "execution_count": 13,
   "id": "f4284571-e38f-4893-81f1-2f2796f5bf32",
   "metadata": {},
   "outputs": [
    {
     "name": "stdout",
     "output_type": "stream",
     "text": [
      "######################## Computing source estimate. ########################\n"
     ]
    }
   ],
   "source": [
    "print('######################## Computing source estimate. ########################')"
   ]
  },
  {
   "cell_type": "code",
   "execution_count": 14,
   "id": "70a2dbb3-6022-4b6b-8481-9910ff4bda70",
   "metadata": {},
   "outputs": [
    {
     "name": "stdout",
     "output_type": "stream",
     "text": [
      "Preparing the inverse operator for use...\n",
      "    Scaled noise and source covariance from nave = 1 to nave = 471\n",
      "    Created the regularized inverter\n",
      "    Created an SSP operator (subspace dimension = 1)\n",
      "    Created the whitener using a noise covariance matrix with rank 102 (24 small eigenvalues omitted)\n",
      "    Computing noise-normalization factors (dSPM)...\n",
      "[done]\n",
      "Applying inverse operator to \"0.25 × TsD- + 0.25 × WMD+ + 0.25 × bgin + 0.24 × fix+\"...\n",
      "    Picked 126 channels from the data\n",
      "    Computing inverse...\n",
      "    Eigenleads need to be weighted ...\n",
      "    Computing residual...\n",
      "    Explained  57.6% variance\n",
      "    Combining the current components...\n",
      "    dSPM...\n",
      "[done]\n"
     ]
    }
   ],
   "source": [
    "method = \"dSPM\"\n",
    "snr = 3.\n",
    "lambda2 = 1. / snr ** 2\n",
    "\n",
    "stc = apply_inverse(epochs.average(), inverse_operator, lambda2,\n",
    "                    method=method, pick_ori=None)"
   ]
  },
  {
   "cell_type": "markdown",
   "id": "1427c473-71c2-4151-95a5-7ce9f029becb",
   "metadata": {},
   "source": [
    "### Show Source Estimate"
   ]
  },
  {
   "cell_type": "raw",
   "id": "63f18e4f-b932-45b6-979f-afdffdccbd5a",
   "metadata": {},
   "source": [
    "brain = stc.plot(subject='fsaverage',\n",
    "                 surface='pial',\n",
    "                 hemi='both',\n",
    "                 time_viewer=True)"
   ]
  },
  {
   "cell_type": "markdown",
   "id": "b65fd5d7-71ff-48d7-9f42-406771188c44",
   "metadata": {},
   "source": [
    "## Report Source Estimate"
   ]
  },
  {
   "cell_type": "code",
   "execution_count": null,
   "id": "fbfa7394-1912-4525-959c-01e3d472a6f3",
   "metadata": {},
   "outputs": [],
   "source": [
    "stc_report_title = 'sub-'+subject+'_ses-'+session+'_task-'+task+'_stc_report.html'\n",
    "stc_report_path = os.path.join(source_estimates_path, stc_report_title)\n",
    "\n",
    "\n",
    "stc_report = mne.Report(title='Source Estimate')\n",
    "stc_report.add_stc(\n",
    "    stc=stc, subject='fsaverage',\n",
    "    title='Source Estimate', n_time_points=6  # few for speed\n",
    ")\n",
    "stc_report.save(stc_report_path, overwrite=True)"
   ]
  },
  {
   "cell_type": "markdown",
   "id": "1c06d7b8-cd93-4f0a-85d3-32e657dd9d9d",
   "metadata": {},
   "source": [
    "## Save Source Estimate"
   ]
  },
  {
   "cell_type": "code",
   "execution_count": null,
   "id": "041f4e22-43be-44db-ac83-1ce952b7a624",
   "metadata": {},
   "outputs": [],
   "source": [
    "stc_title = 'sub-'+subject+'_ses-'+session+'_task-'+task+'_source_estimate.stc'\n",
    "\n",
    "stc_path = os.path.join(source_estimates_path, stc_title)\n",
    "stc.save(stc_path, overwrite=True)"
   ]
  },
  {
   "cell_type": "code",
   "execution_count": null,
   "id": "7c9bc4b9-1641-467c-80b6-02c2f4680c03",
   "metadata": {},
   "outputs": [],
   "source": []
  }
 ],
 "metadata": {
  "kernelspec": {
   "display_name": "Python 3 (ipykernel)",
   "language": "python",
   "name": "python3"
  },
  "language_info": {
   "codemirror_mode": {
    "name": "ipython",
    "version": 3
   },
   "file_extension": ".py",
   "mimetype": "text/x-python",
   "name": "python",
   "nbconvert_exporter": "python",
   "pygments_lexer": "ipython3",
   "version": "3.10.5"
  }
 },
 "nbformat": 4,
 "nbformat_minor": 5
}
